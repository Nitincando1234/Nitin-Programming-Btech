{
 "cells": [
  {
   "cell_type": "code",
   "execution_count": 1,
   "metadata": {},
   "outputs": [],
   "source": [
    "import pandas as pd"
   ]
  },
  {
   "cell_type": "code",
   "execution_count": 15,
   "metadata": {},
   "outputs": [],
   "source": [
    "df = pd.read_csv(\"combined_tokenized_research_dataset.csv\")"
   ]
  },
  {
   "cell_type": "code",
   "execution_count": 7,
   "metadata": {},
   "outputs": [
    {
     "data": {
      "text/plain": [
       "1131"
      ]
     },
     "execution_count": 7,
     "metadata": {},
     "output_type": "execute_result"
    }
   ],
   "source": [
    "df[\"words\"].nunique()"
   ]
  },
  {
   "cell_type": "code",
   "execution_count": null,
   "metadata": {},
   "outputs": [
    {
     "name": "stdout",
     "output_type": "stream",
     "text": [
      "\t, !, \", 's, (, ), ,, -, ., .., ..., /, 01, 0x16080029, 0x1610008f, 1, 10016, 10017, 10018, 10022, 10023, 10024, 10025, 10027, 10028, 10035, 110, 110002, 110007, 110011, 110013, 110014, 110023, 110024, 12, 120596, 120652, 120732, 120852, 15, 180001, 180003, 180016, 180017, 180018, 180030, 180031, 180032, 180037, 180038, 180059, 190001, 190004, 190012, 1A420BC0, 1A420BC6, 1B030014, 1B070002, 1B080001, 1B080002, 1B080003, 2, 20000001, 25, 3000001, 3000003, 3000004, 3000005, 3000006, 30002, 30004, 30007, 30008, 30014, 30015, 30029, 30032, 30033, 30035, 30042, 30045, 30047, 30049, 30050, 30055, 30060, 30063, 30064, 30065, 30068, 30072, 30077, 30078, 30079, 30082, 30083, 30086, 30087, 30096, 30132, 30136, 30136)Aircraft, 30138, 30142, 30144, 30149, 30152, 30153, 30165, 30166, 30168, 30179, 30180, 30181, 30183, 30184, 30185, 30217, 30224, 30226, 30229, 30230, 30231, 30232, 30232)Extra, 30235, 30236, 30238, 30239, 30245, 30246, 30247, 30251, 30252, 30331, 30334, 3203600, 35008, 35009, 35014, 35015, 35024, 35061, 35103, 35104, 35112, 35123, 35147, 35149, 35nnn, 40002, 40003, 40004, 40011, 40021, 40022, 57, 59F, 60001, 60016, 77F, 80001, 800018, 80002, 80004, 80014, 80015, 80016, 9Hz, :, >, A, AE, AI, APAS, API, ASAP, ATTI, Abnormal, Accelerator, Account, Activated, ActiveTrack, Adjust, Adjusted, Advanced, After, Air, AirSense, Aircraft, Airport, Airports, Airspace, Alert, Allowed, Altitude, Always, Ambient, Another, Approached, Approaching, Area, Arrived, At, Atti, Attitude, Attitude)-mode, Authorization, Auto, Automatic, Automatically, Auxiliary, Avoid, Avoidance, Avoided, Away, B, Backward, Backwardobstacle, Barometer, Base, Battery, Before, Below, Blocked, Board, Bottom, Braking, C, C1, C2, CPU, Cache, Calibrate, Calibration, Camera, Can, Cancel, Canceled, Cannot, Capture, Captured, Celsius, Change, Charge, Check, Class, Clear, Closer, Code, Color, Command, Compass, Connect, Connection, Contact, Control, Controller, Cool, Core, Correcting, Course, Critical, Critically, Cruise, CrystalSky, Current, D, DJI, Data, Dead, Decrease, Descend, Descending, Detach, Detected, Detecting, Dial, Difference, Disable, Disabled, Discharge, Distance, Downlink, Downward, Drag, Drone, During, EMMC, ESC, Enable, End, Ended, English, Enough, Ensure, Enter, Entered, Entering, Error, Excessive, Executing, Exit, Exited, Exiting, Exposure, Extended, Extra, Failed, Far, Fell, File, Filed, Fixed, Flight, Fly, Flying, Follow, Force, Forced, Forward, Forwardobstacle, Full, GEO, GPS, Gear, Geo, Get, Gimbal, Go, Guard, Gyroscope, Hardware, High, Home, Homepoint, Hovering, Hyperlapse, ID, IMU, Identify, If, Image, Impact, Incompatible, Incorrect, Index, Info, Initiating, Insert, Insufficient, Intelligent, Interference, L, Land, Landing, Large, Least, Left, Less, Light, Lighting, Lightly, Limit, Live, Liveview, Loading, Locating, Locked, Log, Lost, Low, Lower, Lowered, Lowering, MC, Magnetic, Main, Make, Manned, Manually, Max, Maximum, May, Me, Metering, Min, Minimum, Mission, Mobile, Mode, Mode.:Low, Modes, Motor, Motors, Mounted, Move, Multiple, NFZ, Navigation, No, Normal, Not, OFF, ON, Object, Obstacle, Obstructed, Off, Only, Optimized, Over, Overcurrent, Overheated, Overloaded, P, Pan, Pano, Panorama, Paused, Pay, Payload, Pitch, Plant, Please, Point, Position, Positional, Positioning, Positioning)-mode, Positioningobstacle, Power, Precision, Press, Profile, Propeller, Propellers, Propulsion, Protection, QuickShot, QuickShots, RC, RCAM, RTH, RTK, Raised, Raising, Range, Reached, Reaching, Recalibrate, Received, Recenter, Recharge, Recommended, Recorded, Recorder, Recovered, Redundancy, Reinstall, Related, Remote, Required, Reselect, Responding, Restart, Restricted, Resumed, Return, Returning, Revise, Right, Roll, Route, Running, S, S., SD, Self, Sensing, Set, Setting, Settings, Shooting, Signal, Simulator, Small, Smart, Solution, Space, Sport, Sport)-mode, Spot, Sprayer, Start, Started, Starting, Station, Status, Stick, Stop, Stopped, Strong, Subject, Successfully, Support, Switch, Switched, System, T, Take, Takeoff, Taking, Tap, TapFly, Target, Temp, Temperature, The, Then, Throttle, Tilt, Timeout, Timer, Tip, To, Total, Track, Transmission, Tripod, Tripod)-mode, Try, Turn, Two, UNKNOWN, USB, Unable, Unknown, Unlocking, Unpaved, Upward, Use, Velocity, Vibrating, Video, Videos, View, Vision, Visual, Voltage, Wait, Warm, Warning, Waypoint, Waypoints, Weak, When, Wind, Wing, Yaw, You, Your, Zone, Zones, a, abnormal, above, accuracy, acre, acres, adequate, adjust, adjusted, affected, after, again, aircraft, airspace, altitude, ambient, an, and, angle, another, antenna, antennas, anti, approaching, are, area, around, arrange, as, ascend, assistance, at, attached, attempting, attention, attitude, authorization, authorized, auto, automatic, automatically, available, avoid, avoidance, awareness, away, axis, back, backward, backwards, base, based, batteries, battery, be, because, been, beeping, before, below, blind, block, blocked, blocking, boundary, box, braking, broadcasting, broken, building, busy, by, cache, calibrate, calibrated, calibrating, calibration, camera, can, cancel, cancelling, card, care, cause, caution, cell, cells, centered, certain, change, charge, check, checklist, chip, close, code, collision, command, communication, compass, completed, compliance, comply, compromised, configuration, connected, connection, contact, contain, continue, control, controlled, controller, correct, correctly, currently, damaged, dangerously, dark, data, database, decelerate, decreased, degraded, degree, degrees, delete, descend, descending, descent, destination, detached, detect, detected, device, dial, direction, disabled, disconnected, display, distance, down, dual, due, during, elevation, enable, enabled, ended, endpoint, enhanced, enough, ensure, enter, entered, entering, enviornment, environment, error, exceed, exceeded, exceeding, exceeds, exist, exit, exited, extended, extra, facing, failed, failure, far, farther, fast, feature, files, filled, find, firmware, first, flight, fly, flying, focus, for, forced, forward, frame, free, freely, from, full, fully, function, functionality, functioning, functions, gal, gear, get, gimbal, gimbals, go, ground, guard, has, have, health, height, help, high, home, hot, hover, hovering, idle, idling, if, image, immediately, in, inaccurate, incorrectly, increased, infinity, infrared, initialization, initiated, inserted, install, installation, installed, insufficient, interference, interrupted, interruption, is, issue, it, keep, land, landing, large, larger, laser, later, laws, least, left, lens, less, level, light, likely, limit, limitations, limited, line, link, linked, liters, load, loaded, local, location, lock, locked, log, logged, long, lost, low, lower, lowered, magnetic, magnets, maintain, maintenance, make, malfunction, manned, manually, map, markings, max, maximum, may, maybe, messages, metal, midpoints, min, minimum, missing, mission, mobile, mobility, mode, module, monitor, more, motor, motors, mounted, move, movement, moving, multi, national, near, nearby, necessary, needed, network, new, night, nnn, nnn(s, no, non, normal, normally, not, now, number, object, objects, obstacle, obstacles, obtain, obtained, of, off, off(code, on, only, open, option, or, otherwise, output, over, overheated, overheating, overloaded, pack, pan, panorama, parallel, part, pass, passenger, pay, payload, per, performance, permitted, persists, phone, photos, pitch, pitching, place, playback, please, point, policies, port, position, positioning, possible, potential, power, powered, powering, pre, press, prevent, problem, processor, progress, promptly, propeller, propellers, proper, properly, propulsion, protection, quality, range, rangefinder, rate, re, reached, read, recommended, recording, recovery, reduce, regulations, reinstall, remaining, remains, remote, removed, repairs, replace, required, requires, reset, resistance, restarting, restored, restricted, restrictions, retry, return, returning, reutrn, right, roll, rolling, rotate, rotating, route, safe, safely, safer, safety, same, satellite, screen, searching, seconds, selected, send, sensing, sensor, sensor(s, sensors, set, settings, sharply, sharplyforward, shifts, shock, shoot, shooting, shortened, shot, side, sight, signal, sky, so, soon, source, sources, space, speed, spot, spotlight, spray, sprayed, stable, stably, stalled, start, starting, starts, station, stationary, status, stick, sticks, still, stopped, stops, storage, stream, stuck, subject, successful, support, sure, surrounding, switch, switched, system, systems, take, takeoff, taking, tallest, tap, target, temperature, than, that, the, their, then, there, this, tilted, time, to, together, toggle, too, toward, track, transmission, trigger, try, turn, turned, tutorial, two, unable, unavailable, undervoltage, unless, unlocked, unlocking, unstable, up, update, updated, use, using, velocity, version, vibration, video, violate, violation, vision, visual, voltage, wait, walls, warm, warming, warning, warnings, warped, was, waypoint, weak, when, whether, which, will, wind, wireless, with, within, without, working, write, yaw, you, your, zone, zoom, °, "
     ]
    }
   ],
   "source": [
    "# unique = set(df[\"words\"].unique())\n",
    "# for val in sorted(unique):\n",
    "#     print(val, end = \", \")"
   ]
  },
  {
   "cell_type": "code",
   "execution_count": 17,
   "metadata": {},
   "outputs": [],
   "source": [
    "# with open(\"to_looked.txt\", mode = \"w\") as to_looked:\n",
    "#     for val in sorted(unique):\n",
    "#         to_looked.write(val + \"\\n\")"
   ]
  },
  {
   "cell_type": "code",
   "execution_count": 23,
   "metadata": {},
   "outputs": [
    {
     "data": {
      "text/plain": [
       "0        Data\n",
       "819      Data\n",
       "2069     Data\n",
       "2221     Data\n",
       "2606     Data\n",
       "         ... \n",
       "54138    Data\n",
       "55889    Data\n",
       "57408    Data\n",
       "58235    Data\n",
       "58887    Data\n",
       "Name: words, Length: 69, dtype: object"
      ]
     },
     "execution_count": 23,
     "metadata": {},
     "output_type": "execute_result"
    }
   ],
   "source": [
    "df[\"words\"][df[\"words\"] == \"Data\"]"
   ]
  },
  {
   "cell_type": "code",
   "execution_count": 10,
   "metadata": {},
   "outputs": [],
   "source": [
    "df.to_csv(\"combined_tokenized_research_dataset.csv\", index = False)"
   ]
  },
  {
   "cell_type": "code",
   "execution_count": 82,
   "metadata": {},
   "outputs": [],
   "source": [
    "def filler(nonCapWord, capAnnot, nonCapAnnot):\n",
    "    capWord = \"\".join([char.upper() if i == 0 else char for i, char in enumerate(nonCapWord)])\n",
    "    words_to_write = []\n",
    "    if df[\"words\"][df[\"words\"] == capWord].any():\n",
    "        df.loc[df[\"words\"] == capWord, \"labels\"] = str(capAnnot)\n",
    "    else: print(capWord + \" not found in the dataset\")\n",
    "    with open(\"to_looked.txt\", \"r\") as to_looked:\n",
    "        words_to_read = to_looked.readlines()\n",
    "        words = [word.strip() for word in words_to_read if word.strip() != capWord]\n",
    "        words_to_write.extend(words)\n",
    "    with open(\"to_looked.txt\", \"w\") as to_looked:\n",
    "        to_looked.writelines(word + \"\\n\" for word in words_to_write)\n",
    "\n",
    "    words_to_write = []\n",
    "    if df[\"words\"][df[\"words\"] == nonCapWord].any():\n",
    "        df.loc[df[\"words\"] == nonCapWord, \"labels\"] = str(nonCapAnnot)\n",
    "    else: print(nonCapWord + \" not found in the dataset\")\n",
    "    with open(\"to_looked.txt\", \"r\") as to_looked:\n",
    "        words_to_read = to_looked.readlines()\n",
    "        words = [word.strip() for word in words_to_read if word.strip() != nonCapWord]\n",
    "        words_to_write.extend(words)\n",
    "    with open(\"to_looked.txt\", \"w\") as to_looked:\n",
    "        to_looked.writelines(word + \"\\n\" for word in words_to_write)\n",
    "    \n",
    "    df.to_csv(\"combined_tokenized_research_dataset.csv\", index = False)\n",
    "    print(\"Next Word to annot: \" + words_to_write[0])"
   ]
  },
  {
   "cell_type": "code",
   "execution_count": 145,
   "metadata": {},
   "outputs": [
    {
     "name": "stdout",
     "output_type": "stream",
     "text": [
      "detecting not found in the dataset\n",
      "Next Word to annot: ï¿½\n",
      "Measuring not found in the dataset\n",
      "measuring not found in the dataset\n",
      "Next Word to annot: ï¿½\n",
      "Processing not found in the dataset\n",
      "processing not found in the dataset\n",
      "Next Word to annot: ï¿½\n",
      "Calibrating not found in the dataset\n",
      "Next Word to annot: ï¿½\n",
      "Adjusting not found in the dataset\n",
      "adjusting not found in the dataset\n",
      "Next Word to annot: ï¿½\n"
     ]
    }
   ],
   "source": [
    "annotations = [\n",
    "    (\"detecting\", \"I-COMPONENT VERB\", \"I-COMPONENT VERB\"),\n",
    "(\"measuring\", \"I-COMPONENT VERB\", \"I-COMPONENT VERB\"),\n",
    "(\"processing\", \"I-COMPONENT VERB\", \"I-COMPONENT VERB\"),\n",
    "(\"calibrating\", \"I-COMPONENT VERB\", \"I-COMPONENT VERB\"),\n",
    "(\"adjusting\", \"I-COMPONENT VERB\", \"I-COMPONENT VERB\"),\n",
    "\n",
    "\n",
    "]\n",
    "\n",
    "for d in annotations:\n",
    "    filler(d[0], d[1], d[2])\n"
   ]
  },
  {
   "cell_type": "code",
   "execution_count": 11,
   "metadata": {},
   "outputs": [
    {
     "name": "stdout",
     "output_type": "stream",
     "text": [
      "59\n"
     ]
    }
   ],
   "source": [
    "from numpy import unique\n",
    "uniques = ['B-ACTION VERB', 'I-ACTION ADP', 'O PUNCT', 'B-PARAMETER NOUN',\n",
    "       'I-PARAMETER VERB', 'O VERB', 'B-PARAMETER PROPN', 'O NUM',\n",
    "       'B-STATE NOUN', 'I-STATE NOUN', 'O PART', 'O PRON', 'O NOUN',\n",
    "       'O AUX', 'O ADV', 'O ADP', 'B-COMPONENT NOUN', 'O INTJ',\n",
    "       'B-ACTION PROPN', 'O PROPN', 'O CCONJ', 'B-ISSUE NOUN',\n",
    "       'I-ISSUE VERB', 'B-FUNCTION NOUN', 'I-FUNCTION NOUN',\n",
    "       'I-PARAMETER NOUN', 'O ADJ', 'B-PARAMETER VERB', 'O X',\n",
    "       'B-COMPONENT VERB', 'I-COMPONENT PROPN', 'B-ISSUE PROPN',\n",
    "       'I-ISSUE NOUN', 'B-ISSUE ADJ', 'B-FUNCTION ADJ',\n",
    "       'I-PARAMETER PROPN', 'B-FUNCTION PROPN', 'O SCONJ',\n",
    "       'I-COMPONENT VERB', 'B-ISSUE VERB', 'B-FUNCTION VERB',\n",
    "       'I-ACTION NOUN', 'B-STATE PROPN', 'B-ACTION NOUN', 'I-ISSUE ADV',\n",
    "       'I-ISSUE ADJ', 'I-FUNCTION VERB', 'B-STATE ADV', 'I-ACTION VERB',\n",
    "       'I-ACTION PART', 'I-STATE VERB', 'B-PARAMETER ADJ', 'B-STATE ADJ',\n",
    "       'B-COMPONENT PROPN', 'I-COMPONENT NOUN', 'B-COMPONENT ADJ',\n",
    "       'B-ISSUE ADV', 'I-STATE PUNCT', 'B-STATE VERB']\n",
    "# new_unique = ['B-ACTION VERB', 'I-ACTION ADP', 'O PUNCT', 'B-PARAMETER NOUN',\n",
    "#        'I-PARAMETER VERB', 'O VERB', 'B-PARAMETER PROPN', 'O NUM',\n",
    "#        'B-STATE NOUN', 'I-STATE NOUN', 'O PART', 'O PRON', 'O NOUN',\n",
    "#        'O AUX', 'O ADV', 'O ADP', 'B-COMPONENT NOUN', 'O INTJ',\n",
    "#        'B-ACTION PROPN', 'O PROPN', 'O CCONJ', 'B-ISSUE NOUN',\n",
    "#        'I-ISSUE VERB', 'B-FUNCTION NOUN', 'I-FUNCTION NOUN',\n",
    "#        'I-PARAMETER NOUN', 'O ADJ', 'B-PARAMETER VERB', 'O X',\n",
    "#        'B-COMPONENT VERB', 'I-COMPONENT PROPN', 'B-ISSUE PROPN',\n",
    "#        'I-ISSUE NOUN', 'B-ISSUE ADJ', 'B-FUNCTION ADJ',\n",
    "#        'I-PARAMETER PROPN', 'B-FUNCTION PROPN', 'O SCONJ',\n",
    "#        'I-COMPONENT VERB', 'B-ISSUE VERB', 'B-FUNCTION VERB',\n",
    "#        'I-ACTION NOUN', 'B-STATE PROPN', 'B-ACTION NOUN', 'I-ISSUE ADV',\n",
    "#        'I-ISSUE ADJ', 'I-FUNCTION VERB', 'B-STATE ADV', 'I-ACTION VERB',\n",
    "#        'I-ACTION PART', 'I-STATE VERB', 'B-PARAMETER ADJ', 'B-STATE ADJ',\n",
    "#        'B-COMPONENT PROPN', 'I-COMPONENT NOUN', 'B-COMPONENT ADJ',\n",
    "#        'B-ISSUE ADV', 'I-STATE PUNCT', 'B-STATE VERB', 'I-STATE ADJ',\n",
    "#        'I-PARAMETER ADJ', 'I-COMPONENT NOUN ', 'B-FUNCTION MAIN',\n",
    "#        'I-FUNCTION NO']\n",
    "print(len(unique(uniques)))"
   ]
  },
  {
   "cell_type": "code",
   "execution_count": 16,
   "metadata": {},
   "outputs": [
    {
     "data": {
      "text/plain": [
       "True"
      ]
     },
     "execution_count": 16,
     "metadata": {},
     "output_type": "execute_result"
    }
   ],
   "source": [
    "\"O SCONJ\" in uniques"
   ]
  },
  {
   "cell_type": "code",
   "execution_count": 101,
   "metadata": {},
   "outputs": [
    {
     "data": {
      "text/plain": [
       "2        O NOUN\n",
       "821      O NOUN\n",
       "939      O NOUN\n",
       "2071     O NOUN\n",
       "2223     O NOUN\n",
       "          ...  \n",
       "54140    O NOUN\n",
       "55891    O NOUN\n",
       "57410    O NOUN\n",
       "58237    O NOUN\n",
       "58889    O NOUN\n",
       "Name: labels, Length: 75, dtype: object"
      ]
     },
     "execution_count": 101,
     "metadata": {},
     "output_type": "execute_result"
    }
   ],
   "source": [
    "df[\"labels\"][df[\"words\"] == \"File\"] "
   ]
  },
  {
   "cell_type": "code",
   "execution_count": 140,
   "metadata": {},
   "outputs": [
    {
     "name": "stdout",
     "output_type": "stream",
     "text": [
      "['Capture', 'QuickShot', '30068', 'arrange', 'Restricted', 'sharplyforward', 'Raised', 'Backwardobstacle', 'block', 'attached', '10018', 'descend', 'Revise', 'Restart', 'returning', 'Cruise', '30086', '30050', 'completed', 'source', 'Intelligent', 'remaining', '>', 'Disable', 'maintain', 'antenna', 'laser', 'charge', '30251', 'Landing', '30231', 'stops', 'in', 'forced', '10028', 'Hovering', 'You', 'on', '30136', 'base', '30185', 'communication', 'backward', 'messages', 'the', '30152', 'it', 'processor', 'magnetic', 'idle', 'Metering', 'inaccurate', '-', 'installation', 'Move', 'Spot', 'Board', 'starts', 'Charge', 'cell', 'ASAP', 'C1', 'Ended', 'shooting', '30035', 'Initiating', 'mission', 'Low', 'Propulsion', '59F', '110002', '35014', 'entering', 'Pan', 'accuracy', 'Mounted', 'zoom', 'angle', 'avoid', '30245', 'Modes', 'Lower', 'lower', 'Overheated', 'will', 'Force', 'sight', 'S.', 'contact', '2', 'Bottom', 'insufficient', 'Enough', 'Far', 'Stick', '30232)Extra', 'descent', 'Control', 'shock', '35061', 'acre', '30064', 'land', 'pre', '30247', 'busy', 'CrystalSky', 'sources', 'number', 'initialization', 'Critical', 'collision', 'Interference', 'vision', 'long', 'Full', 'functionality', 'Ensure', 'overheating', 'ensure', 'To', '120852', 'Take', 'satellite', 'walls', 'your', 'Not', 'Descend', 'least', 'Lowered', '(', 'mode', 'no', 'Roll', '30181', 'Only', '180016', 'EMMC', 'Live', 'Tip', 'properly', 'pack', 'Reselect', 'calibrated', 'enter', 'warped', '30226', 'to', 'off', 'NFZ', 'metal', 'surrounding', 'Ambient', 'Me', 'Smart', 'please', 'Visual', 're', 'write', 'successful', 'power', 'high', 'sticks', 'rate', 'code', 'care', 'C2', 'shortened', 'Incompatible', 'tallest', 'Avoided', 'large', 'interference', 'File', '190004', 'cache', 'map', 'Vision', 'compass', 'Braking', 'nnn', 'environment', 'area', 'Area', 'Air', 'check', 'stably', 'damaged', 'reached', 'initiated', 'unlocking', 'assistance', '110', 'permitted', '30144', 'read', 'Vibrating', '180037', 'enough', 'Timeout', 'Extended', 'approaching', 'Gear', 'exceeded', '30049', '10016', 'change', 'Min', 'Detecting', 'Reinstall', 'aircraft', 'flying', 'Then', 'correct', 'blocking', 'performance', 'recommended', 'Recorded', '30063', '120596', 'at', 'warning', 'decelerate', 'object', 'this', 'been', '30033', 'toggle', '35123', 'OFF', 'Airport', 'national', 'Sprayer', 'Closer', 'Make', 'idling', 'Warm', 'Captured', 'motors', 'rolling', 'taking', '...', 'has', 'Lightly', 'transmission', 'Detected', 'Payload', 'within', '800018', 'extra', 'warming', 'Before', '30235', 'Exit', 'currently', 'two', 'option', 'policies', 'reduce', 'Cancel', 'forward', 'TapFly', 'there', 'disabled', 'altitude', 'Resumed', 'Waypoint', 'shoot', 'abnormal', 'Sensing', 'Reaching', 'AirSense', 'as', 'Insufficient', 'Positioning', 'available', 'their', 'Account', 'Over', 'Exposure', 'exceeds', '30136)Aircraft', 'elevation', '180031', 'Raising', 'place', 'issue', 'gimbal', '30232', 'inserted', 'Velocity', 'checklist', 'Received', 'recovery', 'by', 'not', 'Class', 'parallel', 'data', '30252', 'regulations', 'disconnected', 'restored', 'attitude', 'linked', '30331', 'compliance', 'Airspace', 'may', 'velocity', 'systems', '3000001', '30183', 'dangerously', 'Point', 'UNKNOWN', 'missing', 'comply', 'Left', 'pitch', '30078', '35024', 'retry', 'Cannot', 'May', 'Away', 'freely', 'image', 'multi', 'Controller', 'calibrating', 'Space', 'Locked', 'Distance', '1B080003', 'Flight', 'authorized', '80004', 'Protection', 'Sport', 'wait', 'manually', '30168', 'contain', 'Land', 'degrees', 'ON', 'Attitude', 'blocked', 'Code', 'if', '30008', 'enviornment', 'propulsion', 'box', 'Flying', 'Wing', 'device', 'station', 'phone', 'Recalibrate', 'propellers', 'time', 'Accelerator', 'Mode', '30229', '30047', 'Limit', 'Clear', '57', 'DJI', 'quality', '3000006', 'adjust', 'card', 'mounted', 'Blocked', 'promptly', '35147', 'exited', '12', '30224', 'flight', 'reutrn', 'Difference', 'Transmission', 'roll', 'laws', 'requires', 'Geo', 'functions', 'help', 'Hardware', '\"', '60016', 'is', 'Optimized', 'Automatically', 'Filed', 'Pay', 'GPS', '..', 'sensing', 'nnn(s', 'unavailable', 'descending', 'hovering', 'infrared', 'Auxiliary', '180003', 'proper', '30236', 'storage', 'Voltage', 'attention', '180032', '180038', 'max', 'Panorama', '30132', 'English', '35008', 'Fly', 'focus', 'stick', 'together', 'Return', 'Gimbal', 'controller', 'Position', '35103', '120732', 'health', '40022', '80015', '80002', 'anti', 'yaw', 'Maximum', 'Automatic', 'more', 'Error', 'based', 'screen', 'degraded', 'logged', 'Responding', '30238', 'Target', 'remote', 'during', 'Hyperlapse', 'certain', '30180', 'enable', 'rangefinder', 'centered', 'caution', 'so', 'keep', 'that', '1B030014', 'Descending', 'whether', 'resistance', 'MC', 'At', 'Minimum', 'spotlight', 'magnets', 'Excessive', 'subject', 'wireless', 'Temp', 'payload', '1A420BC6', 'Cool', 'Press', 'AI', 'side', 'persists', 'Cache', 'entered', 'make', 'Authorization', 'The', 'backwards', \"'s\", 'sharply', '0x1610008f', 'firmware', 'an', 'Drag', '10017', 'normally', 'Exited', 'Locating', 'local', 'version', 'Gyroscope', 'Approaching', 'Canceled', 'RTH', 'Use', 'send', 'Barometer', 'Motor', 'Dead', 'Unlocking', 'frame', 'landing', 'acres', 'powering', 'Main', 'Two', 'mobile', 'Mode.:Low', 'Follow', 'Warning', 'positioning', 'cells', 'Taking', 'Color', 'overloaded', 'repairs', 'Go', 'API', 'limitations', 'otherwise', 'stream', 'load', 'a', 'Pano', '35149', 'tilted', 'A', 'Dial', 'and', 'Data', 'then', 'Object', 'cause', 'near', 'incorrectly', 'sensors', 'automatic', '80001', '30055', 'Unknown', '30007', 'Celsius', 'lock', '10022', 'Switched', 'maximum', '40002', '!', 'chip', 'Status', '30014', 'auto', 'Log', 'monitor', 'when', '1', 'liters', '30149', 'find', 'Loading', 'Impact', 'T', '30072', 'Right', 'gimbals', 'delete', '9Hz', 'destination', 'Start', 'light', 'Attitude)-mode', 'violate', 'link', 'Wind', '30060', 'authorization', 'stuck', 'configuration', 'possible', ',', 'zone', 'immediately', '30142', 'Try', 'Executing', 'cancel', 'control', 'malfunction', 'Timer', '35009', 'D', 'same', 'Large', 'Liveview', 'left', 'Obstacle', 'ascend', 'increased', 'When', 'Video', 'detached', 'turn', 'Related', 'C', 'Positional', 'Running', 'battery', '30239', 'non', 'Turn', '1B080001', 'If', '10027', 'connected', 'Calibration', 'Home', 'soon', 'RCAM', 'CPU', 'Plant', 'database', 'necessary', 'adequate', 'obtain', 'install', '10025', 'support', '35015', 'boundary', 'switch', 'No', 'Throttle', 'open', 'Disabled', 'Magnetic', 'Simulator', 'calibrate', 'far', 'infinity', 'Returning', 'from', 'obtained', 'free', 'height', 'voltage', 'Calibrate', 'P', 'Current', 'Identify', 'Lighting', 'working', 'part', 'Setting', 'Atti', 'off(code', 'wind', 'needed', 'Unpaved', 'are', 'position', 'Less', 'rotating', 'GEO', 'decreased', 'Navigation', 'automatically', 'line', 'degree', 'movement', 'Propellers', 'new', 'manned', 'back', '110014', 'night', 'warm', '180001', 'Videos', '30083', 'speed', 'After', 'maintenance', 'remains', 'over', '80014', 'Fixed', 'facing', 'fully', '30166', 'Compass', 'point', 'Station', '3000004', ':', 'unable', 'calibration', 'Abnormal', 'Discharge', 'direction', 'Solution', 'down', 'detect', 'exceeding', 'likely', 'affected', 'shifts', 'braking', 'spot', 'Entered', 'broadcasting', 'interrupted', 'toward', 'feature', 'Adjusted', 'recording', '30217', 'tutorial', 'sky', 'update', '°', 'lost', 'Least', 'Light', 'Check', 'SD', 'Signal', 'Profile', 'temperature', 'Forward', '.', 'track', '40021', 'pan', '10023', 'below', 'Below', 'camera', 'Detach', 'cancelling', 'Weak', 'safely', '80016', '1A420BC0', 'Obstructed', 'which', 'error', 'use', 'building', 'propeller', 'extended', 'High', 'weak', 'fly', 'obstacle', 'files', 'close', 'module', 'log', 'Exiting', 'ambient', 'dark', 'obstacles', 'panorama', 'Your', 'restrictions', 'Recovered', 'System', 'Forced', 'using', '180030', 'detected', 'Starting', 'Yaw', 'larger', '30079', 'Avoid', 'Downlink', 'because', 'try', 'system', 'Subject', 'limited', 'nearby', 'objects', 'safe', 'broken', '20000001', 'Get', 'enhanced', 'axis', 'display', 'fast', 'exist', 'RTK', '60001', 'sensor(s', 'During', 'start', '0x16080029', 'Recharge', 'problem', 'lens', 'Tap', 'Power', 'minimum', 'Max', 'pitching', 'normal', 'USB', 'mobility', 'stable', 'Recommended', '3000003', 'violation', 'you', 'location', 'Motors', 'Auto', 'Tripod', '30184', 'right', 'powered', '30045', 'settings', 'Started', 'tap', 'reinstall', 'replace', '120652', 'still', 'Course', '35112', '30087', 'Redundancy', 'get', 'Contact', 'Recenter', 'Recorder', '110011', '180018', 'per', 'output', 'Temperature', 'stationary', 'Positioningobstacle', 'Camera', 'Incorrect', 'compromised', 'Guard', 'Tilt', 'after', 'Info', '40011', '30230', 'QuickShots', 'unlocked', 'Paused', 'selected', 'stopped', 'vibration', 'motor', 'required', 'only', 'range', 'Multiple', 'dial', 'Track', 'Successfully', 'Propeller', 'function', 'around', 'continue', 'Insert', 'exit', 'visual', 'loaded', 'Activated', '\\t', 'blind', '30082', 'Self', 'Manned', 'now', 'Connection', 'Shooting', 'full', 'Range', 'avoidance', 'updated', '30138', 'return', 'Support', 'set', 'switched', 'searching', 'Drone', '1B080002', 'B', 'Connect', 'Adjust', 'Backward', 'signal', '110013', 'Pitch', 'network', 'End', 'ActiveTrack', 'spray', 'Overloaded', 'Homepoint', 'Failed', '01', 'Upward', 'locked', 'Route', '25', 'gal', 'restarting', 'Please', 'command', 'unstable', 'removed', 'progress', 'less', 'Decrease', 'Zones', 'airspace', 'Aircraft', 'or', 'RC', 'starting', 'than', 'hover', 'Airports', 'waypoint', 'press', 'Advanced', '180059', 'ATTI', 'route', 'Fell', 'too', 'attempting', 'Core', 'of', 'Stopped', 'Another', 'Switch', 'exceed', 'video', 'lowered', 'Strong', 'overheated', 'safety', 'AE', 'seconds', 'Precision', 'another', 'connection', 'sure', 'potential', 'move', 'turned', 'S', 'take', 'Off', '110023', 'ended', 'Avoidance', 'due', 'Waypoints', 'photos', '30042', 'Correcting', 'Required', 'restricted', 'pass', 'playback', 'up', 'for', 'gear', 'Unable', '30065', 'home', 'Stop', 'Tripod)-mode', 'failed', 'be', 'ESC', '110007', '30004', 'warnings', 'pay', '30029', '190001', 'Set', 'hot', 'controlled', 'min', 'passenger', 'guard', 'farther', 'safer', 'protection', '3000005', 'status', '40004', 'without', 'Entering', 'Small', '110024', '35nnn', 'Image', 'go', 'failure', 'reset', 'space', '30077', 'adjusted', 'Arrived', 'Overcurrent', '35104', 'Approached', 'takeoff', 'Forwardobstacle', 'Battery', 'Mission', 'beeping', 'Enable', '30032', '/', 'was', 'Total', 'Normal', '15', '180017', 'limit', '30002', '10024', 'Downward', 'markings', 'Sport)-mode', 'Enter', 'antennas', 'maybe', 'Critically', 'Reached', 'Alert', '10035', 'Altitude', 'with', 'can', 'Always', 'ID', 'Lowering', 'Takeoff', 'sprayed', 'Extra', 'sensor', 'filled', 'first', 'distance', 'View', 'correctly', 'Allowed', 'APAS', 'trigger', 'low', 'Settings', 'functioning', 'have', 'unless', 'Index', '30096', 'IMU', 'L', '30165', '3203600', 'stalled', 'undervoltage', ')', 'Command', '40003', 'Change', 'awareness', 'before', '30153', 'away', 'installed', 'midpoints', '30246', 'moving', 'Positioning)-mode', '30179', 'ground', 'Base', 'Remote', '30334', '30015', 'later', 'interruption', 'target', 'Lost', 'Zone', 'level', 'above', 'port', 'rotate', 'Mobile', 'batteries', 'shot', 'again', '77F', 'enabled', '190012', 'endpoint', 'Wait', 'Manually', 'Can', 'dual', 'prevent', '1B070002']\n"
     ]
    }
   ],
   "source": [
    "temp = set(df[\"words\"].unique())\n",
    "word_n = []\n",
    "for word in temp:\n",
    "    word_n.append(word)\n",
    "print(word_n)"
   ]
  },
  {
   "cell_type": "code",
   "execution_count": 17,
   "metadata": {},
   "outputs": [
    {
     "name": "stdout",
     "output_type": "stream",
     "text": [
      "0 []\n"
     ]
    }
   ],
   "source": [
    "words_n = []\n",
    "for word in uniques:\n",
    "    if word not in df[\"labels\"].unique():\n",
    "        words_n.append(word)\n",
    "print(len(words_n), words_n)"
   ]
  },
  {
   "cell_type": "code",
   "execution_count": 144,
   "metadata": {},
   "outputs": [
    {
     "data": {
      "text/plain": [
       "58"
      ]
     },
     "execution_count": 144,
     "metadata": {},
     "output_type": "execute_result"
    }
   ],
   "source": [
    "len(df[\"labels\"].unique())"
   ]
  },
  {
   "cell_type": "code",
   "execution_count": 142,
   "metadata": {},
   "outputs": [],
   "source": [
    "for word in df[\"words\"].unique():\n",
    "    temp_df = set(df[\"labels\"][df[\"words\"] == word])\n",
    "    for annots in temp_df:\n",
    "        if annots not in uniques:\n",
    "            print(word)"
   ]
  },
  {
   "cell_type": "code",
   "execution_count": 123,
   "metadata": {},
   "outputs": [
    {
     "data": {
      "text/plain": [
       "array(['B-PARAMETER PROPN', 'B-COMPONENT NOUN', 'O NOUN', 'O AUX', 'O X',\n",
       "       'O PUNCT', 'O VERB', 'O ADV', 'O ADJ', 'O ADP', 'O NUM',\n",
       "       'B-PARAMETER NOUN', 'B-ACTION VERB', 'O CCONJ', 'O PRON',\n",
       "       'B-STATE NOUN', 'B-FUNCTION VERB', 'B-ISSUE VERB', 'O PART',\n",
       "       'B-COMPONENT ADJ', 'I-ACTION VERB', 'B-FUNCTION NOUN',\n",
       "       'B-ACTION NOUN', 'O INTJ', 'B-ISSUE NOUN', 'I-STATE VERB',\n",
       "       'O SCONJ', 'O PROPN', 'B-STATE PROPN', 'B-ACTION PROPN',\n",
       "       'B-STATE ADJ', 'I-STATE NOUN', 'B-COMPONENT PROPN',\n",
       "       'B-PARAMETER ADJ', 'B-FUNCTION ADJ', 'B-ISSUE ADJ',\n",
       "       'I-COMPONENT NOUN', 'B-STATE ADV', 'I-ISSUE ADJ',\n",
       "       'B-COMPONENT VERB', 'I-FUNCTION VERB', 'I-ISSUE NOUN',\n",
       "       'B-FUNCTION PROPN', 'B-STATE VERB', 'I-ACTION NOUN',\n",
       "       'I-PARAMETER NOUN', 'B-ISSUE ADV', 'I-FUNCTION NOUN',\n",
       "       'I-COMPONENT PROPN'], dtype=object)"
      ]
     },
     "execution_count": 123,
     "metadata": {},
     "output_type": "execute_result"
    }
   ],
   "source": [
    "df[\"labels\"].unique()"
   ]
  },
  {
   "cell_type": "code",
   "execution_count": null,
   "metadata": {},
   "outputs": [
    {
     "data": {
      "text/plain": [
       "Series([], Name: labels, dtype: object)"
      ]
     },
     "execution_count": 171,
     "metadata": {},
     "output_type": "execute_result"
    }
   ],
   "source": [
    "df.loc[df[\"words\"] == \" \", \"labels\"] = \"\"\n",
    "df.to_csv(\"combined_tokenized_research_dataset.csv\", index = False)\n",
    "df.loc[df[\"words\"] == \" \", \"labels\"]"
   ]
  },
  {
   "cell_type": "code",
   "execution_count": 41,
   "metadata": {},
   "outputs": [
    {
     "data": {
      "text/plain": [
       "34701    O PUNCT\n",
       "36999    O PUNCT\n",
       "Name: labels, dtype: object"
      ]
     },
     "execution_count": 41,
     "metadata": {},
     "output_type": "execute_result"
    }
   ],
   "source": [
    "df.loc[df[\"words\"] == \">\", \"labels\"]"
   ]
  }
 ],
 "metadata": {
  "kernelspec": {
   "display_name": "Python 3",
   "language": "python",
   "name": "python3"
  },
  "language_info": {
   "codemirror_mode": {
    "name": "ipython",
    "version": 3
   },
   "file_extension": ".py",
   "mimetype": "text/x-python",
   "name": "python",
   "nbconvert_exporter": "python",
   "pygments_lexer": "ipython3",
   "version": "3.12.8"
  }
 },
 "nbformat": 4,
 "nbformat_minor": 2
}
