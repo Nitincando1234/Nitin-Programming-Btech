{
 "cells": [
  {
   "cell_type": "code",
   "execution_count": 1,
   "metadata": {},
   "outputs": [],
   "source": [
    "import pandas as pd"
   ]
  },
  {
   "cell_type": "code",
   "execution_count": 3,
   "metadata": {},
   "outputs": [],
   "source": [
    "df = pd.read_csv(\"combined_tokenized_research_dataset.csv\")"
   ]
  },
  {
   "cell_type": "code",
   "execution_count": 6,
   "metadata": {},
   "outputs": [
    {
     "data": {
      "text/plain": [
       "1131"
      ]
     },
     "execution_count": 6,
     "metadata": {},
     "output_type": "execute_result"
    }
   ],
   "source": [
    "df[\"words\"].nunique()"
   ]
  },
  {
   "cell_type": "code",
   "execution_count": null,
   "metadata": {},
   "outputs": [
    {
     "name": "stdout",
     "output_type": "stream",
     "text": [
      "\t, !, \", 's, (, ), ,, -, ., .., ..., /, 01, 0x16080029, 0x1610008f, 1, 10016, 10017, 10018, 10022, 10023, 10024, 10025, 10027, 10028, 10035, 110, 110002, 110007, 110011, 110013, 110014, 110023, 110024, 12, 120596, 120652, 120732, 120852, 15, 180001, 180003, 180016, 180017, 180018, 180030, 180031, 180032, 180037, 180038, 180059, 190001, 190004, 190012, 1A420BC0, 1A420BC6, 1B030014, 1B070002, 1B080001, 1B080002, 1B080003, 2, 20000001, 25, 3000001, 3000003, 3000004, 3000005, 3000006, 30002, 30004, 30007, 30008, 30014, 30015, 30029, 30032, 30033, 30035, 30042, 30045, 30047, 30049, 30050, 30055, 30060, 30063, 30064, 30065, 30068, 30072, 30077, 30078, 30079, 30082, 30083, 30086, 30087, 30096, 30132, 30136, 30136)Aircraft, 30138, 30142, 30144, 30149, 30152, 30153, 30165, 30166, 30168, 30179, 30180, 30181, 30183, 30184, 30185, 30217, 30224, 30226, 30229, 30230, 30231, 30232, 30232)Extra, 30235, 30236, 30238, 30239, 30245, 30246, 30247, 30251, 30252, 30331, 30334, 3203600, 35008, 35009, 35014, 35015, 35024, 35061, 35103, 35104, 35112, 35123, 35147, 35149, 35nnn, 40002, 40003, 40004, 40011, 40021, 40022, 57, 59F, 60001, 60016, 77F, 80001, 800018, 80002, 80004, 80014, 80015, 80016, 9Hz, :, >, A, AE, AI, APAS, API, ASAP, ATTI, Abnormal, Accelerator, Account, Activated, ActiveTrack, Adjust, Adjusted, Advanced, After, Air, AirSense, Aircraft, Airport, Airports, Airspace, Alert, Allowed, Altitude, Always, Ambient, Another, Approached, Approaching, Area, Arrived, At, Atti, Attitude, Attitude)-mode, Authorization, Auto, Automatic, Automatically, Auxiliary, Avoid, Avoidance, Avoided, Away, B, Backward, Backwardobstacle, Barometer, Base, Battery, Before, Below, Blocked, Board, Bottom, Braking, C, C1, C2, CPU, Cache, Calibrate, Calibration, Camera, Can, Cancel, Canceled, Cannot, Capture, Captured, Celsius, Change, Charge, Check, Class, Clear, Closer, Code, Color, Command, Compass, Connect, Connection, Contact, Control, Controller, Cool, Core, Correcting, Course, Critical, Critically, Cruise, CrystalSky, Current, D, DJI, Data, Dead, Decrease, Descend, Descending, Detach, Detected, Detecting, Dial, Difference, Disable, Disabled, Discharge, Distance, Downlink, Downward, Drag, Drone, During, EMMC, ESC, Enable, End, Ended, English, Enough, Ensure, Enter, Entered, Entering, Error, Excessive, Executing, Exit, Exited, Exiting, Exposure, Extended, Extra, Failed, Far, Fell, File, Filed, Fixed, Flight, Fly, Flying, Follow, Force, Forced, Forward, Forwardobstacle, Full, GEO, GPS, Gear, Geo, Get, Gimbal, Go, Guard, Gyroscope, Hardware, High, Home, Homepoint, Hovering, Hyperlapse, ID, IMU, Identify, If, Image, Impact, Incompatible, Incorrect, Index, Info, Initiating, Insert, Insufficient, Intelligent, Interference, L, Land, Landing, Large, Least, Left, Less, Light, Lighting, Lightly, Limit, Live, Liveview, Loading, Locating, Locked, Log, Lost, Low, Lower, Lowered, Lowering, MC, Magnetic, Main, Make, Manned, Manually, Max, Maximum, May, Me, Metering, Min, Minimum, Mission, Mobile, Mode, Mode.:Low, Modes, Motor, Motors, Mounted, Move, Multiple, NFZ, Navigation, No, Normal, Not, OFF, ON, Object, Obstacle, Obstructed, Off, Only, Optimized, Over, Overcurrent, Overheated, Overloaded, P, Pan, Pano, Panorama, Paused, Pay, Payload, Pitch, Plant, Please, Point, Position, Positional, Positioning, Positioning)-mode, Positioningobstacle, Power, Precision, Press, Profile, Propeller, Propellers, Propulsion, Protection, QuickShot, QuickShots, RC, RCAM, RTH, RTK, Raised, Raising, Range, Reached, Reaching, Recalibrate, Received, Recenter, Recharge, Recommended, Recorded, Recorder, Recovered, Redundancy, Reinstall, Related, Remote, Required, Reselect, Responding, Restart, Restricted, Resumed, Return, Returning, Revise, Right, Roll, Route, Running, S, S., SD, Self, Sensing, Set, Setting, Settings, Shooting, Signal, Simulator, Small, Smart, Solution, Space, Sport, Sport)-mode, Spot, Sprayer, Start, Started, Starting, Station, Status, Stick, Stop, Stopped, Strong, Subject, Successfully, Support, Switch, Switched, System, T, Take, Takeoff, Taking, Tap, TapFly, Target, Temp, Temperature, The, Then, Throttle, Tilt, Timeout, Timer, Tip, To, Total, Track, Transmission, Tripod, Tripod)-mode, Try, Turn, Two, UNKNOWN, USB, Unable, Unknown, Unlocking, Unpaved, Upward, Use, Velocity, Vibrating, Video, Videos, View, Vision, Visual, Voltage, Wait, Warm, Warning, Waypoint, Waypoints, Weak, When, Wind, Wing, Yaw, You, Your, Zone, Zones, a, abnormal, above, accuracy, acre, acres, adequate, adjust, adjusted, affected, after, again, aircraft, airspace, altitude, ambient, an, and, angle, another, antenna, antennas, anti, approaching, are, area, around, arrange, as, ascend, assistance, at, attached, attempting, attention, attitude, authorization, authorized, auto, automatic, automatically, available, avoid, avoidance, awareness, away, axis, back, backward, backwards, base, based, batteries, battery, be, because, been, beeping, before, below, blind, block, blocked, blocking, boundary, box, braking, broadcasting, broken, building, busy, by, cache, calibrate, calibrated, calibrating, calibration, camera, can, cancel, cancelling, card, care, cause, caution, cell, cells, centered, certain, change, charge, check, checklist, chip, close, code, collision, command, communication, compass, completed, compliance, comply, compromised, configuration, connected, connection, contact, contain, continue, control, controlled, controller, correct, correctly, currently, damaged, dangerously, dark, data, database, decelerate, decreased, degraded, degree, degrees, delete, descend, descending, descent, destination, detached, detect, detected, device, dial, direction, disabled, disconnected, display, distance, down, dual, due, during, elevation, enable, enabled, ended, endpoint, enhanced, enough, ensure, enter, entered, entering, enviornment, environment, error, exceed, exceeded, exceeding, exceeds, exist, exit, exited, extended, extra, facing, failed, failure, far, farther, fast, feature, files, filled, find, firmware, first, flight, fly, flying, focus, for, forced, forward, frame, free, freely, from, full, fully, function, functionality, functioning, functions, gal, gear, get, gimbal, gimbals, go, ground, guard, has, have, health, height, help, high, home, hot, hover, hovering, idle, idling, if, image, immediately, in, inaccurate, incorrectly, increased, infinity, infrared, initialization, initiated, inserted, install, installation, installed, insufficient, interference, interrupted, interruption, is, issue, it, keep, land, landing, large, larger, laser, later, laws, least, left, lens, less, level, light, likely, limit, limitations, limited, line, link, linked, liters, load, loaded, local, location, lock, locked, log, logged, long, lost, low, lower, lowered, magnetic, magnets, maintain, maintenance, make, malfunction, manned, manually, map, markings, max, maximum, may, maybe, messages, metal, midpoints, min, minimum, missing, mission, mobile, mobility, mode, module, monitor, more, motor, motors, mounted, move, movement, moving, multi, national, near, nearby, necessary, needed, network, new, night, nnn, nnn(s, no, non, normal, normally, not, now, number, object, objects, obstacle, obstacles, obtain, obtained, of, off, off(code, on, only, open, option, or, otherwise, output, over, overheated, overheating, overloaded, pack, pan, panorama, parallel, part, pass, passenger, pay, payload, per, performance, permitted, persists, phone, photos, pitch, pitching, place, playback, please, point, policies, port, position, positioning, possible, potential, power, powered, powering, pre, press, prevent, problem, processor, progress, promptly, propeller, propellers, proper, properly, propulsion, protection, quality, range, rangefinder, rate, re, reached, read, recommended, recording, recovery, reduce, regulations, reinstall, remaining, remains, remote, removed, repairs, replace, required, requires, reset, resistance, restarting, restored, restricted, restrictions, retry, return, returning, reutrn, right, roll, rolling, rotate, rotating, route, safe, safely, safer, safety, same, satellite, screen, searching, seconds, selected, send, sensing, sensor, sensor(s, sensors, set, settings, sharply, sharplyforward, shifts, shock, shoot, shooting, shortened, shot, side, sight, signal, sky, so, soon, source, sources, space, speed, spot, spotlight, spray, sprayed, stable, stably, stalled, start, starting, starts, station, stationary, status, stick, sticks, still, stopped, stops, storage, stream, stuck, subject, successful, support, sure, surrounding, switch, switched, system, systems, take, takeoff, taking, tallest, tap, target, temperature, than, that, the, their, then, there, this, tilted, time, to, together, toggle, too, toward, track, transmission, trigger, try, turn, turned, tutorial, two, unable, unavailable, undervoltage, unless, unlocked, unlocking, unstable, up, update, updated, use, using, velocity, version, vibration, video, violate, violation, vision, visual, voltage, wait, walls, warm, warming, warning, warnings, warped, was, waypoint, weak, when, whether, which, will, wind, wireless, with, within, without, working, write, yaw, you, your, zone, zoom, °, "
     ]
    }
   ],
   "source": [
    "# unique = set(df[\"words\"].unique())\n",
    "# for val in sorted(unique):\n",
    "#     print(val, end = \", \")"
   ]
  },
  {
   "cell_type": "code",
   "execution_count": 17,
   "metadata": {},
   "outputs": [],
   "source": [
    "# with open(\"to_looked.txt\", mode = \"w\") as to_looked:\n",
    "#     for val in sorted(unique):\n",
    "#         to_looked.write(val + \"\\n\")"
   ]
  },
  {
   "cell_type": "code",
   "execution_count": 23,
   "metadata": {},
   "outputs": [
    {
     "data": {
      "text/plain": [
       "0        Data\n",
       "819      Data\n",
       "2069     Data\n",
       "2221     Data\n",
       "2606     Data\n",
       "         ... \n",
       "54138    Data\n",
       "55889    Data\n",
       "57408    Data\n",
       "58235    Data\n",
       "58887    Data\n",
       "Name: words, Length: 69, dtype: object"
      ]
     },
     "execution_count": 23,
     "metadata": {},
     "output_type": "execute_result"
    }
   ],
   "source": [
    "df[\"words\"][df[\"words\"] == \"Data\"]"
   ]
  },
  {
   "cell_type": "code",
   "execution_count": 155,
   "metadata": {},
   "outputs": [],
   "source": [
    "def filler(nonCapWord, capAnnot, nonCapAnnot):\n",
    "    capWord = nonCapWord.capitalize() \n",
    "    words_to_write = []\n",
    "    if df[\"words\"][df[\"words\"] == capWord].any():\n",
    "        df.loc[df[\"words\"] == capWord, \"labels\"] = str(capAnnot)\n",
    "    else: print(capWord + \" not found in the dataset\")\n",
    "    with open(\"to_looked.txt\", \"r\") as to_looked:\n",
    "        words_to_read = to_looked.readlines()\n",
    "        words = [word.strip() for word in words_to_read if word.strip() != capWord]\n",
    "        words_to_write.extend(words)\n",
    "    with open(\"to_looked.txt\", \"w\") as to_looked:\n",
    "        to_looked.writelines(word + \"\\n\" for word in words_to_write)\n",
    "\n",
    "    words_to_write = []\n",
    "    if df[\"words\"][df[\"words\"] == nonCapWord].any():\n",
    "        df.loc[df[\"words\"] == nonCapWord, \"labels\"] = str(nonCapAnnot)\n",
    "    else: print(nonCapWord + \" not found in the dataset\")\n",
    "    with open(\"to_looked.txt\", \"r\") as to_looked:\n",
    "        words_to_read = to_looked.readlines()\n",
    "        words = [word.strip() for word in words_to_read if word.strip() != nonCapWord]\n",
    "        words_to_write.extend(words)\n",
    "    with open(\"to_looked.txt\", \"w\") as to_looked:\n",
    "        to_looked.writelines(word + \"\\n\" for word in words_to_write)\n",
    "    \n",
    "    df.to_csv(\"combined_tokenized_research_dataset.csv\", index = False)\n",
    "    print(\"Next Word to annot: \" + words_to_write[0])"
   ]
  },
  {
   "cell_type": "code",
   "execution_count": 192,
   "metadata": {},
   "outputs": [
    {
     "name": "stdout",
     "output_type": "stream",
     "text": [
      "Dji not found in the dataset\n",
      "dji not found in the dataset\n",
      "Next Word to annot: MC\n",
      "dead not found in the dataset\n",
      "Next Word to annot: MC\n",
      "decrease not found in the dataset\n",
      "Next Word to annot: MC\n",
      "Next Word to annot: MC\n",
      "Next Word to annot: MC\n",
      "detach not found in the dataset\n",
      "Next Word to annot: MC\n",
      "Next Word to annot: MC\n",
      "detecting not found in the dataset\n",
      "Next Word to annot: MC\n",
      "Next Word to annot: MC\n",
      "difference not found in the dataset\n",
      "Next Word to annot: MC\n",
      "disable not found in the dataset\n",
      "Next Word to annot: MC\n",
      "Next Word to annot: MC\n",
      "discharge not found in the dataset\n",
      "Next Word to annot: MC\n",
      "Next Word to annot: MC\n",
      "downlink not found in the dataset\n",
      "Next Word to annot: MC\n",
      "downward not found in the dataset\n",
      "Next Word to annot: MC\n",
      "drag not found in the dataset\n",
      "Next Word to annot: MC\n",
      "drone not found in the dataset\n",
      "Next Word to annot: MC\n",
      "Next Word to annot: MC\n",
      "Emmc not found in the dataset\n",
      "emmc not found in the dataset\n",
      "Next Word to annot: MC\n",
      "Esc not found in the dataset\n",
      "esc not found in the dataset\n",
      "Next Word to annot: MC\n",
      "Next Word to annot: MC\n",
      "end not found in the dataset\n",
      "Next Word to annot: MC\n",
      "Next Word to annot: MC\n",
      "english not found in the dataset\n",
      "Next Word to annot: MC\n",
      "Next Word to annot: MC\n",
      "Next Word to annot: MC\n",
      "Next Word to annot: MC\n",
      "Next Word to annot: MC\n",
      "Next Word to annot: MC\n",
      "Next Word to annot: MC\n",
      "excessive not found in the dataset\n",
      "Next Word to annot: MC\n",
      "executing not found in the dataset\n",
      "Next Word to annot: MC\n",
      "Next Word to annot: MC\n",
      "Next Word to annot: MC\n",
      "exiting not found in the dataset\n",
      "Next Word to annot: MC\n",
      "exposure not found in the dataset\n",
      "Next Word to annot: MC\n",
      "Next Word to annot: MC\n",
      "Next Word to annot: MC\n",
      "Next Word to annot: MC\n",
      "Next Word to annot: MC\n",
      "fell not found in the dataset\n",
      "Next Word to annot: MC\n",
      "file not found in the dataset\n",
      "Next Word to annot: MC\n",
      "filed not found in the dataset\n",
      "Next Word to annot: MC\n",
      "fixed not found in the dataset\n",
      "Next Word to annot: MC\n",
      "Next Word to annot: MC\n",
      "Next Word to annot: MC\n",
      "Next Word to annot: MC\n",
      "follow not found in the dataset\n",
      "Next Word to annot: MC\n",
      "force not found in the dataset\n",
      "Next Word to annot: MC\n",
      "Next Word to annot: MC\n",
      "Next Word to annot: MC\n",
      "forwardobstacle not found in the dataset\n",
      "Next Word to annot: MC\n",
      "Next Word to annot: MC\n",
      "geo not found in the dataset\n",
      "Next Word to annot: MC\n",
      "Gps not found in the dataset\n",
      "gps not found in the dataset\n",
      "Next Word to annot: MC\n",
      "Next Word to annot: MC\n",
      "geo not found in the dataset\n",
      "Next Word to annot: MC\n",
      "Next Word to annot: MC\n",
      "Next Word to annot: MC\n",
      "Next Word to annot: MC\n",
      "Next Word to annot: MC\n",
      "gyroscope not found in the dataset\n",
      "Next Word to annot: MC\n",
      "hardware not found in the dataset\n",
      "Next Word to annot: MC\n",
      "Next Word to annot: MC\n",
      "Next Word to annot: MC\n",
      "homepoint not found in the dataset\n",
      "Next Word to annot: MC\n",
      "Next Word to annot: MC\n",
      "hyperlapse not found in the dataset\n",
      "Next Word to annot: MC\n",
      "Id not found in the dataset\n",
      "id not found in the dataset\n",
      "Next Word to annot: MC\n",
      "Imu not found in the dataset\n",
      "imu not found in the dataset\n",
      "Next Word to annot: MC\n",
      "identify not found in the dataset\n",
      "Next Word to annot: MC\n",
      "Next Word to annot: MC\n",
      "Next Word to annot: MC\n",
      "impact not found in the dataset\n",
      "Next Word to annot: MC\n"
     ]
    },
    {
     "data": {
      "text/plain": [
       "[]"
      ]
     },
     "execution_count": 192,
     "metadata": {},
     "output_type": "execute_result"
    }
   ],
   "source": [
    "annotations = [\n",
    "    ('dji', 'B-ORG', 'B-NOUN'),\n",
    "    ('dead', 'B-ADJ', 'B-NOUN'),\n",
    "    ('decrease', 'B-ACTION', 'B-NOUN'),\n",
    "    ('descend', 'B-ACTION', 'B-VERB'),\n",
    "    ('descending', 'B-ACTION', 'B-VERB'),\n",
    "    ('detach', 'B-ACTION', 'B-NOUN'),\n",
    "    ('detected', 'B-ACTION', 'B-VERB'),\n",
    "    ('detecting', 'B-ACTION', 'B-VERB'),\n",
    "    ('dial', 'B-ACTION', 'B-NOUN'),\n",
    "    ('difference', 'B-NOUN', 'B-NOUN'),\n",
    "    ('disable', 'B-ACTION', 'B-NOUN'),\n",
    "    ('disabled', 'B-ACTION', 'B-ADJ'),\n",
    "    ('discharge', 'B-ACTION', 'B-NOUN'),\n",
    "    ('distance', 'B-NOUN', 'B-NOUN'),\n",
    "    ('downlink', 'B-NOUN', 'B-NOUN'),\n",
    "    ('downward', 'B-ADJ', 'B-NOUN'),\n",
    "    ('drag', 'B-ACTION', 'B-NOUN'),\n",
    "    ('drone', 'B-NOUN', 'B-NOUN'),\n",
    "    ('during', 'B-ADP', 'B-NOUN'),\n",
    "    ('emmc', 'B-ORG', 'B-NOUN'),\n",
    "    ('esc', 'B-ORG', 'B-NOUN'),\n",
    "    ('enable', 'B-ACTION', 'B-NOUN'),\n",
    "    ('end', 'B-ACTION', 'B-NOUN'),\n",
    "    ('ended', 'B-ACTION', 'B-ADJ'),\n",
    "    ('english', 'B-LANG', 'B-NOUN'),\n",
    "    ('enough', 'B-ADJ', 'B-NOUN'),\n",
    "    ('ensure', 'B-ACTION', 'B-NOUN'),\n",
    "    ('enter', 'B-ACTION', 'B-NOUN'),\n",
    "    ('entered', 'B-ACTION', 'B-VERB'),\n",
    "    ('entering', 'B-ACTION', 'B-VERB'),\n",
    "    ('error', 'B-NOUN', 'B-NOUN'),\n",
    "    ('excessive', 'B-ADJ', 'B-NOUN'),\n",
    "    ('executing', 'B-ACTION', 'B-VERB'),\n",
    "    ('exit', 'B-ACTION', 'B-NOUN'),\n",
    "    ('exited', 'B-ACTION', 'B-VERB'),\n",
    "    ('exiting', 'B-ACTION', 'B-VERB'),\n",
    "    ('exposure', 'B-NOUN', 'B-NOUN'),\n",
    "    ('extended', 'B-ADJ', 'B-NOUN'),\n",
    "    ('extra', 'B-ADJ', 'B-NOUN'),\n",
    "    ('failed', 'B-ACTION', 'B-ADJ'),\n",
    "    ('far', 'B-ADJ', 'B-NOUN'),\n",
    "    ('fell', 'B-ACTION', 'B-VERB'),\n",
    "    ('file', 'B-NOUN', 'B-NOUN'),\n",
    "    ('filed', 'B-ACTION', 'B-VERB'),\n",
    "    ('fixed', 'B-ADJ', 'B-NOUN'),\n",
    "    ('flight', 'B-NOUN', 'B-NOUN'),\n",
    "    ('fly', 'B-ACTION', 'B-NOUN'),\n",
    "    ('flying', 'B-ACTION', 'B-VERB'),\n",
    "    ('follow', 'B-ACTION', 'B-NOUN'),\n",
    "    ('force', 'B-ACTION', 'B-NOUN'),\n",
    "    ('forced', 'B-ACTION', 'B-ADJ'),\n",
    "    ('forward', 'B-ADJ', 'B-NOUN'),\n",
    "    ('forwardobstacle', 'B-NOUN', 'B-NOUN'),\n",
    "    ('full', 'B-ADJ', 'B-NOUN'),\n",
    "    ('geo', 'B-ORG', 'B-NOUN'),\n",
    "    ('gps', 'B-ORG', 'B-NOUN'),\n",
    "    ('gear', 'B-NOUN', 'B-NOUN'),\n",
    "    ('geo', 'B-ORG', 'B-NOUN'),\n",
    "    ('get', 'B-ACTION', 'B-NOUN'),\n",
    "    ('gimbal', 'B-NOUN', 'B-NOUN'),\n",
    "    ('go', 'B-ACTION', 'B-NOUN'),\n",
    "    ('guard', 'B-ACTION', 'B-NOUN'),\n",
    "    ('gyroscope', 'B-NOUN', 'B-NOUN'),\n",
    "    ('hardware', 'B-NOUN', 'B-NOUN'),\n",
    "    ('high', 'B-ADJ', 'B-NOUN'),\n",
    "    ('home', 'B-NOUN', 'B-NOUN'),\n",
    "    ('homepoint', 'B-NOUN', 'B-NOUN'),\n",
    "    ('hovering', 'B-ACTION', 'B-NOUN'),\n",
    "    ('hyperlapse', 'B-NOUN', 'B-NOUN'),\n",
    "    ('id', 'B-NOUN', 'B-NOUN'),\n",
    "    ('imu', 'B-ORG', 'B-NOUN'),\n",
    "    ('identify', 'B-ACTION', 'B-NOUN'),\n",
    "    ('if', 'B-ADP', 'B-NOUN'),\n",
    "    ('image', 'B-NOUN', 'B-NOUN'),\n",
    "    ('impact', 'B-NOUN', 'B-NOUN')\n",
    "]\n",
    "\n",
    "words = []\n",
    "\n",
    "for d in annotations:\n",
    "    filler(d[0], d[1], d[2])\n",
    "\n",
    "words\n"
   ]
  },
  {
   "cell_type": "code",
   "execution_count": null,
   "metadata": {},
   "outputs": [
    {
     "data": {
      "text/plain": [
       "Series([], Name: labels, dtype: object)"
      ]
     },
     "execution_count": 171,
     "metadata": {},
     "output_type": "execute_result"
    }
   ],
   "source": [
    "df.loc[df[\"words\"] == \" \", \"labels\"] = \"\"\n",
    "df.to_csv(\"combined_tokenized_research_dataset.csv\", index = False)\n",
    "df.loc[df[\"words\"] == \" \", \"labels\"]"
   ]
  },
  {
   "cell_type": "code",
   "execution_count": 41,
   "metadata": {},
   "outputs": [
    {
     "data": {
      "text/plain": [
       "34701    O PUNCT\n",
       "36999    O PUNCT\n",
       "Name: labels, dtype: object"
      ]
     },
     "execution_count": 41,
     "metadata": {},
     "output_type": "execute_result"
    }
   ],
   "source": [
    "df.loc[df[\"words\"] == \">\", \"labels\"]"
   ]
  }
 ],
 "metadata": {
  "kernelspec": {
   "display_name": "nitin",
   "language": "python",
   "name": "python3"
  },
  "language_info": {
   "codemirror_mode": {
    "name": "ipython",
    "version": 3
   },
   "file_extension": ".py",
   "mimetype": "text/x-python",
   "name": "python",
   "nbconvert_exporter": "python",
   "pygments_lexer": "ipython3",
   "version": "3.12.7"
  }
 },
 "nbformat": 4,
 "nbformat_minor": 2
}
