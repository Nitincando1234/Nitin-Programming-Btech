{
 "cells": [
  {
   "cell_type": "code",
   "execution_count": 1,
   "metadata": {
    "colab": {
     "base_uri": "https://localhost:8080/"
    },
    "execution": {
     "iopub.execute_input": "2024-12-13T11:18:31.568444Z",
     "iopub.status.busy": "2024-12-13T11:18:31.566412Z",
     "iopub.status.idle": "2024-12-13T11:18:37.254568Z",
     "shell.execute_reply": "2024-12-13T11:18:37.251546Z",
     "shell.execute_reply.started": "2024-12-13T11:18:31.568444Z"
    },
    "id": "gwDCyQkN8C8I",
    "outputId": "d1711ce4-8731-42cf-9796-d7bb0f1b1b56"
   },
   "outputs": [
    {
     "name": "stdout",
     "output_type": "stream",
     "text": [
      "selected dataset: ML-EdgeIIoT-dataset.csv\n"
     ]
    }
   ],
   "source": [
    "print(\"selected dataset: ML-EdgeIIoT-dataset.csv\")\n",
    "import pandas as pd\n",
    "import numpy as np\n",
    "import matplotlib.pyplot as plt\n",
    "import seaborn as sns"
   ]
  },
  {
   "cell_type": "code",
   "execution_count": 2,
   "metadata": {
    "colab": {
     "base_uri": "https://localhost:8080/"
    },
    "execution": {
     "iopub.execute_input": "2024-12-12T14:39:41.096780Z",
     "iopub.status.busy": "2024-12-12T14:39:41.095779Z",
     "iopub.status.idle": "2024-12-12T14:39:42.104881Z",
     "shell.execute_reply": "2024-12-12T14:39:42.103866Z",
     "shell.execute_reply.started": "2024-12-12T14:39:41.096780Z"
    },
    "id": "orKZxKgC2L1b",
    "outputId": "3e40ba19-3301-4545-963d-492b84e73f78"
   },
   "outputs": [
    {
     "ename": "ModuleNotFoundError",
     "evalue": "No module named 'google.colab'",
     "output_type": "error",
     "traceback": [
      "\u001b[1;31m---------------------------------------------------------------------------\u001b[0m",
      "\u001b[1;31mModuleNotFoundError\u001b[0m                       Traceback (most recent call last)",
      "Cell \u001b[1;32mIn[2], line 1\u001b[0m\n\u001b[1;32m----> 1\u001b[0m \u001b[38;5;28;01mfrom\u001b[39;00m \u001b[38;5;21;01mgoogle\u001b[39;00m\u001b[38;5;21;01m.\u001b[39;00m\u001b[38;5;21;01mcolab\u001b[39;00m \u001b[38;5;28;01mimport\u001b[39;00m drive\n\u001b[0;32m      2\u001b[0m drive\u001b[38;5;241m.\u001b[39mmount(\u001b[38;5;124m'\u001b[39m\u001b[38;5;124m/content/drive\u001b[39m\u001b[38;5;124m'\u001b[39m)\n",
      "\u001b[1;31mModuleNotFoundError\u001b[0m: No module named 'google.colab'"
     ]
    }
   ],
   "source": [
    "# from google.colab import drive\n",
    "# drive.mount('/content/drive')"
   ]
  },
  {
   "cell_type": "code",
   "execution_count": 30,
   "metadata": {
    "colab": {
     "base_uri": "https://localhost:8080/",
     "height": 255
    },
    "execution": {
     "iopub.execute_input": "2024-12-13T11:23:18.793014Z",
     "iopub.status.busy": "2024-12-13T11:23:18.792022Z",
     "iopub.status.idle": "2024-12-13T11:23:21.331526Z",
     "shell.execute_reply": "2024-12-13T11:23:21.331526Z",
     "shell.execute_reply.started": "2024-12-13T11:23:18.793014Z"
    },
    "id": "YIOloZFF8M8w",
    "outputId": "8ecd0eaf-2b84-4274-95c5-37465dead032"
   },
   "outputs": [
    {
     "data": {
      "text/html": [
       "<div>\n",
       "<style scoped>\n",
       "    .dataframe tbody tr th:only-of-type {\n",
       "        vertical-align: middle;\n",
       "    }\n",
       "\n",
       "    .dataframe tbody tr th {\n",
       "        vertical-align: top;\n",
       "    }\n",
       "\n",
       "    .dataframe thead th {\n",
       "        text-align: right;\n",
       "    }\n",
       "</style>\n",
       "<table border=\"1\" class=\"dataframe\">\n",
       "  <thead>\n",
       "    <tr style=\"text-align: right;\">\n",
       "      <th></th>\n",
       "      <th>frame.time</th>\n",
       "      <th>ip.src_host</th>\n",
       "      <th>ip.dst_host</th>\n",
       "      <th>arp.dst.proto_ipv4</th>\n",
       "      <th>arp.opcode</th>\n",
       "      <th>arp.hw.size</th>\n",
       "      <th>arp.src.proto_ipv4</th>\n",
       "      <th>icmp.checksum</th>\n",
       "      <th>icmp.seq_le</th>\n",
       "      <th>icmp.transmit_timestamp</th>\n",
       "      <th>...</th>\n",
       "      <th>mqtt.proto_len</th>\n",
       "      <th>mqtt.protoname</th>\n",
       "      <th>mqtt.topic</th>\n",
       "      <th>mqtt.topic_len</th>\n",
       "      <th>mqtt.ver</th>\n",
       "      <th>mbtcp.len</th>\n",
       "      <th>mbtcp.trans_id</th>\n",
       "      <th>mbtcp.unit_id</th>\n",
       "      <th>Attack_label</th>\n",
       "      <th>Attack_type</th>\n",
       "    </tr>\n",
       "  </thead>\n",
       "  <tbody>\n",
       "    <tr>\n",
       "      <th>0</th>\n",
       "      <td>6.0</td>\n",
       "      <td>192.168.0.152</td>\n",
       "      <td>0.0</td>\n",
       "      <td>0.0</td>\n",
       "      <td>0.0</td>\n",
       "      <td>0.0</td>\n",
       "      <td>0.0</td>\n",
       "      <td>0.0</td>\n",
       "      <td>0.0</td>\n",
       "      <td>0.0</td>\n",
       "      <td>...</td>\n",
       "      <td>0.0</td>\n",
       "      <td>0.0</td>\n",
       "      <td>0.0</td>\n",
       "      <td>0.0</td>\n",
       "      <td>0.0</td>\n",
       "      <td>0.0</td>\n",
       "      <td>0.0</td>\n",
       "      <td>0.0</td>\n",
       "      <td>1</td>\n",
       "      <td>MITM</td>\n",
       "    </tr>\n",
       "    <tr>\n",
       "      <th>1</th>\n",
       "      <td>6.0</td>\n",
       "      <td>192.168.0.101</td>\n",
       "      <td>0.0</td>\n",
       "      <td>0.0</td>\n",
       "      <td>0.0</td>\n",
       "      <td>0.0</td>\n",
       "      <td>0.0</td>\n",
       "      <td>0.0</td>\n",
       "      <td>0.0</td>\n",
       "      <td>0.0</td>\n",
       "      <td>...</td>\n",
       "      <td>0.0</td>\n",
       "      <td>0.0</td>\n",
       "      <td>0.0</td>\n",
       "      <td>0.0</td>\n",
       "      <td>0.0</td>\n",
       "      <td>0.0</td>\n",
       "      <td>0.0</td>\n",
       "      <td>0.0</td>\n",
       "      <td>1</td>\n",
       "      <td>MITM</td>\n",
       "    </tr>\n",
       "    <tr>\n",
       "      <th>2</th>\n",
       "      <td>6.0</td>\n",
       "      <td>192.168.0.152</td>\n",
       "      <td>0.0</td>\n",
       "      <td>0.0</td>\n",
       "      <td>0.0</td>\n",
       "      <td>0.0</td>\n",
       "      <td>0.0</td>\n",
       "      <td>0.0</td>\n",
       "      <td>0.0</td>\n",
       "      <td>0.0</td>\n",
       "      <td>...</td>\n",
       "      <td>0.0</td>\n",
       "      <td>0.0</td>\n",
       "      <td>0.0</td>\n",
       "      <td>0.0</td>\n",
       "      <td>0.0</td>\n",
       "      <td>0.0</td>\n",
       "      <td>0.0</td>\n",
       "      <td>0.0</td>\n",
       "      <td>1</td>\n",
       "      <td>MITM</td>\n",
       "    </tr>\n",
       "    <tr>\n",
       "      <th>3</th>\n",
       "      <td>6.0</td>\n",
       "      <td>192.168.0.101</td>\n",
       "      <td>0.0</td>\n",
       "      <td>0.0</td>\n",
       "      <td>0.0</td>\n",
       "      <td>0.0</td>\n",
       "      <td>0.0</td>\n",
       "      <td>0.0</td>\n",
       "      <td>0.0</td>\n",
       "      <td>0.0</td>\n",
       "      <td>...</td>\n",
       "      <td>0.0</td>\n",
       "      <td>0.0</td>\n",
       "      <td>0.0</td>\n",
       "      <td>0.0</td>\n",
       "      <td>0.0</td>\n",
       "      <td>0.0</td>\n",
       "      <td>0.0</td>\n",
       "      <td>0.0</td>\n",
       "      <td>1</td>\n",
       "      <td>MITM</td>\n",
       "    </tr>\n",
       "    <tr>\n",
       "      <th>4</th>\n",
       "      <td>6.0</td>\n",
       "      <td>192.168.0.152</td>\n",
       "      <td>0.0</td>\n",
       "      <td>0.0</td>\n",
       "      <td>0.0</td>\n",
       "      <td>0.0</td>\n",
       "      <td>0.0</td>\n",
       "      <td>0.0</td>\n",
       "      <td>0.0</td>\n",
       "      <td>0.0</td>\n",
       "      <td>...</td>\n",
       "      <td>0.0</td>\n",
       "      <td>0.0</td>\n",
       "      <td>0.0</td>\n",
       "      <td>0.0</td>\n",
       "      <td>0.0</td>\n",
       "      <td>0.0</td>\n",
       "      <td>0.0</td>\n",
       "      <td>0.0</td>\n",
       "      <td>1</td>\n",
       "      <td>MITM</td>\n",
       "    </tr>\n",
       "  </tbody>\n",
       "</table>\n",
       "<p>5 rows × 63 columns</p>\n",
       "</div>"
      ],
      "text/plain": [
       "  frame.time    ip.src_host ip.dst_host arp.dst.proto_ipv4  arp.opcode  \\\n",
       "0        6.0  192.168.0.152         0.0                0.0         0.0   \n",
       "1        6.0  192.168.0.101         0.0                0.0         0.0   \n",
       "2        6.0  192.168.0.152         0.0                0.0         0.0   \n",
       "3        6.0  192.168.0.101         0.0                0.0         0.0   \n",
       "4        6.0  192.168.0.152         0.0                0.0         0.0   \n",
       "\n",
       "   arp.hw.size arp.src.proto_ipv4  icmp.checksum  icmp.seq_le  \\\n",
       "0          0.0                0.0            0.0          0.0   \n",
       "1          0.0                0.0            0.0          0.0   \n",
       "2          0.0                0.0            0.0          0.0   \n",
       "3          0.0                0.0            0.0          0.0   \n",
       "4          0.0                0.0            0.0          0.0   \n",
       "\n",
       "   icmp.transmit_timestamp  ...  mqtt.proto_len mqtt.protoname  mqtt.topic  \\\n",
       "0                      0.0  ...             0.0            0.0         0.0   \n",
       "1                      0.0  ...             0.0            0.0         0.0   \n",
       "2                      0.0  ...             0.0            0.0         0.0   \n",
       "3                      0.0  ...             0.0            0.0         0.0   \n",
       "4                      0.0  ...             0.0            0.0         0.0   \n",
       "\n",
       "  mqtt.topic_len mqtt.ver mbtcp.len mbtcp.trans_id mbtcp.unit_id  \\\n",
       "0            0.0      0.0       0.0            0.0           0.0   \n",
       "1            0.0      0.0       0.0            0.0           0.0   \n",
       "2            0.0      0.0       0.0            0.0           0.0   \n",
       "3            0.0      0.0       0.0            0.0           0.0   \n",
       "4            0.0      0.0       0.0            0.0           0.0   \n",
       "\n",
       "   Attack_label  Attack_type  \n",
       "0             1         MITM  \n",
       "1             1         MITM  \n",
       "2             1         MITM  \n",
       "3             1         MITM  \n",
       "4             1         MITM  \n",
       "\n",
       "[5 rows x 63 columns]"
      ]
     },
     "execution_count": 30,
     "metadata": {},
     "output_type": "execute_result"
    }
   ],
   "source": [
    "df = pd.read_csv(\"ML-EdgeIIoT-dataset.csv\", low_memory = False)\n",
    "visual_df = df.copy()\n",
    "df.head()\n",
    "df_labels = df[[\"Attack_label\"]]\n",
    "df_types = df[[\"Attack_type\"]]\n",
    "df.head()"
   ]
  },
  {
   "cell_type": "code",
   "execution_count": null,
   "metadata": {
    "colab": {
     "base_uri": "https://localhost:8080/"
    },
    "execution": {
     "iopub.status.busy": "2024-12-13T11:04:40.643618Z",
     "iopub.status.idle": "2024-12-13T11:04:40.644631Z",
     "shell.execute_reply": "2024-12-13T11:04:40.644631Z",
     "shell.execute_reply.started": "2024-12-13T11:04:40.644631Z"
    },
    "id": "Ldtgy9n2Cxju",
    "outputId": "c268bd0f-ba5e-45a0-8b0b-e9ed3a1ec30c"
   },
   "outputs": [],
   "source": [
    "df.columns"
   ]
  },
  {
   "cell_type": "code",
   "execution_count": 4,
   "metadata": {
    "colab": {
     "base_uri": "https://localhost:8080/"
    },
    "execution": {
     "iopub.execute_input": "2024-12-13T11:18:43.360992Z",
     "iopub.status.busy": "2024-12-13T11:18:43.360992Z",
     "iopub.status.idle": "2024-12-13T11:18:43.404715Z",
     "shell.execute_reply": "2024-12-13T11:18:43.403688Z",
     "shell.execute_reply.started": "2024-12-13T11:18:43.360992Z"
    },
    "id": "xtwwQe2sIvBA",
    "outputId": "348a6d59-5b62-411d-f2ae-bbdc156f9cf9"
   },
   "outputs": [
    {
     "ename": "KeyError",
     "evalue": "\"['http.file_data', 'http.content_length', 'http.request.uri.query', 'http.request.method', 'http.referer', 'http.request.full_uri', 'http.request.version', 'http.response', 'http.tls_port', 'dns.qry.name', 'dns.qry.name.len', 'dns.qry.qu', 'dns.qry.type', 'dns.retransmission', 'dns.retransmit_request', 'dns.retransmit_request_in', 'mqtt.conack.flags', 'mqtt.conflag.cleansess', 'mqtt.conflags', 'mqtt.hdrflags', 'mqtt.len', 'mqtt.msg_decoded_as', 'mqtt.msg', 'mqtt.msgtype', 'mqtt.proto_len', 'mqtt.protoname', 'mqtt.topic', 'mqtt.topic_len', 'mqtt.ver', 'tcp.connection.fin', 'tcp.connection.rst', 'tcp.connection.syn', 'tcp.connection.synack', 'tcp.dstport', 'tcp.flags', 'tcp.flags.ack', 'tcp.len', 'tcp.options', 'tcp.payload', 'tcp.seq', 'tcp.srcport'] not found in axis\"",
     "output_type": "error",
     "traceback": [
      "\u001b[1;31m---------------------------------------------------------------------------\u001b[0m",
      "\u001b[1;31mKeyError\u001b[0m                                  Traceback (most recent call last)",
      "Cell \u001b[1;32mIn[4], line 2\u001b[0m\n\u001b[0;32m      1\u001b[0m \u001b[38;5;66;03m# Dropping the unnecessary attributes\u001b[39;00m\n\u001b[1;32m----> 2\u001b[0m \u001b[43mdf\u001b[49m\u001b[38;5;241;43m.\u001b[39;49m\u001b[43mdrop\u001b[49m\u001b[43m(\u001b[49m\u001b[43m[\u001b[49m\u001b[38;5;124;43m\"\u001b[39;49m\u001b[38;5;124;43mhttp.file_data\u001b[39;49m\u001b[38;5;124;43m\"\u001b[39;49m\u001b[43m,\u001b[49m\u001b[43m \u001b[49m\u001b[38;5;124;43m\"\u001b[39;49m\u001b[38;5;124;43mhttp.content_length\u001b[39;49m\u001b[38;5;124;43m\"\u001b[39;49m\u001b[43m,\u001b[49m\u001b[43m \u001b[49m\u001b[38;5;124;43m\"\u001b[39;49m\u001b[38;5;124;43mhttp.request.uri.query\u001b[39;49m\u001b[38;5;124;43m\"\u001b[39;49m\u001b[43m,\u001b[49m\n\u001b[0;32m      3\u001b[0m \u001b[38;5;124;43m\"\u001b[39;49m\u001b[38;5;124;43mhttp.request.method\u001b[39;49m\u001b[38;5;124;43m\"\u001b[39;49m\u001b[43m,\u001b[49m\u001b[43m \u001b[49m\u001b[38;5;124;43m\"\u001b[39;49m\u001b[38;5;124;43mhttp.referer\u001b[39;49m\u001b[38;5;124;43m\"\u001b[39;49m\u001b[43m,\u001b[49m\u001b[43m \u001b[49m\u001b[38;5;124;43m\"\u001b[39;49m\u001b[38;5;124;43mhttp.request.full_uri\u001b[39;49m\u001b[38;5;124;43m\"\u001b[39;49m\u001b[43m,\u001b[49m\n\u001b[0;32m      4\u001b[0m \u001b[38;5;124;43m\"\u001b[39;49m\u001b[38;5;124;43mhttp.request.version\u001b[39;49m\u001b[38;5;124;43m\"\u001b[39;49m\u001b[43m,\u001b[49m\u001b[43m \u001b[49m\u001b[38;5;124;43m\"\u001b[39;49m\u001b[38;5;124;43mhttp.response\u001b[39;49m\u001b[38;5;124;43m\"\u001b[39;49m\u001b[43m,\u001b[49m\u001b[43m \u001b[49m\u001b[38;5;124;43m\"\u001b[39;49m\u001b[38;5;124;43mhttp.tls_port\u001b[39;49m\u001b[38;5;124;43m\"\u001b[39;49m\u001b[43m,\u001b[49m\u001b[43m \u001b[49m\u001b[38;5;124;43m\"\u001b[39;49m\u001b[38;5;124;43mdns.qry.name\u001b[39;49m\u001b[38;5;124;43m\"\u001b[39;49m\u001b[43m,\u001b[49m\u001b[43m \u001b[49m\u001b[38;5;124;43m\"\u001b[39;49m\u001b[38;5;124;43mdns.qry.name.len\u001b[39;49m\u001b[38;5;124;43m\"\u001b[39;49m\u001b[43m,\u001b[49m\u001b[43m \u001b[49m\u001b[38;5;124;43m\"\u001b[39;49m\u001b[38;5;124;43mdns.qry.qu\u001b[39;49m\u001b[38;5;124;43m\"\u001b[39;49m\u001b[43m,\u001b[49m\n\u001b[0;32m      5\u001b[0m \u001b[38;5;124;43m\"\u001b[39;49m\u001b[38;5;124;43mdns.qry.type\u001b[39;49m\u001b[38;5;124;43m\"\u001b[39;49m\u001b[43m,\u001b[49m\u001b[43m \u001b[49m\u001b[38;5;124;43m\"\u001b[39;49m\u001b[38;5;124;43mdns.retransmission\u001b[39;49m\u001b[38;5;124;43m\"\u001b[39;49m\u001b[43m,\u001b[49m\u001b[43m \u001b[49m\u001b[38;5;124;43m\"\u001b[39;49m\u001b[38;5;124;43mdns.retransmit_request\u001b[39;49m\u001b[38;5;124;43m\"\u001b[39;49m\u001b[43m,\u001b[49m\n\u001b[0;32m      6\u001b[0m \u001b[38;5;124;43m\"\u001b[39;49m\u001b[38;5;124;43mdns.retransmit_request_in\u001b[39;49m\u001b[38;5;124;43m\"\u001b[39;49m\u001b[43m,\u001b[49m\u001b[43m \u001b[49m\u001b[38;5;124;43m\"\u001b[39;49m\u001b[38;5;124;43mmqtt.conack.flags\u001b[39;49m\u001b[38;5;124;43m\"\u001b[39;49m\u001b[43m,\u001b[49m\n\u001b[0;32m      7\u001b[0m \u001b[38;5;124;43m\"\u001b[39;49m\u001b[38;5;124;43mmqtt.conflag.cleansess\u001b[39;49m\u001b[38;5;124;43m\"\u001b[39;49m\u001b[43m,\u001b[49m\u001b[43m \u001b[49m\u001b[38;5;124;43m\"\u001b[39;49m\u001b[38;5;124;43mmqtt.conflags\u001b[39;49m\u001b[38;5;124;43m\"\u001b[39;49m\u001b[43m,\u001b[49m\u001b[43m \u001b[49m\u001b[38;5;124;43m\"\u001b[39;49m\u001b[38;5;124;43mmqtt.hdrflags\u001b[39;49m\u001b[38;5;124;43m\"\u001b[39;49m\u001b[43m,\u001b[49m\u001b[43m \u001b[49m\u001b[38;5;124;43m\"\u001b[39;49m\u001b[38;5;124;43mmqtt.len\u001b[39;49m\u001b[38;5;124;43m\"\u001b[39;49m\u001b[43m,\u001b[49m\n\u001b[0;32m      8\u001b[0m \u001b[38;5;124;43m\"\u001b[39;49m\u001b[38;5;124;43mmqtt.msg_decoded_as\u001b[39;49m\u001b[38;5;124;43m\"\u001b[39;49m\u001b[43m,\u001b[49m\u001b[43m \u001b[49m\u001b[38;5;124;43m\"\u001b[39;49m\u001b[38;5;124;43mmqtt.msg\u001b[39;49m\u001b[38;5;124;43m\"\u001b[39;49m\u001b[43m,\u001b[49m\u001b[43m \u001b[49m\u001b[38;5;124;43m\"\u001b[39;49m\u001b[38;5;124;43mmqtt.msgtype\u001b[39;49m\u001b[38;5;124;43m\"\u001b[39;49m\u001b[43m,\u001b[49m\u001b[43m \u001b[49m\u001b[38;5;124;43m\"\u001b[39;49m\u001b[38;5;124;43mmqtt.proto_len\u001b[39;49m\u001b[38;5;124;43m\"\u001b[39;49m\u001b[43m,\u001b[49m\n\u001b[0;32m      9\u001b[0m \u001b[38;5;124;43m\"\u001b[39;49m\u001b[38;5;124;43mmqtt.protoname\u001b[39;49m\u001b[38;5;124;43m\"\u001b[39;49m\u001b[43m,\u001b[49m\u001b[43m \u001b[49m\u001b[38;5;124;43m\"\u001b[39;49m\u001b[38;5;124;43mmqtt.topic\u001b[39;49m\u001b[38;5;124;43m\"\u001b[39;49m\u001b[43m,\u001b[49m\u001b[43m \u001b[49m\u001b[38;5;124;43m\"\u001b[39;49m\u001b[38;5;124;43mmqtt.topic_len\u001b[39;49m\u001b[38;5;124;43m\"\u001b[39;49m\u001b[43m,\u001b[49m\u001b[43m \u001b[49m\u001b[38;5;124;43m\"\u001b[39;49m\u001b[38;5;124;43mmqtt.ver\u001b[39;49m\u001b[38;5;124;43m\"\u001b[39;49m\u001b[43m,\u001b[49m\u001b[38;5;124;43m\"\u001b[39;49m\u001b[38;5;124;43mtcp.connection.fin\u001b[39;49m\u001b[38;5;124;43m\"\u001b[39;49m\u001b[43m,\u001b[49m\n\u001b[0;32m     10\u001b[0m \u001b[38;5;124;43m\"\u001b[39;49m\u001b[38;5;124;43mtcp.connection.rst\u001b[39;49m\u001b[38;5;124;43m\"\u001b[39;49m\u001b[43m,\u001b[49m\u001b[43m \u001b[49m\u001b[38;5;124;43m\"\u001b[39;49m\u001b[38;5;124;43mtcp.connection.syn\u001b[39;49m\u001b[38;5;124;43m\"\u001b[39;49m\u001b[43m,\u001b[49m\u001b[43m \u001b[49m\u001b[38;5;124;43m\"\u001b[39;49m\u001b[38;5;124;43mtcp.connection.synack\u001b[39;49m\u001b[38;5;124;43m\"\u001b[39;49m\u001b[43m,\u001b[49m\n\u001b[0;32m     11\u001b[0m \u001b[38;5;124;43m\"\u001b[39;49m\u001b[38;5;124;43mtcp.dstport\u001b[39;49m\u001b[38;5;124;43m\"\u001b[39;49m\u001b[43m,\u001b[49m\u001b[43m \u001b[49m\u001b[38;5;124;43m\"\u001b[39;49m\u001b[38;5;124;43mtcp.flags\u001b[39;49m\u001b[38;5;124;43m\"\u001b[39;49m\u001b[43m,\u001b[49m\u001b[43m \u001b[49m\u001b[38;5;124;43m\"\u001b[39;49m\u001b[38;5;124;43mtcp.flags.ack\u001b[39;49m\u001b[38;5;124;43m\"\u001b[39;49m\u001b[43m,\u001b[49m\u001b[43m \u001b[49m\u001b[38;5;124;43m\"\u001b[39;49m\u001b[38;5;124;43mtcp.len\u001b[39;49m\u001b[38;5;124;43m\"\u001b[39;49m\u001b[43m,\u001b[49m\u001b[43m \u001b[49m\u001b[38;5;124;43m\"\u001b[39;49m\u001b[38;5;124;43mtcp.options\u001b[39;49m\u001b[38;5;124;43m\"\u001b[39;49m\u001b[43m,\u001b[49m\n\u001b[0;32m     12\u001b[0m \u001b[38;5;124;43m\"\u001b[39;49m\u001b[38;5;124;43mtcp.payload\u001b[39;49m\u001b[38;5;124;43m\"\u001b[39;49m\u001b[43m,\u001b[49m\u001b[43m \u001b[49m\u001b[38;5;124;43m\"\u001b[39;49m\u001b[38;5;124;43mtcp.seq\u001b[39;49m\u001b[38;5;124;43m\"\u001b[39;49m\u001b[43m,\u001b[49m\u001b[43m \u001b[49m\u001b[38;5;124;43m\"\u001b[39;49m\u001b[38;5;124;43mtcp.srcport\u001b[39;49m\u001b[38;5;124;43m\"\u001b[39;49m\n\u001b[0;32m     13\u001b[0m \u001b[43m]\u001b[49m\u001b[43m,\u001b[49m\u001b[43m \u001b[49m\u001b[43minplace\u001b[49m\u001b[43m \u001b[49m\u001b[38;5;241;43m=\u001b[39;49m\u001b[43m \u001b[49m\u001b[38;5;28;43;01mTrue\u001b[39;49;00m\u001b[43m,\u001b[49m\u001b[43m \u001b[49m\u001b[43maxis\u001b[49m\u001b[43m \u001b[49m\u001b[38;5;241;43m=\u001b[39;49m\u001b[43m \u001b[49m\u001b[38;5;241;43m1\u001b[39;49m\u001b[43m)\u001b[49m\n\u001b[0;32m     14\u001b[0m df\u001b[38;5;241m.\u001b[39mshape\n",
      "File \u001b[1;32mg:\\Nitin-Programming-Btech\\ML\\nitin\\Lib\\site-packages\\pandas\\core\\frame.py:5581\u001b[0m, in \u001b[0;36mDataFrame.drop\u001b[1;34m(self, labels, axis, index, columns, level, inplace, errors)\u001b[0m\n\u001b[0;32m   5433\u001b[0m \u001b[38;5;28;01mdef\u001b[39;00m \u001b[38;5;21mdrop\u001b[39m(\n\u001b[0;32m   5434\u001b[0m     \u001b[38;5;28mself\u001b[39m,\n\u001b[0;32m   5435\u001b[0m     labels: IndexLabel \u001b[38;5;241m|\u001b[39m \u001b[38;5;28;01mNone\u001b[39;00m \u001b[38;5;241m=\u001b[39m \u001b[38;5;28;01mNone\u001b[39;00m,\n\u001b[1;32m   (...)\u001b[0m\n\u001b[0;32m   5442\u001b[0m     errors: IgnoreRaise \u001b[38;5;241m=\u001b[39m \u001b[38;5;124m\"\u001b[39m\u001b[38;5;124mraise\u001b[39m\u001b[38;5;124m\"\u001b[39m,\n\u001b[0;32m   5443\u001b[0m ) \u001b[38;5;241m-\u001b[39m\u001b[38;5;241m>\u001b[39m DataFrame \u001b[38;5;241m|\u001b[39m \u001b[38;5;28;01mNone\u001b[39;00m:\n\u001b[0;32m   5444\u001b[0m \u001b[38;5;250m    \u001b[39m\u001b[38;5;124;03m\"\"\"\u001b[39;00m\n\u001b[0;32m   5445\u001b[0m \u001b[38;5;124;03m    Drop specified labels from rows or columns.\u001b[39;00m\n\u001b[0;32m   5446\u001b[0m \n\u001b[1;32m   (...)\u001b[0m\n\u001b[0;32m   5579\u001b[0m \u001b[38;5;124;03m            weight  1.0     0.8\u001b[39;00m\n\u001b[0;32m   5580\u001b[0m \u001b[38;5;124;03m    \"\"\"\u001b[39;00m\n\u001b[1;32m-> 5581\u001b[0m     \u001b[38;5;28;01mreturn\u001b[39;00m \u001b[38;5;28;43msuper\u001b[39;49m\u001b[43m(\u001b[49m\u001b[43m)\u001b[49m\u001b[38;5;241;43m.\u001b[39;49m\u001b[43mdrop\u001b[49m\u001b[43m(\u001b[49m\n\u001b[0;32m   5582\u001b[0m \u001b[43m        \u001b[49m\u001b[43mlabels\u001b[49m\u001b[38;5;241;43m=\u001b[39;49m\u001b[43mlabels\u001b[49m\u001b[43m,\u001b[49m\n\u001b[0;32m   5583\u001b[0m \u001b[43m        \u001b[49m\u001b[43maxis\u001b[49m\u001b[38;5;241;43m=\u001b[39;49m\u001b[43maxis\u001b[49m\u001b[43m,\u001b[49m\n\u001b[0;32m   5584\u001b[0m \u001b[43m        \u001b[49m\u001b[43mindex\u001b[49m\u001b[38;5;241;43m=\u001b[39;49m\u001b[43mindex\u001b[49m\u001b[43m,\u001b[49m\n\u001b[0;32m   5585\u001b[0m \u001b[43m        \u001b[49m\u001b[43mcolumns\u001b[49m\u001b[38;5;241;43m=\u001b[39;49m\u001b[43mcolumns\u001b[49m\u001b[43m,\u001b[49m\n\u001b[0;32m   5586\u001b[0m \u001b[43m        \u001b[49m\u001b[43mlevel\u001b[49m\u001b[38;5;241;43m=\u001b[39;49m\u001b[43mlevel\u001b[49m\u001b[43m,\u001b[49m\n\u001b[0;32m   5587\u001b[0m \u001b[43m        \u001b[49m\u001b[43minplace\u001b[49m\u001b[38;5;241;43m=\u001b[39;49m\u001b[43minplace\u001b[49m\u001b[43m,\u001b[49m\n\u001b[0;32m   5588\u001b[0m \u001b[43m        \u001b[49m\u001b[43merrors\u001b[49m\u001b[38;5;241;43m=\u001b[39;49m\u001b[43merrors\u001b[49m\u001b[43m,\u001b[49m\n\u001b[0;32m   5589\u001b[0m \u001b[43m    \u001b[49m\u001b[43m)\u001b[49m\n",
      "File \u001b[1;32mg:\\Nitin-Programming-Btech\\ML\\nitin\\Lib\\site-packages\\pandas\\core\\generic.py:4788\u001b[0m, in \u001b[0;36mNDFrame.drop\u001b[1;34m(self, labels, axis, index, columns, level, inplace, errors)\u001b[0m\n\u001b[0;32m   4786\u001b[0m \u001b[38;5;28;01mfor\u001b[39;00m axis, labels \u001b[38;5;129;01min\u001b[39;00m axes\u001b[38;5;241m.\u001b[39mitems():\n\u001b[0;32m   4787\u001b[0m     \u001b[38;5;28;01mif\u001b[39;00m labels \u001b[38;5;129;01mis\u001b[39;00m \u001b[38;5;129;01mnot\u001b[39;00m \u001b[38;5;28;01mNone\u001b[39;00m:\n\u001b[1;32m-> 4788\u001b[0m         obj \u001b[38;5;241m=\u001b[39m \u001b[43mobj\u001b[49m\u001b[38;5;241;43m.\u001b[39;49m\u001b[43m_drop_axis\u001b[49m\u001b[43m(\u001b[49m\u001b[43mlabels\u001b[49m\u001b[43m,\u001b[49m\u001b[43m \u001b[49m\u001b[43maxis\u001b[49m\u001b[43m,\u001b[49m\u001b[43m \u001b[49m\u001b[43mlevel\u001b[49m\u001b[38;5;241;43m=\u001b[39;49m\u001b[43mlevel\u001b[49m\u001b[43m,\u001b[49m\u001b[43m \u001b[49m\u001b[43merrors\u001b[49m\u001b[38;5;241;43m=\u001b[39;49m\u001b[43merrors\u001b[49m\u001b[43m)\u001b[49m\n\u001b[0;32m   4790\u001b[0m \u001b[38;5;28;01mif\u001b[39;00m inplace:\n\u001b[0;32m   4791\u001b[0m     \u001b[38;5;28mself\u001b[39m\u001b[38;5;241m.\u001b[39m_update_inplace(obj)\n",
      "File \u001b[1;32mg:\\Nitin-Programming-Btech\\ML\\nitin\\Lib\\site-packages\\pandas\\core\\generic.py:4830\u001b[0m, in \u001b[0;36mNDFrame._drop_axis\u001b[1;34m(self, labels, axis, level, errors, only_slice)\u001b[0m\n\u001b[0;32m   4828\u001b[0m         new_axis \u001b[38;5;241m=\u001b[39m axis\u001b[38;5;241m.\u001b[39mdrop(labels, level\u001b[38;5;241m=\u001b[39mlevel, errors\u001b[38;5;241m=\u001b[39merrors)\n\u001b[0;32m   4829\u001b[0m     \u001b[38;5;28;01melse\u001b[39;00m:\n\u001b[1;32m-> 4830\u001b[0m         new_axis \u001b[38;5;241m=\u001b[39m \u001b[43maxis\u001b[49m\u001b[38;5;241;43m.\u001b[39;49m\u001b[43mdrop\u001b[49m\u001b[43m(\u001b[49m\u001b[43mlabels\u001b[49m\u001b[43m,\u001b[49m\u001b[43m \u001b[49m\u001b[43merrors\u001b[49m\u001b[38;5;241;43m=\u001b[39;49m\u001b[43merrors\u001b[49m\u001b[43m)\u001b[49m\n\u001b[0;32m   4831\u001b[0m     indexer \u001b[38;5;241m=\u001b[39m axis\u001b[38;5;241m.\u001b[39mget_indexer(new_axis)\n\u001b[0;32m   4833\u001b[0m \u001b[38;5;66;03m# Case for non-unique axis\u001b[39;00m\n\u001b[0;32m   4834\u001b[0m \u001b[38;5;28;01melse\u001b[39;00m:\n",
      "File \u001b[1;32mg:\\Nitin-Programming-Btech\\ML\\nitin\\Lib\\site-packages\\pandas\\core\\indexes\\base.py:7070\u001b[0m, in \u001b[0;36mIndex.drop\u001b[1;34m(self, labels, errors)\u001b[0m\n\u001b[0;32m   7068\u001b[0m \u001b[38;5;28;01mif\u001b[39;00m mask\u001b[38;5;241m.\u001b[39many():\n\u001b[0;32m   7069\u001b[0m     \u001b[38;5;28;01mif\u001b[39;00m errors \u001b[38;5;241m!=\u001b[39m \u001b[38;5;124m\"\u001b[39m\u001b[38;5;124mignore\u001b[39m\u001b[38;5;124m\"\u001b[39m:\n\u001b[1;32m-> 7070\u001b[0m         \u001b[38;5;28;01mraise\u001b[39;00m \u001b[38;5;167;01mKeyError\u001b[39;00m(\u001b[38;5;124mf\u001b[39m\u001b[38;5;124m\"\u001b[39m\u001b[38;5;132;01m{\u001b[39;00mlabels[mask]\u001b[38;5;241m.\u001b[39mtolist()\u001b[38;5;132;01m}\u001b[39;00m\u001b[38;5;124m not found in axis\u001b[39m\u001b[38;5;124m\"\u001b[39m)\n\u001b[0;32m   7071\u001b[0m     indexer \u001b[38;5;241m=\u001b[39m indexer[\u001b[38;5;241m~\u001b[39mmask]\n\u001b[0;32m   7072\u001b[0m \u001b[38;5;28;01mreturn\u001b[39;00m \u001b[38;5;28mself\u001b[39m\u001b[38;5;241m.\u001b[39mdelete(indexer)\n",
      "\u001b[1;31mKeyError\u001b[0m: \"['http.file_data', 'http.content_length', 'http.request.uri.query', 'http.request.method', 'http.referer', 'http.request.full_uri', 'http.request.version', 'http.response', 'http.tls_port', 'dns.qry.name', 'dns.qry.name.len', 'dns.qry.qu', 'dns.qry.type', 'dns.retransmission', 'dns.retransmit_request', 'dns.retransmit_request_in', 'mqtt.conack.flags', 'mqtt.conflag.cleansess', 'mqtt.conflags', 'mqtt.hdrflags', 'mqtt.len', 'mqtt.msg_decoded_as', 'mqtt.msg', 'mqtt.msgtype', 'mqtt.proto_len', 'mqtt.protoname', 'mqtt.topic', 'mqtt.topic_len', 'mqtt.ver', 'tcp.connection.fin', 'tcp.connection.rst', 'tcp.connection.syn', 'tcp.connection.synack', 'tcp.dstport', 'tcp.flags', 'tcp.flags.ack', 'tcp.len', 'tcp.options', 'tcp.payload', 'tcp.seq', 'tcp.srcport'] not found in axis\""
     ]
    }
   ],
   "source": [
    "# Dropping the unnecessary attributes\n",
    "df.drop([\"http.file_data\", \"http.content_length\", \"http.request.uri.query\",\n",
    "\"http.request.method\", \"http.referer\", \"http.request.full_uri\",\n",
    "\"http.request.version\", \"http.response\", \"http.tls_port\", \"dns.qry.name\", \"dns.qry.name.len\", \"dns.qry.qu\",\n",
    "\"dns.qry.type\", \"dns.retransmission\", \"dns.retransmit_request\",\n",
    "\"dns.retransmit_request_in\", \"mqtt.conack.flags\",\n",
    "\"mqtt.conflag.cleansess\", \"mqtt.conflags\", \"mqtt.hdrflags\", \"mqtt.len\",\n",
    "\"mqtt.msg_decoded_as\", \"mqtt.msg\", \"mqtt.msgtype\", \"mqtt.proto_len\",\n",
    "\"mqtt.protoname\", \"mqtt.topic\", \"mqtt.topic_len\", \"mqtt.ver\",\"tcp.connection.fin\",\n",
    "\"tcp.connection.rst\", \"tcp.connection.syn\", \"tcp.connection.synack\",\n",
    "\"tcp.dstport\", \"tcp.flags\", \"tcp.flags.ack\", \"tcp.len\", \"tcp.options\",\n",
    "\"tcp.payload\", \"tcp.seq\", \"tcp.srcport\"\n",
    "], inplace = True, axis = 1)\n",
    "df.shape"
   ]
  },
  {
   "cell_type": "code",
   "execution_count": 4,
   "metadata": {
    "colab": {
     "base_uri": "https://localhost:8080/"
    },
    "execution": {
     "iopub.execute_input": "2024-12-13T11:18:47.166780Z",
     "iopub.status.busy": "2024-12-13T11:18:47.165782Z",
     "iopub.status.idle": "2024-12-13T11:18:47.174777Z",
     "shell.execute_reply": "2024-12-13T11:18:47.173762Z",
     "shell.execute_reply.started": "2024-12-13T11:18:47.165782Z"
    },
    "id": "vAbyBX2ijV9_",
    "outputId": "6134f609-0605-45a9-9135-4b9538e87601"
   },
   "outputs": [
    {
     "data": {
      "text/plain": [
       "22"
      ]
     },
     "execution_count": 4,
     "metadata": {},
     "output_type": "execute_result"
    }
   ],
   "source": [
    "df.columns.nunique()"
   ]
  },
  {
   "cell_type": "code",
   "execution_count": 32,
   "metadata": {
    "execution": {
     "iopub.execute_input": "2024-12-13T11:23:25.590542Z",
     "iopub.status.busy": "2024-12-13T11:23:25.585321Z",
     "iopub.status.idle": "2024-12-13T11:23:27.232498Z",
     "shell.execute_reply": "2024-12-13T11:23:27.232498Z",
     "shell.execute_reply.started": "2024-12-13T11:23:25.590542Z"
    },
    "id": "vuueAR83lOGQ"
   },
   "outputs": [],
   "source": [
    "# Converting the ip.src_host to int\n",
    "import ipaddress\n",
    "def ip_to_int(ip_address):\n",
    "  try:\n",
    "    return int(ipaddress.IPv4Address(ip_address))\n",
    "  except:\n",
    "    if (ip_address == \"0.0\") or (ip_address == \"0\"):\n",
    "      return 0\n",
    "    else:\n",
    "      return np.nan\n",
    "\n",
    "df[\"ip.src_host\"] = df[\"ip.src_host\"].apply(ip_to_int)\n",
    "df[\"arp.dst.proto_ipv4\"] = df[\"arp.dst.proto_ipv4\"].apply(ip_to_int)\n",
    "df[\"arp.src.proto_ipv4\"] = df[\"arp.src.proto_ipv4\"].apply(ip_to_int)\n",
    "df[\"ip.dst_host\"] = df[\"ip.dst_host\"].apply(ip_to_int)"
   ]
  },
  {
   "cell_type": "code",
   "execution_count": 62,
   "metadata": {
    "colab": {
     "base_uri": "https://localhost:8080/",
     "height": 424
    },
    "execution": {
     "iopub.execute_input": "2024-12-13T10:40:18.022580Z",
     "iopub.status.busy": "2024-12-13T10:40:18.022580Z",
     "iopub.status.idle": "2024-12-13T10:40:18.056208Z",
     "shell.execute_reply": "2024-12-13T10:40:18.055198Z",
     "shell.execute_reply.started": "2024-12-13T10:40:18.022580Z"
    },
    "id": "dHR-SorqsRVg",
    "outputId": "def81470-1470-4eed-986a-a8d80559b2f7"
   },
   "outputs": [
    {
     "data": {
      "text/html": [
       "<div>\n",
       "<style scoped>\n",
       "    .dataframe tbody tr th:only-of-type {\n",
       "        vertical-align: middle;\n",
       "    }\n",
       "\n",
       "    .dataframe tbody tr th {\n",
       "        vertical-align: top;\n",
       "    }\n",
       "\n",
       "    .dataframe thead th {\n",
       "        text-align: right;\n",
       "    }\n",
       "</style>\n",
       "<table border=\"1\" class=\"dataframe\">\n",
       "  <thead>\n",
       "    <tr style=\"text-align: right;\">\n",
       "      <th></th>\n",
       "      <th>ip.src_host</th>\n",
       "      <th>ip.dst_host</th>\n",
       "      <th>arp.dst.proto_ipv4</th>\n",
       "      <th>arp.src.proto_ipv4</th>\n",
       "    </tr>\n",
       "  </thead>\n",
       "  <tbody>\n",
       "    <tr>\n",
       "      <th>0</th>\n",
       "      <td>3232235672</td>\n",
       "      <td>0</td>\n",
       "      <td>0</td>\n",
       "      <td>0</td>\n",
       "    </tr>\n",
       "    <tr>\n",
       "      <th>1</th>\n",
       "      <td>3232235621</td>\n",
       "      <td>0</td>\n",
       "      <td>0</td>\n",
       "      <td>0</td>\n",
       "    </tr>\n",
       "    <tr>\n",
       "      <th>2</th>\n",
       "      <td>3232235672</td>\n",
       "      <td>0</td>\n",
       "      <td>0</td>\n",
       "      <td>0</td>\n",
       "    </tr>\n",
       "    <tr>\n",
       "      <th>3</th>\n",
       "      <td>3232235621</td>\n",
       "      <td>0</td>\n",
       "      <td>0</td>\n",
       "      <td>0</td>\n",
       "    </tr>\n",
       "    <tr>\n",
       "      <th>4</th>\n",
       "      <td>3232235672</td>\n",
       "      <td>0</td>\n",
       "      <td>0</td>\n",
       "      <td>0</td>\n",
       "    </tr>\n",
       "    <tr>\n",
       "      <th>...</th>\n",
       "      <td>...</td>\n",
       "      <td>...</td>\n",
       "      <td>...</td>\n",
       "      <td>...</td>\n",
       "    </tr>\n",
       "    <tr>\n",
       "      <th>157795</th>\n",
       "      <td>3247985195</td>\n",
       "      <td>3232235648</td>\n",
       "      <td>0</td>\n",
       "      <td>0</td>\n",
       "    </tr>\n",
       "    <tr>\n",
       "      <th>157796</th>\n",
       "      <td>4248043989</td>\n",
       "      <td>3232235648</td>\n",
       "      <td>0</td>\n",
       "      <td>0</td>\n",
       "    </tr>\n",
       "    <tr>\n",
       "      <th>157797</th>\n",
       "      <td>1805376817</td>\n",
       "      <td>3232235648</td>\n",
       "      <td>0</td>\n",
       "      <td>0</td>\n",
       "    </tr>\n",
       "    <tr>\n",
       "      <th>157798</th>\n",
       "      <td>1307720420</td>\n",
       "      <td>3232235648</td>\n",
       "      <td>0</td>\n",
       "      <td>0</td>\n",
       "    </tr>\n",
       "    <tr>\n",
       "      <th>157799</th>\n",
       "      <td>2502449815</td>\n",
       "      <td>3232235648</td>\n",
       "      <td>0</td>\n",
       "      <td>0</td>\n",
       "    </tr>\n",
       "  </tbody>\n",
       "</table>\n",
       "<p>157800 rows × 4 columns</p>\n",
       "</div>"
      ],
      "text/plain": [
       "        ip.src_host  ip.dst_host  arp.dst.proto_ipv4  arp.src.proto_ipv4\n",
       "0        3232235672            0                   0                   0\n",
       "1        3232235621            0                   0                   0\n",
       "2        3232235672            0                   0                   0\n",
       "3        3232235621            0                   0                   0\n",
       "4        3232235672            0                   0                   0\n",
       "...             ...          ...                 ...                 ...\n",
       "157795   3247985195   3232235648                   0                   0\n",
       "157796   4248043989   3232235648                   0                   0\n",
       "157797   1805376817   3232235648                   0                   0\n",
       "157798   1307720420   3232235648                   0                   0\n",
       "157799   2502449815   3232235648                   0                   0\n",
       "\n",
       "[157800 rows x 4 columns]"
      ]
     },
     "execution_count": 62,
     "metadata": {},
     "output_type": "execute_result"
    }
   ],
   "source": [
    "df[[\"ip.src_host\", \"ip.dst_host\", \"arp.dst.proto_ipv4\", \"arp.src.proto_ipv4\"]]"
   ]
  },
  {
   "cell_type": "code",
   "execution_count": 6,
   "metadata": {
    "execution": {
     "iopub.execute_input": "2024-12-13T11:23:31.621819Z",
     "iopub.status.busy": "2024-12-13T11:23:31.619816Z",
     "iopub.status.idle": "2024-12-13T11:23:31.693078Z",
     "shell.execute_reply": "2024-12-13T11:23:31.691054Z",
     "shell.execute_reply.started": "2024-12-13T11:23:31.620814Z"
    },
    "id": "DOfTrcF7ouBn"
   },
   "outputs": [],
   "source": [
    "df.dropna(subset = [\"ip.src_host\", \"ip.dst_host\", \"arp.src.proto_ipv4\", \"arp.dst.proto_ipv4\"], inplace = True)"
   ]
  },
  {
   "cell_type": "code",
   "execution_count": 12,
   "metadata": {
    "colab": {
     "base_uri": "https://localhost:8080/",
     "height": 458
    },
    "execution": {
     "iopub.execute_input": "2024-12-13T11:22:12.456622Z",
     "iopub.status.busy": "2024-12-13T11:22:12.455620Z",
     "iopub.status.idle": "2024-12-13T11:22:12.774563Z",
     "shell.execute_reply": "2024-12-13T11:22:12.773553Z",
     "shell.execute_reply.started": "2024-12-13T11:22:12.456622Z"
    },
    "id": "EWk1qNg6t8um",
    "outputId": "a01235de-6dbd-41f1-8d62-2006ff34d03e"
   },
   "outputs": [
    {
     "data": {
      "text/plain": [
       "frame.time\n",
       "0000 00:00:00.000000000       15705\n",
       "2021-01-01 23:12:11.894359        2\n",
       "2021-01-01 17:58:35.612142        1\n",
       "2021-01-01 17:58:35.552796        1\n",
       "2021-01-01 17:58:35.598107        1\n",
       "                              ...  \n",
       "2021-01-01 19:06:22.176872        1\n",
       "2021-01-01 19:06:22.169995        1\n",
       "2021-01-01 19:06:22.141551        1\n",
       "2021-01-01 19:06:22.113326        1\n",
       "2021-01-01 23:24:32.780376        1\n",
       "Name: count, Length: 142095, dtype: int64"
      ]
     },
     "execution_count": 12,
     "metadata": {},
     "output_type": "execute_result"
    }
   ],
   "source": [
    "df[\"frame.time\"].value_counts()"
   ]
  },
  {
   "cell_type": "code",
   "execution_count": 7,
   "metadata": {
    "execution": {
     "iopub.execute_input": "2024-12-13T11:18:54.387438Z",
     "iopub.status.busy": "2024-12-13T11:18:54.386444Z",
     "iopub.status.idle": "2024-12-13T11:18:54.403415Z",
     "shell.execute_reply": "2024-12-13T11:18:54.401851Z",
     "shell.execute_reply.started": "2024-12-13T11:18:54.386444Z"
    }
   },
   "outputs": [
    {
     "data": {
      "text/plain": [
       "15"
      ]
     },
     "execution_count": 7,
     "metadata": {},
     "output_type": "execute_result"
    }
   ],
   "source": [
    "len(df[\"Attack_type\"].unique())"
   ]
  },
  {
   "cell_type": "code",
   "execution_count": 110,
   "metadata": {
    "colab": {
     "base_uri": "https://localhost:8080/",
     "height": 255
    },
    "execution": {
     "iopub.execute_input": "2024-12-13T11:11:10.404697Z",
     "iopub.status.busy": "2024-12-13T11:11:10.404697Z",
     "iopub.status.idle": "2024-12-13T11:11:10.430218Z",
     "shell.execute_reply": "2024-12-13T11:11:10.428756Z",
     "shell.execute_reply.started": "2024-12-13T11:11:10.404697Z"
    },
    "id": "x1LbD7YK-PtU",
    "outputId": "c00b2d25-47a5-4367-975c-c6631eb7492a"
   },
   "outputs": [
    {
     "data": {
      "text/html": [
       "<div>\n",
       "<style scoped>\n",
       "    .dataframe tbody tr th:only-of-type {\n",
       "        vertical-align: middle;\n",
       "    }\n",
       "\n",
       "    .dataframe tbody tr th {\n",
       "        vertical-align: top;\n",
       "    }\n",
       "\n",
       "    .dataframe thead th {\n",
       "        text-align: right;\n",
       "    }\n",
       "</style>\n",
       "<table border=\"1\" class=\"dataframe\">\n",
       "  <thead>\n",
       "    <tr style=\"text-align: right;\">\n",
       "      <th></th>\n",
       "      <th>frame.time</th>\n",
       "      <th>ip.src_host</th>\n",
       "      <th>ip.dst_host</th>\n",
       "      <th>arp.dst.proto_ipv4</th>\n",
       "      <th>arp.opcode</th>\n",
       "      <th>arp.hw.size</th>\n",
       "      <th>arp.src.proto_ipv4</th>\n",
       "      <th>icmp.checksum</th>\n",
       "      <th>icmp.seq_le</th>\n",
       "      <th>icmp.transmit_timestamp</th>\n",
       "      <th>...</th>\n",
       "      <th>tcp.ack_raw</th>\n",
       "      <th>tcp.checksum</th>\n",
       "      <th>udp.port</th>\n",
       "      <th>udp.stream</th>\n",
       "      <th>udp.time_delta</th>\n",
       "      <th>mbtcp.len</th>\n",
       "      <th>mbtcp.trans_id</th>\n",
       "      <th>mbtcp.unit_id</th>\n",
       "      <th>Attack_label</th>\n",
       "      <th>Attack_type</th>\n",
       "    </tr>\n",
       "  </thead>\n",
       "  <tbody>\n",
       "    <tr>\n",
       "      <th>0</th>\n",
       "      <td>6.0</td>\n",
       "      <td>3232235672</td>\n",
       "      <td>0</td>\n",
       "      <td>0</td>\n",
       "      <td>0.0</td>\n",
       "      <td>0.0</td>\n",
       "      <td>0</td>\n",
       "      <td>0.0</td>\n",
       "      <td>0.0</td>\n",
       "      <td>0.0</td>\n",
       "      <td>...</td>\n",
       "      <td>0.0</td>\n",
       "      <td>0.0</td>\n",
       "      <td>0.0</td>\n",
       "      <td>0.0</td>\n",
       "      <td>0.0</td>\n",
       "      <td>0.0</td>\n",
       "      <td>0.0</td>\n",
       "      <td>0.0</td>\n",
       "      <td>1</td>\n",
       "      <td>MITM</td>\n",
       "    </tr>\n",
       "    <tr>\n",
       "      <th>1</th>\n",
       "      <td>6.0</td>\n",
       "      <td>3232235621</td>\n",
       "      <td>0</td>\n",
       "      <td>0</td>\n",
       "      <td>0.0</td>\n",
       "      <td>0.0</td>\n",
       "      <td>0</td>\n",
       "      <td>0.0</td>\n",
       "      <td>0.0</td>\n",
       "      <td>0.0</td>\n",
       "      <td>...</td>\n",
       "      <td>0.0</td>\n",
       "      <td>0.0</td>\n",
       "      <td>0.0</td>\n",
       "      <td>0.0</td>\n",
       "      <td>0.0</td>\n",
       "      <td>0.0</td>\n",
       "      <td>0.0</td>\n",
       "      <td>0.0</td>\n",
       "      <td>1</td>\n",
       "      <td>MITM</td>\n",
       "    </tr>\n",
       "    <tr>\n",
       "      <th>2</th>\n",
       "      <td>6.0</td>\n",
       "      <td>3232235672</td>\n",
       "      <td>0</td>\n",
       "      <td>0</td>\n",
       "      <td>0.0</td>\n",
       "      <td>0.0</td>\n",
       "      <td>0</td>\n",
       "      <td>0.0</td>\n",
       "      <td>0.0</td>\n",
       "      <td>0.0</td>\n",
       "      <td>...</td>\n",
       "      <td>0.0</td>\n",
       "      <td>0.0</td>\n",
       "      <td>0.0</td>\n",
       "      <td>0.0</td>\n",
       "      <td>0.0</td>\n",
       "      <td>0.0</td>\n",
       "      <td>0.0</td>\n",
       "      <td>0.0</td>\n",
       "      <td>1</td>\n",
       "      <td>MITM</td>\n",
       "    </tr>\n",
       "    <tr>\n",
       "      <th>3</th>\n",
       "      <td>6.0</td>\n",
       "      <td>3232235621</td>\n",
       "      <td>0</td>\n",
       "      <td>0</td>\n",
       "      <td>0.0</td>\n",
       "      <td>0.0</td>\n",
       "      <td>0</td>\n",
       "      <td>0.0</td>\n",
       "      <td>0.0</td>\n",
       "      <td>0.0</td>\n",
       "      <td>...</td>\n",
       "      <td>0.0</td>\n",
       "      <td>0.0</td>\n",
       "      <td>0.0</td>\n",
       "      <td>0.0</td>\n",
       "      <td>0.0</td>\n",
       "      <td>0.0</td>\n",
       "      <td>0.0</td>\n",
       "      <td>0.0</td>\n",
       "      <td>1</td>\n",
       "      <td>MITM</td>\n",
       "    </tr>\n",
       "    <tr>\n",
       "      <th>4</th>\n",
       "      <td>6.0</td>\n",
       "      <td>3232235672</td>\n",
       "      <td>0</td>\n",
       "      <td>0</td>\n",
       "      <td>0.0</td>\n",
       "      <td>0.0</td>\n",
       "      <td>0</td>\n",
       "      <td>0.0</td>\n",
       "      <td>0.0</td>\n",
       "      <td>0.0</td>\n",
       "      <td>...</td>\n",
       "      <td>0.0</td>\n",
       "      <td>0.0</td>\n",
       "      <td>0.0</td>\n",
       "      <td>0.0</td>\n",
       "      <td>0.0</td>\n",
       "      <td>0.0</td>\n",
       "      <td>0.0</td>\n",
       "      <td>0.0</td>\n",
       "      <td>1</td>\n",
       "      <td>MITM</td>\n",
       "    </tr>\n",
       "  </tbody>\n",
       "</table>\n",
       "<p>5 rows × 22 columns</p>\n",
       "</div>"
      ],
      "text/plain": [
       "  frame.time  ip.src_host  ip.dst_host  arp.dst.proto_ipv4  arp.opcode  \\\n",
       "0        6.0   3232235672            0                   0         0.0   \n",
       "1        6.0   3232235621            0                   0         0.0   \n",
       "2        6.0   3232235672            0                   0         0.0   \n",
       "3        6.0   3232235621            0                   0         0.0   \n",
       "4        6.0   3232235672            0                   0         0.0   \n",
       "\n",
       "   arp.hw.size  arp.src.proto_ipv4  icmp.checksum  icmp.seq_le  \\\n",
       "0          0.0                   0            0.0          0.0   \n",
       "1          0.0                   0            0.0          0.0   \n",
       "2          0.0                   0            0.0          0.0   \n",
       "3          0.0                   0            0.0          0.0   \n",
       "4          0.0                   0            0.0          0.0   \n",
       "\n",
       "   icmp.transmit_timestamp  ...  tcp.ack_raw  tcp.checksum  udp.port  \\\n",
       "0                      0.0  ...          0.0           0.0       0.0   \n",
       "1                      0.0  ...          0.0           0.0       0.0   \n",
       "2                      0.0  ...          0.0           0.0       0.0   \n",
       "3                      0.0  ...          0.0           0.0       0.0   \n",
       "4                      0.0  ...          0.0           0.0       0.0   \n",
       "\n",
       "   udp.stream  udp.time_delta  mbtcp.len  mbtcp.trans_id  mbtcp.unit_id  \\\n",
       "0         0.0             0.0        0.0             0.0            0.0   \n",
       "1         0.0             0.0        0.0             0.0            0.0   \n",
       "2         0.0             0.0        0.0             0.0            0.0   \n",
       "3         0.0             0.0        0.0             0.0            0.0   \n",
       "4         0.0             0.0        0.0             0.0            0.0   \n",
       "\n",
       "   Attack_label  Attack_type  \n",
       "0             1         MITM  \n",
       "1             1         MITM  \n",
       "2             1         MITM  \n",
       "3             1         MITM  \n",
       "4             1         MITM  \n",
       "\n",
       "[5 rows x 22 columns]"
      ]
     },
     "execution_count": 110,
     "metadata": {},
     "output_type": "execute_result"
    }
   ],
   "source": [
    "df.head()"
   ]
  },
  {
   "cell_type": "code",
   "execution_count": 8,
   "metadata": {
    "colab": {
     "base_uri": "https://localhost:8080/"
    },
    "execution": {
     "iopub.execute_input": "2024-12-13T10:17:29.186820Z",
     "iopub.status.busy": "2024-12-13T10:17:29.185813Z",
     "iopub.status.idle": "2024-12-13T10:17:29.371333Z",
     "shell.execute_reply": "2024-12-13T10:17:29.371333Z",
     "shell.execute_reply.started": "2024-12-13T10:17:29.186820Z"
    },
    "id": "Sif-RdOVheKe",
    "outputId": "3fefb281-2715-4b16-cb78-3755eca3cc85"
   },
   "outputs": [
    {
     "name": "stdout",
     "output_type": "stream",
     "text": [
      "frame.time 155186\n",
      "ip.src_host 19089\n",
      "ip.dst_host 8083\n",
      "arp.dst.proto_ipv4 7\n",
      "arp.opcode 3\n",
      "arp.hw.size 2\n",
      "arp.src.proto_ipv4 6\n",
      "icmp.checksum 13187\n",
      "icmp.seq_le 13824\n",
      "icmp.transmit_timestamp 84\n",
      "icmp.unused 1\n",
      "tcp.ack 27929\n",
      "tcp.ack_raw 94716\n",
      "tcp.checksum 55513\n",
      "udp.port 32\n",
      "udp.stream 14492\n",
      "udp.time_delta 39\n",
      "mbtcp.len 1\n",
      "mbtcp.trans_id 1\n",
      "mbtcp.unit_id 1\n",
      "Attack_label 2\n",
      "Attack_type 15\n"
     ]
    }
   ],
   "source": [
    "# Counting the unique values for each columns\n",
    "for col in df.columns:\n",
    "  df[col].nunique\n",
    "  print(col, df[col].nunique())"
   ]
  },
  {
   "cell_type": "markdown",
   "metadata": {
    "id": "7aYMSXw-0Wm6"
   },
   "source": [
    "Handling the frame.time"
   ]
  },
  {
   "cell_type": "code",
   "execution_count": 33,
   "metadata": {
    "execution": {
     "iopub.execute_input": "2024-12-13T11:25:04.454741Z",
     "iopub.status.busy": "2024-12-13T11:25:04.453572Z",
     "iopub.status.idle": "2024-12-13T11:26:30.114988Z",
     "shell.execute_reply": "2024-12-13T11:26:30.113983Z",
     "shell.execute_reply.started": "2024-12-13T11:25:04.454741Z"
    },
    "id": "Bn-EUOBXlPpC"
   },
   "outputs": [
    {
     "name": "stderr",
     "output_type": "stream",
     "text": [
      "Pandas Apply: 100%|██████████| 157800/157800 [00:12<00:00, 12721.89it/s]\n"
     ]
    }
   ],
   "source": [
    "import swifter\n",
    "def handle_frame(row):\n",
    "  try:\n",
    "    row = pd.to_datetime(row, format = \"%Y %H:%M:%S.%f\")\n",
    "    return row\n",
    "  except ValueError:\n",
    "    try:\n",
    "      return pd.to_datetime(row, format=\"%Y %d:%m:%S.%f\")\n",
    "    except:\n",
    "      return pd.NaT\n",
    "df[\"frame.time\"] = df[\"frame.time\"].swifter.apply(handle_frame)"
   ]
  },
  {
   "cell_type": "code",
   "execution_count": 10,
   "metadata": {},
   "outputs": [
    {
     "data": {
      "text/html": [
       "<div>\n",
       "<style scoped>\n",
       "    .dataframe tbody tr th:only-of-type {\n",
       "        vertical-align: middle;\n",
       "    }\n",
       "\n",
       "    .dataframe tbody tr th {\n",
       "        vertical-align: top;\n",
       "    }\n",
       "\n",
       "    .dataframe thead th {\n",
       "        text-align: right;\n",
       "    }\n",
       "</style>\n",
       "<table border=\"1\" class=\"dataframe\">\n",
       "  <thead>\n",
       "    <tr style=\"text-align: right;\">\n",
       "      <th></th>\n",
       "      <th>frame.time</th>\n",
       "      <th>ip.src_host</th>\n",
       "      <th>ip.dst_host</th>\n",
       "      <th>arp.dst.proto_ipv4</th>\n",
       "      <th>arp.opcode</th>\n",
       "      <th>arp.hw.size</th>\n",
       "      <th>arp.src.proto_ipv4</th>\n",
       "      <th>icmp.checksum</th>\n",
       "      <th>icmp.seq_le</th>\n",
       "      <th>icmp.transmit_timestamp</th>\n",
       "      <th>...</th>\n",
       "      <th>tcp.ack_raw</th>\n",
       "      <th>tcp.checksum</th>\n",
       "      <th>udp.port</th>\n",
       "      <th>udp.stream</th>\n",
       "      <th>udp.time_delta</th>\n",
       "      <th>mbtcp.len</th>\n",
       "      <th>mbtcp.trans_id</th>\n",
       "      <th>mbtcp.unit_id</th>\n",
       "      <th>Attack_label</th>\n",
       "      <th>Attack_type</th>\n",
       "    </tr>\n",
       "  </thead>\n",
       "  <tbody>\n",
       "    <tr>\n",
       "      <th>0</th>\n",
       "      <td>NaT</td>\n",
       "      <td>3232235672</td>\n",
       "      <td>0</td>\n",
       "      <td>0</td>\n",
       "      <td>0.0</td>\n",
       "      <td>0.0</td>\n",
       "      <td>0</td>\n",
       "      <td>0.0</td>\n",
       "      <td>0.0</td>\n",
       "      <td>0.0</td>\n",
       "      <td>...</td>\n",
       "      <td>0.0</td>\n",
       "      <td>0.0</td>\n",
       "      <td>0.0</td>\n",
       "      <td>0.0</td>\n",
       "      <td>0.0</td>\n",
       "      <td>0.0</td>\n",
       "      <td>0.0</td>\n",
       "      <td>0.0</td>\n",
       "      <td>1</td>\n",
       "      <td>MITM</td>\n",
       "    </tr>\n",
       "    <tr>\n",
       "      <th>1</th>\n",
       "      <td>NaT</td>\n",
       "      <td>3232235621</td>\n",
       "      <td>0</td>\n",
       "      <td>0</td>\n",
       "      <td>0.0</td>\n",
       "      <td>0.0</td>\n",
       "      <td>0</td>\n",
       "      <td>0.0</td>\n",
       "      <td>0.0</td>\n",
       "      <td>0.0</td>\n",
       "      <td>...</td>\n",
       "      <td>0.0</td>\n",
       "      <td>0.0</td>\n",
       "      <td>0.0</td>\n",
       "      <td>0.0</td>\n",
       "      <td>0.0</td>\n",
       "      <td>0.0</td>\n",
       "      <td>0.0</td>\n",
       "      <td>0.0</td>\n",
       "      <td>1</td>\n",
       "      <td>MITM</td>\n",
       "    </tr>\n",
       "    <tr>\n",
       "      <th>2</th>\n",
       "      <td>NaT</td>\n",
       "      <td>3232235672</td>\n",
       "      <td>0</td>\n",
       "      <td>0</td>\n",
       "      <td>0.0</td>\n",
       "      <td>0.0</td>\n",
       "      <td>0</td>\n",
       "      <td>0.0</td>\n",
       "      <td>0.0</td>\n",
       "      <td>0.0</td>\n",
       "      <td>...</td>\n",
       "      <td>0.0</td>\n",
       "      <td>0.0</td>\n",
       "      <td>0.0</td>\n",
       "      <td>0.0</td>\n",
       "      <td>0.0</td>\n",
       "      <td>0.0</td>\n",
       "      <td>0.0</td>\n",
       "      <td>0.0</td>\n",
       "      <td>1</td>\n",
       "      <td>MITM</td>\n",
       "    </tr>\n",
       "    <tr>\n",
       "      <th>3</th>\n",
       "      <td>NaT</td>\n",
       "      <td>3232235621</td>\n",
       "      <td>0</td>\n",
       "      <td>0</td>\n",
       "      <td>0.0</td>\n",
       "      <td>0.0</td>\n",
       "      <td>0</td>\n",
       "      <td>0.0</td>\n",
       "      <td>0.0</td>\n",
       "      <td>0.0</td>\n",
       "      <td>...</td>\n",
       "      <td>0.0</td>\n",
       "      <td>0.0</td>\n",
       "      <td>0.0</td>\n",
       "      <td>0.0</td>\n",
       "      <td>0.0</td>\n",
       "      <td>0.0</td>\n",
       "      <td>0.0</td>\n",
       "      <td>0.0</td>\n",
       "      <td>1</td>\n",
       "      <td>MITM</td>\n",
       "    </tr>\n",
       "    <tr>\n",
       "      <th>4</th>\n",
       "      <td>NaT</td>\n",
       "      <td>3232235672</td>\n",
       "      <td>0</td>\n",
       "      <td>0</td>\n",
       "      <td>0.0</td>\n",
       "      <td>0.0</td>\n",
       "      <td>0</td>\n",
       "      <td>0.0</td>\n",
       "      <td>0.0</td>\n",
       "      <td>0.0</td>\n",
       "      <td>...</td>\n",
       "      <td>0.0</td>\n",
       "      <td>0.0</td>\n",
       "      <td>0.0</td>\n",
       "      <td>0.0</td>\n",
       "      <td>0.0</td>\n",
       "      <td>0.0</td>\n",
       "      <td>0.0</td>\n",
       "      <td>0.0</td>\n",
       "      <td>1</td>\n",
       "      <td>MITM</td>\n",
       "    </tr>\n",
       "  </tbody>\n",
       "</table>\n",
       "<p>5 rows × 22 columns</p>\n",
       "</div>"
      ],
      "text/plain": [
       "  frame.time  ip.src_host  ip.dst_host  arp.dst.proto_ipv4  arp.opcode  \\\n",
       "0        NaT   3232235672            0                   0         0.0   \n",
       "1        NaT   3232235621            0                   0         0.0   \n",
       "2        NaT   3232235672            0                   0         0.0   \n",
       "3        NaT   3232235621            0                   0         0.0   \n",
       "4        NaT   3232235672            0                   0         0.0   \n",
       "\n",
       "   arp.hw.size  arp.src.proto_ipv4  icmp.checksum  icmp.seq_le  \\\n",
       "0          0.0                   0            0.0          0.0   \n",
       "1          0.0                   0            0.0          0.0   \n",
       "2          0.0                   0            0.0          0.0   \n",
       "3          0.0                   0            0.0          0.0   \n",
       "4          0.0                   0            0.0          0.0   \n",
       "\n",
       "   icmp.transmit_timestamp  ...  tcp.ack_raw  tcp.checksum  udp.port  \\\n",
       "0                      0.0  ...          0.0           0.0       0.0   \n",
       "1                      0.0  ...          0.0           0.0       0.0   \n",
       "2                      0.0  ...          0.0           0.0       0.0   \n",
       "3                      0.0  ...          0.0           0.0       0.0   \n",
       "4                      0.0  ...          0.0           0.0       0.0   \n",
       "\n",
       "   udp.stream  udp.time_delta  mbtcp.len  mbtcp.trans_id  mbtcp.unit_id  \\\n",
       "0         0.0             0.0        0.0             0.0            0.0   \n",
       "1         0.0             0.0        0.0             0.0            0.0   \n",
       "2         0.0             0.0        0.0             0.0            0.0   \n",
       "3         0.0             0.0        0.0             0.0            0.0   \n",
       "4         0.0             0.0        0.0             0.0            0.0   \n",
       "\n",
       "   Attack_label  Attack_type  \n",
       "0             1         MITM  \n",
       "1             1         MITM  \n",
       "2             1         MITM  \n",
       "3             1         MITM  \n",
       "4             1         MITM  \n",
       "\n",
       "[5 rows x 22 columns]"
      ]
     },
     "execution_count": 10,
     "metadata": {},
     "output_type": "execute_result"
    }
   ],
   "source": [
    "df.head(5)"
   ]
  },
  {
   "cell_type": "code",
   "execution_count": 34,
   "metadata": {
    "execution": {
     "iopub.execute_input": "2024-12-13T11:27:07.912264Z",
     "iopub.status.busy": "2024-12-13T11:27:07.911263Z",
     "iopub.status.idle": "2024-12-13T11:27:07.932388Z",
     "shell.execute_reply": "2024-12-13T11:27:07.929587Z",
     "shell.execute_reply.started": "2024-12-13T11:27:07.912264Z"
    }
   },
   "outputs": [],
   "source": [
    "# Handle the NaT\n",
    "mean_value_of_dates = df[\"frame.time\"].dropna().mean()\n",
    "df[\"frame.time\"] = df[\"frame.time\"].fillna(mean_value_of_dates)"
   ]
  },
  {
   "cell_type": "code",
   "execution_count": 44,
   "metadata": {
    "execution": {
     "iopub.execute_input": "2024-12-13T11:28:37.035630Z",
     "iopub.status.busy": "2024-12-13T11:28:37.034051Z",
     "iopub.status.idle": "2024-12-13T11:28:37.043846Z",
     "shell.execute_reply": "2024-12-13T11:28:37.043846Z",
     "shell.execute_reply.started": "2024-12-13T11:28:37.035630Z"
    }
   },
   "outputs": [
    {
     "data": {
      "text/plain": [
       "ip.src_host                  int64\n",
       "ip.dst_host                  int64\n",
       "arp.dst.proto_ipv4           int64\n",
       "arp.opcode                 float64\n",
       "arp.hw.size                float64\n",
       "arp.src.proto_ipv4           int64\n",
       "icmp.checksum              float64\n",
       "icmp.seq_le                float64\n",
       "icmp.transmit_timestamp    float64\n",
       "tcp.ack                    float64\n",
       "tcp.ack_raw                float64\n",
       "tcp.checksum               float64\n",
       "udp.port                   float64\n",
       "udp.stream                 float64\n",
       "udp.time_delta             float64\n",
       "Attack_label                 int64\n",
       "Attack_type                 object\n",
       "year                       float64\n",
       "month                      float64\n",
       "day                        float64\n",
       "hour                       float64\n",
       "minute                     float64\n",
       "second                     float64\n",
       "microsecond                float64\n",
       "dtype: object"
      ]
     },
     "execution_count": 44,
     "metadata": {},
     "output_type": "execute_result"
    }
   ],
   "source": [
    "df.dtypes"
   ]
  },
  {
   "cell_type": "code",
   "execution_count": 35,
   "metadata": {
    "execution": {
     "iopub.execute_input": "2024-12-13T11:27:17.775082Z",
     "iopub.status.busy": "2024-12-13T11:27:17.774067Z",
     "iopub.status.idle": "2024-12-13T11:27:17.796699Z",
     "shell.execute_reply": "2024-12-13T11:27:17.795691Z",
     "shell.execute_reply.started": "2024-12-13T11:27:17.775082Z"
    }
   },
   "outputs": [
    {
     "data": {
      "text/plain": [
       "15"
      ]
     },
     "execution_count": 35,
     "metadata": {},
     "output_type": "execute_result"
    }
   ],
   "source": [
    "len(df[\"Attack_type\"].unique())"
   ]
  },
  {
   "cell_type": "code",
   "execution_count": 36,
   "metadata": {
    "execution": {
     "iopub.execute_input": "2024-12-13T11:27:19.680415Z",
     "iopub.status.busy": "2024-12-13T11:27:19.679405Z",
     "iopub.status.idle": "2024-12-13T11:27:19.746170Z",
     "shell.execute_reply": "2024-12-13T11:27:19.745164Z",
     "shell.execute_reply.started": "2024-12-13T11:27:19.680415Z"
    },
    "id": "mU9Gv3gFGNNY"
   },
   "outputs": [],
   "source": [
    "df['year'] = df['frame.time'].dt.year\n",
    "df['month'] = df['frame.time'].dt.month\n",
    "df['day'] = df['frame.time'].dt.day\n",
    "df['hour'] = df['frame.time'].dt.hour\n",
    "df['minute'] = df['frame.time'].dt.minute\n",
    "df['second'] = df['frame.time'].dt.second\n",
    "df['microsecond'] = df['frame.time'].dt.microsecond"
   ]
  },
  {
   "cell_type": "code",
   "execution_count": 27,
   "metadata": {
    "colab": {
     "base_uri": "https://localhost:8080/"
    },
    "execution": {
     "iopub.execute_input": "2024-12-13T11:27:19.749187Z",
     "iopub.status.busy": "2024-12-13T11:27:19.747179Z",
     "iopub.status.idle": "2024-12-13T11:27:19.758047Z",
     "shell.execute_reply": "2024-12-13T11:27:19.756027Z",
     "shell.execute_reply.started": "2024-12-13T11:27:19.749187Z"
    },
    "id": "lEj0KjoPfqMA",
    "outputId": "4897ee79-1d7a-435f-daa4-255f9cd21ef8"
   },
   "outputs": [
    {
     "data": {
      "text/plain": [
       "(157800, 29)"
      ]
     },
     "execution_count": 27,
     "metadata": {},
     "output_type": "execute_result"
    }
   ],
   "source": [
    "df.shape"
   ]
  },
  {
   "cell_type": "code",
   "execution_count": 37,
   "metadata": {
    "execution": {
     "iopub.execute_input": "2024-12-13T11:27:23.606294Z",
     "iopub.status.busy": "2024-12-13T11:27:23.606294Z",
     "iopub.status.idle": "2024-12-13T11:27:23.643936Z",
     "shell.execute_reply": "2024-12-13T11:27:23.642926Z",
     "shell.execute_reply.started": "2024-12-13T11:27:23.606294Z"
    },
    "id": "5jeLf8SaGQTO"
   },
   "outputs": [],
   "source": [
    "df.drop(\"frame.time\", axis = 1, inplace = True)"
   ]
  },
  {
   "cell_type": "code",
   "execution_count": 60,
   "metadata": {
    "colab": {
     "base_uri": "https://localhost:8080/",
     "height": 962
    },
    "execution": {
     "iopub.execute_input": "2024-12-12T16:48:34.752383Z",
     "iopub.status.busy": "2024-12-12T16:48:34.752383Z",
     "iopub.status.idle": "2024-12-12T16:48:34.793437Z",
     "shell.execute_reply": "2024-12-12T16:48:34.792420Z",
     "shell.execute_reply.started": "2024-12-12T16:48:34.752383Z"
    },
    "id": "jyeoO5gG8vVa",
    "outputId": "73dbd0ea-9326-423f-8082-2e8e02d79cb4"
   },
   "outputs": [
    {
     "data": {
      "text/plain": [
       "ip.src_host                0\n",
       "ip.dst_host                0\n",
       "arp.dst.proto_ipv4         0\n",
       "arp.opcode                 0\n",
       "arp.hw.size                0\n",
       "arp.src.proto_ipv4         0\n",
       "icmp.checksum              0\n",
       "icmp.seq_le                0\n",
       "icmp.transmit_timestamp    0\n",
       "icmp.unused                0\n",
       "tcp.ack                    0\n",
       "tcp.ack_raw                0\n",
       "tcp.checksum               0\n",
       "udp.port                   0\n",
       "udp.stream                 0\n",
       "udp.time_delta             0\n",
       "mbtcp.len                  0\n",
       "mbtcp.trans_id             0\n",
       "mbtcp.unit_id              0\n",
       "Attack_label               0\n",
       "Attack_type                0\n",
       "year                       0\n",
       "month                      0\n",
       "day                        0\n",
       "hour                       0\n",
       "minute                     0\n",
       "second                     0\n",
       "microsecond                0\n",
       "dtype: int64"
      ]
     },
     "execution_count": 60,
     "metadata": {},
     "output_type": "execute_result"
    }
   ],
   "source": [
    "df.isna().sum()"
   ]
  },
  {
   "cell_type": "code",
   "execution_count": 14,
   "metadata": {
    "colab": {
     "base_uri": "https://localhost:8080/"
    },
    "execution": {
     "iopub.execute_input": "2024-12-13T11:27:28.487082Z",
     "iopub.status.busy": "2024-12-13T11:27:28.486082Z",
     "iopub.status.idle": "2024-12-13T11:27:28.524888Z",
     "shell.execute_reply": "2024-12-13T11:27:28.523873Z",
     "shell.execute_reply.started": "2024-12-13T11:27:28.487082Z"
    },
    "id": "zFuFrYoc_ahq",
    "outputId": "84bff829-2d6e-4bd8-fb14-f0256efd080d"
   },
   "outputs": [
    {
     "data": {
      "text/plain": [
       "['icmp.unused', 'mbtcp.len', 'mbtcp.trans_id', 'mbtcp.unit_id']"
      ]
     },
     "execution_count": 14,
     "metadata": {},
     "output_type": "execute_result"
    }
   ],
   "source": [
    "# checking columns with the 0.0 value in each row\n",
    "zero_col_list = []\n",
    "def zero_col(df):\n",
    "  for col in df.columns:\n",
    "    if (df[col] == 0.0).all():\n",
    "      zero_col_list.append(col)\n",
    "zero_col(df)\n",
    "zero_col_list"
   ]
  },
  {
   "cell_type": "code",
   "execution_count": 15,
   "metadata": {
    "colab": {
     "base_uri": "https://localhost:8080/"
    },
    "execution": {
     "iopub.execute_input": "2024-12-13T11:27:31.351342Z",
     "iopub.status.busy": "2024-12-13T11:27:31.350344Z",
     "iopub.status.idle": "2024-12-13T11:27:31.387008Z",
     "shell.execute_reply": "2024-12-13T11:27:31.385993Z",
     "shell.execute_reply.started": "2024-12-13T11:27:31.351342Z"
    },
    "id": "LVBAQIhsBbDG",
    "outputId": "134ed9d5-3a52-4cc2-ade1-67feeecafc30"
   },
   "outputs": [
    {
     "name": "stdout",
     "output_type": "stream",
     "text": [
      "24\n"
     ]
    }
   ],
   "source": [
    "# droping the columns containing only 0.0 in each rows\n",
    "df.drop(zero_col_list, axis = 1, inplace = True)\n",
    "print(df.columns.nunique())"
   ]
  },
  {
   "cell_type": "code",
   "execution_count": 16,
   "metadata": {
    "execution": {
     "iopub.execute_input": "2024-12-13T11:27:35.144219Z",
     "iopub.status.busy": "2024-12-13T11:27:35.143193Z",
     "iopub.status.idle": "2024-12-13T11:27:35.160275Z",
     "shell.execute_reply": "2024-12-13T11:27:35.159263Z",
     "shell.execute_reply.started": "2024-12-13T11:27:35.144219Z"
    }
   },
   "outputs": [
    {
     "data": {
      "text/plain": [
       "15"
      ]
     },
     "execution_count": 16,
     "metadata": {},
     "output_type": "execute_result"
    }
   ],
   "source": [
    "len(df[\"Attack_type\"].unique())"
   ]
  },
  {
   "cell_type": "code",
   "execution_count": 33,
   "metadata": {
    "execution": {
     "iopub.execute_input": "2024-12-13T11:27:37.606323Z",
     "iopub.status.busy": "2024-12-13T11:27:37.605322Z",
     "iopub.status.idle": "2024-12-13T11:27:37.624375Z",
     "shell.execute_reply": "2024-12-13T11:27:37.623364Z",
     "shell.execute_reply.started": "2024-12-13T11:27:37.606323Z"
    }
   },
   "outputs": [
    {
     "data": {
      "text/plain": [
       "array(['MITM', 'Fingerprinting', 'Ransomware', 'Uploading',\n",
       "       'SQL_injection', 'DDoS_HTTP', 'DDoS_TCP', 'Password',\n",
       "       'Port_Scanning', 'Vulnerability_scanner', 'Backdoor', 'XSS',\n",
       "       'Normal', 'DDoS_UDP', 'DDoS_ICMP'], dtype=object)"
      ]
     },
     "execution_count": 33,
     "metadata": {},
     "output_type": "execute_result"
    }
   ],
   "source": [
    "df[\"Attack_type\"].unique()"
   ]
  },
  {
   "cell_type": "code",
   "execution_count": 36,
   "metadata": {
    "execution": {
     "iopub.execute_input": "2024-12-12T14:50:13.597586Z",
     "iopub.status.busy": "2024-12-12T14:50:13.597586Z",
     "iopub.status.idle": "2024-12-12T14:50:16.357951Z",
     "shell.execute_reply": "2024-12-12T14:50:16.356940Z",
     "shell.execute_reply.started": "2024-12-12T14:50:13.597586Z"
    },
    "id": "uhjkJMsXgOpU"
   },
   "outputs": [],
   "source": [
    "df.to_csv(\"cleaned_dataset.csv\", index = False)"
   ]
  },
  {
   "cell_type": "code",
   "execution_count": null,
   "metadata": {
    "colab": {
     "base_uri": "https://localhost:8080/",
     "height": 210
    },
    "id": "O0bTVXvn-C54",
    "outputId": "113a53dc-3e69-4684-e744-49d3426c6fca",
    "scrolled": true
   },
   "outputs": [
    {
     "data": {
      "text/html": [
       "<div>\n",
       "<style scoped>\n",
       "    .dataframe tbody tr th:only-of-type {\n",
       "        vertical-align: middle;\n",
       "    }\n",
       "\n",
       "    .dataframe tbody tr th {\n",
       "        vertical-align: top;\n",
       "    }\n",
       "\n",
       "    .dataframe thead th {\n",
       "        text-align: right;\n",
       "    }\n",
       "</style>\n",
       "<table border=\"1\" class=\"dataframe\">\n",
       "  <thead>\n",
       "    <tr style=\"text-align: right;\">\n",
       "      <th></th>\n",
       "      <th>count</th>\n",
       "    </tr>\n",
       "  </thead>\n",
       "  <tbody>\n",
       "    <tr>\n",
       "      <th>float64</th>\n",
       "      <td>11</td>\n",
       "    </tr>\n",
       "    <tr>\n",
       "      <th>int32</th>\n",
       "      <td>7</td>\n",
       "    </tr>\n",
       "    <tr>\n",
       "      <th>int64</th>\n",
       "      <td>5</td>\n",
       "    </tr>\n",
       "    <tr>\n",
       "      <th>object</th>\n",
       "      <td>1</td>\n",
       "    </tr>\n",
       "  </tbody>\n",
       "</table>\n",
       "</div><br><label><b>dtype:</b> int64</label>"
      ],
      "text/plain": [
       "float64    11\n",
       "int32       7\n",
       "int64       5\n",
       "object      1\n",
       "Name: count, dtype: int64"
      ]
     },
     "execution_count": 98,
     "metadata": {},
     "output_type": "execute_result"
    }
   ],
   "source": [
    "df.dtypes.value_counts()"
   ]
  },
  {
   "cell_type": "code",
   "execution_count": null,
   "metadata": {
    "colab": {
     "base_uri": "https://localhost:8080/"
    },
    "id": "o9fL2AOljhLX",
    "outputId": "8599a0ea-610f-4af5-b42c-bbcbee96f9c3"
   },
   "outputs": [
    {
     "data": {
      "text/plain": [
       "24"
      ]
     },
     "execution_count": 99,
     "metadata": {},
     "output_type": "execute_result"
    }
   ],
   "source": [
    "df.columns.nunique()"
   ]
  },
  {
   "cell_type": "code",
   "execution_count": null,
   "metadata": {
    "colab": {
     "base_uri": "https://localhost:8080/"
    },
    "id": "aVsmwHWg9UKc",
    "outputId": "df801e0d-fc00-4cdf-f597-9fe845efa0a1"
   },
   "outputs": [
    {
     "name": "stdout",
     "output_type": "stream",
     "text": [
      "<class 'pandas.core.frame.DataFrame'>\n",
      "Index: 142095 entries, 1214 to 157799\n",
      "Data columns (total 24 columns):\n",
      " #   Column                   Non-Null Count   Dtype  \n",
      "---  ------                   --------------   -----  \n",
      " 0   ip.src_host              142095 non-null  int64  \n",
      " 1   ip.dst_host              142095 non-null  int64  \n",
      " 2   arp.dst.proto_ipv4       142095 non-null  int64  \n",
      " 3   arp.opcode               142095 non-null  float64\n",
      " 4   arp.hw.size              142095 non-null  float64\n",
      " 5   arp.src.proto_ipv4       142095 non-null  int64  \n",
      " 6   icmp.checksum            142095 non-null  float64\n",
      " 7   icmp.seq_le              142095 non-null  float64\n",
      " 8   icmp.transmit_timestamp  142095 non-null  float64\n",
      " 9   tcp.ack                  142095 non-null  float64\n",
      " 10  tcp.ack_raw              142095 non-null  float64\n",
      " 11  tcp.checksum             142095 non-null  float64\n",
      " 12  udp.port                 142095 non-null  float64\n",
      " 13  udp.stream               142095 non-null  float64\n",
      " 14  udp.time_delta           142095 non-null  float64\n",
      " 15  Attack_label             142095 non-null  int64  \n",
      " 16  Attack_type              142095 non-null  object \n",
      " 17  year                     142095 non-null  int32  \n",
      " 18  month                    142095 non-null  int32  \n",
      " 19  day                      142095 non-null  int32  \n",
      " 20  hour                     142095 non-null  int32  \n",
      " 21  minute                   142095 non-null  int32  \n",
      " 22  second                   142095 non-null  int32  \n",
      " 23  microsecond              142095 non-null  int32  \n",
      "dtypes: float64(11), int32(7), int64(5), object(1)\n",
      "memory usage: 23.3+ MB\n"
     ]
    }
   ],
   "source": [
    "df.info()"
   ]
  },
  {
   "cell_type": "code",
   "execution_count": null,
   "metadata": {
    "colab": {
     "base_uri": "https://localhost:8080/"
    },
    "id": "lhIKnpFSEA3e",
    "outputId": "1fe5f0ce-8f69-40c5-8f8e-4a4e14c7b9e7"
   },
   "outputs": [
    {
     "data": {
      "text/plain": [
       "(142095, 24)"
      ]
     },
     "execution_count": 101,
     "metadata": {},
     "output_type": "execute_result"
    }
   ],
   "source": [
    "df.shape"
   ]
  },
  {
   "cell_type": "code",
   "execution_count": null,
   "metadata": {
    "colab": {
     "base_uri": "https://localhost:8080/"
    },
    "id": "o1kPvMBqEChB",
    "outputId": "2033597b-82ba-4482-ffc6-c4375d4f21a9"
   },
   "outputs": [
    {
     "name": "stdout",
     "output_type": "stream",
     "text": [
      "Index(['Attack_type'], dtype='object')\n"
     ]
    }
   ],
   "source": [
    "print(df.select_dtypes(include = \"object\").columns)"
   ]
  },
  {
   "cell_type": "code",
   "execution_count": null,
   "metadata": {
    "colab": {
     "base_uri": "https://localhost:8080/"
    },
    "id": "NXS_Od4cFkAA",
    "outputId": "c19b519b-5019-40d7-b88a-bb3fcd0abba0"
   },
   "outputs": [
    {
     "name": "stdout",
     "output_type": "stream",
     "text": [
      "Index(['ip.src_host', 'ip.dst_host', 'arp.dst.proto_ipv4', 'arp.opcode',\n",
      "       'arp.hw.size', 'arp.src.proto_ipv4', 'icmp.checksum', 'icmp.seq_le',\n",
      "       'icmp.transmit_timestamp', 'tcp.ack', 'tcp.ack_raw', 'tcp.checksum',\n",
      "       'udp.port', 'udp.stream', 'udp.time_delta', 'Attack_label'],\n",
      "      dtype='object')\n"
     ]
    }
   ],
   "source": [
    "print(df.select_dtypes(include = [\"float64\", \"int64\"]).columns)"
   ]
  },
  {
   "cell_type": "code",
   "execution_count": 24,
   "metadata": {
    "colab": {
     "base_uri": "https://localhost:8080/",
     "height": 210
    },
    "execution": {
     "iopub.execute_input": "2024-12-13T10:20:36.414151Z",
     "iopub.status.busy": "2024-12-13T10:20:36.414151Z",
     "iopub.status.idle": "2024-12-13T10:20:36.437685Z",
     "shell.execute_reply": "2024-12-13T10:20:36.435660Z",
     "shell.execute_reply.started": "2024-12-13T10:20:36.414151Z"
    },
    "id": "22FbMV-m--ks",
    "outputId": "cc087e5b-f017-4a15-e376-f4faf2270269"
   },
   "outputs": [
    {
     "data": {
      "text/plain": [
       "float64    18\n",
       "int64       5\n",
       "object      1\n",
       "Name: count, dtype: int64"
      ]
     },
     "execution_count": 24,
     "metadata": {},
     "output_type": "execute_result"
    }
   ],
   "source": [
    "df.dtypes.value_counts()"
   ]
  },
  {
   "cell_type": "markdown",
   "metadata": {
    "id": "GRSgzYqYC6aW"
   },
   "source": [
    "Handling other object types"
   ]
  },
  {
   "cell_type": "code",
   "execution_count": null,
   "metadata": {
    "colab": {
     "base_uri": "https://localhost:8080/"
    },
    "id": "57ktGMIX-LZV",
    "outputId": "a32bec0f-a1c2-4448-9b5b-8fc52bb7eb4b"
   },
   "outputs": [
    {
     "name": "stdout",
     "output_type": "stream",
     "text": [
      "The object attributes including labels:  Index(['Attack_type'], dtype='object')\n",
      "The object type attributes excluding labels:  []\n"
     ]
    }
   ],
   "source": [
    "print(\"The object attributes including labels: \", df.select_dtypes(include = \"object\").columns)\n",
    "cat_cols = df.select_dtypes(include = \"object\").columns\n",
    "cat_cols = [item for item in cat_cols if item not in [\"Attack_label\", \"Attack_type\"]]\n",
    "print(\"The object type attributes excluding labels: \", cat_cols)"
   ]
  },
  {
   "cell_type": "code",
   "execution_count": null,
   "metadata": {
    "colab": {
     "base_uri": "https://localhost:8080/"
    },
    "id": "z7O4KjezDaNp",
    "outputId": "5c4e3cf6-fcd0-463d-c66f-ee94892bc3ac"
   },
   "outputs": [
    {
     "data": {
      "text/plain": [
       "Index([], dtype='object')"
      ]
     },
     "execution_count": 108,
     "metadata": {},
     "output_type": "execute_result"
    }
   ],
   "source": [
    "df[cat_cols] = df[cat_cols].astype(\"category\")\n",
    "df[cat_cols].columns"
   ]
  },
  {
   "cell_type": "code",
   "execution_count": null,
   "metadata": {
    "colab": {
     "base_uri": "https://localhost:8080/",
     "height": 84
    },
    "id": "XgcqMSqODiH5",
    "outputId": "fae61e4e-7fbe-4345-a775-0728f575d5b8"
   },
   "outputs": [
    {
     "data": {
      "text/html": [
       "<div>\n",
       "<style scoped>\n",
       "    .dataframe tbody tr th:only-of-type {\n",
       "        vertical-align: middle;\n",
       "    }\n",
       "\n",
       "    .dataframe tbody tr th {\n",
       "        vertical-align: top;\n",
       "    }\n",
       "\n",
       "    .dataframe thead th {\n",
       "        text-align: right;\n",
       "    }\n",
       "</style>\n",
       "<table border=\"1\" class=\"dataframe\">\n",
       "  <thead>\n",
       "    <tr style=\"text-align: right;\">\n",
       "      <th></th>\n",
       "      <th>0</th>\n",
       "    </tr>\n",
       "  </thead>\n",
       "  <tbody>\n",
       "  </tbody>\n",
       "</table>\n",
       "</div><br><label><b>dtype:</b> object</label>"
      ],
      "text/plain": [
       "Series([], dtype: object)"
      ]
     },
     "execution_count": 109,
     "metadata": {},
     "output_type": "execute_result"
    }
   ],
   "source": [
    "df.dtypes[df.dtypes == \"category\"]"
   ]
  },
  {
   "cell_type": "code",
   "execution_count": null,
   "metadata": {
    "colab": {
     "base_uri": "https://localhost:8080/"
    },
    "id": "wt-I2T8c1Hip",
    "outputId": "ee230688-7997-403c-aa45-2b3d86c3d069"
   },
   "outputs": [
    {
     "data": {
      "text/plain": [
       "(142095, 24)"
      ]
     },
     "execution_count": 110,
     "metadata": {},
     "output_type": "execute_result"
    }
   ],
   "source": [
    "df.shape"
   ]
  },
  {
   "cell_type": "markdown",
   "metadata": {
    "id": "HEQqIwJgM89r"
   },
   "source": [
    "# Labels of Attack_type"
   ]
  },
  {
   "cell_type": "code",
   "execution_count": null,
   "metadata": {
    "colab": {
     "base_uri": "https://localhost:8080/",
     "height": 586
    },
    "id": "2dSbiGE-Jxje",
    "outputId": "c18d5fa4-e6f7-472e-af1e-dff29022bbf8"
   },
   "outputs": [
    {
     "data": {
      "text/html": [
       "<div>\n",
       "<style scoped>\n",
       "    .dataframe tbody tr th:only-of-type {\n",
       "        vertical-align: middle;\n",
       "    }\n",
       "\n",
       "    .dataframe tbody tr th {\n",
       "        vertical-align: top;\n",
       "    }\n",
       "\n",
       "    .dataframe thead th {\n",
       "        text-align: right;\n",
       "    }\n",
       "</style>\n",
       "<table border=\"1\" class=\"dataframe\">\n",
       "  <thead>\n",
       "    <tr style=\"text-align: right;\">\n",
       "      <th></th>\n",
       "      <th>count</th>\n",
       "    </tr>\n",
       "    <tr>\n",
       "      <th>Attack_type</th>\n",
       "      <th></th>\n",
       "    </tr>\n",
       "  </thead>\n",
       "  <tbody>\n",
       "    <tr>\n",
       "      <th>Normal</th>\n",
       "      <td>24301</td>\n",
       "    </tr>\n",
       "    <tr>\n",
       "      <th>DDoS_UDP</th>\n",
       "      <td>14498</td>\n",
       "    </tr>\n",
       "    <tr>\n",
       "      <th>DDoS_ICMP</th>\n",
       "      <td>14090</td>\n",
       "    </tr>\n",
       "    <tr>\n",
       "      <th>Ransomware</th>\n",
       "      <td>10925</td>\n",
       "    </tr>\n",
       "    <tr>\n",
       "      <th>DDoS_HTTP</th>\n",
       "      <td>10561</td>\n",
       "    </tr>\n",
       "    <tr>\n",
       "      <th>SQL_injection</th>\n",
       "      <td>10311</td>\n",
       "    </tr>\n",
       "    <tr>\n",
       "      <th>Uploading</th>\n",
       "      <td>10269</td>\n",
       "    </tr>\n",
       "    <tr>\n",
       "      <th>DDoS_TCP</th>\n",
       "      <td>10247</td>\n",
       "    </tr>\n",
       "    <tr>\n",
       "      <th>Backdoor</th>\n",
       "      <td>10195</td>\n",
       "    </tr>\n",
       "    <tr>\n",
       "      <th>Vulnerability_scanner</th>\n",
       "      <td>10076</td>\n",
       "    </tr>\n",
       "    <tr>\n",
       "      <th>Port_Scanning</th>\n",
       "      <td>10071</td>\n",
       "    </tr>\n",
       "    <tr>\n",
       "      <th>XSS</th>\n",
       "      <td>10052</td>\n",
       "    </tr>\n",
       "    <tr>\n",
       "      <th>Password</th>\n",
       "      <td>9989</td>\n",
       "    </tr>\n",
       "    <tr>\n",
       "      <th>MITM</th>\n",
       "      <td>1214</td>\n",
       "    </tr>\n",
       "    <tr>\n",
       "      <th>Fingerprinting</th>\n",
       "      <td>1001</td>\n",
       "    </tr>\n",
       "  </tbody>\n",
       "</table>\n",
       "</div><br><label><b>dtype:</b> int64</label>"
      ],
      "text/plain": [
       "Attack_type\n",
       "Normal                   24301\n",
       "DDoS_UDP                 14498\n",
       "DDoS_ICMP                14090\n",
       "Ransomware               10925\n",
       "DDoS_HTTP                10561\n",
       "SQL_injection            10311\n",
       "Uploading                10269\n",
       "DDoS_TCP                 10247\n",
       "Backdoor                 10195\n",
       "Vulnerability_scanner    10076\n",
       "Port_Scanning            10071\n",
       "XSS                      10052\n",
       "Password                  9989\n",
       "MITM                      1214\n",
       "Fingerprinting            1001\n",
       "Name: count, dtype: int64"
      ]
     },
     "execution_count": 111,
     "metadata": {},
     "output_type": "execute_result"
    }
   ],
   "source": [
    "# now handling the Attack_type categories\n",
    "df_types[\"Attack_type\"].value_counts()"
   ]
  },
  {
   "cell_type": "markdown",
   "metadata": {
    "id": "joaHOW7jNk4l"
   },
   "source": [
    "# Visualizations"
   ]
  },
  {
   "cell_type": "code",
   "execution_count": 35,
   "metadata": {
    "colab": {
     "base_uri": "https://localhost:8080/",
     "height": 519
    },
    "execution": {
     "iopub.execute_input": "2024-12-13T11:27:45.768641Z",
     "iopub.status.busy": "2024-12-13T11:27:45.767644Z",
     "iopub.status.idle": "2024-12-13T11:27:46.457210Z",
     "shell.execute_reply": "2024-12-13T11:27:46.456201Z",
     "shell.execute_reply.started": "2024-12-13T11:27:45.768641Z"
    },
    "id": "8FzB55EZEpr7",
    "outputId": "fa0aaec8-e8bc-4d16-b41c-7c4c5acd64e8"
   },
   "outputs": [
    {
     "name": "stderr",
     "output_type": "stream",
     "text": [
      "C:\\Users\\nitin\\AppData\\Local\\Temp\\ipykernel_10032\\3277684605.py:5: UserWarning: set_ticklabels() should only be used with a fixed number of ticks, i.e. after set_ticks() or using a FixedLocator.\n",
      "  axes[0].set_xticklabels(top_srcs.index, rotation = 90)\n",
      "C:\\Users\\nitin\\AppData\\Local\\Temp\\ipykernel_10032\\3277684605.py:13: UserWarning: set_ticklabels() should only be used with a fixed number of ticks, i.e. after set_ticks() or using a FixedLocator.\n",
      "  axes[1].set_xticklabels(top_dsts.index, rotation = 90)\n"
     ]
    },
    {
     "data": {
      "image/png": "[encoded data removed]",
      "text/plain": [
       "<Figure size 1500x500 with 2 Axes>"
      ]
     },
     "metadata": {},
     "output_type": "display_data"
    }
   ],
   "source": [
    "# top sources\n",
    "fig, axes = plt.subplots(1, 2, figsize = (15, 5))\n",
    "top_srcs = visual_df[\"ip.src_host\"].value_counts().head(10)\n",
    "sns.barplot(x = top_srcs.index, y = top_srcs, ax = axes[0])\n",
    "axes[0].set_xticklabels(top_srcs.index, rotation = 90)\n",
    "axes[0].set_xlabel(\"Source IP\")\n",
    "axes[0].set_ylabel(\"Count\")\n",
    "axes[0].set_title(\"Top 10 Source IP\")\n",
    "\n",
    "# top destinations\n",
    "top_dsts = visual_df[\"ip.dst_host\"].value_counts().head(10)\n",
    "sns.barplot(x = top_dsts.index, y = top_srcs, ax = axes[1])\n",
    "axes[1].set_xticklabels(top_dsts.index, rotation = 90)\n",
    "axes[1].set_xlabel(\"Destination IP\")\n",
    "axes[1].set_ylabel(\"Count\")\n",
    "axes[1].set_title(\"Top 10 Destination IP\")\n",
    "plt.tight_layout()\n",
    "plt.show()"
   ]
  },
  {
   "cell_type": "code",
   "execution_count": 36,
   "metadata": {
    "colab": {
     "base_uri": "https://localhost:8080/",
     "height": 241
    },
    "execution": {
     "iopub.execute_input": "2024-12-13T11:27:46.459220Z",
     "iopub.status.busy": "2024-12-13T11:27:46.458218Z",
     "iopub.status.idle": "2024-12-13T11:27:47.133508Z",
     "shell.execute_reply": "2024-12-13T11:27:47.132493Z",
     "shell.execute_reply.started": "2024-12-13T11:27:46.459220Z"
    },
    "id": "SvWkHvw5Fbr7",
    "outputId": "9521727a-576c-4d6d-bb90-e620ed5d1283"
   },
   "outputs": [
    {
     "data": {
      "text/plain": [
       "Attack_label          1.000000\n",
       "icmp.seq_le           0.121194\n",
       "icmp.checksum         0.116663\n",
       "udp.stream            0.110240\n",
       "tcp.connection.syn    0.101786\n",
       "Name: Attack_label, dtype: float64"
      ]
     },
     "execution_count": 36,
     "metadata": {},
     "output_type": "execute_result"
    }
   ],
   "source": [
    "numerical_df = visual_df.select_dtypes(include = [\"float64\", \"int64\"])\n",
    "numerical_df.corr()[\"Attack_label\"].sort_values(ascending = False).head()"
   ]
  },
  {
   "cell_type": "code",
   "execution_count": null,
   "metadata": {
    "colab": {
     "base_uri": "https://localhost:8080/",
     "height": 617
    },
    "id": "FJd80PQlJg2E",
    "outputId": "fbd06484-5316-4026-8825-3bfd0ce2b09a"
   },
   "outputs": [
    {
     "data": {
      "text/plain": [
       "<Axes: >"
      ]
     },
     "execution_count": 114,
     "metadata": {},
     "output_type": "execute_result"
    },
    {
     "data": {
      "image/png": "[encoded data removed]",
      "text/plain": [
       "<Figure size 640x480 with 2 Axes>"
      ]
     },
     "metadata": {},
     "output_type": "display_data"
    }
   ],
   "source": [
    "sns.heatmap(numerical_df.corr())"
   ]
  },
  {
   "cell_type": "markdown",
   "metadata": {
    "id": "ktG9QCsdJ1FH"
   },
   "source": [
    "# Machine Learning Algo application"
   ]
  },
  {
   "cell_type": "code",
   "execution_count": 17,
   "metadata": {
    "execution": {
     "iopub.execute_input": "2024-12-13T11:27:50.358688Z",
     "iopub.status.busy": "2024-12-13T11:27:50.357688Z",
     "iopub.status.idle": "2024-12-13T11:27:50.806855Z",
     "shell.execute_reply": "2024-12-13T11:27:50.803942Z",
     "shell.execute_reply.started": "2024-12-13T11:27:50.358688Z"
    },
    "id": "iJqg0ZViJ6pY"
   },
   "outputs": [],
   "source": [
    "from sklearn.linear_model import LogisticRegression\n",
    "from sklearn.discriminant_analysis import LinearDiscriminantAnalysis\n",
    "from sklearn.neighbors import KNeighborsClassifier\n",
    "from sklearn.tree import DecisionTreeClassifier\n",
    "from sklearn.naive_bayes import GaussianNB\n",
    "from sklearn.svm import SVC\n",
    "from sklearn.model_selection import KFold\n",
    "from sklearn.model_selection import cross_val_score\n",
    "from sklearn.ensemble import RandomForestClassifier\n",
    "from sklearn.model_selection import train_test_split\n",
    "from imblearn.over_sampling import RandomOverSampler"
   ]
  },
  {
   "cell_type": "code",
   "execution_count": 18,
   "metadata": {
    "execution": {
     "iopub.execute_input": "2024-12-13T11:27:51.214384Z",
     "iopub.status.busy": "2024-12-13T11:27:51.212875Z",
     "iopub.status.idle": "2024-12-13T11:27:51.221363Z",
     "shell.execute_reply": "2024-12-13T11:27:51.220352Z",
     "shell.execute_reply.started": "2024-12-13T11:27:51.214384Z"
    },
    "id": "5jSW9hs5lPpQ"
   },
   "outputs": [],
   "source": [
    "# Evaluation metrics\n",
    "from sklearn.metrics import accuracy_score, precision_score, recall_score, f1_score, roc_auc_score, confusion_matrix, classification_report"
   ]
  },
  {
   "cell_type": "markdown",
   "metadata": {
    "id": "yr10X0VsUbvo"
   },
   "source": [
    "# Binary class Modelling"
   ]
  },
  {
   "cell_type": "code",
   "execution_count": 23,
   "metadata": {
    "colab": {
     "base_uri": "https://localhost:8080/",
     "height": 178
    },
    "execution": {
     "iopub.execute_input": "2024-12-12T16:31:45.429711Z",
     "iopub.status.busy": "2024-12-12T16:31:45.428701Z",
     "iopub.status.idle": "2024-12-12T16:31:45.566252Z",
     "shell.execute_reply": "2024-12-12T16:31:45.565217Z",
     "shell.execute_reply.started": "2024-12-12T16:31:45.429711Z"
    },
    "id": "RtrC1AuvlPpR",
    "outputId": "7add8b99-dd67-4780-bfd9-59baf3c66ef6"
   },
   "outputs": [
    {
     "data": {
      "text/plain": [
       "Attack_label\n",
       "1    133499\n",
       "0     24301\n",
       "Name: count, dtype: int64"
      ]
     },
     "execution_count": 23,
     "metadata": {},
     "output_type": "execute_result"
    }
   ],
   "source": [
    "df1 = df.copy()\n",
    "df1 = df1.drop([\"Attack_type\"], axis = 1)\n",
    "df1[\"Attack_label\"].value_counts()"
   ]
  },
  {
   "cell_type": "code",
   "execution_count": 24,
   "metadata": {
    "execution": {
     "iopub.execute_input": "2024-12-12T16:31:46.861574Z",
     "iopub.status.busy": "2024-12-12T16:31:46.860578Z",
     "iopub.status.idle": "2024-12-12T16:31:47.008156Z",
     "shell.execute_reply": "2024-12-12T16:31:47.008156Z",
     "shell.execute_reply.started": "2024-12-12T16:31:46.861574Z"
    },
    "id": "zeYDBPGEKFmF"
   },
   "outputs": [],
   "source": [
    "from sklearn.model_selection import train_test_split\n",
    "from sklearn.metrics import classification_report\n",
    "X_bin = df1.drop([\"Attack_label\"], axis = 1)\n",
    "y_bin = df1[\"Attack_label\"]\n",
    "X_train_bin, X_test_bin, y_train_bin, y_test_bin = train_test_split(X_bin, y_bin, train_size = 0.8)\n",
    "eval_scores = []"
   ]
  },
  {
   "cell_type": "code",
   "execution_count": 25,
   "metadata": {
    "execution": {
     "iopub.execute_input": "2024-12-12T16:31:47.477027Z",
     "iopub.status.busy": "2024-12-12T16:31:47.476015Z",
     "iopub.status.idle": "2024-12-12T16:31:47.490194Z",
     "shell.execute_reply": "2024-12-12T16:31:47.488178Z",
     "shell.execute_reply.started": "2024-12-12T16:31:47.477027Z"
    },
    "id": "xW6eqnI5iTGh"
   },
   "outputs": [],
   "source": [
    "y_test_bin.unique()\n",
    "target_classes = ['Vulnerability_scanner', 'Normal', 'DDoS_ICMP', 'DDoS_HTTP',\n",
    "       'SQL_injection', 'Backdoor', 'Password', 'Port_Scanning',\n",
    "       'Ransomware', 'XSS', 'Uploading', 'DDoS_TCP', 'Fingerprinting']"
   ]
  },
  {
   "cell_type": "code",
   "execution_count": 26,
   "metadata": {
    "execution": {
     "iopub.execute_input": "2024-12-12T16:31:48.245356Z",
     "iopub.status.busy": "2024-12-12T16:31:48.244268Z",
     "iopub.status.idle": "2024-12-12T16:31:48.258702Z",
     "shell.execute_reply": "2024-12-12T16:31:48.256686Z",
     "shell.execute_reply.started": "2024-12-12T16:31:48.245356Z"
    },
    "id": "tRIgDAsClPpg"
   },
   "outputs": [],
   "source": [
    "def fun_for_model_binary(eval_scores):\n",
    "  models = []\n",
    "  models.append((\"LDA\", LinearDiscriminantAnalysis()))\n",
    "  models.append((\"KNN\", KNeighborsClassifier()))\n",
    "  models.append((\"CART\", DecisionTreeClassifier()))\n",
    "  models.append((\"NB\", GaussianNB(var_smoothing=1e-9)))\n",
    "  # models.append((\"SVC\", SVC(gamma = \"auto\")))\n",
    "  print(\"Models are: \")\n",
    "  for name, model in (models):\n",
    "    print( name)\n",
    "  print(models)\n",
    "  names = []\n",
    "  results = {}\n",
    "  for name, model in models:\n",
    "    print(name)\n",
    "    model.fit(X_train_bin, y_train_bin)\n",
    "    y_pred_bin = model.predict(X_test_bin)\n",
    "    y_proba_bin = model.predict_proba(X_test_bin)[:, 1] # probabilities of all positive 1-labeled columns\n",
    "    kfold_ = KFold(n_splits = 10, random_state = 10, shuffle = True)\n",
    "    names.append(name)\n",
    "    results = {\n",
    "        \"Model Name\": name,\n",
    "        \"accuracy_score\": accuracy_score(y_test_bin, y_pred_bin),\n",
    "        \"recall\": recall_score(y_test_bin, y_pred_bin),\n",
    "        \"f1_score\": f1_score(y_test_bin, y_pred_bin),\n",
    "        \"roc_auc_score\": roc_auc_score(y_test_bin, y_proba_bin),\n",
    "        \"confusion_metrix\": confusion_matrix(y_test_bin, y_pred_bin),\n",
    "        \"cross_val_score\": cross_val_score(model, X_bin, y_bin, scoring = \"accuracy\", cv = kfold_).mean(),\n",
    "        \"classification report\": classification_report(y_test_bin, y_pred_bin)\n",
    "    }\n",
    "    eval_scores.append(results)\n",
    "    # results_mean.append(cv_results.mean())\n",
    "    # msg = \"%s: %f (%f)\" % (model, cv_results.mean(), cv_results.std())\n",
    "    # print(msg)\n"
   ]
  },
  {
   "cell_type": "code",
   "execution_count": 27,
   "metadata": {
    "execution": {
     "iopub.execute_input": "2024-12-12T16:31:49.005523Z",
     "iopub.status.busy": "2024-12-12T16:31:49.004525Z",
     "iopub.status.idle": "2024-12-12T16:31:49.013339Z",
     "shell.execute_reply": "2024-12-12T16:31:49.012327Z",
     "shell.execute_reply.started": "2024-12-12T16:31:49.005523Z"
    },
    "id": "zJadrqdF4k0B"
   },
   "outputs": [],
   "source": [
    "def fun_eval_model_binary(eval_scores):\n",
    "  print(\"Results of the Binary Classification:\\n\\n\")\n",
    "  choice = 0\n",
    "  #choice = int(input(\"Want to skip confusion_matrix and classification_report (0/1):\"))\n",
    "  if choice == 1: print(\"Confusion Matrix Skipped for better formatting !\\n\")\n",
    "\n",
    "  for eval in eval_scores:\n",
    "    for key, value in eval.items():\n",
    "      if choice and (key == \"confusion_metrix\" or key == \"classification report\"): continue\n",
    "      print(\"\\t\", key, value)\n",
    "    print(\"-\" * 80)"
   ]
  },
  {
   "cell_type": "markdown",
   "metadata": {
    "id": "bKFs15CnQAqQ"
   },
   "source": [
    "* before undersampling"
   ]
  },
  {
   "cell_type": "code",
   "execution_count": 28,
   "metadata": {
    "colab": {
     "base_uri": "https://localhost:8080/",
     "height": 423
    },
    "execution": {
     "iopub.execute_input": "2024-12-12T16:31:50.782826Z",
     "iopub.status.busy": "2024-12-12T16:31:50.781836Z",
     "iopub.status.idle": "2024-12-12T16:31:51.070519Z",
     "shell.execute_reply": "2024-12-12T16:31:51.070519Z",
     "shell.execute_reply.started": "2024-12-12T16:31:50.782826Z"
    },
    "id": "cOFVVpc-OX-W",
    "outputId": "d3853927-f852-4767-9221-e92690352d32"
   },
   "outputs": [
    {
     "data": {
      "text/plain": [
       "<Axes: ylabel='count'>"
      ]
     },
     "execution_count": 28,
     "metadata": {},
     "output_type": "execute_result"
    },
    {
     "data": {
      "image/png": "[encoded data removed]",
      "text/plain": [
       "<Figure size 640x480 with 1 Axes>"
      ]
     },
     "metadata": {},
     "output_type": "display_data"
    }
   ],
   "source": [
    "y_bin.value_counts().plot.pie(autopct = \"%0.1f%%\")"
   ]
  },
  {
   "cell_type": "code",
   "execution_count": null,
   "metadata": {
    "colab": {
     "base_uri": "https://localhost:8080/"
    },
    "id": "VMUo8zWJ3_Aq",
    "outputId": "85348897-3656-4b93-cfd0-19b6e09c89d2"
   },
   "outputs": [
    {
     "name": "stdout",
     "output_type": "stream",
     "text": [
      "Models are: \n",
      "LDA\n",
      "KNN\n",
      "CART\n",
      "NB\n",
      "[('LDA', LinearDiscriminantAnalysis()), ('KNN', KNeighborsClassifier()), ('CART', DecisionTreeClassifier()), ('NB', GaussianNB())]\n",
      "LDA\n",
      "KNN\n",
      "CART\n",
      "NB\n",
      "Results of the Binary Classification:\n",
      "\n",
      "\n",
      "\t Model Name LDA\n",
      "\t accuracy_score 0.8483057109680143\n",
      "\t recall 0.988537465506262\n",
      "\t f1_score 0.9152728916491422\n",
      "\t roc_auc_score 0.6572893246070228\n",
      "\t confusion_metrix [[  823  4041]\n",
      " [  270 23285]]\n",
      "\t cross_val_score 0.8468629738741376\n",
      "\t classification report               precision    recall  f1-score   support\n",
      "\n",
      "           0       0.75      0.17      0.28      4864\n",
      "           1       0.85      0.99      0.92     23555\n",
      "\n",
      "    accuracy                           0.85     28419\n",
      "   macro avg       0.80      0.58      0.60     28419\n",
      "weighted avg       0.84      0.85      0.81     28419\n",
      "\n",
      "--------------------------------------------------------------------------------\n",
      "\t Model Name KNN\n",
      "\t accuracy_score 0.832999049931384\n",
      "\t recall 0.9461260878794311\n",
      "\t f1_score 0.9037673871608743\n",
      "\t roc_auc_score 0.7459505599646405\n",
      "\t confusion_metrix [[ 1387  3477]\n",
      " [ 1269 22286]]\n",
      "\t cross_val_score 0.8363981501847185\n",
      "\t classification report               precision    recall  f1-score   support\n",
      "\n",
      "           0       0.52      0.29      0.37      4864\n",
      "           1       0.87      0.95      0.90     23555\n",
      "\n",
      "    accuracy                           0.83     28419\n",
      "   macro avg       0.69      0.62      0.64     28419\n",
      "weighted avg       0.81      0.83      0.81     28419\n",
      "\n",
      "--------------------------------------------------------------------------------\n",
      "\t Model Name CART\n",
      "\t accuracy_score 0.9989091804778494\n",
      "\t recall 0.9992358310337508\n",
      "\t f1_score 0.9993418957647808\n",
      "\t roc_auc_score 0.998281566832665\n",
      "\t confusion_metrix [[ 4851    13]\n",
      " [   18 23537]]\n",
      "\t cross_val_score 0.9989936337442412\n",
      "\t classification report               precision    recall  f1-score   support\n",
      "\n",
      "           0       1.00      1.00      1.00      4864\n",
      "           1       1.00      1.00      1.00     23555\n",
      "\n",
      "    accuracy                           1.00     28419\n",
      "   macro avg       1.00      1.00      1.00     28419\n",
      "weighted avg       1.00      1.00      1.00     28419\n",
      "\n",
      "--------------------------------------------------------------------------------\n",
      "\t Model Name NB\n",
      "\t accuracy_score 0.2518033709842007\n",
      "\t recall 0.09959668860114625\n",
      "\t f1_score 0.18077441726064342\n",
      "\t roc_auc_score 0.5916386550514474\n",
      "\t confusion_metrix [[ 4810    54]\n",
      " [21209  2346]]\n",
      "\t cross_val_score 0.2503395678141373\n",
      "\t classification report               precision    recall  f1-score   support\n",
      "\n",
      "           0       0.18      0.99      0.31      4864\n",
      "           1       0.98      0.10      0.18     23555\n",
      "\n",
      "    accuracy                           0.25     28419\n",
      "   macro avg       0.58      0.54      0.25     28419\n",
      "weighted avg       0.84      0.25      0.20     28419\n",
      "\n",
      "--------------------------------------------------------------------------------\n"
     ]
    }
   ],
   "source": [
    "eval_scores = []\n",
    "fun_for_model_binary(eval_scores)\n",
    "fun_eval_model_binary(eval_scores)"
   ]
  },
  {
   "cell_type": "markdown",
   "metadata": {
    "id": "es74vSslRLr8"
   },
   "source": [
    "* After oversampling of non-majority class = **0**"
   ]
  },
  {
   "cell_type": "code",
   "execution_count": null,
   "metadata": {
    "id": "3z0XHxIQRLWk"
   },
   "outputs": [],
   "source": [
    "ros = RandomOverSampler(sampling_strategy = \"minority\")\n",
    "X_resampled_bin, y_resampled_bin = ros.fit_resample(X_bin, y_bin)"
   ]
  },
  {
   "cell_type": "code",
   "execution_count": null,
   "metadata": {
    "colab": {
     "base_uri": "https://localhost:8080/",
     "height": 423
    },
    "id": "4dAm2oZVRikM",
    "outputId": "e327f05f-9e44-40c5-e48f-eda2b79ee158"
   },
   "outputs": [
    {
     "data": {
      "text/plain": [
       "<Axes: ylabel='count'>"
      ]
     },
     "execution_count": 125,
     "metadata": {},
     "output_type": "execute_result"
    },
    {
     "data": {
      "image/png": "[encoded data removed]",
      "text/plain": [
       "<Figure size 640x480 with 1 Axes>"
      ]
     },
     "metadata": {},
     "output_type": "display_data"
    }
   ],
   "source": [
    "y_resampled_bin.value_counts().plot.pie(autopct = \"%0.1f%%\")"
   ]
  },
  {
   "cell_type": "code",
   "execution_count": null,
   "metadata": {
    "colab": {
     "base_uri": "https://localhost:8080/"
    },
    "id": "DsICTZtJRoW-",
    "outputId": "af4b5e0b-e360-4a58-9fce-9ad96ca895b9"
   },
   "outputs": [
    {
     "name": "stdout",
     "output_type": "stream",
     "text": [
      "Models are: \n",
      "LDA\n",
      "KNN\n",
      "CART\n",
      "NB\n",
      "[('LDA', LinearDiscriminantAnalysis()), ('KNN', KNeighborsClassifier()), ('CART', DecisionTreeClassifier()), ('NB', GaussianNB())]\n",
      "LDA\n",
      "KNN\n",
      "CART\n",
      "NB\n",
      "Results of the Binary Classification:\n",
      "\n",
      "\n",
      "\t Model Name LDA\n",
      "\t accuracy_score 0.6054161891421538\n",
      "\t recall 0.5348325075170457\n",
      "\t f1_score 0.5760091220068415\n",
      "\t roc_auc_score 0.6788844163760867\n",
      "\t confusion_metrix [[15897  7608]\n",
      " [10984 12629]]\n",
      "\t cross_val_score 0.6053534143375195\n",
      "\t classification report               precision    recall  f1-score   support\n",
      "\n",
      "           0       0.59      0.68      0.63     23505\n",
      "           1       0.62      0.53      0.58     23613\n",
      "\n",
      "    accuracy                           0.61     47118\n",
      "   macro avg       0.61      0.61      0.60     47118\n",
      "weighted avg       0.61      0.61      0.60     47118\n",
      "\n",
      "--------------------------------------------------------------------------------\n",
      "\t Model Name KNN\n",
      "\t accuracy_score 0.83339700326839\n",
      "\t recall 0.7437852030661076\n",
      "\t f1_score 0.8173399106478034\n",
      "\t roc_auc_score 0.9113820050145078\n",
      "\t confusion_metrix [[21705  1800]\n",
      " [ 6050 17563]]\n",
      "\t cross_val_score 0.8483369065938\n",
      "\t classification report               precision    recall  f1-score   support\n",
      "\n",
      "           0       0.78      0.92      0.85     23505\n",
      "           1       0.91      0.74      0.82     23613\n",
      "\n",
      "    accuracy                           0.83     47118\n",
      "   macro avg       0.84      0.83      0.83     47118\n",
      "weighted avg       0.84      0.83      0.83     47118\n",
      "\n",
      "--------------------------------------------------------------------------------\n",
      "\t Model Name CART\n",
      "\t accuracy_score 0.9995330871429178\n",
      "\t recall 0.9990683098293313\n",
      "\t f1_score 0.9995339378018812\n",
      "\t roc_auc_score 0.9995341549146657\n",
      "\t confusion_metrix [[23505     0]\n",
      " [   22 23591]]\n",
      "\t cross_val_score 0.9997707866121829\n",
      "\t classification report               precision    recall  f1-score   support\n",
      "\n",
      "           0       1.00      1.00      1.00     23505\n",
      "           1       1.00      1.00      1.00     23613\n",
      "\n",
      "    accuracy                           1.00     47118\n",
      "   macro avg       1.00      1.00      1.00     47118\n",
      "weighted avg       1.00      1.00      1.00     47118\n",
      "\n",
      "--------------------------------------------------------------------------------\n",
      "\t Model Name NB\n",
      "\t accuracy_score 0.5420009338257141\n",
      "\t recall 0.0970651759623936\n",
      "\t f1_score 0.1752025684146155\n",
      "\t roc_auc_score 0.5877348306823693\n",
      "\t confusion_metrix [[23246   259]\n",
      " [21321  2292]]\n",
      "\t cross_val_score 0.5437586164636445\n",
      "\t classification report               precision    recall  f1-score   support\n",
      "\n",
      "           0       0.52      0.99      0.68     23505\n",
      "           1       0.90      0.10      0.18     23613\n",
      "\n",
      "    accuracy                           0.54     47118\n",
      "   macro avg       0.71      0.54      0.43     47118\n",
      "weighted avg       0.71      0.54      0.43     47118\n",
      "\n",
      "--------------------------------------------------------------------------------\n"
     ]
    }
   ],
   "source": [
    "y_bin = y_resampled_bin\n",
    "X_bin = X_resampled_bin\n",
    "X_train_bin, X_test_bin, y_train_bin, y_test_bin = train_test_split(X_bin, y_bin, train_size = 0.8)\n",
    "eval_scores = []\n",
    "fun_for_model_binary(eval_scores)\n",
    "fun_eval_model_binary(eval_scores)"
   ]
  },
  {
   "cell_type": "markdown",
   "metadata": {
    "id": "Z8_zRdNDR3TC"
   },
   "source": [
    "# Multiclass Modelling"
   ]
  },
  {
   "cell_type": "code",
   "execution_count": 19,
   "metadata": {
    "colab": {
     "base_uri": "https://localhost:8080/",
     "height": 554
    },
    "execution": {
     "iopub.execute_input": "2024-12-13T11:27:57.983919Z",
     "iopub.status.busy": "2024-12-13T11:27:57.983919Z",
     "iopub.status.idle": "2024-12-13T11:27:58.140151Z",
     "shell.execute_reply": "2024-12-13T11:27:58.138121Z",
     "shell.execute_reply.started": "2024-12-13T11:27:57.983919Z"
    },
    "id": "rP8yon74WLA_",
    "outputId": "dfb1fce6-e4a0-45bf-b250-47d125819c85"
   },
   "outputs": [
    {
     "data": {
      "text/plain": [
       "Attack_type\n",
       "Normal                   24301\n",
       "DDoS_UDP                 14498\n",
       "DDoS_ICMP                14090\n",
       "Ransomware               10925\n",
       "DDoS_HTTP                10561\n",
       "SQL_injection            10311\n",
       "Uploading                10269\n",
       "DDoS_TCP                 10247\n",
       "Backdoor                 10195\n",
       "Vulnerability_scanner    10076\n",
       "Port_Scanning            10071\n",
       "XSS                      10052\n",
       "Password                  9989\n",
       "MITM                      1214\n",
       "Fingerprinting            1001\n",
       "Name: count, dtype: int64"
      ]
     },
     "execution_count": 19,
     "metadata": {},
     "output_type": "execute_result"
    }
   ],
   "source": [
    "df2 = df.copy()\n",
    "df2 = df2.drop([\"Attack_label\"], axis = 1)\n",
    "df2[\"Attack_type\"].value_counts()"
   ]
  },
  {
   "cell_type": "code",
   "execution_count": 38,
   "metadata": {
    "colab": {
     "base_uri": "https://localhost:8080/",
     "height": 444
    },
    "execution": {
     "iopub.execute_input": "2024-12-13T11:28:00.538399Z",
     "iopub.status.busy": "2024-12-13T11:28:00.536408Z",
     "iopub.status.idle": "2024-12-13T11:28:00.743205Z",
     "shell.execute_reply": "2024-12-13T11:28:00.742683Z",
     "shell.execute_reply.started": "2024-12-13T11:28:00.537400Z"
    },
    "id": "tJ-Fuxgwe_BF",
    "outputId": "53f49894-d803-4b4c-e0a1-ae344bb06715"
   },
   "outputs": [
    {
     "data": {
      "text/html": [
       "<div>\n",
       "<style scoped>\n",
       "    .dataframe tbody tr th:only-of-type {\n",
       "        vertical-align: middle;\n",
       "    }\n",
       "\n",
       "    .dataframe tbody tr th {\n",
       "        vertical-align: top;\n",
       "    }\n",
       "\n",
       "    .dataframe thead th {\n",
       "        text-align: right;\n",
       "    }\n",
       "</style>\n",
       "<table border=\"1\" class=\"dataframe\">\n",
       "  <thead>\n",
       "    <tr style=\"text-align: right;\">\n",
       "      <th></th>\n",
       "      <th>ip.src_host</th>\n",
       "      <th>ip.dst_host</th>\n",
       "      <th>arp.dst.proto_ipv4</th>\n",
       "      <th>arp.opcode</th>\n",
       "      <th>arp.hw.size</th>\n",
       "      <th>arp.src.proto_ipv4</th>\n",
       "      <th>icmp.checksum</th>\n",
       "      <th>icmp.seq_le</th>\n",
       "      <th>icmp.transmit_timestamp</th>\n",
       "      <th>tcp.ack</th>\n",
       "      <th>...</th>\n",
       "      <th>udp.port</th>\n",
       "      <th>udp.stream</th>\n",
       "      <th>udp.time_delta</th>\n",
       "      <th>year</th>\n",
       "      <th>month</th>\n",
       "      <th>day</th>\n",
       "      <th>hour</th>\n",
       "      <th>minute</th>\n",
       "      <th>second</th>\n",
       "      <th>microsecond</th>\n",
       "    </tr>\n",
       "  </thead>\n",
       "  <tbody>\n",
       "    <tr>\n",
       "      <th>0</th>\n",
       "      <td>3232235672</td>\n",
       "      <td>0</td>\n",
       "      <td>0</td>\n",
       "      <td>0.0</td>\n",
       "      <td>0.0</td>\n",
       "      <td>0</td>\n",
       "      <td>0.0</td>\n",
       "      <td>0.0</td>\n",
       "      <td>0.0</td>\n",
       "      <td>0.0</td>\n",
       "      <td>...</td>\n",
       "      <td>0.0</td>\n",
       "      <td>0.0</td>\n",
       "      <td>0.0</td>\n",
       "      <td>2021</td>\n",
       "      <td>1</td>\n",
       "      <td>2</td>\n",
       "      <td>2</td>\n",
       "      <td>10</td>\n",
       "      <td>8</td>\n",
       "      <td>400536</td>\n",
       "    </tr>\n",
       "    <tr>\n",
       "      <th>1</th>\n",
       "      <td>3232235621</td>\n",
       "      <td>0</td>\n",
       "      <td>0</td>\n",
       "      <td>0.0</td>\n",
       "      <td>0.0</td>\n",
       "      <td>0</td>\n",
       "      <td>0.0</td>\n",
       "      <td>0.0</td>\n",
       "      <td>0.0</td>\n",
       "      <td>0.0</td>\n",
       "      <td>...</td>\n",
       "      <td>0.0</td>\n",
       "      <td>0.0</td>\n",
       "      <td>0.0</td>\n",
       "      <td>2021</td>\n",
       "      <td>1</td>\n",
       "      <td>2</td>\n",
       "      <td>2</td>\n",
       "      <td>10</td>\n",
       "      <td>8</td>\n",
       "      <td>400536</td>\n",
       "    </tr>\n",
       "    <tr>\n",
       "      <th>2</th>\n",
       "      <td>3232235672</td>\n",
       "      <td>0</td>\n",
       "      <td>0</td>\n",
       "      <td>0.0</td>\n",
       "      <td>0.0</td>\n",
       "      <td>0</td>\n",
       "      <td>0.0</td>\n",
       "      <td>0.0</td>\n",
       "      <td>0.0</td>\n",
       "      <td>0.0</td>\n",
       "      <td>...</td>\n",
       "      <td>0.0</td>\n",
       "      <td>0.0</td>\n",
       "      <td>0.0</td>\n",
       "      <td>2021</td>\n",
       "      <td>1</td>\n",
       "      <td>2</td>\n",
       "      <td>2</td>\n",
       "      <td>10</td>\n",
       "      <td>8</td>\n",
       "      <td>400536</td>\n",
       "    </tr>\n",
       "    <tr>\n",
       "      <th>3</th>\n",
       "      <td>3232235621</td>\n",
       "      <td>0</td>\n",
       "      <td>0</td>\n",
       "      <td>0.0</td>\n",
       "      <td>0.0</td>\n",
       "      <td>0</td>\n",
       "      <td>0.0</td>\n",
       "      <td>0.0</td>\n",
       "      <td>0.0</td>\n",
       "      <td>0.0</td>\n",
       "      <td>...</td>\n",
       "      <td>0.0</td>\n",
       "      <td>0.0</td>\n",
       "      <td>0.0</td>\n",
       "      <td>2021</td>\n",
       "      <td>1</td>\n",
       "      <td>2</td>\n",
       "      <td>2</td>\n",
       "      <td>10</td>\n",
       "      <td>8</td>\n",
       "      <td>400536</td>\n",
       "    </tr>\n",
       "    <tr>\n",
       "      <th>4</th>\n",
       "      <td>3232235672</td>\n",
       "      <td>0</td>\n",
       "      <td>0</td>\n",
       "      <td>0.0</td>\n",
       "      <td>0.0</td>\n",
       "      <td>0</td>\n",
       "      <td>0.0</td>\n",
       "      <td>0.0</td>\n",
       "      <td>0.0</td>\n",
       "      <td>0.0</td>\n",
       "      <td>...</td>\n",
       "      <td>0.0</td>\n",
       "      <td>0.0</td>\n",
       "      <td>0.0</td>\n",
       "      <td>2021</td>\n",
       "      <td>1</td>\n",
       "      <td>2</td>\n",
       "      <td>2</td>\n",
       "      <td>10</td>\n",
       "      <td>8</td>\n",
       "      <td>400536</td>\n",
       "    </tr>\n",
       "    <tr>\n",
       "      <th>...</th>\n",
       "      <td>...</td>\n",
       "      <td>...</td>\n",
       "      <td>...</td>\n",
       "      <td>...</td>\n",
       "      <td>...</td>\n",
       "      <td>...</td>\n",
       "      <td>...</td>\n",
       "      <td>...</td>\n",
       "      <td>...</td>\n",
       "      <td>...</td>\n",
       "      <td>...</td>\n",
       "      <td>...</td>\n",
       "      <td>...</td>\n",
       "      <td>...</td>\n",
       "      <td>...</td>\n",
       "      <td>...</td>\n",
       "      <td>...</td>\n",
       "      <td>...</td>\n",
       "      <td>...</td>\n",
       "      <td>...</td>\n",
       "      <td>...</td>\n",
       "    </tr>\n",
       "    <tr>\n",
       "      <th>157795</th>\n",
       "      <td>3247985195</td>\n",
       "      <td>3232235648</td>\n",
       "      <td>0</td>\n",
       "      <td>0.0</td>\n",
       "      <td>0.0</td>\n",
       "      <td>0</td>\n",
       "      <td>48729.0</td>\n",
       "      <td>40690.0</td>\n",
       "      <td>0.0</td>\n",
       "      <td>0.0</td>\n",
       "      <td>...</td>\n",
       "      <td>0.0</td>\n",
       "      <td>0.0</td>\n",
       "      <td>0.0</td>\n",
       "      <td>2021</td>\n",
       "      <td>1</td>\n",
       "      <td>1</td>\n",
       "      <td>23</td>\n",
       "      <td>24</td>\n",
       "      <td>32</td>\n",
       "      <td>698981</td>\n",
       "    </tr>\n",
       "    <tr>\n",
       "      <th>157796</th>\n",
       "      <td>4248043989</td>\n",
       "      <td>3232235648</td>\n",
       "      <td>0</td>\n",
       "      <td>0.0</td>\n",
       "      <td>0.0</td>\n",
       "      <td>0</td>\n",
       "      <td>45657.0</td>\n",
       "      <td>40702.0</td>\n",
       "      <td>0.0</td>\n",
       "      <td>0.0</td>\n",
       "      <td>...</td>\n",
       "      <td>0.0</td>\n",
       "      <td>0.0</td>\n",
       "      <td>0.0</td>\n",
       "      <td>2021</td>\n",
       "      <td>1</td>\n",
       "      <td>1</td>\n",
       "      <td>23</td>\n",
       "      <td>24</td>\n",
       "      <td>32</td>\n",
       "      <td>699354</td>\n",
       "    </tr>\n",
       "    <tr>\n",
       "      <th>157797</th>\n",
       "      <td>1805376817</td>\n",
       "      <td>3232235648</td>\n",
       "      <td>0</td>\n",
       "      <td>0.0</td>\n",
       "      <td>0.0</td>\n",
       "      <td>0</td>\n",
       "      <td>57686.0</td>\n",
       "      <td>41423.0</td>\n",
       "      <td>0.0</td>\n",
       "      <td>0.0</td>\n",
       "      <td>...</td>\n",
       "      <td>0.0</td>\n",
       "      <td>0.0</td>\n",
       "      <td>0.0</td>\n",
       "      <td>2021</td>\n",
       "      <td>1</td>\n",
       "      <td>1</td>\n",
       "      <td>23</td>\n",
       "      <td>24</td>\n",
       "      <td>32</td>\n",
       "      <td>719931</td>\n",
       "    </tr>\n",
       "    <tr>\n",
       "      <th>157798</th>\n",
       "      <td>1307720420</td>\n",
       "      <td>3232235648</td>\n",
       "      <td>0</td>\n",
       "      <td>0.0</td>\n",
       "      <td>0.0</td>\n",
       "      <td>0</td>\n",
       "      <td>9555.0</td>\n",
       "      <td>42379.0</td>\n",
       "      <td>0.0</td>\n",
       "      <td>0.0</td>\n",
       "      <td>...</td>\n",
       "      <td>0.0</td>\n",
       "      <td>0.0</td>\n",
       "      <td>0.0</td>\n",
       "      <td>2021</td>\n",
       "      <td>1</td>\n",
       "      <td>1</td>\n",
       "      <td>23</td>\n",
       "      <td>24</td>\n",
       "      <td>32</td>\n",
       "      <td>752054</td>\n",
       "    </tr>\n",
       "    <tr>\n",
       "      <th>157799</th>\n",
       "      <td>2502449815</td>\n",
       "      <td>3232235648</td>\n",
       "      <td>0</td>\n",
       "      <td>0.0</td>\n",
       "      <td>0.0</td>\n",
       "      <td>0</td>\n",
       "      <td>35144.0</td>\n",
       "      <td>45095.0</td>\n",
       "      <td>0.0</td>\n",
       "      <td>0.0</td>\n",
       "      <td>...</td>\n",
       "      <td>0.0</td>\n",
       "      <td>0.0</td>\n",
       "      <td>0.0</td>\n",
       "      <td>2021</td>\n",
       "      <td>1</td>\n",
       "      <td>1</td>\n",
       "      <td>23</td>\n",
       "      <td>24</td>\n",
       "      <td>32</td>\n",
       "      <td>780376</td>\n",
       "    </tr>\n",
       "  </tbody>\n",
       "</table>\n",
       "<p>157800 rows × 22 columns</p>\n",
       "</div>"
      ],
      "text/plain": [
       "        ip.src_host  ip.dst_host  arp.dst.proto_ipv4  arp.opcode  arp.hw.size  \\\n",
       "0        3232235672            0                   0         0.0          0.0   \n",
       "1        3232235621            0                   0         0.0          0.0   \n",
       "2        3232235672            0                   0         0.0          0.0   \n",
       "3        3232235621            0                   0         0.0          0.0   \n",
       "4        3232235672            0                   0         0.0          0.0   \n",
       "...             ...          ...                 ...         ...          ...   \n",
       "157795   3247985195   3232235648                   0         0.0          0.0   \n",
       "157796   4248043989   3232235648                   0         0.0          0.0   \n",
       "157797   1805376817   3232235648                   0         0.0          0.0   \n",
       "157798   1307720420   3232235648                   0         0.0          0.0   \n",
       "157799   2502449815   3232235648                   0         0.0          0.0   \n",
       "\n",
       "        arp.src.proto_ipv4  icmp.checksum  icmp.seq_le  \\\n",
       "0                        0            0.0          0.0   \n",
       "1                        0            0.0          0.0   \n",
       "2                        0            0.0          0.0   \n",
       "3                        0            0.0          0.0   \n",
       "4                        0            0.0          0.0   \n",
       "...                    ...            ...          ...   \n",
       "157795                   0        48729.0      40690.0   \n",
       "157796                   0        45657.0      40702.0   \n",
       "157797                   0        57686.0      41423.0   \n",
       "157798                   0         9555.0      42379.0   \n",
       "157799                   0        35144.0      45095.0   \n",
       "\n",
       "        icmp.transmit_timestamp  tcp.ack  ...  udp.port  udp.stream  \\\n",
       "0                           0.0      0.0  ...       0.0         0.0   \n",
       "1                           0.0      0.0  ...       0.0         0.0   \n",
       "2                           0.0      0.0  ...       0.0         0.0   \n",
       "3                           0.0      0.0  ...       0.0         0.0   \n",
       "4                           0.0      0.0  ...       0.0         0.0   \n",
       "...                         ...      ...  ...       ...         ...   \n",
       "157795                      0.0      0.0  ...       0.0         0.0   \n",
       "157796                      0.0      0.0  ...       0.0         0.0   \n",
       "157797                      0.0      0.0  ...       0.0         0.0   \n",
       "157798                      0.0      0.0  ...       0.0         0.0   \n",
       "157799                      0.0      0.0  ...       0.0         0.0   \n",
       "\n",
       "        udp.time_delta  year  month  day  hour  minute  second  microsecond  \n",
       "0                  0.0  2021      1    2     2      10       8       400536  \n",
       "1                  0.0  2021      1    2     2      10       8       400536  \n",
       "2                  0.0  2021      1    2     2      10       8       400536  \n",
       "3                  0.0  2021      1    2     2      10       8       400536  \n",
       "4                  0.0  2021      1    2     2      10       8       400536  \n",
       "...                ...   ...    ...  ...   ...     ...     ...          ...  \n",
       "157795             0.0  2021      1    1    23      24      32       698981  \n",
       "157796             0.0  2021      1    1    23      24      32       699354  \n",
       "157797             0.0  2021      1    1    23      24      32       719931  \n",
       "157798             0.0  2021      1    1    23      24      32       752054  \n",
       "157799             0.0  2021      1    1    23      24      32       780376  \n",
       "\n",
       "[157800 rows x 22 columns]"
      ]
     },
     "execution_count": 38,
     "metadata": {},
     "output_type": "execute_result"
    }
   ],
   "source": [
    "# Prediction for the multiclass columns df\n",
    "\n",
    "X_type = df2.drop([\"Attack_type\"], axis = 1)\n",
    "y_type = df2[\"Attack_type\"]\n",
    "X_train_type, X_test_type, y_train_type, y_test_type = train_test_split(X_type, y_type, train_size = 0.85)\n",
    "X_type"
   ]
  },
  {
   "cell_type": "markdown",
   "metadata": {
    "id": "V-nolC3wSZNT"
   },
   "source": [
    "* before oversampling"
   ]
  },
  {
   "cell_type": "code",
   "execution_count": 39,
   "metadata": {
    "execution": {
     "iopub.execute_input": "2024-12-13T11:28:02.775529Z",
     "iopub.status.busy": "2024-12-13T11:28:02.774294Z",
     "iopub.status.idle": "2024-12-13T11:28:02.787174Z",
     "shell.execute_reply": "2024-12-13T11:28:02.786167Z",
     "shell.execute_reply.started": "2024-12-13T11:28:02.775529Z"
    },
    "id": "CzqaUlAksiDq"
   },
   "outputs": [],
   "source": [
    "def fun_for_model_type(eval_scores):\n",
    "  models = []\n",
    "  models.append((\"LDA\", LinearDiscriminantAnalysis()))\n",
    "  models.append((\"KNN\", KNeighborsClassifier()))\n",
    "  models.append((\"CART\", DecisionTreeClassifier()))\n",
    "  models.append((\"NB\", GaussianNB(var_smoothing=1e-9)))\n",
    "  models.append((\"RF\", RandomForestClassifier(n_estimators = 10)))\n",
    "  print(\"Models are: \")\n",
    "  for name, model in models:\n",
    "    print( name, end = \" \")\n",
    "  print(\"\\n\", models)\n",
    "  names = []\n",
    "  results = {}\n",
    "  for name, model in models:\n",
    "    print(name)\n",
    "    model.fit(X_train_type, y_train_type)\n",
    "    y_pred_type = model.predict(X_test_type)\n",
    "    y_proba_type = model.predict_proba(X_test_type)\n",
    "    kfold_ = KFold(n_splits = 10, random_state = 10, shuffle = True)\n",
    "    names.append(name)\n",
    "    results = {\n",
    "        \"Model Name\": name,\n",
    "        \"accuracy_score\": accuracy_score(y_test_type, y_pred_type),\n",
    "        \"recall\": recall_score(y_test_type, y_pred_type, average = \"micro\"),\n",
    "        \"f1_score\": f1_score(y_test_type, y_pred_type, average = \"micro\"),\n",
    "        \"confusion_metrix\": confusion_matrix(y_test_type, y_pred_type),\n",
    "        \"cross_val_score\": cross_val_score(model, X_type, y_type, scoring = \"accuracy\", cv = kfold_).mean(),\n",
    "        \"classification report\": classification_report(y_test_type, y_pred_type, zero_division = 1)\n",
    "    }\n",
    "    eval_scores.append(results)\n"
   ]
  },
  {
   "cell_type": "code",
   "execution_count": 40,
   "metadata": {
    "execution": {
     "iopub.execute_input": "2024-12-13T11:28:04.381722Z",
     "iopub.status.busy": "2024-12-13T11:28:04.381659Z",
     "iopub.status.idle": "2024-12-13T11:28:04.390927Z",
     "shell.execute_reply": "2024-12-13T11:28:04.389918Z",
     "shell.execute_reply.started": "2024-12-13T11:28:04.381722Z"
    },
    "id": "AJ0Tdn7pvfWz"
   },
   "outputs": [],
   "source": [
    "def fun_eval_model_type(eval_scores):\n",
    "  print(\"Results of the MultiClass Classification:\\n\\n\")\n",
    "  choice = 0\n",
    "  #choice = int(input(\"Want to skip confusion_matrix and classification_report (0/1):\"))\n",
    "  if choice == 1: print(\"Confusion Matrix and Classification Report Skipped for better formatting !\\n\")\n",
    "  for eval in eval_scores:\n",
    "    for key, value in eval.items():\n",
    "      if choice and (key == \"confusion_metrix\" or key == \"classification report\"): continue\n",
    "      print(\"\\t\", key, value)\n",
    "    print(\"-\" * 80)"
   ]
  },
  {
   "cell_type": "code",
   "execution_count": 41,
   "metadata": {
    "colab": {
     "base_uri": "https://localhost:8080/"
    },
    "execution": {
     "iopub.execute_input": "2024-12-13T11:28:06.187062Z",
     "iopub.status.busy": "2024-12-13T11:28:06.186058Z",
     "iopub.status.idle": "2024-12-13T11:28:07.024225Z",
     "shell.execute_reply": "2024-12-13T11:28:07.023199Z",
     "shell.execute_reply.started": "2024-12-13T11:28:06.187062Z"
    },
    "id": "zVD3hFntxaph",
    "outputId": "3e838084-8da0-45b3-c6e2-b98374e9f244"
   },
   "outputs": [
    {
     "name": "stdout",
     "output_type": "stream",
     "text": [
      "Models are: \n",
      "LDA KNN CART NB RF \n",
      " [('LDA', LinearDiscriminantAnalysis()), ('KNN', KNeighborsClassifier()), ('CART', DecisionTreeClassifier()), ('NB', GaussianNB()), ('RF', RandomForestClassifier(n_estimators=10))]\n",
      "LDA\n",
      "KNN\n",
      "CART\n",
      "NB\n",
      "RF\n",
      "Results of the MultiClass Classification:\n",
      "\n",
      "\n",
      "\t Model Name LDA\n",
      "\t accuracy_score 0.5222222222222223\n",
      "\t recall 0.5222222222222223\n",
      "\t f1_score 0.5222222222222223\n",
      "\t confusion_metrix [[ 148    0    0    0    0    0    0  755    0   16   12  362  159   58\n",
      "     5]\n",
      " [   0 1555    0    0    0    0    0    0    0    0    0    0    0    0\n",
      "     0]\n",
      " [   0    0 1836    0    0   31    0   37    0    0    0    0  158    0\n",
      "     0]\n",
      " [   5    0    0  901    0    0    0  372    0    0    6    0  224    0\n",
      "     0]\n",
      " [   0    0    0    0 2198    0    0    1    0    0    0    0    0    0\n",
      "     0]\n",
      " [   0    0   33    0    0   37    0    6    0   12    0    3   56    0\n",
      "     0]\n",
      " [   0    0    0    0   45    0  136    0    0    0    0    0    0    0\n",
      "     0]\n",
      " [ 196  334    0   16    0    0    1 1677    0    6  319  511  434  140\n",
      "    12]\n",
      " [ 132   77    0    0    0    0    0  777    0    0   52  160  134  161\n",
      "     4]\n",
      " [   0   10    0  292    0    0    0  590    0  463  173    3   26    0\n",
      "    10]\n",
      " [   1  331    0    2    0    0    0  267    0   69  197  470  319    0\n",
      "     0]\n",
      " [   0    0    0    0    0    0    0    3    0    0    0 1403    0  137\n",
      "     0]\n",
      " [   0    0    0    0    0    0    0    1    0    1    0    0 1497    0\n",
      "     0]\n",
      " [ 116    0    0    0    0    0    0 1132    0    0    0    0    0  286\n",
      "    10]\n",
      " [ 157    0    0    0    0    0    0  856    0    3   37  150  115  206\n",
      "    27]]\n",
      "\t cross_val_score 0.5275665399239544\n",
      "\t classification report                        precision    recall  f1-score   support\n",
      "\n",
      "             Backdoor       0.20      0.10      0.13      1515\n",
      "            DDoS_HTTP       0.67      1.00      0.81      1555\n",
      "            DDoS_ICMP       0.98      0.89      0.93      2062\n",
      "             DDoS_TCP       0.74      0.60      0.66      1508\n",
      "             DDoS_UDP       0.98      1.00      0.99      2199\n",
      "       Fingerprinting       0.54      0.25      0.34       147\n",
      "                 MITM       0.99      0.75      0.86       181\n",
      "               Normal       0.26      0.46      0.33      3646\n",
      "             Password       1.00      0.00      0.00      1497\n",
      "        Port_Scanning       0.81      0.30      0.43      1567\n",
      "           Ransomware       0.25      0.12      0.16      1656\n",
      "        SQL_injection       0.46      0.91      0.61      1543\n",
      "            Uploading       0.48      1.00      0.65      1499\n",
      "Vulnerability_scanner       0.29      0.19      0.23      1544\n",
      "                  XSS       0.40      0.02      0.03      1551\n",
      "\n",
      "             accuracy                           0.52     23670\n",
      "            macro avg       0.60      0.50      0.48     23670\n",
      "         weighted avg       0.57      0.52      0.47     23670\n",
      "\n",
      "--------------------------------------------------------------------------------\n",
      "\t Model Name KNN\n",
      "\t accuracy_score 0.6097591888466413\n",
      "\t recall 0.6097591888466413\n",
      "\t f1_score 0.6097591888466413\n",
      "\t confusion_metrix [[1368   26    0    0    0    1    0   31    7   20   15   10   14    7\n",
      "    16]\n",
      " [  18  469    0    0    0    1    0  427  103   39   13  126  111  105\n",
      "   143]\n",
      " [   0    0 2060    0    0    1    1    0    0    0    0    0    0    0\n",
      "     0]\n",
      " [   0    3   29 1425    0    0    0    7    5   32    0    5    1    1\n",
      "     0]\n",
      " [   0    0    0    0 2199    0    0    0    0    0    0    0    0    0\n",
      "     0]\n",
      " [   1   11    0    0    0   88    0   12    3   13    4    3    5    3\n",
      "     4]\n",
      " [   0    0    0    0    0    0  181    0    0    0    0    0    0    0\n",
      "     0]\n",
      " [  42  444    1    0    0    7    0 1658  254  111   11  292  247  265\n",
      "   314]\n",
      " [   9  188    0    0    0    1    0  502  143   60    7  157  126  154\n",
      "   150]\n",
      " [  22   80    0    0    0    7    0  220   72  830   55   77   56   71\n",
      "    77]\n",
      " [  22   32    0    0    0    8    0   49   17   50 1411    9   18    7\n",
      "    33]\n",
      " [  15  191    0    0    0    1    0  452  112   44    6  349  108  141\n",
      "   124]\n",
      " [  21  220    0    0    0    4    0  400   92   39    8  116  406   91\n",
      "   102]\n",
      " [   4   64    0    0    0    0    0  169   48   20    0   90   61 1026\n",
      "    62]\n",
      " [  14  118    0    0    0    5    0  239   61   46   24   63   75   86\n",
      "   820]]\n",
      "\t cross_val_score 0.6178200253485424\n",
      "\t classification report                        precision    recall  f1-score   support\n",
      "\n",
      "             Backdoor       0.89      0.90      0.90      1515\n",
      "            DDoS_HTTP       0.25      0.30      0.28      1555\n",
      "            DDoS_ICMP       0.99      1.00      0.99      2062\n",
      "             DDoS_TCP       1.00      0.94      0.97      1508\n",
      "             DDoS_UDP       1.00      1.00      1.00      2199\n",
      "       Fingerprinting       0.71      0.60      0.65       147\n",
      "                 MITM       0.99      1.00      1.00       181\n",
      "               Normal       0.40      0.45      0.42      3646\n",
      "             Password       0.16      0.10      0.12      1497\n",
      "        Port_Scanning       0.64      0.53      0.58      1567\n",
      "           Ransomware       0.91      0.85      0.88      1656\n",
      "        SQL_injection       0.27      0.23      0.25      1543\n",
      "            Uploading       0.33      0.27      0.30      1499\n",
      "Vulnerability_scanner       0.52      0.66      0.59      1544\n",
      "                  XSS       0.44      0.53      0.48      1551\n",
      "\n",
      "             accuracy                           0.61     23670\n",
      "            macro avg       0.63      0.62      0.63     23670\n",
      "         weighted avg       0.61      0.61      0.61     23670\n",
      "\n",
      "--------------------------------------------------------------------------------\n",
      "\t Model Name CART\n",
      "\t accuracy_score 0.9730882974228982\n",
      "\t recall 0.9730882974228982\n",
      "\t f1_score 0.9730882974228982\n",
      "\t confusion_metrix [[1467    0    0    0    0    0    0    3   19    1    0    0    0    1\n",
      "    24]\n",
      " [   0 1555    0    0    0    0    0    0    0    0    0    0    0    0\n",
      "     0]\n",
      " [   0    0 2062    0    0    0    0    0    0    0    0    0    0    0\n",
      "     0]\n",
      " [   0    0    0 1508    0    0    0    0    0    0    0    0    0    0\n",
      "     0]\n",
      " [   0    0    0    0 2199    0    0    0    0    0    0    0    0    0\n",
      "     0]\n",
      " [   0    0    0    0    0  147    0    0    0    0    0    0    0    0\n",
      "     0]\n",
      " [   0    0    0    0    0    0  181    0    0    0    0    0    0    0\n",
      "     0]\n",
      " [   3    0    0    0    0    0    0 3633    1    2    2    2    0    0\n",
      "     3]\n",
      " [  13    0    0    0    0    0    0    0 1321   31    0    0    0    8\n",
      "   124]\n",
      " [  13    0    0    0    0    0    0    1   31 1470   18    0    0    0\n",
      "    34]\n",
      " [   0    0    1    0    0    0    0    1    0   11 1629    0   14    0\n",
      "     0]\n",
      " [   0    0    0    0    0    0    0    1    0    0    0 1542    0    0\n",
      "     0]\n",
      " [   0    0    0    0    0    0    0    0    0    0    4    0 1495    0\n",
      "     0]\n",
      " [   0    0    0    0    0    0    0    0   26    0    0    0    0 1501\n",
      "    17]\n",
      " [  29    0    0    0    0    0    0    1  154   25    0    0    0   19\n",
      "  1323]]\n",
      "\t cross_val_score 0.9748415716096325\n",
      "\t classification report                        precision    recall  f1-score   support\n",
      "\n",
      "             Backdoor       0.96      0.97      0.97      1515\n",
      "            DDoS_HTTP       1.00      1.00      1.00      1555\n",
      "            DDoS_ICMP       1.00      1.00      1.00      2062\n",
      "             DDoS_TCP       1.00      1.00      1.00      1508\n",
      "             DDoS_UDP       1.00      1.00      1.00      2199\n",
      "       Fingerprinting       1.00      1.00      1.00       147\n",
      "                 MITM       1.00      1.00      1.00       181\n",
      "               Normal       1.00      1.00      1.00      3646\n",
      "             Password       0.85      0.88      0.87      1497\n",
      "        Port_Scanning       0.95      0.94      0.95      1567\n",
      "           Ransomware       0.99      0.98      0.98      1656\n",
      "        SQL_injection       1.00      1.00      1.00      1543\n",
      "            Uploading       0.99      1.00      0.99      1499\n",
      "Vulnerability_scanner       0.98      0.97      0.98      1544\n",
      "                  XSS       0.87      0.85      0.86      1551\n",
      "\n",
      "             accuracy                           0.97     23670\n",
      "            macro avg       0.97      0.97      0.97     23670\n",
      "         weighted avg       0.97      0.97      0.97     23670\n",
      "\n",
      "--------------------------------------------------------------------------------\n",
      "\t Model Name NB\n",
      "\t accuracy_score 0.2857625686523025\n",
      "\t recall 0.2857625686523025\n",
      "\t f1_score 0.2857625686523025\n",
      "\t confusion_metrix [[   0  814   60  613    0   16   12    0    0    0    0    0    0    0\n",
      "     0]\n",
      " [   0 1109  445    0    0    0    0    0    0    0    0    0    1    0\n",
      "     0]\n",
      " [   0    0 2062    0    0    0    0    0    0    0    0    0    0    0\n",
      "     0]\n",
      " [   0   36    0 1356    0    0    0    0    0    0    0    0  116    0\n",
      "     0]\n",
      " [   0    0    0    0 2032    0  167    0    0    0    0    0    0    0\n",
      "     0]\n",
      " [   0   19  103    0    0   24    1    0    0    0    0    0    0    0\n",
      "     0]\n",
      " [   0    0    0    0    0    0  181    0    0    0    0    0    0    0\n",
      "     0]\n",
      " [   0 2497  548  590    0    7    4    0    0    0    0    0    0    0\n",
      "     0]\n",
      " [   0 1369  128    0    0    0    0    0    0    0    0    0    0    0\n",
      "     0]\n",
      " [   0  710   33  666    0  138   20    0    0    0    0    0    0    0\n",
      "     0]\n",
      " [   0  877  160  493    0   85   41    0    0    0    0    0    0    0\n",
      "     0]\n",
      " [   0 1378  165    0    0    0    0    0    0    0    0    0    0    0\n",
      "     0]\n",
      " [   0 1158  340    0    0    1    0    0    0    0    0    0    0    0\n",
      "     0]\n",
      " [   0 1516   24    4    0    0    0    0    0    0    0    0    0    0\n",
      "     0]\n",
      " [   0 1284  234    1    0    3   22    0    0    0    0    0    7    0\n",
      "     0]]\n",
      "\t cross_val_score 0.2938403041825095\n",
      "\t classification report                        precision    recall  f1-score   support\n",
      "\n",
      "             Backdoor       1.00      0.00      0.00      1515\n",
      "            DDoS_HTTP       0.09      0.71      0.15      1555\n",
      "            DDoS_ICMP       0.48      1.00      0.65      2062\n",
      "             DDoS_TCP       0.36      0.90      0.52      1508\n",
      "             DDoS_UDP       1.00      0.92      0.96      2199\n",
      "       Fingerprinting       0.09      0.16      0.11       147\n",
      "                 MITM       0.40      1.00      0.58       181\n",
      "               Normal       1.00      0.00      0.00      3646\n",
      "             Password       1.00      0.00      0.00      1497\n",
      "        Port_Scanning       1.00      0.00      0.00      1567\n",
      "           Ransomware       1.00      0.00      0.00      1656\n",
      "        SQL_injection       1.00      0.00      0.00      1543\n",
      "            Uploading       0.00      0.00      0.00      1499\n",
      "Vulnerability_scanner       1.00      0.00      0.00      1544\n",
      "                  XSS       1.00      0.00      0.00      1551\n",
      "\n",
      "             accuracy                           0.29     23670\n",
      "            macro avg       0.69      0.31      0.20     23670\n",
      "         weighted avg       0.78      0.29      0.19     23670\n",
      "\n",
      "--------------------------------------------------------------------------------\n",
      "\t Model Name RF\n",
      "\t accuracy_score 0.9729615547106042\n",
      "\t recall 0.9729615547106042\n",
      "\t f1_score 0.9729615547106042\n",
      "\t confusion_metrix [[1452    0    0    0    0    0    0    1   24    8    0    1    0    0\n",
      "    29]\n",
      " [   0 1555    0    0    0    0    0    0    0    0    0    0    0    0\n",
      "     0]\n",
      " [   0    0 2062    0    0    0    0    0    0    0    0    0    0    0\n",
      "     0]\n",
      " [   0    0    0 1508    0    0    0    0    0    0    0    0    0    0\n",
      "     0]\n",
      " [   0    0    0    0 2199    0    0    0    0    0    0    0    0    0\n",
      "     0]\n",
      " [   1    0    0    0    0  145    0    0    0    1    0    0    0    0\n",
      "     0]\n",
      " [   0    0    0    0    0    0  181    0    0    0    0    0    0    0\n",
      "     0]\n",
      " [   5    0    0    0    0    0    0 3629    1    4    3    0    0    0\n",
      "     4]\n",
      " [  20    0    0    0    0    0    0    0 1307   34    0    0    0   10\n",
      "   126]\n",
      " [  14    0    0    0    0    0    0    0    1 1518   20    0    0    0\n",
      "    14]\n",
      " [   0    0    0    0    0    0    0    0    0   20 1621    0   15    0\n",
      "     0]\n",
      " [   0    0    0    0    0    0    0    0    0    0    1 1542    0    0\n",
      "     0]\n",
      " [   0    0    0    0    0    0    0    0    0    0    2    0 1497    0\n",
      "     0]\n",
      " [   2    0    0    0    0    0    0    1   30    0    0    0    0 1494\n",
      "    17]\n",
      " [  27    0    0    1    0    0    0    1  154   36    0    0    0   12\n",
      "  1320]]\n",
      "\t cross_val_score 0.975342205323194\n",
      "\t classification report                        precision    recall  f1-score   support\n",
      "\n",
      "             Backdoor       0.95      0.96      0.96      1515\n",
      "            DDoS_HTTP       1.00      1.00      1.00      1555\n",
      "            DDoS_ICMP       1.00      1.00      1.00      2062\n",
      "             DDoS_TCP       1.00      1.00      1.00      1508\n",
      "             DDoS_UDP       1.00      1.00      1.00      2199\n",
      "       Fingerprinting       1.00      0.99      0.99       147\n",
      "                 MITM       1.00      1.00      1.00       181\n",
      "               Normal       1.00      1.00      1.00      3646\n",
      "             Password       0.86      0.87      0.87      1497\n",
      "        Port_Scanning       0.94      0.97      0.95      1567\n",
      "           Ransomware       0.98      0.98      0.98      1656\n",
      "        SQL_injection       1.00      1.00      1.00      1543\n",
      "            Uploading       0.99      1.00      0.99      1499\n",
      "Vulnerability_scanner       0.99      0.97      0.98      1544\n",
      "                  XSS       0.87      0.85      0.86      1551\n",
      "\n",
      "             accuracy                           0.97     23670\n",
      "            macro avg       0.97      0.97      0.97     23670\n",
      "         weighted avg       0.97      0.97      0.97     23670\n",
      "\n",
      "--------------------------------------------------------------------------------\n"
     ]
    }
   ],
   "source": [
    "# calling the model_type and its evaluator\n",
    "eval_scores = []\n",
    "fun_for_model_type(eval_scores)\n",
    "fun_eval_model_type(eval_scores)"
   ]
  },
  {
   "cell_type": "code",
   "execution_count": 34,
   "metadata": {
    "execution": {
     "iopub.execute_input": "2024-12-12T16:32:54.408441Z",
     "iopub.status.busy": "2024-12-12T16:32:54.407445Z",
     "iopub.status.idle": "2024-12-12T16:32:54.419276Z",
     "shell.execute_reply": "2024-12-12T16:32:54.419276Z",
     "shell.execute_reply.started": "2024-12-12T16:32:54.408441Z"
    }
   },
   "outputs": [
    {
     "data": {
      "text/plain": [
       "frame.time                 datetime64[ns]\n",
       "ip.src_host                         int64\n",
       "ip.dst_host                         int64\n",
       "arp.dst.proto_ipv4                  int64\n",
       "arp.opcode                        float64\n",
       "arp.hw.size                       float64\n",
       "arp.src.proto_ipv4                  int64\n",
       "icmp.checksum                     float64\n",
       "icmp.seq_le                       float64\n",
       "icmp.transmit_timestamp           float64\n",
       "tcp.ack                           float64\n",
       "tcp.ack_raw                       float64\n",
       "tcp.checksum                      float64\n",
       "udp.port                          float64\n",
       "udp.stream                        float64\n",
       "udp.time_delta                    float64\n",
       "Attack_type                        object\n",
       "year                              float64\n",
       "month                             float64\n",
       "day                               float64\n",
       "hour                              float64\n",
       "minute                            float64\n",
       "second                            float64\n",
       "microsecond                       float64\n",
       "dtype: object"
      ]
     },
     "execution_count": 34,
     "metadata": {},
     "output_type": "execute_result"
    }
   ],
   "source": [
    "df2.dtypes"
   ]
  },
  {
   "cell_type": "code",
   "execution_count": null,
   "metadata": {
    "colab": {
     "base_uri": "https://localhost:8080/",
     "height": 423
    },
    "id": "7xf1MjECO__i",
    "outputId": "48e07980-5297-4030-ea99-a4313bd849dc"
   },
   "outputs": [
    {
     "data": {
      "text/plain": [
       "<Axes: ylabel='count'>"
      ]
     },
     "execution_count": 132,
     "metadata": {},
     "output_type": "execute_result"
    },
    {
     "data": {
      "image/png": "[encoded data removed]",
      "text/plain": [
       "<Figure size 640x480 with 1 Axes>"
      ]
     },
     "metadata": {},
     "output_type": "display_data"
    }
   ],
   "source": [
    "y_type.value_counts().plot.pie(autopct = \"%0.1f%%\")"
   ]
  },
  {
   "cell_type": "markdown",
   "metadata": {
    "id": "JG6YpsOVSmek"
   },
   "source": [
    "* After oversampling of the minority classes"
   ]
  },
  {
   "cell_type": "code",
   "execution_count": 42,
   "metadata": {
    "colab": {
     "base_uri": "https://localhost:8080/",
     "height": 423
    },
    "execution": {
     "iopub.execute_input": "2024-12-12T16:52:18.733051Z",
     "iopub.status.busy": "2024-12-12T16:52:18.733051Z",
     "iopub.status.idle": "2024-12-12T16:52:19.726272Z",
     "shell.execute_reply": "2024-12-12T16:52:19.724794Z",
     "shell.execute_reply.started": "2024-12-12T16:52:18.733051Z"
    },
    "id": "kM3ZPS_QSmJm",
    "outputId": "1c9af5fa-3a76-422d-ca74-1ccda2958ad6"
   },
   "outputs": [
    {
     "data": {
      "text/plain": [
       "<Axes: ylabel='count'>"
      ]
     },
     "execution_count": 42,
     "metadata": {},
     "output_type": "execute_result"
    },
    {
     "data": {
      "image/png": "[encoded data removed]",
      "text/plain": [
       "<Figure size 640x480 with 1 Axes>"
      ]
     },
     "metadata": {},
     "output_type": "display_data"
    }
   ],
   "source": [
    "ros = RandomOverSampler(sampling_strategy = \"auto\")\n",
    "X_resampled_type, y_resampled_type = ros.fit_resample(X_type, y_type)\n",
    "y_resampled_type.value_counts().plot.pie(autopct = \"%0.1f%%\")"
   ]
  },
  {
   "cell_type": "code",
   "execution_count": 71,
   "metadata": {
    "colab": {
     "base_uri": "https://localhost:8080/",
     "height": 554
    },
    "execution": {
     "iopub.execute_input": "2024-12-12T16:52:22.035929Z",
     "iopub.status.busy": "2024-12-12T16:52:22.034929Z",
     "iopub.status.idle": "2024-12-12T16:52:22.066056Z",
     "shell.execute_reply": "2024-12-12T16:52:22.065299Z",
     "shell.execute_reply.started": "2024-12-12T16:52:22.035929Z"
    },
    "id": "I1v_c4qWWc93",
    "outputId": "352185f6-b94b-443c-81b0-6b2abc90bf5e"
   },
   "outputs": [
    {
     "data": {
      "text/plain": [
       "Attack_type\n",
       "MITM                     24301\n",
       "Fingerprinting           24301\n",
       "Ransomware               24301\n",
       "Uploading                24301\n",
       "SQL_injection            24301\n",
       "DDoS_HTTP                24301\n",
       "DDoS_TCP                 24301\n",
       "Password                 24301\n",
       "Port_Scanning            24301\n",
       "Vulnerability_scanner    24301\n",
       "Backdoor                 24301\n",
       "XSS                      24301\n",
       "Normal                   24301\n",
       "DDoS_UDP                 24301\n",
       "DDoS_ICMP                24301\n",
       "Name: count, dtype: int64"
      ]
     },
     "execution_count": 71,
     "metadata": {},
     "output_type": "execute_result"
    }
   ],
   "source": [
    "y_resampled_type.value_counts()"
   ]
  },
  {
   "cell_type": "code",
   "execution_count": null,
   "metadata": {
    "colab": {
     "background_save": true,
     "base_uri": "https://localhost:8080/"
    },
    "execution": {
     "iopub.execute_input": "2024-12-12T16:52:22.088037Z",
     "iopub.status.busy": "2024-12-12T16:52:22.087018Z"
    },
    "id": "_rvWPptUTAaY",
    "outputId": "43b38de6-0b91-4af9-eee8-ac769da9acfa"
   },
   "outputs": [
    {
     "name": "stdout",
     "output_type": "stream",
     "text": [
      "Models are: \n",
      "LDA KNN CART NB RF \n",
      " [('LDA', LinearDiscriminantAnalysis()), ('KNN', KNeighborsClassifier()), ('CART', DecisionTreeClassifier()), ('NB', GaussianNB()), ('RF', RandomForestClassifier(n_estimators=10))]\n",
      "LDA\n",
      "KNN\n"
     ]
    }
   ],
   "source": [
    "y_type = y_resampled_type\n",
    "X_type = X_resampled_type\n",
    "X_train_type, X_test_type, y_train_type, y_test_type = train_test_split(X_type, y_type, train_size = 0.8)\n",
    "eval_scores = []\n",
    "fun_for_model_type(eval_scores)\n",
    "fun_eval_model_type(eval_scores)"
   ]
  },
  {
   "cell_type": "markdown",
   "metadata": {
    "id": "TWRhpb_Qp5WQ"
   },
   "source": [
    "# Feature Selection"
   ]
  },
  {
   "cell_type": "markdown",
   "metadata": {
    "id": "nFB13sNVoZBN"
   },
   "source": [
    "* on binaryclass modelling"
   ]
  },
  {
   "cell_type": "code",
   "execution_count": null,
   "metadata": {
    "colab": {
     "background_save": true
    },
    "id": "bksNy4o5oYGq",
    "outputId": "54fdc007-bb06-44fa-ddac-96930e37f30d"
   },
   "outputs": [
    {
     "data": {
      "text/plain": [
       "(188470, 4)"
      ]
     },
     "execution_count": 136,
     "metadata": {},
     "output_type": "execute_result"
    }
   ],
   "source": [
    "from sklearn.decomposition import PCA\n",
    "pca = PCA(n_components = .95)\n",
    "X_train_pca_bin = pca.fit_transform(X_train_bin)\n",
    "X_test_pca_bin = pca.transform(X_test_bin)\n",
    "X_train_pca_bin.shape"
   ]
  },
  {
   "cell_type": "code",
   "execution_count": null,
   "metadata": {
    "colab": {
     "background_save": true
    },
    "id": "ztR68Z50osp8",
    "outputId": "d6c3deb3-de1f-419b-90b8-da7c23110859"
   },
   "outputs": [
    {
     "name": "stdout",
     "output_type": "stream",
     "text": [
      "Models are: \n",
      "LDA\n",
      "KNN\n",
      "CART\n",
      "NB\n",
      "[('LDA', LinearDiscriminantAnalysis()), ('KNN', KNeighborsClassifier()), ('CART', DecisionTreeClassifier()), ('NB', GaussianNB())]\n",
      "LDA\n",
      "KNN\n",
      "CART\n",
      "NB\n",
      "Results of the Binary Classification:\n",
      "\n",
      "\n",
      "\t Model Name LDA\n",
      "\t accuracy_score 0.6054161891421538\n",
      "\t recall 0.5348325075170457\n",
      "\t f1_score 0.5760091220068415\n",
      "\t roc_auc_score 0.6788844163760867\n",
      "\t confusion_metrix [[15897  7608]\n",
      " [10984 12629]]\n",
      "\t cross_val_score 0.6053534143375195\n",
      "\t classification report               precision    recall  f1-score   support\n",
      "\n",
      "           0       0.59      0.68      0.63     23505\n",
      "           1       0.62      0.53      0.58     23613\n",
      "\n",
      "    accuracy                           0.61     47118\n",
      "   macro avg       0.61      0.61      0.60     47118\n",
      "weighted avg       0.61      0.61      0.60     47118\n",
      "\n",
      "--------------------------------------------------------------------------------\n",
      "\t Model Name KNN\n",
      "\t accuracy_score 0.83339700326839\n",
      "\t recall 0.7437852030661076\n",
      "\t f1_score 0.8173399106478034\n",
      "\t roc_auc_score 0.9113820050145078\n",
      "\t confusion_metrix [[21705  1800]\n",
      " [ 6050 17563]]\n",
      "\t cross_val_score 0.8483369065938\n",
      "\t classification report               precision    recall  f1-score   support\n",
      "\n",
      "           0       0.78      0.92      0.85     23505\n",
      "           1       0.91      0.74      0.82     23613\n",
      "\n",
      "    accuracy                           0.83     47118\n",
      "   macro avg       0.84      0.83      0.83     47118\n",
      "weighted avg       0.84      0.83      0.83     47118\n",
      "\n",
      "--------------------------------------------------------------------------------\n",
      "\t Model Name CART\n",
      "\t accuracy_score 0.9995755337662889\n",
      "\t recall 0.9991530089357558\n",
      "\t f1_score 0.9995763250434266\n",
      "\t roc_auc_score 0.9995765044678779\n",
      "\t confusion_metrix [[23505     0]\n",
      " [   20 23593]]\n",
      "\t cross_val_score 0.9997665421300251\n",
      "\t classification report               precision    recall  f1-score   support\n",
      "\n",
      "           0       1.00      1.00      1.00     23505\n",
      "           1       1.00      1.00      1.00     23613\n",
      "\n",
      "    accuracy                           1.00     47118\n",
      "   macro avg       1.00      1.00      1.00     47118\n",
      "weighted avg       1.00      1.00      1.00     47118\n",
      "\n",
      "--------------------------------------------------------------------------------\n",
      "\t Model Name NB\n",
      "\t accuracy_score 0.5420009338257141\n",
      "\t recall 0.0970651759623936\n",
      "\t f1_score 0.1752025684146155\n",
      "\t roc_auc_score 0.5877348306823693\n",
      "\t confusion_metrix [[23246   259]\n",
      " [21321  2292]]\n",
      "\t cross_val_score 0.5437586164636445\n",
      "\t classification report               precision    recall  f1-score   support\n",
      "\n",
      "           0       0.52      0.99      0.68     23505\n",
      "           1       0.90      0.10      0.18     23613\n",
      "\n",
      "    accuracy                           0.54     47118\n",
      "   macro avg       0.71      0.54      0.43     47118\n",
      "weighted avg       0.71      0.54      0.43     47118\n",
      "\n",
      "--------------------------------------------------------------------------------\n"
     ]
    }
   ],
   "source": [
    "eval_scores = []\n",
    "fun_for_model_binary(eval_scores)\n",
    "fun_eval_model_binary(eval_scores)"
   ]
  },
  {
   "cell_type": "markdown",
   "metadata": {
    "id": "_zTfwhn9eh71"
   },
   "source": [
    "* on multiclass modelling"
   ]
  },
  {
   "cell_type": "code",
   "execution_count": null,
   "metadata": {
    "colab": {
     "background_save": true
    },
    "id": "1zfGH2QMsDst",
    "outputId": "66b56f16-3d7f-4438-f22c-e28ba979c7b9"
   },
   "outputs": [
    {
     "data": {
      "text/plain": [
       "(272171, 4)"
      ]
     },
     "execution_count": 138,
     "metadata": {},
     "output_type": "execute_result"
    }
   ],
   "source": [
    "from sklearn.decomposition import PCA\n",
    "pca = PCA(n_components = 0.95)\n",
    "X_train_pca_type = pca.fit_transform(X_train_type)\n",
    "X_test_pca_type = pca.transform(X_test_type)\n",
    "X_train_pca_type.shape"
   ]
  },
  {
   "cell_type": "code",
   "execution_count": null,
   "metadata": {
    "colab": {
     "background_save": true
    },
    "id": "B9sPvmoDwwGw",
    "outputId": "4d5b44b4-42f6-4bb6-d40c-7f9f005bf649"
   },
   "outputs": [
    {
     "name": "stdout",
     "output_type": "stream",
     "text": [
      "Models are: \n",
      "LDA KNN CART NB RF \n",
      " [('LDA', LinearDiscriminantAnalysis()), ('KNN', KNeighborsClassifier()), ('CART', DecisionTreeClassifier()), ('NB', GaussianNB()), ('RF', RandomForestClassifier(n_estimators=10))]\n",
      "LDA\n",
      "KNN\n",
      "CART\n",
      "NB\n",
      "RF\n",
      "Results of the MultiClass Classification:\n",
      "\n",
      "\n",
      "\t Model Name LDA\n",
      "\t accuracy_score 0.546066457975104\n",
      "\t recall 0.546066457975104\n",
      "\t f1_score 0.546066457975104\n",
      "\t confusion_metrix [[1426    0    0    9    0   27   62  265   33  316 1134  641  592  267]\n",
      " [   0 4945    0    0    0    0    0    0    0    0    0    0    0    0]\n",
      " [   0    0 3902   13    0  905    0    0    0    0    0   60    0    0]\n",
      " [  37    0    0 3511    0    0  158    0    4   39    0 1012    0    0]\n",
      " [   0    0    0    0 4757    0    0    0    0    0    0    0    0    0]\n",
      " [  70    0    0    0    0 3165  269    0    0    0   89 1424    0    0]\n",
      " [ 481  478    0   49    0    2  808  359    7  763  761  599  338  213]\n",
      " [ 979  274    0    1    0    2    1  343    1  642  687  580  805  551]\n",
      " [  58   93    0  780    0   46  163  432 1483 1204   56   98   13  429]\n",
      " [  15  887    0   20    0   94  153   65   56 1157 1474  944    0   15]\n",
      " [   0    0    0    0    0    0    3    0    0    0 4162    0  702    0]\n",
      " [   0    0    0    0    0    0    1    0    0    0    0 4851    0    0]\n",
      " [1034    0    0    0    0    3   10  130    1  156  233    0 1942 1341]\n",
      " [1001    0    0   11    0    6  152  245   10  471  688  525 1070  704]]\n",
      "\t cross_val_score 0.5467676173328894\n",
      "\t classification report                        precision    recall  f1-score   support\n",
      "\n",
      "             Backdoor       0.28      0.30      0.29      4772\n",
      "            DDoS_HTTP       0.74      1.00      0.85      4945\n",
      "            DDoS_ICMP       1.00      0.80      0.89      4880\n",
      "             DDoS_TCP       0.80      0.74      0.77      4761\n",
      "             DDoS_UDP       1.00      1.00      1.00      4757\n",
      "       Fingerprinting       0.74      0.63      0.68      5017\n",
      "               Normal       0.45      0.17      0.24      4858\n",
      "             Password       0.19      0.07      0.10      4866\n",
      "        Port_Scanning       0.93      0.31      0.46      4855\n",
      "           Ransomware       0.24      0.24      0.24      4880\n",
      "        SQL_injection       0.45      0.86      0.59      4867\n",
      "            Uploading       0.45      1.00      0.62      4852\n",
      "Vulnerability_scanner       0.36      0.40      0.38      4850\n",
      "                  XSS       0.20      0.14      0.17      4883\n",
      "\n",
      "             accuracy                           0.55     68043\n",
      "            macro avg       0.56      0.55      0.52     68043\n",
      "         weighted avg       0.56      0.55      0.52     68043\n",
      "\n",
      "--------------------------------------------------------------------------------\n",
      "\t Model Name KNN\n",
      "\t accuracy_score 0.7794629866408007\n",
      "\t recall 0.7794629866408007\n",
      "\t f1_score 0.7794629866408007\n",
      "\t confusion_metrix [[4515   45    0    0    0   10   24   17   34   28   20   35   23   21]\n",
      " [  48 3050    0    0    0   28  239  376  109   67  303  327  176  222]\n",
      " [   0    0 4878    0    0    2    0    0    0    0    0    0    0    0]\n",
      " [   0    3   33 4665    0    0    2    8   40    0    3    1    3    3]\n",
      " [   0    0    0    0 4757    0    0    0    0    0    0    0    0    0]\n",
      " [   0    0    0    0    0 5017    0    0    0    0    0    0    0    0]\n",
      " [  60  644    1    0    0   38 1310  737  261   64  533  480  365  365]\n",
      " [  28  435    0    0    0   29  384 2402  223   43  427  365  285  245]\n",
      " [  44  154    0    4    0   43  161  282 3475   90  203  130  149  120]\n",
      " [  34   94    0    0    0   13   51   81   79 4374   33   64   21   36]\n",
      " [  17  340    0    0    0   15  227  408  128   46 3131  231  182  142]\n",
      " [  34  390    0    0    0   29  217  346  118   48  282 3103  129  156]\n",
      " [   5  116    0    0    0    2   59  162   74   16  137   85 4130   64]\n",
      " [  22  154    0    0    0   15   72   68   50   51   78  110   33 4230]]\n",
      "\t cross_val_score 0.796531013893045\n",
      "\t classification report                        precision    recall  f1-score   support\n",
      "\n",
      "             Backdoor       0.94      0.95      0.94      4772\n",
      "            DDoS_HTTP       0.56      0.62      0.59      4945\n",
      "            DDoS_ICMP       0.99      1.00      1.00      4880\n",
      "             DDoS_TCP       1.00      0.98      0.99      4761\n",
      "             DDoS_UDP       1.00      1.00      1.00      4757\n",
      "       Fingerprinting       0.96      1.00      0.98      5017\n",
      "               Normal       0.48      0.27      0.34      4858\n",
      "             Password       0.49      0.49      0.49      4866\n",
      "        Port_Scanning       0.76      0.72      0.74      4855\n",
      "           Ransomware       0.91      0.90      0.90      4880\n",
      "        SQL_injection       0.61      0.64      0.63      4867\n",
      "            Uploading       0.63      0.64      0.63      4852\n",
      "Vulnerability_scanner       0.75      0.85      0.80      4850\n",
      "                  XSS       0.75      0.87      0.81      4883\n",
      "\n",
      "             accuracy                           0.78     68043\n",
      "            macro avg       0.77      0.78      0.77     68043\n",
      "         weighted avg       0.77      0.78      0.77     68043\n",
      "\n",
      "--------------------------------------------------------------------------------\n",
      "\t Model Name CART\n",
      "\t accuracy_score 0.9952823949561307\n",
      "\t recall 0.9952823949561307\n",
      "\t f1_score 0.9952823949561307\n",
      "\t confusion_metrix [[4744    0    0    0    0    0    0    9    3    0    0    0    0   16]\n",
      " [   0 4945    0    0    0    0    0    0    0    0    0    0    0    0]\n",
      " [   0    0 4880    0    0    0    0    0    0    0    0    0    0    0]\n",
      " [   0    0    0 4761    0    0    0    0    0    0    0    0    0    0]\n",
      " [   0    0    0    0 4757    0    0    0    0    0    0    0    0    0]\n",
      " [   0    0    0    0    0 5017    0    0    0    0    0    0    0    0]\n",
      " [   3    0    0    0    0    0 4836    0    6    8    0    1    0    4]\n",
      " [   6    0    0    0    0    0    0 4769    8    0    0    0   17   66]\n",
      " [   2    0    0    0    0    0    1   17 4810   10    0    0    0   15]\n",
      " [   0    0    0    0    0    0    0    0    4 4868    0    8    0    0]\n",
      " [   0    0    0    0    0    0    0    0    0    0 4867    0    0    0]\n",
      " [   0    0    0    0    0    0    0    0    0    3    0 4849    0    0]\n",
      " [   0    0    0    0    0    0    2    4    0    0    0    0 4831   13]\n",
      " [   7    0    0    0    0    0    0   60    9    0    0    0   19 4788]]\n",
      "\t cross_val_score 0.9961024539040298\n",
      "\t classification report                        precision    recall  f1-score   support\n",
      "\n",
      "             Backdoor       1.00      0.99      1.00      4772\n",
      "            DDoS_HTTP       1.00      1.00      1.00      4945\n",
      "            DDoS_ICMP       1.00      1.00      1.00      4880\n",
      "             DDoS_TCP       1.00      1.00      1.00      4761\n",
      "             DDoS_UDP       1.00      1.00      1.00      4757\n",
      "       Fingerprinting       1.00      1.00      1.00      5017\n",
      "               Normal       1.00      1.00      1.00      4858\n",
      "             Password       0.98      0.98      0.98      4866\n",
      "        Port_Scanning       0.99      0.99      0.99      4855\n",
      "           Ransomware       1.00      1.00      1.00      4880\n",
      "        SQL_injection       1.00      1.00      1.00      4867\n",
      "            Uploading       1.00      1.00      1.00      4852\n",
      "Vulnerability_scanner       0.99      1.00      0.99      4850\n",
      "                  XSS       0.98      0.98      0.98      4883\n",
      "\n",
      "             accuracy                           1.00     68043\n",
      "            macro avg       1.00      1.00      1.00     68043\n",
      "         weighted avg       1.00      1.00      1.00     68043\n",
      "\n",
      "--------------------------------------------------------------------------------\n",
      "\t Model Name NB\n",
      "\t accuracy_score 0.27188689505165853\n",
      "\t recall 0.27188689505165853\n",
      "\t f1_score 0.27188689505165853\n",
      "\t confusion_metrix [[   0 2544  248 1919    0   61    0    0    0    0    0    0    0    0]\n",
      " [   0 3487 1458    0    0    0    0    0    0    0    0    0    0    0]\n",
      " [   0    0 4880    0    0    0    0    0    0    0    0    0    0    0]\n",
      " [   0  226    0 4535    0    0    0    0    0    0    0    0    0    0]\n",
      " [   0    0    0    0 4757    0    0    0    0    0    0    0    0    0]\n",
      " [   0  688 3492    0    0  837    0    0    0    0    0    0    0    0]\n",
      " [   0 3276  734  839    0    9    0    0    0    0    0    0    0    0]\n",
      " [   0 4406  457    0    0    3    0    0    0    0    0    0    0    0]\n",
      " [   0 2182  197 2104    0  372    0    0    0    0    0    0    0    0]\n",
      " [   0 2600  591 1464    0  225    0    0    0    0    0    0    0    0]\n",
      " [   0 4328  539    0    0    0    0    0    0    0    0    0    0    0]\n",
      " [   0 3821 1031    0    0    0    0    0    0    0    0    0    0    0]\n",
      " [   0 4769   65   10    0    4    0    0    0    0    2    0    0    0]\n",
      " [   0 4073  765   25    0   16    0    0    0    0    0    0    0    4]]\n",
      "\t cross_val_score 0.2740216414897436\n",
      "\t classification report                        precision    recall  f1-score   support\n",
      "\n",
      "             Backdoor       1.00      0.00      0.00      4772\n",
      "            DDoS_HTTP       0.10      0.71      0.17      4945\n",
      "            DDoS_ICMP       0.34      1.00      0.50      4880\n",
      "             DDoS_TCP       0.42      0.95      0.58      4761\n",
      "             DDoS_UDP       1.00      1.00      1.00      4757\n",
      "       Fingerprinting       0.55      0.17      0.26      5017\n",
      "               Normal       1.00      0.00      0.00      4858\n",
      "             Password       1.00      0.00      0.00      4866\n",
      "        Port_Scanning       1.00      0.00      0.00      4855\n",
      "           Ransomware       1.00      0.00      0.00      4880\n",
      "        SQL_injection       0.00      0.00      0.00      4867\n",
      "            Uploading       1.00      0.00      0.00      4852\n",
      "Vulnerability_scanner       1.00      0.00      0.00      4850\n",
      "                  XSS       1.00      0.00      0.00      4883\n",
      "\n",
      "             accuracy                           0.27     68043\n",
      "            macro avg       0.74      0.27      0.18     68043\n",
      "         weighted avg       0.74      0.27      0.18     68043\n",
      "\n",
      "--------------------------------------------------------------------------------\n",
      "\t Model Name RF\n",
      "\t accuracy_score 0.9951354290669135\n",
      "\t recall 0.9951354290669135\n",
      "\t f1_score 0.9951354290669135\n",
      "\t confusion_metrix [[4725    0    0    0    0    0    0   19   10    0    0    0    0   18]\n",
      " [   0 4945    0    0    0    0    0    0    0    0    0    0    0    0]\n",
      " [   0    0 4880    0    0    0    0    0    0    0    0    0    0    0]\n",
      " [   0    0    0 4761    0    0    0    0    0    0    0    0    0    0]\n",
      " [   0    0    0    0 4757    0    0    0    0    0    0    0    0    0]\n",
      " [   0    0    0    0    0 5017    0    0    0    0    0    0    0    0]\n",
      " [   1    0    0    0    0    2 4841    0    7    4    0    0    1    2]\n",
      " [   1    0    0    0    0    0    0 4777   16    0    0    0    8   64]\n",
      " [   4    0    0    0    0    0    0    2 4835   10    0    0    0    4]\n",
      " [   0    0    0    0    0    0    0    0    4 4863    0   13    0    0]\n",
      " [   0    0    0    0    0    0    0    0    0    0 4867    0    0    0]\n",
      " [   0    0    0    0    0    0    0    0    0    1    0 4851    0    0]\n",
      " [   1    0    0    0    0    0    0   14    1    0    0    0 4819   15]\n",
      " [   8    0    0    0    0    0    0   69   23    0    0    0    9 4774]]\n",
      "\t cross_val_score 0.9959819425228151\n",
      "\t classification report                        precision    recall  f1-score   support\n",
      "\n",
      "             Backdoor       1.00      0.99      0.99      4772\n",
      "            DDoS_HTTP       1.00      1.00      1.00      4945\n",
      "            DDoS_ICMP       1.00      1.00      1.00      4880\n",
      "             DDoS_TCP       1.00      1.00      1.00      4761\n",
      "             DDoS_UDP       1.00      1.00      1.00      4757\n",
      "       Fingerprinting       1.00      1.00      1.00      5017\n",
      "               Normal       1.00      1.00      1.00      4858\n",
      "             Password       0.98      0.98      0.98      4866\n",
      "        Port_Scanning       0.99      1.00      0.99      4855\n",
      "           Ransomware       1.00      1.00      1.00      4880\n",
      "        SQL_injection       1.00      1.00      1.00      4867\n",
      "            Uploading       1.00      1.00      1.00      4852\n",
      "Vulnerability_scanner       1.00      0.99      0.99      4850\n",
      "                  XSS       0.98      0.98      0.98      4883\n",
      "\n",
      "             accuracy                           1.00     68043\n",
      "            macro avg       1.00      1.00      1.00     68043\n",
      "         weighted avg       1.00      1.00      1.00     68043\n",
      "\n",
      "--------------------------------------------------------------------------------\n"
     ]
    }
   ],
   "source": [
    "# training of the model on selected features\n",
    "eval_scores = []\n",
    "fun_for_model_type(eval_scores)\n",
    "fun_eval_model_type(eval_scores)"
   ]
  },
  {
   "cell_type": "markdown",
   "metadata": {
    "id": "KX-cWdV02_8s"
   },
   "source": [
    "# HyperParameter Tuning"
   ]
  },
  {
   "cell_type": "code",
   "execution_count": null,
   "metadata": {
    "colab": {
     "background_save": true
    },
    "id": "fQcvrE4q4Zis"
   },
   "outputs": [],
   "source": [
    "from sklearn.model_selection import RandomizedSearchCV\n",
    "def param_tuning(X, y):\n",
    "  models = {\n",
    "      \"KNN\":{\n",
    "          \"model\": KNeighborsClassifier(),\n",
    "          \"params\": {\n",
    "          \"n_neighbors\": [i for i in range(1, 15, 2)]\n",
    "          }\n",
    "      },\n",
    "      \"RF\": {\n",
    "          \"model\": RandomForestClassifier(),\n",
    "          \"params\": {\n",
    "              \"max_depth\": [10, 11, 12, 13],\n",
    "              \"max_features\": list(range(1, len(df.columns) + 1))\n",
    "          }\n",
    "      },\n",
    "      \"CART\": {\n",
    "          \"model\": DecisionTreeClassifier(),\n",
    "          \"params\": {\n",
    "              \"max_depth\": [10, 11, 12, 13],\n",
    "              \"max_features\": list(range(1, len(df.columns) + 1))\n",
    "      }\n",
    "    }\n",
    "  }\n",
    "  scores = []\n",
    "  for model_name, model_params in models.items():\n",
    "    print(model_name)\n",
    "    clf = RandomizedSearchCV(model_params[\"model\"], model_params[\"params\"], cv = 5, n_jobs = -1)\n",
    "    clf.fit(X, y)\n",
    "    scores.append([\n",
    "        model_name,\n",
    "        clf.best_params_,\n",
    "        clf.best_score_\n",
    "    ])\n",
    "  return scores"
   ]
  },
  {
   "cell_type": "markdown",
   "metadata": {
    "id": "xrcFTQgD69nj"
   },
   "source": [
    "* for binary class modelling"
   ]
  },
  {
   "cell_type": "code",
   "execution_count": null,
   "metadata": {
    "id": "lyS0qei967vY"
   },
   "outputs": [],
   "source": [
    "param_tuning(X_bin, y_bin)"
   ]
  },
  {
   "cell_type": "markdown",
   "metadata": {
    "id": "yrf92b5s5GvR"
   },
   "source": [
    "# Notebook Ends Here !!!"
   ]
  },
  {
   "cell_type": "code",
   "execution_count": null,
   "metadata": {
    "id": "G9dA7ayx5CCV"
   },
   "outputs": [],
   "source": [
    "print(\"End of the notebook !\")"
   ]
  }
 ],
 "metadata": {
  "colab": {
   "provenance": []
  },
  "kernelspec": {
   "display_name": "nitin",
   "language": "python",
   "name": "python3"
  },
  "language_info": {
   "codemirror_mode": {
    "name": "ipython",
    "version": 3
   },
   "file_extension": ".py",
   "mimetype": "text/x-python",
   "name": "python",
   "nbconvert_exporter": "python",
   "pygments_lexer": "ipython3",
   "version": "3.12.8"
  }
 },
 "nbformat": 4,
 "nbformat_minor": 4
}
