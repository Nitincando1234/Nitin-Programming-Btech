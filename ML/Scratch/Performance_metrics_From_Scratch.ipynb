{
 "cells": [
  {
   "cell_type": "markdown",
   "id": "a3b88cf1-2716-488e-9ef4-f30c861b5aa2",
   "metadata": {},
   "source": [
    "# Accuracy Metrics"
   ]
  },
  {
   "cell_type": "code",
   "execution_count": 3,
   "id": "85115184-438a-4c44-877f-87ce9446c401",
   "metadata": {
    "execution": {
     "iopub.execute_input": "2024-11-09T10:19:22.457070Z",
     "iopub.status.busy": "2024-11-09T10:19:22.456071Z",
     "iopub.status.idle": "2024-11-09T10:19:22.472140Z",
     "shell.execute_reply": "2024-11-09T10:19:22.472140Z",
     "shell.execute_reply.started": "2024-11-09T10:19:22.457070Z"
    }
   },
   "outputs": [],
   "source": [
    "def accuracy_metrics(actual, predicted):\n",
    "    correct = 0.0\n",
    "    for i in range(len(actual)):\n",
    "        if actual[i] == predicted[i]:\n",
    "            correct += 1.0\n",
    "    return (correct / len(actual)) * 100"
   ]
  }
 ],
 "metadata": {
  "kernelspec": {
   "display_name": "Python 3 (ipykernel)",
   "language": "python",
   "name": "python3"
  },
  "language_info": {
   "codemirror_mode": {
    "name": "ipython",
    "version": 3
   },
   "file_extension": ".py",
   "mimetype": "text/x-python",
   "name": "python",
   "nbconvert_exporter": "python",
   "pygments_lexer": "ipython3",
   "version": "3.12.7"
  }
 },
 "nbformat": 4,
 "nbformat_minor": 5
}
