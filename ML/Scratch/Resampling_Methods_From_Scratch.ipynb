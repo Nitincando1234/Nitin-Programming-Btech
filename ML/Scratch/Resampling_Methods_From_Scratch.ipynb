{
 "cells": [
  {
   "cell_type": "markdown",
   "id": "739ee324-6b1b-452d-be19-36d4eed2be80",
   "metadata": {},
   "source": [
    "# Train-Test Split"
   ]
  },
  {
   "cell_type": "code",
   "execution_count": 9,
   "id": "04cc05a6-1640-47b6-9078-efd6476d0c05",
   "metadata": {},
   "outputs": [],
   "source": [
    "import random\n",
    "\n",
    "def train_test_split(dataset, train_size = 0.6):\n",
    "    random.seed(1)\n",
    "    dataset_copy = list(dataset)\n",
    "    train_set = []\n",
    "    test_set = dataset_copy\n",
    "    len_split = len(dataset) * train_size\n",
    "    while len(train_set) < len_split:\n",
    "        index = random.randrange(len(test_set))\n",
    "        train_set.append(test_set.pop(index))\n",
    "    return train_set, test_set    "
   ]
  },
  {
   "cell_type": "code",
   "execution_count": 11,
   "id": "96bfcc49-6cff-477a-be98-cef62bbcca0a",
   "metadata": {},
   "outputs": [
    {
     "name": "stdout",
     "output_type": "stream",
     "text": [
      "[[3], [2], [7], [1], [8], [9]]\n",
      "[[4], [5], [6], [10]]\n"
     ]
    }
   ],
   "source": [
    "dataset = [[1], [2], [3], [4], [5], [6], [7], [8], [9], [10]]\n",
    "train, test = train_test_split(dataset)\n",
    "print(train)\n",
    "print(test)"
   ]
  },
  {
   "cell_type": "markdown",
   "id": "2dfae9ae-181f-42ca-8552-d0f495aef72c",
   "metadata": {},
   "source": [
    "# Cross validation split"
   ]
  },
  {
   "cell_type": "code",
   "execution_count": 20,
   "id": "b55ae8e0-521c-4152-8133-fdbb1f060b08",
   "metadata": {},
   "outputs": [],
   "source": [
    "def cross_validation_split(dataset, n_folds = 3):\n",
    "    len_fold = int(len(dataset) / n_folds)\n",
    "    dataset_copy, folds = list(dataset), []\n",
    "    for i in range(n_folds):\n",
    "        fold = []\n",
    "        while len(fold) < len_fold:\n",
    "            fold.append(dataset_copy.pop(random.randrange(len(dataset_copy))))\n",
    "        folds.append(fold)\n",
    "    return folds"
   ]
  },
  {
   "cell_type": "code",
   "execution_count": 21,
   "id": "ede5d4d9-26be-47ae-8f71-1c5632bc9822",
   "metadata": {},
   "outputs": [
    {
     "name": "stdout",
     "output_type": "stream",
     "text": [
      "[[[4], [8]], [[1], [7]], [[3], [9]], [[10], [6]]]\n"
     ]
    }
   ],
   "source": [
    "dataset = [[1], [2], [3], [4], [5], [6], [7], [8], [9], [10]]\n",
    "fold = cross_validation_split(dataset, n_folds = 4)\n",
    "print(fold)"
   ]
  },
  {
   "cell_type": "code",
   "execution_count": null,
   "id": "48b49f23-ec2d-4a59-9d05-bd25446e5162",
   "metadata": {},
   "outputs": [],
   "source": []
  },
  {
   "cell_type": "code",
   "execution_count": null,
   "id": "cc9a5adf-dd22-4ee1-9a27-05469903a6b4",
   "metadata": {},
   "outputs": [],
   "source": []
  }
 ],
 "metadata": {
  "kernelspec": {
   "display_name": "Python 3 (ipykernel)",
   "language": "python",
   "name": "python3"
  },
  "language_info": {
   "codemirror_mode": {
    "name": "ipython",
    "version": 3
   },
   "file_extension": ".py",
   "mimetype": "text/x-python",
   "name": "python",
   "nbconvert_exporter": "python",
   "pygments_lexer": "ipython3",
   "version": "3.12.7"
  }
 },
 "nbformat": 4,
 "nbformat_minor": 5
}
