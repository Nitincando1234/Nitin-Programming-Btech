{
 "cells": [
  {
   "cell_type": "code",
   "execution_count": 16,
   "metadata": {
    "execution": {
     "iopub.execute_input": "2024-12-07T09:42:00.817818Z",
     "iopub.status.busy": "2024-12-07T09:42:00.817818Z",
     "iopub.status.idle": "2024-12-07T09:42:00.825207Z",
     "shell.execute_reply": "2024-12-07T09:42:00.823992Z",
     "shell.execute_reply.started": "2024-12-07T09:42:00.817818Z"
    },
    "id": "t3ud_QR4fHgi"
   },
   "outputs": [],
   "source": [
    "import numpy as np\n",
    "import pandas as pd"
   ]
  },
  {
   "cell_type": "code",
   "execution_count": 17,
   "metadata": {
    "execution": {
     "iopub.execute_input": "2024-12-07T09:42:19.820407Z",
     "iopub.status.busy": "2024-12-07T09:42:19.819411Z",
     "iopub.status.idle": "2024-12-07T09:42:21.965892Z",
     "shell.execute_reply": "2024-12-07T09:42:21.965892Z",
     "shell.execute_reply.started": "2024-12-07T09:42:19.820407Z"
    },
    "id": "2-O-qSRKfvqg"
   },
   "outputs": [],
   "source": [
    "df = pd.read_csv(\"ML-EdgeIIoT-dataset.csv\", low_memory = False).sample(10000)"
   ]
  },
  {
   "cell_type": "code",
   "execution_count": 18,
   "metadata": {
    "colab": {
     "base_uri": "https://localhost:8080/"
    },
    "execution": {
     "iopub.execute_input": "2024-12-07T09:42:22.809817Z",
     "iopub.status.busy": "2024-12-07T09:42:22.809817Z",
     "iopub.status.idle": "2024-12-07T09:42:22.820823Z",
     "shell.execute_reply": "2024-12-07T09:42:22.820823Z",
     "shell.execute_reply.started": "2024-12-07T09:42:22.809817Z"
    },
    "id": "wZpKQO9OgZIH",
    "outputId": "de939ee4-a2ca-4343-fd7c-7d47b128bf58"
   },
   "outputs": [
    {
     "data": {
      "text/plain": [
       "(10000, 63)"
      ]
     },
     "execution_count": 18,
     "metadata": {},
     "output_type": "execute_result"
    }
   ],
   "source": [
    "df.shape"
   ]
  },
  {
   "cell_type": "code",
   "execution_count": 19,
   "metadata": {
    "colab": {
     "base_uri": "https://localhost:8080/"
    },
    "execution": {
     "iopub.execute_input": "2024-12-07T09:42:24.938054Z",
     "iopub.status.busy": "2024-12-07T09:42:24.937078Z",
     "iopub.status.idle": "2024-12-07T09:42:24.963132Z",
     "shell.execute_reply": "2024-12-07T09:42:24.963132Z",
     "shell.execute_reply.started": "2024-12-07T09:42:24.938054Z"
    },
    "id": "DJ4bI5JLu_Py",
    "outputId": "5e8a5875-7181-4c93-c9e5-0218e30e179e"
   },
   "outputs": [
    {
     "data": {
      "text/plain": [
       "(10000, 63)"
      ]
     },
     "execution_count": 19,
     "metadata": {},
     "output_type": "execute_result"
    }
   ],
   "source": [
    "df.dropna(axis = 1, inplace = True)\n",
    "df.shape"
   ]
  },
  {
   "cell_type": "code",
   "execution_count": 20,
   "metadata": {
    "execution": {
     "iopub.execute_input": "2024-12-07T09:42:25.408640Z",
     "iopub.status.busy": "2024-12-07T09:42:25.407623Z",
     "iopub.status.idle": "2024-12-07T09:42:25.439418Z",
     "shell.execute_reply": "2024-12-07T09:42:25.438412Z",
     "shell.execute_reply.started": "2024-12-07T09:42:25.408640Z"
    },
    "id": "PKDMfqGii_1S"
   },
   "outputs": [],
   "source": [
    "# Dropping the unnecessary attributes\n",
    "df.drop([\"frame.time\", \"http.file_data\", \"http.content_length\", \"http.request.uri.query\",\n",
    "\"http.request.method\", \"http.referer\", \"http.request.full_uri\",\n",
    "\"http.request.version\", \"http.response\", \"http.tls_port\", \"dns.qry.name\", \"dns.qry.name.len\", \"dns.qry.qu\",\n",
    "\"dns.qry.type\", \"dns.retransmission\", \"dns.retransmit_request\",\n",
    "\"dns.retransmit_request_in\", \"mqtt.conack.flags\",\n",
    "\"mqtt.conflag.cleansess\", \"mqtt.conflags\", \"mqtt.hdrflags\", \"mqtt.len\",\n",
    "\"mqtt.msg_decoded_as\", \"mqtt.msg\", \"mqtt.msgtype\", \"mqtt.proto_len\",\n",
    "\"mqtt.protoname\", \"mqtt.topic\", \"mqtt.topic_len\", \"mqtt.ver\",\"tcp.connection.fin\",\n",
    "\"tcp.connection.rst\", \"tcp.connection.syn\", \"tcp.connection.synack\",\n",
    "\"tcp.dstport\", \"tcp.flags\", \"tcp.flags.ack\", \"tcp.len\", \"tcp.options\",\n",
    "\"tcp.payload\", \"tcp.seq\", \"tcp.srcport\"\n",
    "], inplace = True, axis = 1)"
   ]
  },
  {
   "cell_type": "code",
   "execution_count": 21,
   "metadata": {
    "execution": {
     "iopub.execute_input": "2024-12-07T09:42:26.064277Z",
     "iopub.status.busy": "2024-12-07T09:42:26.063278Z",
     "iopub.status.idle": "2024-12-07T09:42:26.073222Z",
     "shell.execute_reply": "2024-12-07T09:42:26.072211Z",
     "shell.execute_reply.started": "2024-12-07T09:42:26.063278Z"
    },
    "id": "RvVTr_9pgt68"
   },
   "outputs": [],
   "source": [
    "df_labels = df[[\"Attack_label\"]]\n",
    "df_types = df[[\"Attack_type\"]]"
   ]
  },
  {
   "cell_type": "code",
   "execution_count": 22,
   "metadata": {
    "execution": {
     "iopub.execute_input": "2024-12-07T09:42:28.830741Z",
     "iopub.status.busy": "2024-12-07T09:42:28.830741Z",
     "iopub.status.idle": "2024-12-07T09:42:28.958572Z",
     "shell.execute_reply": "2024-12-07T09:42:28.958572Z",
     "shell.execute_reply.started": "2024-12-07T09:42:28.830741Z"
    },
    "id": "SBKEMoPhjqPW"
   },
   "outputs": [],
   "source": [
    "# Converting the ip.src_host to int\n",
    "import ipaddress\n",
    "def ip_to_int(ip_address):\n",
    "  try:\n",
    "    return int(ipaddress.IPv4Address(ip_address))\n",
    "  except:\n",
    "    if (ip_address == \"0.0\") or (ip_address == \"0\"):\n",
    "      return 0\n",
    "    else:\n",
    "      return np.nan\n",
    "\n",
    "df[\"ip.src_host\"] = df[\"ip.src_host\"].apply(ip_to_int)\n",
    "df[\"arp.dst.proto_ipv4\"] = df[\"arp.dst.proto_ipv4\"].apply(ip_to_int)\n",
    "df[\"arp.src.proto_ipv4\"] = df[\"arp.src.proto_ipv4\"].apply(ip_to_int)\n",
    "df[\"ip.dst_host\"] = df[\"ip.dst_host\"].apply(ip_to_int)"
   ]
  },
  {
   "cell_type": "code",
   "execution_count": 23,
   "metadata": {
    "colab": {
     "base_uri": "https://localhost:8080/",
     "height": 742
    },
    "execution": {
     "iopub.execute_input": "2024-12-07T09:42:30.190661Z",
     "iopub.status.busy": "2024-12-07T09:42:30.189658Z",
     "iopub.status.idle": "2024-12-07T09:42:30.202286Z",
     "shell.execute_reply": "2024-12-07T09:42:30.201277Z",
     "shell.execute_reply.started": "2024-12-07T09:42:30.190661Z"
    },
    "id": "eLO0c2xOkVwx",
    "outputId": "043f9236-f0ea-490b-a678-5e75e0fd40c8"
   },
   "outputs": [
    {
     "data": {
      "text/plain": [
       "ip.src_host                  int64\n",
       "ip.dst_host                  int64\n",
       "arp.dst.proto_ipv4           int64\n",
       "arp.opcode                 float64\n",
       "arp.hw.size                float64\n",
       "arp.src.proto_ipv4           int64\n",
       "icmp.checksum              float64\n",
       "icmp.seq_le                float64\n",
       "icmp.transmit_timestamp    float64\n",
       "icmp.unused                float64\n",
       "tcp.ack                    float64\n",
       "tcp.ack_raw                float64\n",
       "tcp.checksum               float64\n",
       "udp.port                   float64\n",
       "udp.stream                 float64\n",
       "udp.time_delta             float64\n",
       "mbtcp.len                  float64\n",
       "mbtcp.trans_id             float64\n",
       "mbtcp.unit_id              float64\n",
       "Attack_label                 int64\n",
       "Attack_type                 object\n",
       "dtype: object"
      ]
     },
     "execution_count": 23,
     "metadata": {},
     "output_type": "execute_result"
    }
   ],
   "source": [
    "df.dtypes"
   ]
  },
  {
   "cell_type": "markdown",
   "metadata": {
    "id": "2OnDPoj3jnPX"
   },
   "source": [
    "# binary class modelling"
   ]
  },
  {
   "cell_type": "markdown",
   "metadata": {
    "id": "r8ti0sTth8Ut"
   },
   "source": [
    "* Feature importance"
   ]
  },
  {
   "cell_type": "code",
   "execution_count": 24,
   "metadata": {
    "execution": {
     "iopub.execute_input": "2024-12-07T09:42:32.184944Z",
     "iopub.status.busy": "2024-12-07T09:42:32.183951Z",
     "iopub.status.idle": "2024-12-07T09:42:35.132787Z",
     "shell.execute_reply": "2024-12-07T09:42:35.132787Z",
     "shell.execute_reply.started": "2024-12-07T09:42:32.184944Z"
    },
    "id": "t53GkeodiEno"
   },
   "outputs": [],
   "source": [
    "from sklearn.model_selection import train_test_split\n",
    "X, y = df.drop([\"Attack_label\", \"Attack_type\"], axis = 1), df[\"Attack_label\"]\n",
    "X_train_bin, X_test_bin, y_train_bin, y_test_bin = train_test_split(X, y, test_size = 0.3, random_state = 42)"
   ]
  },
  {
   "cell_type": "code",
   "execution_count": 25,
   "metadata": {
    "colab": {
     "base_uri": "https://localhost:8080/",
     "height": 645
    },
    "execution": {
     "iopub.execute_input": "2024-12-07T09:42:35.132787Z",
     "iopub.status.busy": "2024-12-07T09:42:35.132787Z",
     "iopub.status.idle": "2024-12-07T09:42:36.098303Z",
     "shell.execute_reply": "2024-12-07T09:42:36.098303Z",
     "shell.execute_reply.started": "2024-12-07T09:42:35.132787Z"
    },
    "id": "anKxjRgpkxed",
    "outputId": "29858a92-6b55-4498-f8f0-aa23ec030f04"
   },
   "outputs": [
    {
     "data": {
      "text/html": [
       "<div>\n",
       "<style scoped>\n",
       "    .dataframe tbody tr th:only-of-type {\n",
       "        vertical-align: middle;\n",
       "    }\n",
       "\n",
       "    .dataframe tbody tr th {\n",
       "        vertical-align: top;\n",
       "    }\n",
       "\n",
       "    .dataframe thead th {\n",
       "        text-align: right;\n",
       "    }\n",
       "</style>\n",
       "<table border=\"1\" class=\"dataframe\">\n",
       "  <thead>\n",
       "    <tr style=\"text-align: right;\">\n",
       "      <th></th>\n",
       "      <th>feature</th>\n",
       "      <th>importance</th>\n",
       "    </tr>\n",
       "  </thead>\n",
       "  <tbody>\n",
       "    <tr>\n",
       "      <th>1</th>\n",
       "      <td>ip.dst_host</td>\n",
       "      <td>0.331545</td>\n",
       "    </tr>\n",
       "    <tr>\n",
       "      <th>0</th>\n",
       "      <td>ip.src_host</td>\n",
       "      <td>0.262119</td>\n",
       "    </tr>\n",
       "    <tr>\n",
       "      <th>10</th>\n",
       "      <td>tcp.ack</td>\n",
       "      <td>0.226776</td>\n",
       "    </tr>\n",
       "    <tr>\n",
       "      <th>11</th>\n",
       "      <td>tcp.ack_raw</td>\n",
       "      <td>0.074772</td>\n",
       "    </tr>\n",
       "    <tr>\n",
       "      <th>12</th>\n",
       "      <td>tcp.checksum</td>\n",
       "      <td>0.069373</td>\n",
       "    </tr>\n",
       "    <tr>\n",
       "      <th>14</th>\n",
       "      <td>udp.stream</td>\n",
       "      <td>0.012566</td>\n",
       "    </tr>\n",
       "    <tr>\n",
       "      <th>7</th>\n",
       "      <td>icmp.seq_le</td>\n",
       "      <td>0.011330</td>\n",
       "    </tr>\n",
       "    <tr>\n",
       "      <th>6</th>\n",
       "      <td>icmp.checksum</td>\n",
       "      <td>0.008771</td>\n",
       "    </tr>\n",
       "    <tr>\n",
       "      <th>15</th>\n",
       "      <td>udp.time_delta</td>\n",
       "      <td>0.000724</td>\n",
       "    </tr>\n",
       "    <tr>\n",
       "      <th>2</th>\n",
       "      <td>arp.dst.proto_ipv4</td>\n",
       "      <td>0.000679</td>\n",
       "    </tr>\n",
       "    <tr>\n",
       "      <th>13</th>\n",
       "      <td>udp.port</td>\n",
       "      <td>0.000649</td>\n",
       "    </tr>\n",
       "    <tr>\n",
       "      <th>5</th>\n",
       "      <td>arp.src.proto_ipv4</td>\n",
       "      <td>0.000481</td>\n",
       "    </tr>\n",
       "    <tr>\n",
       "      <th>3</th>\n",
       "      <td>arp.opcode</td>\n",
       "      <td>0.000136</td>\n",
       "    </tr>\n",
       "    <tr>\n",
       "      <th>4</th>\n",
       "      <td>arp.hw.size</td>\n",
       "      <td>0.000051</td>\n",
       "    </tr>\n",
       "    <tr>\n",
       "      <th>8</th>\n",
       "      <td>icmp.transmit_timestamp</td>\n",
       "      <td>0.000029</td>\n",
       "    </tr>\n",
       "    <tr>\n",
       "      <th>17</th>\n",
       "      <td>mbtcp.trans_id</td>\n",
       "      <td>0.000000</td>\n",
       "    </tr>\n",
       "    <tr>\n",
       "      <th>9</th>\n",
       "      <td>icmp.unused</td>\n",
       "      <td>0.000000</td>\n",
       "    </tr>\n",
       "    <tr>\n",
       "      <th>16</th>\n",
       "      <td>mbtcp.len</td>\n",
       "      <td>0.000000</td>\n",
       "    </tr>\n",
       "    <tr>\n",
       "      <th>18</th>\n",
       "      <td>mbtcp.unit_id</td>\n",
       "      <td>0.000000</td>\n",
       "    </tr>\n",
       "  </tbody>\n",
       "</table>\n",
       "</div>"
      ],
      "text/plain": [
       "                    feature  importance\n",
       "1               ip.dst_host    0.331545\n",
       "0               ip.src_host    0.262119\n",
       "10                  tcp.ack    0.226776\n",
       "11              tcp.ack_raw    0.074772\n",
       "12             tcp.checksum    0.069373\n",
       "14               udp.stream    0.012566\n",
       "7               icmp.seq_le    0.011330\n",
       "6             icmp.checksum    0.008771\n",
       "15           udp.time_delta    0.000724\n",
       "2        arp.dst.proto_ipv4    0.000679\n",
       "13                 udp.port    0.000649\n",
       "5        arp.src.proto_ipv4    0.000481\n",
       "3                arp.opcode    0.000136\n",
       "4               arp.hw.size    0.000051\n",
       "8   icmp.transmit_timestamp    0.000029\n",
       "17           mbtcp.trans_id    0.000000\n",
       "9               icmp.unused    0.000000\n",
       "16                mbtcp.len    0.000000\n",
       "18            mbtcp.unit_id    0.000000"
      ]
     },
     "execution_count": 25,
     "metadata": {},
     "output_type": "execute_result"
    }
   ],
   "source": [
    "from sklearn.ensemble import RandomForestClassifier\n",
    "model_bin = RandomForestClassifier(n_estimators = 100, random_state = 42)\n",
    "model_bin.fit(X_train_bin, y_train_bin)\n",
    "importance = model_bin.feature_importances_\n",
    "df_imp_bin = pd.DataFrame({\"feature\": X_train_bin.columns, \"importance\": importance})\n",
    "df_imp_bin.sort_values(by = \"importance\", ascending = False)"
   ]
  },
  {
   "cell_type": "code",
   "execution_count": 26,
   "metadata": {
    "colab": {
     "base_uri": "https://localhost:8080/"
    },
    "execution": {
     "iopub.execute_input": "2024-12-07T09:43:16.341052Z",
     "iopub.status.busy": "2024-12-07T09:43:16.340051Z",
     "iopub.status.idle": "2024-12-07T09:43:17.089592Z",
     "shell.execute_reply": "2024-12-07T09:43:17.088586Z",
     "shell.execute_reply.started": "2024-12-07T09:43:16.340051Z"
    },
    "id": "c-TZbVpllUeE",
    "outputId": "77d1b3c0-971b-4459-a68f-cedc4b409d5c"
   },
   "outputs": [
    {
     "data": {
      "text/plain": [
       "['ip.src_host',\n",
       " 'ip.dst_host',\n",
       " 'arp.dst.proto_ipv4',\n",
       " 'arp.opcode',\n",
       " 'arp.src.proto_ipv4',\n",
       " 'icmp.checksum',\n",
       " 'icmp.seq_le',\n",
       " 'tcp.ack',\n",
       " 'tcp.ack_raw',\n",
       " 'tcp.checksum',\n",
       " 'udp.port',\n",
       " 'udp.stream',\n",
       " 'udp.time_delta']"
      ]
     },
     "execution_count": 26,
     "metadata": {},
     "output_type": "execute_result"
    }
   ],
   "source": [
    "df_imp_bin = df_imp_bin[df_imp_bin[\"importance\"] > 0.0001]\n",
    "imp_bin_cols = [col for col in np.array(df_imp_bin[\"feature\"])]\n",
    "imp_bin_cols"
   ]
  },
  {
   "cell_type": "code",
   "execution_count": 27,
   "metadata": {
    "colab": {
     "base_uri": "https://localhost:8080/",
     "height": 443
    },
    "execution": {
     "iopub.execute_input": "2024-12-07T09:43:20.286159Z",
     "iopub.status.busy": "2024-12-07T09:43:20.286159Z",
     "iopub.status.idle": "2024-12-07T09:43:20.328129Z",
     "shell.execute_reply": "2024-12-07T09:43:20.327114Z",
     "shell.execute_reply.started": "2024-12-07T09:43:20.286159Z"
    },
    "id": "Ai3A_BVGzIRq",
    "outputId": "3762ed4c-9f0b-4cde-d331-1324858b49c6"
   },
   "outputs": [
    {
     "data": {
      "text/html": [
       "<div>\n",
       "<style scoped>\n",
       "    .dataframe tbody tr th:only-of-type {\n",
       "        vertical-align: middle;\n",
       "    }\n",
       "\n",
       "    .dataframe tbody tr th {\n",
       "        vertical-align: top;\n",
       "    }\n",
       "\n",
       "    .dataframe thead th {\n",
       "        text-align: right;\n",
       "    }\n",
       "</style>\n",
       "<table border=\"1\" class=\"dataframe\">\n",
       "  <thead>\n",
       "    <tr style=\"text-align: right;\">\n",
       "      <th></th>\n",
       "      <th>ip.src_host</th>\n",
       "      <th>ip.dst_host</th>\n",
       "      <th>arp.dst.proto_ipv4</th>\n",
       "      <th>arp.opcode</th>\n",
       "      <th>arp.src.proto_ipv4</th>\n",
       "      <th>icmp.checksum</th>\n",
       "      <th>icmp.seq_le</th>\n",
       "      <th>tcp.ack</th>\n",
       "      <th>tcp.ack_raw</th>\n",
       "      <th>tcp.checksum</th>\n",
       "      <th>udp.port</th>\n",
       "      <th>udp.stream</th>\n",
       "      <th>udp.time_delta</th>\n",
       "      <th>Attack_label</th>\n",
       "    </tr>\n",
       "  </thead>\n",
       "  <tbody>\n",
       "    <tr>\n",
       "      <th>48062</th>\n",
       "      <td>3232235648</td>\n",
       "      <td>773784830</td>\n",
       "      <td>0</td>\n",
       "      <td>0.0</td>\n",
       "      <td>0</td>\n",
       "      <td>0.0</td>\n",
       "      <td>0.0</td>\n",
       "      <td>121.0</td>\n",
       "      <td>2.072018e+09</td>\n",
       "      <td>2668.0</td>\n",
       "      <td>0.0</td>\n",
       "      <td>0.0</td>\n",
       "      <td>0.0</td>\n",
       "      <td>1</td>\n",
       "    </tr>\n",
       "    <tr>\n",
       "      <th>32389</th>\n",
       "      <td>3232235690</td>\n",
       "      <td>3232235648</td>\n",
       "      <td>0</td>\n",
       "      <td>0.0</td>\n",
       "      <td>0</td>\n",
       "      <td>0.0</td>\n",
       "      <td>0.0</td>\n",
       "      <td>478.0</td>\n",
       "      <td>3.682361e+09</td>\n",
       "      <td>16414.0</td>\n",
       "      <td>0.0</td>\n",
       "      <td>0.0</td>\n",
       "      <td>0.0</td>\n",
       "      <td>1</td>\n",
       "    </tr>\n",
       "    <tr>\n",
       "      <th>118828</th>\n",
       "      <td>3232235621</td>\n",
       "      <td>3232235648</td>\n",
       "      <td>0</td>\n",
       "      <td>0.0</td>\n",
       "      <td>0</td>\n",
       "      <td>0.0</td>\n",
       "      <td>0.0</td>\n",
       "      <td>5.0</td>\n",
       "      <td>4.021399e+09</td>\n",
       "      <td>38275.0</td>\n",
       "      <td>0.0</td>\n",
       "      <td>0.0</td>\n",
       "      <td>0.0</td>\n",
       "      <td>0</td>\n",
       "    </tr>\n",
       "    <tr>\n",
       "      <th>118661</th>\n",
       "      <td>3232235648</td>\n",
       "      <td>3232235621</td>\n",
       "      <td>0</td>\n",
       "      <td>0.0</td>\n",
       "      <td>0</td>\n",
       "      <td>0.0</td>\n",
       "      <td>0.0</td>\n",
       "      <td>15.0</td>\n",
       "      <td>2.886442e+09</td>\n",
       "      <td>14554.0</td>\n",
       "      <td>0.0</td>\n",
       "      <td>0.0</td>\n",
       "      <td>0.0</td>\n",
       "      <td>0</td>\n",
       "    </tr>\n",
       "    <tr>\n",
       "      <th>127892</th>\n",
       "      <td>3232235621</td>\n",
       "      <td>3232235648</td>\n",
       "      <td>0</td>\n",
       "      <td>0.0</td>\n",
       "      <td>0</td>\n",
       "      <td>0.0</td>\n",
       "      <td>0.0</td>\n",
       "      <td>6.0</td>\n",
       "      <td>2.024372e+09</td>\n",
       "      <td>10480.0</td>\n",
       "      <td>0.0</td>\n",
       "      <td>0.0</td>\n",
       "      <td>0.0</td>\n",
       "      <td>0</td>\n",
       "    </tr>\n",
       "    <tr>\n",
       "      <th>...</th>\n",
       "      <td>...</td>\n",
       "      <td>...</td>\n",
       "      <td>...</td>\n",
       "      <td>...</td>\n",
       "      <td>...</td>\n",
       "      <td>...</td>\n",
       "      <td>...</td>\n",
       "      <td>...</td>\n",
       "      <td>...</td>\n",
       "      <td>...</td>\n",
       "      <td>...</td>\n",
       "      <td>...</td>\n",
       "      <td>...</td>\n",
       "      <td>...</td>\n",
       "    </tr>\n",
       "    <tr>\n",
       "      <th>39396</th>\n",
       "      <td>3232235648</td>\n",
       "      <td>3232235690</td>\n",
       "      <td>0</td>\n",
       "      <td>0.0</td>\n",
       "      <td>0</td>\n",
       "      <td>0.0</td>\n",
       "      <td>0.0</td>\n",
       "      <td>817.0</td>\n",
       "      <td>1.046882e+09</td>\n",
       "      <td>65456.0</td>\n",
       "      <td>0.0</td>\n",
       "      <td>0.0</td>\n",
       "      <td>0.0</td>\n",
       "      <td>1</td>\n",
       "    </tr>\n",
       "    <tr>\n",
       "      <th>149996</th>\n",
       "      <td>1913331982</td>\n",
       "      <td>3232235648</td>\n",
       "      <td>0</td>\n",
       "      <td>0.0</td>\n",
       "      <td>0</td>\n",
       "      <td>10240.0</td>\n",
       "      <td>63624.0</td>\n",
       "      <td>0.0</td>\n",
       "      <td>0.000000e+00</td>\n",
       "      <td>0.0</td>\n",
       "      <td>0.0</td>\n",
       "      <td>0.0</td>\n",
       "      <td>0.0</td>\n",
       "      <td>1</td>\n",
       "    </tr>\n",
       "    <tr>\n",
       "      <th>122348</th>\n",
       "      <td>3232235648</td>\n",
       "      <td>3232235621</td>\n",
       "      <td>0</td>\n",
       "      <td>0.0</td>\n",
       "      <td>0</td>\n",
       "      <td>0.0</td>\n",
       "      <td>0.0</td>\n",
       "      <td>15.0</td>\n",
       "      <td>2.603491e+09</td>\n",
       "      <td>32214.0</td>\n",
       "      <td>0.0</td>\n",
       "      <td>0.0</td>\n",
       "      <td>0.0</td>\n",
       "      <td>0</td>\n",
       "    </tr>\n",
       "    <tr>\n",
       "      <th>66162</th>\n",
       "      <td>0</td>\n",
       "      <td>0</td>\n",
       "      <td>3232235667</td>\n",
       "      <td>1.0</td>\n",
       "      <td>3232235521</td>\n",
       "      <td>0.0</td>\n",
       "      <td>0.0</td>\n",
       "      <td>0.0</td>\n",
       "      <td>0.000000e+00</td>\n",
       "      <td>0.0</td>\n",
       "      <td>0.0</td>\n",
       "      <td>0.0</td>\n",
       "      <td>0.0</td>\n",
       "      <td>1</td>\n",
       "    </tr>\n",
       "    <tr>\n",
       "      <th>149790</th>\n",
       "      <td>3514809057</td>\n",
       "      <td>3232235648</td>\n",
       "      <td>0</td>\n",
       "      <td>0.0</td>\n",
       "      <td>0</td>\n",
       "      <td>46414.0</td>\n",
       "      <td>43515.0</td>\n",
       "      <td>0.0</td>\n",
       "      <td>0.000000e+00</td>\n",
       "      <td>0.0</td>\n",
       "      <td>0.0</td>\n",
       "      <td>0.0</td>\n",
       "      <td>0.0</td>\n",
       "      <td>1</td>\n",
       "    </tr>\n",
       "  </tbody>\n",
       "</table>\n",
       "<p>10000 rows × 14 columns</p>\n",
       "</div>"
      ],
      "text/plain": [
       "        ip.src_host  ip.dst_host  arp.dst.proto_ipv4  arp.opcode  \\\n",
       "48062    3232235648    773784830                   0         0.0   \n",
       "32389    3232235690   3232235648                   0         0.0   \n",
       "118828   3232235621   3232235648                   0         0.0   \n",
       "118661   3232235648   3232235621                   0         0.0   \n",
       "127892   3232235621   3232235648                   0         0.0   \n",
       "...             ...          ...                 ...         ...   \n",
       "39396    3232235648   3232235690                   0         0.0   \n",
       "149996   1913331982   3232235648                   0         0.0   \n",
       "122348   3232235648   3232235621                   0         0.0   \n",
       "66162             0            0          3232235667         1.0   \n",
       "149790   3514809057   3232235648                   0         0.0   \n",
       "\n",
       "        arp.src.proto_ipv4  icmp.checksum  icmp.seq_le  tcp.ack   tcp.ack_raw  \\\n",
       "48062                    0            0.0          0.0    121.0  2.072018e+09   \n",
       "32389                    0            0.0          0.0    478.0  3.682361e+09   \n",
       "118828                   0            0.0          0.0      5.0  4.021399e+09   \n",
       "118661                   0            0.0          0.0     15.0  2.886442e+09   \n",
       "127892                   0            0.0          0.0      6.0  2.024372e+09   \n",
       "...                    ...            ...          ...      ...           ...   \n",
       "39396                    0            0.0          0.0    817.0  1.046882e+09   \n",
       "149996                   0        10240.0      63624.0      0.0  0.000000e+00   \n",
       "122348                   0            0.0          0.0     15.0  2.603491e+09   \n",
       "66162           3232235521            0.0          0.0      0.0  0.000000e+00   \n",
       "149790                   0        46414.0      43515.0      0.0  0.000000e+00   \n",
       "\n",
       "        tcp.checksum  udp.port  udp.stream  udp.time_delta  Attack_label  \n",
       "48062         2668.0       0.0         0.0             0.0             1  \n",
       "32389        16414.0       0.0         0.0             0.0             1  \n",
       "118828       38275.0       0.0         0.0             0.0             0  \n",
       "118661       14554.0       0.0         0.0             0.0             0  \n",
       "127892       10480.0       0.0         0.0             0.0             0  \n",
       "...              ...       ...         ...             ...           ...  \n",
       "39396        65456.0       0.0         0.0             0.0             1  \n",
       "149996           0.0       0.0         0.0             0.0             1  \n",
       "122348       32214.0       0.0         0.0             0.0             0  \n",
       "66162            0.0       0.0         0.0             0.0             1  \n",
       "149790           0.0       0.0         0.0             0.0             1  \n",
       "\n",
       "[10000 rows x 14 columns]"
      ]
     },
     "execution_count": 27,
     "metadata": {},
     "output_type": "execute_result"
    }
   ],
   "source": [
    "df_imp_bin = df[imp_bin_cols]\n",
    "df_imp_bin = pd.merge(df_imp_bin, df_labels, left_index = True, right_index = True)\n",
    "df_imp_bin.dropna(axis = 1, inplace = True)\n",
    "df_imp_bin"
   ]
  },
  {
   "cell_type": "code",
   "execution_count": 31,
   "metadata": {
    "execution": {
     "iopub.status.busy": "2024-12-07T10:09:17.858441Z",
     "iopub.status.idle": "2024-12-07T10:09:17.858441Z",
     "shell.execute_reply": "2024-12-07T10:09:17.858441Z",
     "shell.execute_reply.started": "2024-12-07T10:09:17.858441Z"
    },
    "id": "MGFBdMO6no1g"
   },
   "outputs": [],
   "source": [
    "# oversample the data for most accuracy\n",
    "from imblearn.over_sampling import RandomOverSampler\n",
    "ros = RandomOverSampler(sampling_strategy = \"auto\")\n",
    "X_resampled_bin, y_resampled_bin = ros.fit_resample(X, y)"
   ]
  },
  {
   "cell_type": "code",
   "execution_count": 32,
   "metadata": {},
   "outputs": [],
   "source": [
    "X, y = df_imp_bin.drop(\"Attack_label\", axis = 1), df_imp_bin[\"Attack_label\"]\n",
    "X_train_bin, X_test_bin, y_train_bin, y_test_bin = train_test_split(X_resampled_bin, y_resampled_bin, test_size = 0.3, random_state = 42)"
   ]
  },
  {
   "cell_type": "code",
   "execution_count": 33,
   "metadata": {
    "colab": {
     "base_uri": "https://localhost:8080/",
     "height": 424
    },
    "execution": {
     "iopub.execute_input": "2024-12-07T09:43:23.609966Z",
     "iopub.status.busy": "2024-12-07T09:43:23.609966Z",
     "iopub.status.idle": "2024-12-07T09:43:25.011029Z",
     "shell.execute_reply": "2024-12-07T09:43:25.011029Z",
     "shell.execute_reply.started": "2024-12-07T09:43:23.609966Z"
    },
    "id": "x8NhINkSnoz0",
    "outputId": "990e1915-5202-4114-847c-3a4f80bc6df1"
   },
   "outputs": [
    {
     "data": {
      "text/plain": [
       "<Axes: ylabel='count'>"
      ]
     },
     "execution_count": 33,
     "metadata": {},
     "output_type": "execute_result"
    },
    {
     "data": {
      "image/png": "[encoded data removed]",
      "text/plain": [
       "<Figure size 640x480 with 1 Axes>"
      ]
     },
     "metadata": {},
     "output_type": "display_data"
    }
   ],
   "source": [
    "y_resampled_bin.value_counts().plot.pie(autopct = \"%0.1f%%\")"
   ]
  },
  {
   "cell_type": "markdown",
   "metadata": {
    "id": "eFwxqdO8pnGL"
   },
   "source": [
    "from our previous observations we seen that knn, svc, logistic_reg are candidates to apply bagging"
   ]
  },
  {
   "cell_type": "code",
   "execution_count": 34,
   "metadata": {
    "colab": {
     "background_save": true,
     "base_uri": "https://localhost:8080/",
     "height": 663
    },
    "execution": {
     "iopub.execute_input": "2024-12-07T10:09:22.301841Z",
     "iopub.status.busy": "2024-12-07T10:09:22.301841Z",
     "iopub.status.idle": "2024-12-07T10:10:07.919769Z",
     "shell.execute_reply": "2024-12-07T10:10:07.915757Z",
     "shell.execute_reply.started": "2024-12-07T10:09:22.301841Z"
    },
    "id": "cMPcEP1Cpprr",
    "outputId": "b2a68aca-9e16-4a49-f2e0-d4e96e40f2a1"
   },
   "outputs": [
    {
     "name": "stdout",
     "output_type": "stream",
     "text": [
      "Do you want to print classification_report(0, 1): \n",
      "training:  KNN\n",
      "KNN 0.8869000786782061\n",
      "              precision    recall  f1-score   support\n",
      "\n",
      "           0       0.82      0.99      0.90      2492\n",
      "           1       0.99      0.79      0.88      2592\n",
      "\n",
      "    accuracy                           0.89      5084\n",
      "   macro avg       0.90      0.89      0.89      5084\n",
      "weighted avg       0.90      0.89      0.89      5084\n",
      "\n",
      "----------------------------------------\n",
      "training:  SVC\n",
      "SVC 0.44256490952006294\n",
      "              precision    recall  f1-score   support\n",
      "\n",
      "           0       0.43      0.45      0.44      2492\n",
      "           1       0.45      0.44      0.45      2592\n",
      "\n",
      "    accuracy                           0.44      5084\n",
      "   macro avg       0.44      0.44      0.44      5084\n",
      "weighted avg       0.44      0.44      0.44      5084\n",
      "\n",
      "----------------------------------------\n",
      "training:  LR\n",
      "LR 0.6138867033831629\n",
      "              precision    recall  f1-score   support\n",
      "\n",
      "           0       0.58      0.75      0.66      2492\n",
      "           1       0.67      0.48      0.56      2592\n",
      "\n",
      "    accuracy                           0.61      5084\n",
      "   macro avg       0.63      0.62      0.61      5084\n",
      "weighted avg       0.63      0.61      0.61      5084\n",
      "\n",
      "----------------------------------------\n",
      "training:  RF\n",
      "RF 0.9974429583005507\n",
      "              precision    recall  f1-score   support\n",
      "\n",
      "           0       1.00      0.99      1.00      2492\n",
      "           1       1.00      1.00      1.00      2592\n",
      "\n",
      "    accuracy                           1.00      5084\n",
      "   macro avg       1.00      1.00      1.00      5084\n",
      "weighted avg       1.00      1.00      1.00      5084\n",
      "\n",
      "----------------------------------------\n",
      "training:  NB\n",
      "NB 0.5715971675845791\n",
      "              precision    recall  f1-score   support\n",
      "\n",
      "           0       0.53      0.98      0.69      2492\n",
      "           1       0.90      0.18      0.30      2592\n",
      "\n",
      "    accuracy                           0.57      5084\n",
      "   macro avg       0.72      0.58      0.50      5084\n",
      "weighted avg       0.72      0.57      0.49      5084\n",
      "\n",
      "----------------------------------------\n"
     ]
    }
   ],
   "source": [
    "# apply the bagging\n",
    "\n",
    "from sklearn.ensemble import BaggingClassifier\n",
    "from sklearn.ensemble import RandomForestClassifier\n",
    "from sklearn.neighbors import KNeighborsClassifier\n",
    "from sklearn.svm import SVC\n",
    "from sklearn.linear_model import LogisticRegression\n",
    "from sklearn.naive_bayes import GaussianNB\n",
    "from sklearn.metrics import classification_report\n",
    "\n",
    "bagging_knn = BaggingClassifier(KNeighborsClassifier(n_neighbors = 5), n_estimators = 50, max_samples = 0.8, bootstrap = True, n_jobs = -1)\n",
    "bagging_svc = BaggingClassifier(SVC(C = 0.1, kernel = \"sigmoid\", max_iter = 10000), n_estimators = 10, max_samples = 0.8, bootstrap = True, n_jobs = -1)\n",
    "bagging_lr = BaggingClassifier(LogisticRegression(C = 0.1, max_iter = 10000), n_estimators = 50, max_samples = 0.8, bootstrap = True, n_jobs = -1)\n",
    "bagging_rf = BaggingClassifier(RandomForestClassifier(n_estimators = 100, random_state = 42), n_estimators = 50, max_samples = 0.8, bootstrap = True, n_jobs = -1)\n",
    "bagging_nb = BaggingClassifier(GaussianNB(), n_estimators = 50, max_samples = 0.8, bootstrap = True, n_jobs = -1)\n",
    "\n",
    "models = []\n",
    "models.append((bagging_knn, \"KNN\"))\n",
    "models.append((bagging_svc, \"SVC\"))\n",
    "models.append((bagging_lr, \"LR\"))\n",
    "models.append((bagging_rf, \"RF\"))\n",
    "models.append((bagging_nb, \"NB\"))\n",
    "\n",
    "print(\"Do you want to print classification_report(0, 1): \")\n",
    "choice = int(input())\n",
    "for bagger, name in models:\n",
    "  print(\"training: \", name)\n",
    "  bagger.fit(X_resampled_bin, y_resampled_bin)\n",
    "  print(name, bagger.score(X_test_bin, y_test_bin))\n",
    "  if choice == 1:\n",
    "    print(classification_report(y_test_bin, bagger.predict(X_test_bin)))\n",
    "  print(\"-\" * 40)"
   ]
  },
  {
   "cell_type": "markdown",
   "metadata": {
    "id": "4b1R8ogx3nzE"
   },
   "source": [
    "# Multiclass modelling"
   ]
  },
  {
   "cell_type": "markdown",
   "metadata": {
    "id": "bp85IhY538GV"
   },
   "source": [
    "* Feature importance"
   ]
  },
  {
   "cell_type": "code",
   "execution_count": 63,
   "metadata": {
    "execution": {
     "iopub.execute_input": "2024-12-07T09:59:59.770367Z",
     "iopub.status.busy": "2024-12-07T09:59:59.770367Z",
     "iopub.status.idle": "2024-12-07T09:59:59.793995Z",
     "shell.execute_reply": "2024-12-07T09:59:59.792976Z",
     "shell.execute_reply.started": "2024-12-07T09:59:59.770367Z"
    },
    "id": "m1Ct2Tdr3qGk"
   },
   "outputs": [],
   "source": [
    "from sklearn.model_selection import train_test_split\n",
    "X, y = df.drop([\"Attack_label\", \"Attack_type\"], axis = 1), df[\"Attack_type\"]\n",
    "X_train_type, X_test_type, y_train_type, y_test_type = train_test_split(X, y, test_size = 0.3, random_state = 42)"
   ]
  },
  {
   "cell_type": "code",
   "execution_count": 64,
   "metadata": {
    "colab": {
     "base_uri": "https://localhost:8080/",
     "height": 645
    },
    "execution": {
     "iopub.execute_input": "2024-12-07T10:00:00.216825Z",
     "iopub.status.busy": "2024-12-07T10:00:00.215831Z",
     "iopub.status.idle": "2024-12-07T10:00:01.854722Z",
     "shell.execute_reply": "2024-12-07T10:00:01.853547Z",
     "shell.execute_reply.started": "2024-12-07T10:00:00.216825Z"
    },
    "id": "-moxEww_4R8p",
    "outputId": "09986b87-9c54-4b41-f5ee-5652075e0a65"
   },
   "outputs": [
    {
     "data": {
      "text/html": [
       "<div>\n",
       "<style scoped>\n",
       "    .dataframe tbody tr th:only-of-type {\n",
       "        vertical-align: middle;\n",
       "    }\n",
       "\n",
       "    .dataframe tbody tr th {\n",
       "        vertical-align: top;\n",
       "    }\n",
       "\n",
       "    .dataframe thead th {\n",
       "        text-align: right;\n",
       "    }\n",
       "</style>\n",
       "<table border=\"1\" class=\"dataframe\">\n",
       "  <thead>\n",
       "    <tr style=\"text-align: right;\">\n",
       "      <th></th>\n",
       "      <th>feature</th>\n",
       "      <th>importance</th>\n",
       "    </tr>\n",
       "  </thead>\n",
       "  <tbody>\n",
       "    <tr>\n",
       "      <th>10</th>\n",
       "      <td>tcp.ack</td>\n",
       "      <td>0.265093</td>\n",
       "    </tr>\n",
       "    <tr>\n",
       "      <th>11</th>\n",
       "      <td>tcp.ack_raw</td>\n",
       "      <td>0.200970</td>\n",
       "    </tr>\n",
       "    <tr>\n",
       "      <th>12</th>\n",
       "      <td>tcp.checksum</td>\n",
       "      <td>0.177057</td>\n",
       "    </tr>\n",
       "    <tr>\n",
       "      <th>0</th>\n",
       "      <td>ip.src_host</td>\n",
       "      <td>0.106952</td>\n",
       "    </tr>\n",
       "    <tr>\n",
       "      <th>1</th>\n",
       "      <td>ip.dst_host</td>\n",
       "      <td>0.099402</td>\n",
       "    </tr>\n",
       "    <tr>\n",
       "      <th>14</th>\n",
       "      <td>udp.stream</td>\n",
       "      <td>0.060922</td>\n",
       "    </tr>\n",
       "    <tr>\n",
       "      <th>7</th>\n",
       "      <td>icmp.seq_le</td>\n",
       "      <td>0.039796</td>\n",
       "    </tr>\n",
       "    <tr>\n",
       "      <th>6</th>\n",
       "      <td>icmp.checksum</td>\n",
       "      <td>0.039106</td>\n",
       "    </tr>\n",
       "    <tr>\n",
       "      <th>2</th>\n",
       "      <td>arp.dst.proto_ipv4</td>\n",
       "      <td>0.002925</td>\n",
       "    </tr>\n",
       "    <tr>\n",
       "      <th>3</th>\n",
       "      <td>arp.opcode</td>\n",
       "      <td>0.002342</td>\n",
       "    </tr>\n",
       "    <tr>\n",
       "      <th>5</th>\n",
       "      <td>arp.src.proto_ipv4</td>\n",
       "      <td>0.001486</td>\n",
       "    </tr>\n",
       "    <tr>\n",
       "      <th>15</th>\n",
       "      <td>udp.time_delta</td>\n",
       "      <td>0.001348</td>\n",
       "    </tr>\n",
       "    <tr>\n",
       "      <th>13</th>\n",
       "      <td>udp.port</td>\n",
       "      <td>0.001264</td>\n",
       "    </tr>\n",
       "    <tr>\n",
       "      <th>4</th>\n",
       "      <td>arp.hw.size</td>\n",
       "      <td>0.000925</td>\n",
       "    </tr>\n",
       "    <tr>\n",
       "      <th>8</th>\n",
       "      <td>icmp.transmit_timestamp</td>\n",
       "      <td>0.000411</td>\n",
       "    </tr>\n",
       "    <tr>\n",
       "      <th>17</th>\n",
       "      <td>mbtcp.trans_id</td>\n",
       "      <td>0.000000</td>\n",
       "    </tr>\n",
       "    <tr>\n",
       "      <th>9</th>\n",
       "      <td>icmp.unused</td>\n",
       "      <td>0.000000</td>\n",
       "    </tr>\n",
       "    <tr>\n",
       "      <th>16</th>\n",
       "      <td>mbtcp.len</td>\n",
       "      <td>0.000000</td>\n",
       "    </tr>\n",
       "    <tr>\n",
       "      <th>18</th>\n",
       "      <td>mbtcp.unit_id</td>\n",
       "      <td>0.000000</td>\n",
       "    </tr>\n",
       "  </tbody>\n",
       "</table>\n",
       "</div>"
      ],
      "text/plain": [
       "                    feature  importance\n",
       "10                  tcp.ack    0.265093\n",
       "11              tcp.ack_raw    0.200970\n",
       "12             tcp.checksum    0.177057\n",
       "0               ip.src_host    0.106952\n",
       "1               ip.dst_host    0.099402\n",
       "14               udp.stream    0.060922\n",
       "7               icmp.seq_le    0.039796\n",
       "6             icmp.checksum    0.039106\n",
       "2        arp.dst.proto_ipv4    0.002925\n",
       "3                arp.opcode    0.002342\n",
       "5        arp.src.proto_ipv4    0.001486\n",
       "15           udp.time_delta    0.001348\n",
       "13                 udp.port    0.001264\n",
       "4               arp.hw.size    0.000925\n",
       "8   icmp.transmit_timestamp    0.000411\n",
       "17           mbtcp.trans_id    0.000000\n",
       "9               icmp.unused    0.000000\n",
       "16                mbtcp.len    0.000000\n",
       "18            mbtcp.unit_id    0.000000"
      ]
     },
     "execution_count": 64,
     "metadata": {},
     "output_type": "execute_result"
    }
   ],
   "source": [
    "from sklearn.ensemble import RandomForestClassifier\n",
    "model_type = RandomForestClassifier(n_estimators = 100, random_state = 42)\n",
    "model_type.fit(X_train_type, y_train_type)\n",
    "importance = model_type.feature_importances_\n",
    "df_imp_type = pd.DataFrame({\"feature\": X_train_type.columns, \"importance\": importance})\n",
    "df_imp_type.sort_values(by = \"importance\", ascending = False)"
   ]
  },
  {
   "cell_type": "code",
   "execution_count": 65,
   "metadata": {
    "colab": {
     "base_uri": "https://localhost:8080/"
    },
    "execution": {
     "iopub.execute_input": "2024-12-07T10:00:01.856744Z",
     "iopub.status.busy": "2024-12-07T10:00:01.856744Z",
     "iopub.status.idle": "2024-12-07T10:00:01.867380Z",
     "shell.execute_reply": "2024-12-07T10:00:01.866364Z",
     "shell.execute_reply.started": "2024-12-07T10:00:01.856744Z"
    },
    "id": "5lQG6he55Qtc",
    "outputId": "18a7c2bf-4d00-43bd-e354-e8e26ae87e61"
   },
   "outputs": [
    {
     "data": {
      "text/plain": [
       "['ip.src_host',\n",
       " 'ip.dst_host',\n",
       " 'arp.dst.proto_ipv4',\n",
       " 'arp.opcode',\n",
       " 'arp.hw.size',\n",
       " 'arp.src.proto_ipv4',\n",
       " 'icmp.checksum',\n",
       " 'icmp.seq_le',\n",
       " 'icmp.transmit_timestamp',\n",
       " 'tcp.ack',\n",
       " 'tcp.ack_raw',\n",
       " 'tcp.checksum',\n",
       " 'udp.port',\n",
       " 'udp.stream',\n",
       " 'udp.time_delta']"
      ]
     },
     "execution_count": 65,
     "metadata": {},
     "output_type": "execute_result"
    }
   ],
   "source": [
    "df_imp_type = df_imp_type[df_imp_type[\"importance\"] > 0.0001]\n",
    "imp_type_cols = [col for col in np.array(df_imp_type[\"feature\"])]\n",
    "imp_type_cols"
   ]
  },
  {
   "cell_type": "code",
   "execution_count": 66,
   "metadata": {
    "colab": {
     "base_uri": "https://localhost:8080/",
     "height": 443
    },
    "execution": {
     "iopub.execute_input": "2024-12-07T10:00:01.869089Z",
     "iopub.status.busy": "2024-12-07T10:00:01.868373Z",
     "iopub.status.idle": "2024-12-07T10:00:01.934105Z",
     "shell.execute_reply": "2024-12-07T10:00:01.933093Z",
     "shell.execute_reply.started": "2024-12-07T10:00:01.869089Z"
    },
    "id": "UL_rc0V05Qrs",
    "outputId": "32e5dcfd-606f-47de-a598-694a540cdd7f"
   },
   "outputs": [
    {
     "data": {
      "text/html": [
       "<div>\n",
       "<style scoped>\n",
       "    .dataframe tbody tr th:only-of-type {\n",
       "        vertical-align: middle;\n",
       "    }\n",
       "\n",
       "    .dataframe tbody tr th {\n",
       "        vertical-align: top;\n",
       "    }\n",
       "\n",
       "    .dataframe thead th {\n",
       "        text-align: right;\n",
       "    }\n",
       "</style>\n",
       "<table border=\"1\" class=\"dataframe\">\n",
       "  <thead>\n",
       "    <tr style=\"text-align: right;\">\n",
       "      <th></th>\n",
       "      <th>ip.src_host</th>\n",
       "      <th>ip.dst_host</th>\n",
       "      <th>arp.dst.proto_ipv4</th>\n",
       "      <th>arp.opcode</th>\n",
       "      <th>arp.hw.size</th>\n",
       "      <th>arp.src.proto_ipv4</th>\n",
       "      <th>icmp.checksum</th>\n",
       "      <th>icmp.seq_le</th>\n",
       "      <th>icmp.transmit_timestamp</th>\n",
       "      <th>tcp.ack</th>\n",
       "      <th>tcp.ack_raw</th>\n",
       "      <th>tcp.checksum</th>\n",
       "      <th>udp.port</th>\n",
       "      <th>udp.stream</th>\n",
       "      <th>udp.time_delta</th>\n",
       "      <th>Attack_type</th>\n",
       "    </tr>\n",
       "  </thead>\n",
       "  <tbody>\n",
       "    <tr>\n",
       "      <th>48062</th>\n",
       "      <td>3232235648</td>\n",
       "      <td>773784830</td>\n",
       "      <td>0</td>\n",
       "      <td>0.0</td>\n",
       "      <td>0.0</td>\n",
       "      <td>0</td>\n",
       "      <td>0.0</td>\n",
       "      <td>0.0</td>\n",
       "      <td>0.0</td>\n",
       "      <td>121.0</td>\n",
       "      <td>2.072018e+09</td>\n",
       "      <td>2668.0</td>\n",
       "      <td>0.0</td>\n",
       "      <td>0.0</td>\n",
       "      <td>0.0</td>\n",
       "      <td>DDoS_TCP</td>\n",
       "    </tr>\n",
       "    <tr>\n",
       "      <th>32389</th>\n",
       "      <td>3232235690</td>\n",
       "      <td>3232235648</td>\n",
       "      <td>0</td>\n",
       "      <td>0.0</td>\n",
       "      <td>0.0</td>\n",
       "      <td>0</td>\n",
       "      <td>0.0</td>\n",
       "      <td>0.0</td>\n",
       "      <td>0.0</td>\n",
       "      <td>478.0</td>\n",
       "      <td>3.682361e+09</td>\n",
       "      <td>16414.0</td>\n",
       "      <td>0.0</td>\n",
       "      <td>0.0</td>\n",
       "      <td>0.0</td>\n",
       "      <td>SQL_injection</td>\n",
       "    </tr>\n",
       "    <tr>\n",
       "      <th>118828</th>\n",
       "      <td>3232235621</td>\n",
       "      <td>3232235648</td>\n",
       "      <td>0</td>\n",
       "      <td>0.0</td>\n",
       "      <td>0.0</td>\n",
       "      <td>0</td>\n",
       "      <td>0.0</td>\n",
       "      <td>0.0</td>\n",
       "      <td>0.0</td>\n",
       "      <td>5.0</td>\n",
       "      <td>4.021399e+09</td>\n",
       "      <td>38275.0</td>\n",
       "      <td>0.0</td>\n",
       "      <td>0.0</td>\n",
       "      <td>0.0</td>\n",
       "      <td>Normal</td>\n",
       "    </tr>\n",
       "    <tr>\n",
       "      <th>118661</th>\n",
       "      <td>3232235648</td>\n",
       "      <td>3232235621</td>\n",
       "      <td>0</td>\n",
       "      <td>0.0</td>\n",
       "      <td>0.0</td>\n",
       "      <td>0</td>\n",
       "      <td>0.0</td>\n",
       "      <td>0.0</td>\n",
       "      <td>0.0</td>\n",
       "      <td>15.0</td>\n",
       "      <td>2.886442e+09</td>\n",
       "      <td>14554.0</td>\n",
       "      <td>0.0</td>\n",
       "      <td>0.0</td>\n",
       "      <td>0.0</td>\n",
       "      <td>Normal</td>\n",
       "    </tr>\n",
       "    <tr>\n",
       "      <th>127892</th>\n",
       "      <td>3232235621</td>\n",
       "      <td>3232235648</td>\n",
       "      <td>0</td>\n",
       "      <td>0.0</td>\n",
       "      <td>0.0</td>\n",
       "      <td>0</td>\n",
       "      <td>0.0</td>\n",
       "      <td>0.0</td>\n",
       "      <td>0.0</td>\n",
       "      <td>6.0</td>\n",
       "      <td>2.024372e+09</td>\n",
       "      <td>10480.0</td>\n",
       "      <td>0.0</td>\n",
       "      <td>0.0</td>\n",
       "      <td>0.0</td>\n",
       "      <td>Normal</td>\n",
       "    </tr>\n",
       "    <tr>\n",
       "      <th>...</th>\n",
       "      <td>...</td>\n",
       "      <td>...</td>\n",
       "      <td>...</td>\n",
       "      <td>...</td>\n",
       "      <td>...</td>\n",
       "      <td>...</td>\n",
       "      <td>...</td>\n",
       "      <td>...</td>\n",
       "      <td>...</td>\n",
       "      <td>...</td>\n",
       "      <td>...</td>\n",
       "      <td>...</td>\n",
       "      <td>...</td>\n",
       "      <td>...</td>\n",
       "      <td>...</td>\n",
       "      <td>...</td>\n",
       "    </tr>\n",
       "    <tr>\n",
       "      <th>39396</th>\n",
       "      <td>3232235648</td>\n",
       "      <td>3232235690</td>\n",
       "      <td>0</td>\n",
       "      <td>0.0</td>\n",
       "      <td>0.0</td>\n",
       "      <td>0</td>\n",
       "      <td>0.0</td>\n",
       "      <td>0.0</td>\n",
       "      <td>0.0</td>\n",
       "      <td>817.0</td>\n",
       "      <td>1.046882e+09</td>\n",
       "      <td>65456.0</td>\n",
       "      <td>0.0</td>\n",
       "      <td>0.0</td>\n",
       "      <td>0.0</td>\n",
       "      <td>DDoS_HTTP</td>\n",
       "    </tr>\n",
       "    <tr>\n",
       "      <th>149996</th>\n",
       "      <td>1913331982</td>\n",
       "      <td>3232235648</td>\n",
       "      <td>0</td>\n",
       "      <td>0.0</td>\n",
       "      <td>0.0</td>\n",
       "      <td>0</td>\n",
       "      <td>10240.0</td>\n",
       "      <td>63624.0</td>\n",
       "      <td>0.0</td>\n",
       "      <td>0.0</td>\n",
       "      <td>0.000000e+00</td>\n",
       "      <td>0.0</td>\n",
       "      <td>0.0</td>\n",
       "      <td>0.0</td>\n",
       "      <td>0.0</td>\n",
       "      <td>DDoS_ICMP</td>\n",
       "    </tr>\n",
       "    <tr>\n",
       "      <th>122348</th>\n",
       "      <td>3232235648</td>\n",
       "      <td>3232235621</td>\n",
       "      <td>0</td>\n",
       "      <td>0.0</td>\n",
       "      <td>0.0</td>\n",
       "      <td>0</td>\n",
       "      <td>0.0</td>\n",
       "      <td>0.0</td>\n",
       "      <td>0.0</td>\n",
       "      <td>15.0</td>\n",
       "      <td>2.603491e+09</td>\n",
       "      <td>32214.0</td>\n",
       "      <td>0.0</td>\n",
       "      <td>0.0</td>\n",
       "      <td>0.0</td>\n",
       "      <td>Normal</td>\n",
       "    </tr>\n",
       "    <tr>\n",
       "      <th>66162</th>\n",
       "      <td>0</td>\n",
       "      <td>0</td>\n",
       "      <td>3232235667</td>\n",
       "      <td>1.0</td>\n",
       "      <td>6.0</td>\n",
       "      <td>3232235521</td>\n",
       "      <td>0.0</td>\n",
       "      <td>0.0</td>\n",
       "      <td>0.0</td>\n",
       "      <td>0.0</td>\n",
       "      <td>0.000000e+00</td>\n",
       "      <td>0.0</td>\n",
       "      <td>0.0</td>\n",
       "      <td>0.0</td>\n",
       "      <td>0.0</td>\n",
       "      <td>Port_Scanning</td>\n",
       "    </tr>\n",
       "    <tr>\n",
       "      <th>149790</th>\n",
       "      <td>3514809057</td>\n",
       "      <td>3232235648</td>\n",
       "      <td>0</td>\n",
       "      <td>0.0</td>\n",
       "      <td>0.0</td>\n",
       "      <td>0</td>\n",
       "      <td>46414.0</td>\n",
       "      <td>43515.0</td>\n",
       "      <td>0.0</td>\n",
       "      <td>0.0</td>\n",
       "      <td>0.000000e+00</td>\n",
       "      <td>0.0</td>\n",
       "      <td>0.0</td>\n",
       "      <td>0.0</td>\n",
       "      <td>0.0</td>\n",
       "      <td>DDoS_ICMP</td>\n",
       "    </tr>\n",
       "  </tbody>\n",
       "</table>\n",
       "<p>10000 rows × 16 columns</p>\n",
       "</div>"
      ],
      "text/plain": [
       "        ip.src_host  ip.dst_host  arp.dst.proto_ipv4  arp.opcode  arp.hw.size  \\\n",
       "48062    3232235648    773784830                   0         0.0          0.0   \n",
       "32389    3232235690   3232235648                   0         0.0          0.0   \n",
       "118828   3232235621   3232235648                   0         0.0          0.0   \n",
       "118661   3232235648   3232235621                   0         0.0          0.0   \n",
       "127892   3232235621   3232235648                   0         0.0          0.0   \n",
       "...             ...          ...                 ...         ...          ...   \n",
       "39396    3232235648   3232235690                   0         0.0          0.0   \n",
       "149996   1913331982   3232235648                   0         0.0          0.0   \n",
       "122348   3232235648   3232235621                   0         0.0          0.0   \n",
       "66162             0            0          3232235667         1.0          6.0   \n",
       "149790   3514809057   3232235648                   0         0.0          0.0   \n",
       "\n",
       "        arp.src.proto_ipv4  icmp.checksum  icmp.seq_le  \\\n",
       "48062                    0            0.0          0.0   \n",
       "32389                    0            0.0          0.0   \n",
       "118828                   0            0.0          0.0   \n",
       "118661                   0            0.0          0.0   \n",
       "127892                   0            0.0          0.0   \n",
       "...                    ...            ...          ...   \n",
       "39396                    0            0.0          0.0   \n",
       "149996                   0        10240.0      63624.0   \n",
       "122348                   0            0.0          0.0   \n",
       "66162           3232235521            0.0          0.0   \n",
       "149790                   0        46414.0      43515.0   \n",
       "\n",
       "        icmp.transmit_timestamp  tcp.ack   tcp.ack_raw  tcp.checksum  \\\n",
       "48062                       0.0    121.0  2.072018e+09        2668.0   \n",
       "32389                       0.0    478.0  3.682361e+09       16414.0   \n",
       "118828                      0.0      5.0  4.021399e+09       38275.0   \n",
       "118661                      0.0     15.0  2.886442e+09       14554.0   \n",
       "127892                      0.0      6.0  2.024372e+09       10480.0   \n",
       "...                         ...      ...           ...           ...   \n",
       "39396                       0.0    817.0  1.046882e+09       65456.0   \n",
       "149996                      0.0      0.0  0.000000e+00           0.0   \n",
       "122348                      0.0     15.0  2.603491e+09       32214.0   \n",
       "66162                       0.0      0.0  0.000000e+00           0.0   \n",
       "149790                      0.0      0.0  0.000000e+00           0.0   \n",
       "\n",
       "        udp.port  udp.stream  udp.time_delta    Attack_type  \n",
       "48062        0.0         0.0             0.0       DDoS_TCP  \n",
       "32389        0.0         0.0             0.0  SQL_injection  \n",
       "118828       0.0         0.0             0.0         Normal  \n",
       "118661       0.0         0.0             0.0         Normal  \n",
       "127892       0.0         0.0             0.0         Normal  \n",
       "...          ...         ...             ...            ...  \n",
       "39396        0.0         0.0             0.0      DDoS_HTTP  \n",
       "149996       0.0         0.0             0.0      DDoS_ICMP  \n",
       "122348       0.0         0.0             0.0         Normal  \n",
       "66162        0.0         0.0             0.0  Port_Scanning  \n",
       "149790       0.0         0.0             0.0      DDoS_ICMP  \n",
       "\n",
       "[10000 rows x 16 columns]"
      ]
     },
     "execution_count": 66,
     "metadata": {},
     "output_type": "execute_result"
    }
   ],
   "source": [
    "df_imp_type = df[imp_type_cols]\n",
    "df_imp_type = pd.merge(df_imp_type, df_types, left_index = True, right_index = True)\n",
    "df_imp_type.dropna(axis = 1, inplace = True)\n",
    "df_imp_type"
   ]
  },
  {
   "cell_type": "markdown",
   "metadata": {
    "id": "o6P2s8EW4zpa"
   },
   "source": [
    "oversampling"
   ]
  },
  {
   "cell_type": "code",
   "execution_count": 67,
   "metadata": {
    "execution": {
     "iopub.execute_input": "2024-12-07T10:00:02.686894Z",
     "iopub.status.busy": "2024-12-07T10:00:02.682717Z",
     "iopub.status.idle": "2024-12-07T10:00:02.730170Z",
     "shell.execute_reply": "2024-12-07T10:00:02.729153Z",
     "shell.execute_reply.started": "2024-12-07T10:00:02.686894Z"
    },
    "id": "C3qecLP74zO6"
   },
   "outputs": [],
   "source": [
    "# oversample the data for most accuracy\n",
    "from imblearn.over_sampling import RandomOverSampler\n",
    "ros = RandomOverSampler(sampling_strategy = \"auto\")\n",
    "X_resampled_type, y_resampled_type = ros.fit_resample(X_train_type, y_train_type)"
   ]
  },
  {
   "cell_type": "code",
   "execution_count": 68,
   "metadata": {
    "execution": {
     "iopub.execute_input": "2024-12-07T10:01:18.037299Z",
     "iopub.status.busy": "2024-12-07T10:01:18.030481Z",
     "iopub.status.idle": "2024-12-07T10:01:18.060894Z",
     "shell.execute_reply": "2024-12-07T10:01:18.060718Z",
     "shell.execute_reply.started": "2024-12-07T10:01:18.030481Z"
    },
    "id": "n7IMlVAF42Kf"
   },
   "outputs": [],
   "source": [
    "X, y = df_imp_type.drop(\"Attack_type\", axis = 1), df_imp_type[\"Attack_type\"]\n",
    "X_train_type, X_test_type, y_train_type, y_test_type = train_test_split(X_resampled_type, y_resampled_type, test_size = 0.3, random_state = 42)"
   ]
  },
  {
   "cell_type": "code",
   "execution_count": 69,
   "metadata": {
    "colab": {
     "base_uri": "https://localhost:8080/",
     "height": 424
    },
    "execution": {
     "iopub.execute_input": "2024-12-07T10:00:03.731466Z",
     "iopub.status.busy": "2024-12-07T10:00:03.730475Z",
     "iopub.status.idle": "2024-12-07T10:00:03.919682Z",
     "shell.execute_reply": "2024-12-07T10:00:03.919682Z",
     "shell.execute_reply.started": "2024-12-07T10:00:03.731466Z"
    },
    "id": "kXuC05g_45O_",
    "outputId": "e630ac6f-eaa8-4ad2-89c3-68d447c77265"
   },
   "outputs": [
    {
     "data": {
      "text/plain": [
       "<Axes: ylabel='count'>"
      ]
     },
     "execution_count": 69,
     "metadata": {},
     "output_type": "execute_result"
    },
    {
     "data": {
      "image/png": "[encoded data removed]",
      "text/plain": [
       "<Figure size 640x480 with 1 Axes>"
      ]
     },
     "metadata": {},
     "output_type": "display_data"
    }
   ],
   "source": [
    "y_resampled_type.value_counts().plot.pie(autopct = \"%0.1f%%\")"
   ]
  },
  {
   "cell_type": "code",
   "execution_count": 42,
   "metadata": {
    "execution": {
     "iopub.execute_input": "2024-12-07T10:01:21.547498Z",
     "iopub.status.busy": "2024-12-07T10:01:21.547498Z",
     "iopub.status.idle": "2024-12-07T10:01:21.557240Z",
     "shell.execute_reply": "2024-12-07T10:01:21.556571Z",
     "shell.execute_reply.started": "2024-12-07T10:01:21.547498Z"
    }
   },
   "outputs": [
    {
     "data": {
      "text/plain": [
       "array(['XSS', 'DDoS_ICMP', 'DDoS_TCP', 'Uploading', 'Backdoor',\n",
       "       'Port_Scanning', 'DDoS_HTTP', 'MITM', 'Fingerprinting', 'Password',\n",
       "       'DDoS_UDP', 'Normal', 'Ransomware', 'SQL_injection',\n",
       "       'Vulnerability_scanner'], dtype=object)"
      ]
     },
     "execution_count": 42,
     "metadata": {},
     "output_type": "execute_result"
    }
   ],
   "source": [
    "y_resampled_type.unique()"
   ]
  },
  {
   "cell_type": "code",
   "execution_count": 47,
   "metadata": {
    "colab": {
     "background_save": true,
     "base_uri": "https://localhost:8080/"
    },
    "execution": {
     "iopub.execute_input": "2024-12-07T10:03:55.826092Z",
     "iopub.status.busy": "2024-12-07T10:03:55.825091Z",
     "iopub.status.idle": "2024-12-07T10:05:08.367230Z",
     "shell.execute_reply": "2024-12-07T10:05:08.365208Z",
     "shell.execute_reply.started": "2024-12-07T10:03:55.826092Z"
    },
    "id": "C5nzx9m0473h",
    "outputId": "850f7a61-ed3d-4d15-c6de-300acc38c321"
   },
   "outputs": [
    {
     "name": "stdout",
     "output_type": "stream",
     "text": [
      "Do you want to print classification_report(0, 1): \n",
      "training:  KNN\n",
      "KNN 0.8148148148148148\n",
      "                       precision    recall  f1-score   support\n",
      "\n",
      "             Backdoor       0.97      0.94      0.96       303\n",
      "            DDoS_HTTP       0.69      0.65      0.67       331\n",
      "            DDoS_ICMP       0.97      1.00      0.98       318\n",
      "             DDoS_TCP       0.99      0.93      0.96       318\n",
      "             DDoS_UDP       1.00      1.00      1.00       303\n",
      "       Fingerprinting       0.91      0.98      0.95       318\n",
      "                 MITM       0.89      1.00      0.94       313\n",
      "               Normal       0.73      0.34      0.47       315\n",
      "             Password       0.70      0.76      0.73       320\n",
      "        Port_Scanning       0.81      0.76      0.78       331\n",
      "           Ransomware       0.97      0.90      0.93       312\n",
      "        SQL_injection       0.63      0.75      0.69       299\n",
      "            Uploading       0.64      0.74      0.68       297\n",
      "Vulnerability_scanner       0.66      0.82      0.73       291\n",
      "                  XSS       0.69      0.67      0.68       329\n",
      "\n",
      "             accuracy                           0.81      4698\n",
      "            macro avg       0.82      0.82      0.81      4698\n",
      "         weighted avg       0.82      0.81      0.81      4698\n",
      "\n",
      "----------------------------------------\n",
      "training:  RF\n"
     ]
    },
    {
     "ename": "MemoryError",
     "evalue": "",
     "output_type": "error",
     "traceback": [
      "\u001b[1;31m---------------------------------------------------------------------------\u001b[0m",
      "\u001b[1;31m_RemoteTraceback\u001b[0m                          Traceback (most recent call last)",
      "\u001b[1;31m_RemoteTraceback\u001b[0m: \n\"\"\"\nTraceback (most recent call last):\n  File \"g:\\Nitin-Programming-Btech\\ML\\nitin\\Lib\\site-packages\\joblib\\externals\\loky\\process_executor.py\", line 370, in _sendback_result\n    result_queue.put(\n  File \"g:\\Nitin-Programming-Btech\\ML\\nitin\\Lib\\site-packages\\joblib\\externals\\loky\\backend\\queues.py\", line 230, in put\n    obj = dumps(obj, reducers=self._reducers)\n          ^^^^^^^^^^^^^^^^^^^^^^^^^^^^^^^^^^^\n  File \"g:\\Nitin-Programming-Btech\\ML\\nitin\\Lib\\site-packages\\joblib\\externals\\loky\\backend\\reduction.py\", line 215, in dumps\n    dump(obj, buf, reducers=reducers, protocol=protocol)\n  File \"g:\\Nitin-Programming-Btech\\ML\\nitin\\Lib\\site-packages\\joblib\\externals\\loky\\backend\\reduction.py\", line 208, in dump\n    _LokyPickler(file, reducers=reducers, protocol=protocol).dump(obj)\n  File \"g:\\Nitin-Programming-Btech\\ML\\nitin\\Lib\\site-packages\\joblib\\externals\\cloudpickle\\cloudpickle.py\", line 1245, in dump\n    return super().dump(obj)\n           ^^^^^^^^^^^^^^^^^\nMemoryError\n\"\"\"",
      "\nThe above exception was the direct cause of the following exception:\n",
      "\u001b[1;31mMemoryError\u001b[0m                               Traceback (most recent call last)",
      "Cell \u001b[1;32mIn[47], line 28\u001b[0m\n\u001b[0;32m     26\u001b[0m \u001b[38;5;28;01mfor\u001b[39;00m bagger, name \u001b[38;5;129;01min\u001b[39;00m models:\n\u001b[0;32m     27\u001b[0m   \u001b[38;5;28mprint\u001b[39m(\u001b[38;5;124m\"\u001b[39m\u001b[38;5;124mtraining: \u001b[39m\u001b[38;5;124m\"\u001b[39m, name)\n\u001b[1;32m---> 28\u001b[0m   \u001b[43mbagger\u001b[49m\u001b[38;5;241;43m.\u001b[39;49m\u001b[43mfit\u001b[49m\u001b[43m(\u001b[49m\u001b[43mX_resampled_type\u001b[49m\u001b[43m,\u001b[49m\u001b[43m \u001b[49m\u001b[43my_resampled_type\u001b[49m\u001b[43m)\u001b[49m\n\u001b[0;32m     29\u001b[0m   \u001b[38;5;28mprint\u001b[39m(name, bagger\u001b[38;5;241m.\u001b[39mscore(X_test_type, y_test_type))\n\u001b[0;32m     30\u001b[0m   \u001b[38;5;28;01mif\u001b[39;00m choice \u001b[38;5;241m==\u001b[39m \u001b[38;5;241m1\u001b[39m:\n",
      "File \u001b[1;32mg:\\Nitin-Programming-Btech\\ML\\nitin\\Lib\\site-packages\\sklearn\\utils\\validation.py:66\u001b[0m, in \u001b[0;36m_deprecate_positional_args.<locals>._inner_deprecate_positional_args.<locals>.inner_f\u001b[1;34m(*args, **kwargs)\u001b[0m\n\u001b[0;32m     64\u001b[0m extra_args \u001b[38;5;241m=\u001b[39m \u001b[38;5;28mlen\u001b[39m(args) \u001b[38;5;241m-\u001b[39m \u001b[38;5;28mlen\u001b[39m(all_args)\n\u001b[0;32m     65\u001b[0m \u001b[38;5;28;01mif\u001b[39;00m extra_args \u001b[38;5;241m<\u001b[39m\u001b[38;5;241m=\u001b[39m \u001b[38;5;241m0\u001b[39m:\n\u001b[1;32m---> 66\u001b[0m     \u001b[38;5;28;01mreturn\u001b[39;00m \u001b[43mf\u001b[49m\u001b[43m(\u001b[49m\u001b[38;5;241;43m*\u001b[39;49m\u001b[43margs\u001b[49m\u001b[43m,\u001b[49m\u001b[43m \u001b[49m\u001b[38;5;241;43m*\u001b[39;49m\u001b[38;5;241;43m*\u001b[39;49m\u001b[43mkwargs\u001b[49m\u001b[43m)\u001b[49m\n\u001b[0;32m     68\u001b[0m \u001b[38;5;66;03m# extra_args > 0\u001b[39;00m\n\u001b[0;32m     69\u001b[0m args_msg \u001b[38;5;241m=\u001b[39m [\n\u001b[0;32m     70\u001b[0m     \u001b[38;5;124m\"\u001b[39m\u001b[38;5;132;01m{}\u001b[39;00m\u001b[38;5;124m=\u001b[39m\u001b[38;5;132;01m{}\u001b[39;00m\u001b[38;5;124m\"\u001b[39m\u001b[38;5;241m.\u001b[39mformat(name, arg)\n\u001b[0;32m     71\u001b[0m     \u001b[38;5;28;01mfor\u001b[39;00m name, arg \u001b[38;5;129;01min\u001b[39;00m \u001b[38;5;28mzip\u001b[39m(kwonly_args[:extra_args], args[\u001b[38;5;241m-\u001b[39mextra_args:])\n\u001b[0;32m     72\u001b[0m ]\n",
      "File \u001b[1;32mg:\\Nitin-Programming-Btech\\ML\\nitin\\Lib\\site-packages\\sklearn\\base.py:1473\u001b[0m, in \u001b[0;36m_fit_context.<locals>.decorator.<locals>.wrapper\u001b[1;34m(estimator, *args, **kwargs)\u001b[0m\n\u001b[0;32m   1466\u001b[0m     estimator\u001b[38;5;241m.\u001b[39m_validate_params()\n\u001b[0;32m   1468\u001b[0m \u001b[38;5;28;01mwith\u001b[39;00m config_context(\n\u001b[0;32m   1469\u001b[0m     skip_parameter_validation\u001b[38;5;241m=\u001b[39m(\n\u001b[0;32m   1470\u001b[0m         prefer_skip_nested_validation \u001b[38;5;129;01mor\u001b[39;00m global_skip_validation\n\u001b[0;32m   1471\u001b[0m     )\n\u001b[0;32m   1472\u001b[0m ):\n\u001b[1;32m-> 1473\u001b[0m     \u001b[38;5;28;01mreturn\u001b[39;00m \u001b[43mfit_method\u001b[49m\u001b[43m(\u001b[49m\u001b[43mestimator\u001b[49m\u001b[43m,\u001b[49m\u001b[43m \u001b[49m\u001b[38;5;241;43m*\u001b[39;49m\u001b[43margs\u001b[49m\u001b[43m,\u001b[49m\u001b[43m \u001b[49m\u001b[38;5;241;43m*\u001b[39;49m\u001b[38;5;241;43m*\u001b[39;49m\u001b[43mkwargs\u001b[49m\u001b[43m)\u001b[49m\n",
      "File \u001b[1;32mg:\\Nitin-Programming-Btech\\ML\\nitin\\Lib\\site-packages\\sklearn\\ensemble\\_bagging.py:402\u001b[0m, in \u001b[0;36mBaseBagging.fit\u001b[1;34m(self, X, y, sample_weight, **fit_params)\u001b[0m\n\u001b[0;32m    399\u001b[0m     sample_weight \u001b[38;5;241m=\u001b[39m _check_sample_weight(sample_weight, X, dtype\u001b[38;5;241m=\u001b[39m\u001b[38;5;28;01mNone\u001b[39;00m)\n\u001b[0;32m    400\u001b[0m     fit_params[\u001b[38;5;124m\"\u001b[39m\u001b[38;5;124msample_weight\u001b[39m\u001b[38;5;124m\"\u001b[39m] \u001b[38;5;241m=\u001b[39m sample_weight\n\u001b[1;32m--> 402\u001b[0m \u001b[38;5;28;01mreturn\u001b[39;00m \u001b[38;5;28;43mself\u001b[39;49m\u001b[38;5;241;43m.\u001b[39;49m\u001b[43m_fit\u001b[49m\u001b[43m(\u001b[49m\u001b[43mX\u001b[49m\u001b[43m,\u001b[49m\u001b[43m \u001b[49m\u001b[43my\u001b[49m\u001b[43m,\u001b[49m\u001b[43m \u001b[49m\u001b[43mmax_samples\u001b[49m\u001b[38;5;241;43m=\u001b[39;49m\u001b[38;5;28;43mself\u001b[39;49m\u001b[38;5;241;43m.\u001b[39;49m\u001b[43mmax_samples\u001b[49m\u001b[43m,\u001b[49m\u001b[43m \u001b[49m\u001b[38;5;241;43m*\u001b[39;49m\u001b[38;5;241;43m*\u001b[39;49m\u001b[43mfit_params\u001b[49m\u001b[43m)\u001b[49m\n",
      "File \u001b[1;32mg:\\Nitin-Programming-Btech\\ML\\nitin\\Lib\\site-packages\\sklearn\\ensemble\\_bagging.py:545\u001b[0m, in \u001b[0;36mBaseBagging._fit\u001b[1;34m(self, X, y, max_samples, max_depth, check_input, **fit_params)\u001b[0m\n\u001b[0;32m    542\u001b[0m seeds \u001b[38;5;241m=\u001b[39m random_state\u001b[38;5;241m.\u001b[39mrandint(MAX_INT, size\u001b[38;5;241m=\u001b[39mn_more_estimators)\n\u001b[0;32m    543\u001b[0m \u001b[38;5;28mself\u001b[39m\u001b[38;5;241m.\u001b[39m_seeds \u001b[38;5;241m=\u001b[39m seeds\n\u001b[1;32m--> 545\u001b[0m all_results \u001b[38;5;241m=\u001b[39m \u001b[43mParallel\u001b[49m\u001b[43m(\u001b[49m\n\u001b[0;32m    546\u001b[0m \u001b[43m    \u001b[49m\u001b[43mn_jobs\u001b[49m\u001b[38;5;241;43m=\u001b[39;49m\u001b[43mn_jobs\u001b[49m\u001b[43m,\u001b[49m\u001b[43m \u001b[49m\u001b[43mverbose\u001b[49m\u001b[38;5;241;43m=\u001b[39;49m\u001b[38;5;28;43mself\u001b[39;49m\u001b[38;5;241;43m.\u001b[39;49m\u001b[43mverbose\u001b[49m\u001b[43m,\u001b[49m\u001b[43m \u001b[49m\u001b[38;5;241;43m*\u001b[39;49m\u001b[38;5;241;43m*\u001b[39;49m\u001b[38;5;28;43mself\u001b[39;49m\u001b[38;5;241;43m.\u001b[39;49m\u001b[43m_parallel_args\u001b[49m\u001b[43m(\u001b[49m\u001b[43m)\u001b[49m\n\u001b[0;32m    547\u001b[0m \u001b[43m\u001b[49m\u001b[43m)\u001b[49m\u001b[43m(\u001b[49m\n\u001b[0;32m    548\u001b[0m \u001b[43m    \u001b[49m\u001b[43mdelayed\u001b[49m\u001b[43m(\u001b[49m\u001b[43m_parallel_build_estimators\u001b[49m\u001b[43m)\u001b[49m\u001b[43m(\u001b[49m\n\u001b[0;32m    549\u001b[0m \u001b[43m        \u001b[49m\u001b[43mn_estimators\u001b[49m\u001b[43m[\u001b[49m\u001b[43mi\u001b[49m\u001b[43m]\u001b[49m\u001b[43m,\u001b[49m\n\u001b[0;32m    550\u001b[0m \u001b[43m        \u001b[49m\u001b[38;5;28;43mself\u001b[39;49m\u001b[43m,\u001b[49m\n\u001b[0;32m    551\u001b[0m \u001b[43m        \u001b[49m\u001b[43mX\u001b[49m\u001b[43m,\u001b[49m\n\u001b[0;32m    552\u001b[0m \u001b[43m        \u001b[49m\u001b[43my\u001b[49m\u001b[43m,\u001b[49m\n\u001b[0;32m    553\u001b[0m \u001b[43m        \u001b[49m\u001b[43mseeds\u001b[49m\u001b[43m[\u001b[49m\u001b[43mstarts\u001b[49m\u001b[43m[\u001b[49m\u001b[43mi\u001b[49m\u001b[43m]\u001b[49m\u001b[43m \u001b[49m\u001b[43m:\u001b[49m\u001b[43m \u001b[49m\u001b[43mstarts\u001b[49m\u001b[43m[\u001b[49m\u001b[43mi\u001b[49m\u001b[43m \u001b[49m\u001b[38;5;241;43m+\u001b[39;49m\u001b[43m \u001b[49m\u001b[38;5;241;43m1\u001b[39;49m\u001b[43m]\u001b[49m\u001b[43m]\u001b[49m\u001b[43m,\u001b[49m\n\u001b[0;32m    554\u001b[0m \u001b[43m        \u001b[49m\u001b[43mtotal_n_estimators\u001b[49m\u001b[43m,\u001b[49m\n\u001b[0;32m    555\u001b[0m \u001b[43m        \u001b[49m\u001b[43mverbose\u001b[49m\u001b[38;5;241;43m=\u001b[39;49m\u001b[38;5;28;43mself\u001b[39;49m\u001b[38;5;241;43m.\u001b[39;49m\u001b[43mverbose\u001b[49m\u001b[43m,\u001b[49m\n\u001b[0;32m    556\u001b[0m \u001b[43m        \u001b[49m\u001b[43mcheck_input\u001b[49m\u001b[38;5;241;43m=\u001b[39;49m\u001b[43mcheck_input\u001b[49m\u001b[43m,\u001b[49m\n\u001b[0;32m    557\u001b[0m \u001b[43m        \u001b[49m\u001b[43mfit_params\u001b[49m\u001b[38;5;241;43m=\u001b[39;49m\u001b[43mrouted_params\u001b[49m\u001b[38;5;241;43m.\u001b[39;49m\u001b[43mestimator\u001b[49m\u001b[38;5;241;43m.\u001b[39;49m\u001b[43mfit\u001b[49m\u001b[43m,\u001b[49m\n\u001b[0;32m    558\u001b[0m \u001b[43m    \u001b[49m\u001b[43m)\u001b[49m\n\u001b[0;32m    559\u001b[0m \u001b[43m    \u001b[49m\u001b[38;5;28;43;01mfor\u001b[39;49;00m\u001b[43m \u001b[49m\u001b[43mi\u001b[49m\u001b[43m \u001b[49m\u001b[38;5;129;43;01min\u001b[39;49;00m\u001b[43m \u001b[49m\u001b[38;5;28;43mrange\u001b[39;49m\u001b[43m(\u001b[49m\u001b[43mn_jobs\u001b[49m\u001b[43m)\u001b[49m\n\u001b[0;32m    560\u001b[0m \u001b[43m\u001b[49m\u001b[43m)\u001b[49m\n\u001b[0;32m    562\u001b[0m \u001b[38;5;66;03m# Reduce\u001b[39;00m\n\u001b[0;32m    563\u001b[0m \u001b[38;5;28mself\u001b[39m\u001b[38;5;241m.\u001b[39mestimators_ \u001b[38;5;241m+\u001b[39m\u001b[38;5;241m=\u001b[39m \u001b[38;5;28mlist\u001b[39m(\n\u001b[0;32m    564\u001b[0m     itertools\u001b[38;5;241m.\u001b[39mchain\u001b[38;5;241m.\u001b[39mfrom_iterable(t[\u001b[38;5;241m0\u001b[39m] \u001b[38;5;28;01mfor\u001b[39;00m t \u001b[38;5;129;01min\u001b[39;00m all_results)\n\u001b[0;32m    565\u001b[0m )\n",
      "File \u001b[1;32mg:\\Nitin-Programming-Btech\\ML\\nitin\\Lib\\site-packages\\sklearn\\utils\\parallel.py:74\u001b[0m, in \u001b[0;36mParallel.__call__\u001b[1;34m(self, iterable)\u001b[0m\n\u001b[0;32m     69\u001b[0m config \u001b[38;5;241m=\u001b[39m get_config()\n\u001b[0;32m     70\u001b[0m iterable_with_config \u001b[38;5;241m=\u001b[39m (\n\u001b[0;32m     71\u001b[0m     (_with_config(delayed_func, config), args, kwargs)\n\u001b[0;32m     72\u001b[0m     \u001b[38;5;28;01mfor\u001b[39;00m delayed_func, args, kwargs \u001b[38;5;129;01min\u001b[39;00m iterable\n\u001b[0;32m     73\u001b[0m )\n\u001b[1;32m---> 74\u001b[0m \u001b[38;5;28;01mreturn\u001b[39;00m \u001b[38;5;28;43msuper\u001b[39;49m\u001b[43m(\u001b[49m\u001b[43m)\u001b[49m\u001b[38;5;241;43m.\u001b[39;49m\u001b[38;5;21;43m__call__\u001b[39;49m\u001b[43m(\u001b[49m\u001b[43miterable_with_config\u001b[49m\u001b[43m)\u001b[49m\n",
      "File \u001b[1;32mg:\\Nitin-Programming-Btech\\ML\\nitin\\Lib\\site-packages\\joblib\\parallel.py:2007\u001b[0m, in \u001b[0;36mParallel.__call__\u001b[1;34m(self, iterable)\u001b[0m\n\u001b[0;32m   2001\u001b[0m \u001b[38;5;66;03m# The first item from the output is blank, but it makes the interpreter\u001b[39;00m\n\u001b[0;32m   2002\u001b[0m \u001b[38;5;66;03m# progress until it enters the Try/Except block of the generator and\u001b[39;00m\n\u001b[0;32m   2003\u001b[0m \u001b[38;5;66;03m# reaches the first `yield` statement. This starts the asynchronous\u001b[39;00m\n\u001b[0;32m   2004\u001b[0m \u001b[38;5;66;03m# dispatch of the tasks to the workers.\u001b[39;00m\n\u001b[0;32m   2005\u001b[0m \u001b[38;5;28mnext\u001b[39m(output)\n\u001b[1;32m-> 2007\u001b[0m \u001b[38;5;28;01mreturn\u001b[39;00m output \u001b[38;5;28;01mif\u001b[39;00m \u001b[38;5;28mself\u001b[39m\u001b[38;5;241m.\u001b[39mreturn_generator \u001b[38;5;28;01melse\u001b[39;00m \u001b[38;5;28;43mlist\u001b[39;49m\u001b[43m(\u001b[49m\u001b[43moutput\u001b[49m\u001b[43m)\u001b[49m\n",
      "File \u001b[1;32mg:\\Nitin-Programming-Btech\\ML\\nitin\\Lib\\site-packages\\joblib\\parallel.py:1650\u001b[0m, in \u001b[0;36mParallel._get_outputs\u001b[1;34m(self, iterator, pre_dispatch)\u001b[0m\n\u001b[0;32m   1647\u001b[0m     \u001b[38;5;28;01myield\u001b[39;00m\n\u001b[0;32m   1649\u001b[0m     \u001b[38;5;28;01mwith\u001b[39;00m \u001b[38;5;28mself\u001b[39m\u001b[38;5;241m.\u001b[39m_backend\u001b[38;5;241m.\u001b[39mretrieval_context():\n\u001b[1;32m-> 1650\u001b[0m         \u001b[38;5;28;01myield from\u001b[39;00m \u001b[38;5;28mself\u001b[39m\u001b[38;5;241m.\u001b[39m_retrieve()\n\u001b[0;32m   1652\u001b[0m \u001b[38;5;28;01mexcept\u001b[39;00m \u001b[38;5;167;01mGeneratorExit\u001b[39;00m:\n\u001b[0;32m   1653\u001b[0m     \u001b[38;5;66;03m# The generator has been garbage collected before being fully\u001b[39;00m\n\u001b[0;32m   1654\u001b[0m     \u001b[38;5;66;03m# consumed. This aborts the remaining tasks if possible and warn\u001b[39;00m\n\u001b[0;32m   1655\u001b[0m     \u001b[38;5;66;03m# the user if necessary.\u001b[39;00m\n\u001b[0;32m   1656\u001b[0m     \u001b[38;5;28mself\u001b[39m\u001b[38;5;241m.\u001b[39m_exception \u001b[38;5;241m=\u001b[39m \u001b[38;5;28;01mTrue\u001b[39;00m\n",
      "File \u001b[1;32mg:\\Nitin-Programming-Btech\\ML\\nitin\\Lib\\site-packages\\joblib\\parallel.py:1754\u001b[0m, in \u001b[0;36mParallel._retrieve\u001b[1;34m(self)\u001b[0m\n\u001b[0;32m   1747\u001b[0m \u001b[38;5;28;01mwhile\u001b[39;00m \u001b[38;5;28mself\u001b[39m\u001b[38;5;241m.\u001b[39m_wait_retrieval():\n\u001b[0;32m   1748\u001b[0m \n\u001b[0;32m   1749\u001b[0m     \u001b[38;5;66;03m# If the callback thread of a worker has signaled that its task\u001b[39;00m\n\u001b[0;32m   1750\u001b[0m     \u001b[38;5;66;03m# triggered an exception, or if the retrieval loop has raised an\u001b[39;00m\n\u001b[0;32m   1751\u001b[0m     \u001b[38;5;66;03m# exception (e.g. `GeneratorExit`), exit the loop and surface the\u001b[39;00m\n\u001b[0;32m   1752\u001b[0m     \u001b[38;5;66;03m# worker traceback.\u001b[39;00m\n\u001b[0;32m   1753\u001b[0m     \u001b[38;5;28;01mif\u001b[39;00m \u001b[38;5;28mself\u001b[39m\u001b[38;5;241m.\u001b[39m_aborting:\n\u001b[1;32m-> 1754\u001b[0m         \u001b[38;5;28;43mself\u001b[39;49m\u001b[38;5;241;43m.\u001b[39;49m\u001b[43m_raise_error_fast\u001b[49m\u001b[43m(\u001b[49m\u001b[43m)\u001b[49m\n\u001b[0;32m   1755\u001b[0m         \u001b[38;5;28;01mbreak\u001b[39;00m\n\u001b[0;32m   1757\u001b[0m     \u001b[38;5;66;03m# If the next job is not ready for retrieval yet, we just wait for\u001b[39;00m\n\u001b[0;32m   1758\u001b[0m     \u001b[38;5;66;03m# async callbacks to progress.\u001b[39;00m\n",
      "File \u001b[1;32mg:\\Nitin-Programming-Btech\\ML\\nitin\\Lib\\site-packages\\joblib\\parallel.py:1789\u001b[0m, in \u001b[0;36mParallel._raise_error_fast\u001b[1;34m(self)\u001b[0m\n\u001b[0;32m   1785\u001b[0m \u001b[38;5;66;03m# If this error job exists, immediately raise the error by\u001b[39;00m\n\u001b[0;32m   1786\u001b[0m \u001b[38;5;66;03m# calling get_result. This job might not exists if abort has been\u001b[39;00m\n\u001b[0;32m   1787\u001b[0m \u001b[38;5;66;03m# called directly or if the generator is gc'ed.\u001b[39;00m\n\u001b[0;32m   1788\u001b[0m \u001b[38;5;28;01mif\u001b[39;00m error_job \u001b[38;5;129;01mis\u001b[39;00m \u001b[38;5;129;01mnot\u001b[39;00m \u001b[38;5;28;01mNone\u001b[39;00m:\n\u001b[1;32m-> 1789\u001b[0m     \u001b[43merror_job\u001b[49m\u001b[38;5;241;43m.\u001b[39;49m\u001b[43mget_result\u001b[49m\u001b[43m(\u001b[49m\u001b[38;5;28;43mself\u001b[39;49m\u001b[38;5;241;43m.\u001b[39;49m\u001b[43mtimeout\u001b[49m\u001b[43m)\u001b[49m\n",
      "File \u001b[1;32mg:\\Nitin-Programming-Btech\\ML\\nitin\\Lib\\site-packages\\joblib\\parallel.py:745\u001b[0m, in \u001b[0;36mBatchCompletionCallBack.get_result\u001b[1;34m(self, timeout)\u001b[0m\n\u001b[0;32m    739\u001b[0m backend \u001b[38;5;241m=\u001b[39m \u001b[38;5;28mself\u001b[39m\u001b[38;5;241m.\u001b[39mparallel\u001b[38;5;241m.\u001b[39m_backend\n\u001b[0;32m    741\u001b[0m \u001b[38;5;28;01mif\u001b[39;00m backend\u001b[38;5;241m.\u001b[39msupports_retrieve_callback:\n\u001b[0;32m    742\u001b[0m     \u001b[38;5;66;03m# We assume that the result has already been retrieved by the\u001b[39;00m\n\u001b[0;32m    743\u001b[0m     \u001b[38;5;66;03m# callback thread, and is stored internally. It's just waiting to\u001b[39;00m\n\u001b[0;32m    744\u001b[0m     \u001b[38;5;66;03m# be returned.\u001b[39;00m\n\u001b[1;32m--> 745\u001b[0m     \u001b[38;5;28;01mreturn\u001b[39;00m \u001b[38;5;28;43mself\u001b[39;49m\u001b[38;5;241;43m.\u001b[39;49m\u001b[43m_return_or_raise\u001b[49m\u001b[43m(\u001b[49m\u001b[43m)\u001b[49m\n\u001b[0;32m    747\u001b[0m \u001b[38;5;66;03m# For other backends, the main thread needs to run the retrieval step.\u001b[39;00m\n\u001b[0;32m    748\u001b[0m \u001b[38;5;28;01mtry\u001b[39;00m:\n",
      "File \u001b[1;32mg:\\Nitin-Programming-Btech\\ML\\nitin\\Lib\\site-packages\\joblib\\parallel.py:763\u001b[0m, in \u001b[0;36mBatchCompletionCallBack._return_or_raise\u001b[1;34m(self)\u001b[0m\n\u001b[0;32m    761\u001b[0m \u001b[38;5;28;01mtry\u001b[39;00m:\n\u001b[0;32m    762\u001b[0m     \u001b[38;5;28;01mif\u001b[39;00m \u001b[38;5;28mself\u001b[39m\u001b[38;5;241m.\u001b[39mstatus \u001b[38;5;241m==\u001b[39m TASK_ERROR:\n\u001b[1;32m--> 763\u001b[0m         \u001b[38;5;28;01mraise\u001b[39;00m \u001b[38;5;28mself\u001b[39m\u001b[38;5;241m.\u001b[39m_result\n\u001b[0;32m    764\u001b[0m     \u001b[38;5;28;01mreturn\u001b[39;00m \u001b[38;5;28mself\u001b[39m\u001b[38;5;241m.\u001b[39m_result\n\u001b[0;32m    765\u001b[0m \u001b[38;5;28;01mfinally\u001b[39;00m:\n",
      "\u001b[1;31mMemoryError\u001b[0m: "
     ]
    }
   ],
   "source": [
    "# apply the bagging\n",
    "\n",
    "from sklearn.ensemble import BaggingClassifier\n",
    "from sklearn.ensemble import RandomForestClassifier\n",
    "from sklearn.neighbors import KNeighborsClassifier\n",
    "from sklearn.svm import SVC\n",
    "from sklearn.linear_model import LogisticRegression\n",
    "from sklearn.naive_bayes import GaussianNB\n",
    "from sklearn.metrics import classification_report\n",
    "\n",
    "bagging_knn = BaggingClassifier(KNeighborsClassifier(n_neighbors = 5), n_estimators = 20, max_samples = 0.8, bootstrap = True, n_jobs = -1)\n",
    "# bagging_svc = BaggingClassifier(SVC(C = 0.1, kernel = \"sigmoid\", max_iter = 10000), n_estimators = 50, max_samples = 0.8, bootstrap = True, n_jobs = -1)\n",
    "# bagging_lr = BaggingClassifier(LogisticRegression(C = 0.1, max_iter = 10000), n_estimators = 20, max_samples = 0.8, bootstrap = True, n_jobs = -1)\n",
    "bagging_rf = BaggingClassifier(RandomForestClassifier(n_estimators = 100, random_state = 42), n_estimators = 50, max_samples = 0.8, bootstrap = True, n_jobs = -1)\n",
    "bagging_nb = BaggingClassifier(GaussianNB(), n_estimators = 20, max_samples = 0.8, bootstrap = True, n_jobs = -1)\n",
    "\n",
    "models = []\n",
    "models.append((bagging_knn, \"KNN\"))\n",
    "# models.append((bagging_svc, \"SVC\"))\n",
    "# models.append((bagging_lr, \"LR\"))\n",
    "models.append((bagging_rf, \"RF\"))\n",
    "models.append((bagging_nb, \"NB\"))\n",
    "\n",
    "print(\"Do you want to print classification_report(0, 1): \")\n",
    "choice = int(input())\n",
    "for bagger, name in models:\n",
    "  print(\"training: \", name)\n",
    "  bagger.fit(X_resampled_type, y_resampled_type)\n",
    "  print(name, bagger.score(X_test_type, y_test_type))\n",
    "  if choice == 1:\n",
    "    print(classification_report(y_test_type, bagger.predict(X_test_type)))\n",
    "  print(\"-\" * 40)"
   ]
  },
  {
   "cell_type": "markdown",
   "metadata": {
    "id": "aYEK_MH6-1cw"
   },
   "source": [
    "# Neural Network"
   ]
  },
  {
   "cell_type": "code",
   "execution_count": 96,
   "metadata": {
    "execution": {
     "iopub.execute_input": "2024-12-07T10:06:29.060263Z",
     "iopub.status.busy": "2024-12-07T10:06:29.059265Z",
     "iopub.status.idle": "2024-12-07T10:06:29.281308Z",
     "shell.execute_reply": "2024-12-07T10:06:29.280294Z",
     "shell.execute_reply.started": "2024-12-07T10:06:29.060263Z"
    },
    "id": "vjWZxCrsCevk"
   },
   "outputs": [],
   "source": [
    "from tensorflow.keras import Sequential\n",
    "from tensorflow.keras.layers import Dense, Input\n",
    "from tensorflow.keras.utils import to_categorical\n",
    "from sklearn.preprocessing import LabelEncoder\n",
    "from sklearn.preprocessing import StandardScaler"
   ]
  },
  {
   "cell_type": "markdown",
   "metadata": {
    "id": "UMs6TC8hCbtk"
   },
   "source": [
    "* Binaryclass modelling"
   ]
  },
  {
   "cell_type": "code",
   "execution_count": 97,
   "metadata": {},
   "outputs": [],
   "source": [
    "scaler = StandardScaler()\n",
    "X_resampled_bin = scaler.fit_transform(X_resampled_bin)"
   ]
  },
  {
   "cell_type": "code",
   "execution_count": 99,
   "metadata": {
    "colab": {
     "base_uri": "https://localhost:8080/",
     "height": 427
    },
    "execution": {
     "iopub.execute_input": "2024-12-07T10:06:31.378078Z",
     "iopub.status.busy": "2024-12-07T10:06:31.378078Z",
     "iopub.status.idle": "2024-12-07T10:07:40.308879Z",
     "shell.execute_reply": "2024-12-07T10:07:40.306844Z",
     "shell.execute_reply.started": "2024-12-07T10:06:31.378078Z"
    },
    "id": "kKK1mxol-yna",
    "outputId": "6a762718-11cf-4add-fef5-93b3aa865d82"
   },
   "outputs": [
    {
     "name": "stdout",
     "output_type": "stream",
     "text": [
      "Epoch 1/100\n",
      "\u001b[1m1059/1059\u001b[0m \u001b[32m━━━━━━━━━━━━━━━━━━━━\u001b[0m\u001b[37m\u001b[0m \u001b[1m4s\u001b[0m 2ms/step - accuracy: 0.6487 - loss: 0.5533\n",
      "Epoch 2/100\n",
      "\u001b[1m1059/1059\u001b[0m \u001b[32m━━━━━━━━━━━━━━━━━━━━\u001b[0m\u001b[37m\u001b[0m \u001b[1m2s\u001b[0m 2ms/step - accuracy: 0.6804 - loss: 0.5167\n",
      "Epoch 3/100\n",
      "\u001b[1m1059/1059\u001b[0m \u001b[32m━━━━━━━━━━━━━━━━━━━━\u001b[0m\u001b[37m\u001b[0m \u001b[1m2s\u001b[0m 2ms/step - accuracy: 0.6787 - loss: 0.5146\n",
      "Epoch 4/100\n",
      "\u001b[1m1059/1059\u001b[0m \u001b[32m━━━━━━━━━━━━━━━━━━━━\u001b[0m\u001b[37m\u001b[0m \u001b[1m2s\u001b[0m 2ms/step - accuracy: 0.6791 - loss: 0.5122\n",
      "Epoch 5/100\n",
      "\u001b[1m1059/1059\u001b[0m \u001b[32m━━━━━━━━━━━━━━━━━━━━\u001b[0m\u001b[37m\u001b[0m \u001b[1m2s\u001b[0m 2ms/step - accuracy: 0.6897 - loss: 0.5084\n",
      "Epoch 6/100\n",
      "\u001b[1m1059/1059\u001b[0m \u001b[32m━━━━━━━━━━━━━━━━━━━━\u001b[0m\u001b[37m\u001b[0m \u001b[1m2s\u001b[0m 2ms/step - accuracy: 0.6797 - loss: 0.5070\n",
      "Epoch 7/100\n",
      "\u001b[1m1059/1059\u001b[0m \u001b[32m━━━━━━━━━━━━━━━━━━━━\u001b[0m\u001b[37m\u001b[0m \u001b[1m2s\u001b[0m 2ms/step - accuracy: 0.6827 - loss: 0.5098\n",
      "Epoch 8/100\n",
      "\u001b[1m1059/1059\u001b[0m \u001b[32m━━━━━━━━━━━━━━━━━━━━\u001b[0m\u001b[37m\u001b[0m \u001b[1m2s\u001b[0m 2ms/step - accuracy: 0.6859 - loss: 0.5067\n",
      "Epoch 9/100\n",
      "\u001b[1m1059/1059\u001b[0m \u001b[32m━━━━━━━━━━━━━━━━━━━━\u001b[0m\u001b[37m\u001b[0m \u001b[1m2s\u001b[0m 2ms/step - accuracy: 0.6814 - loss: 0.5083\n",
      "Epoch 10/100\n",
      "\u001b[1m1059/1059\u001b[0m \u001b[32m━━━━━━━━━━━━━━━━━━━━\u001b[0m\u001b[37m\u001b[0m \u001b[1m2s\u001b[0m 2ms/step - accuracy: 0.6871 - loss: 0.5063\n",
      "Epoch 11/100\n",
      "\u001b[1m1059/1059\u001b[0m \u001b[32m━━━━━━━━━━━━━━━━━━━━\u001b[0m\u001b[37m\u001b[0m \u001b[1m2s\u001b[0m 2ms/step - accuracy: 0.6850 - loss: 0.5073\n",
      "Epoch 12/100\n",
      "\u001b[1m1059/1059\u001b[0m \u001b[32m━━━━━━━━━━━━━━━━━━━━\u001b[0m\u001b[37m\u001b[0m \u001b[1m2s\u001b[0m 2ms/step - accuracy: 0.6834 - loss: 0.5060\n",
      "Epoch 13/100\n",
      "\u001b[1m1059/1059\u001b[0m \u001b[32m━━━━━━━━━━━━━━━━━━━━\u001b[0m\u001b[37m\u001b[0m \u001b[1m3s\u001b[0m 3ms/step - accuracy: 0.6882 - loss: 0.5050\n",
      "Epoch 14/100\n",
      "\u001b[1m1059/1059\u001b[0m \u001b[32m━━━━━━━━━━━━━━━━━━━━\u001b[0m\u001b[37m\u001b[0m \u001b[1m3s\u001b[0m 3ms/step - accuracy: 0.6862 - loss: 0.5060\n",
      "Epoch 15/100\n",
      "\u001b[1m1059/1059\u001b[0m \u001b[32m━━━━━━━━━━━━━━━━━━━━\u001b[0m\u001b[37m\u001b[0m \u001b[1m3s\u001b[0m 3ms/step - accuracy: 0.6899 - loss: 0.5035\n",
      "Epoch 16/100\n",
      "\u001b[1m1059/1059\u001b[0m \u001b[32m━━━━━━━━━━━━━━━━━━━━\u001b[0m\u001b[37m\u001b[0m \u001b[1m3s\u001b[0m 3ms/step - accuracy: 0.6884 - loss: 0.5041\n",
      "Epoch 17/100\n",
      "\u001b[1m1059/1059\u001b[0m \u001b[32m━━━━━━━━━━━━━━━━━━━━\u001b[0m\u001b[37m\u001b[0m \u001b[1m5s\u001b[0m 3ms/step - accuracy: 0.6871 - loss: 0.5084\n",
      "Epoch 18/100\n",
      "\u001b[1m1059/1059\u001b[0m \u001b[32m━━━━━━━━━━━━━━━━━━━━\u001b[0m\u001b[37m\u001b[0m \u001b[1m3s\u001b[0m 3ms/step - accuracy: 0.6883 - loss: 0.5046\n",
      "Epoch 19/100\n",
      "\u001b[1m1059/1059\u001b[0m \u001b[32m━━━━━━━━━━━━━━━━━━━━\u001b[0m\u001b[37m\u001b[0m \u001b[1m3s\u001b[0m 3ms/step - accuracy: 0.6884 - loss: 0.5049\n",
      "Epoch 20/100\n",
      "\u001b[1m1059/1059\u001b[0m \u001b[32m━━━━━━━━━━━━━━━━━━━━\u001b[0m\u001b[37m\u001b[0m \u001b[1m3s\u001b[0m 3ms/step - accuracy: 0.6867 - loss: 0.5039\n",
      "Epoch 21/100\n",
      "\u001b[1m1059/1059\u001b[0m \u001b[32m━━━━━━━━━━━━━━━━━━━━\u001b[0m\u001b[37m\u001b[0m \u001b[1m3s\u001b[0m 3ms/step - accuracy: 0.6877 - loss: 0.5051\n",
      "Epoch 22/100\n",
      "\u001b[1m1059/1059\u001b[0m \u001b[32m━━━━━━━━━━━━━━━━━━━━\u001b[0m\u001b[37m\u001b[0m \u001b[1m3s\u001b[0m 3ms/step - accuracy: 0.6829 - loss: 0.5055\n",
      "Epoch 23/100\n",
      "\u001b[1m1059/1059\u001b[0m \u001b[32m━━━━━━━━━━━━━━━━━━━━\u001b[0m\u001b[37m\u001b[0m \u001b[1m3s\u001b[0m 3ms/step - accuracy: 0.6777 - loss: 0.5103\n",
      "Epoch 24/100\n",
      "\u001b[1m1059/1059\u001b[0m \u001b[32m━━━━━━━━━━━━━━━━━━━━\u001b[0m\u001b[37m\u001b[0m \u001b[1m2s\u001b[0m 2ms/step - accuracy: 0.6838 - loss: 0.5052\n",
      "Epoch 25/100\n",
      "\u001b[1m1059/1059\u001b[0m \u001b[32m━━━━━━━━━━━━━━━━━━━━\u001b[0m\u001b[37m\u001b[0m \u001b[1m2s\u001b[0m 2ms/step - accuracy: 0.6850 - loss: 0.5080\n",
      "Epoch 26/100\n",
      "\u001b[1m1059/1059\u001b[0m \u001b[32m━━━━━━━━━━━━━━━━━━━━\u001b[0m\u001b[37m\u001b[0m \u001b[1m2s\u001b[0m 2ms/step - accuracy: 0.6899 - loss: 0.5032\n",
      "Epoch 27/100\n",
      "\u001b[1m 396/1059\u001b[0m \u001b[32m━━━━━━━\u001b[0m\u001b[37m━━━━━━━━━━━━━\u001b[0m \u001b[1m1s\u001b[0m 2ms/step - accuracy: 0.6699 - loss: 0.5123"
     ]
    },
    {
     "ename": "KeyboardInterrupt",
     "evalue": "",
     "output_type": "error",
     "traceback": [
      "\u001b[1;31m---------------------------------------------------------------------------\u001b[0m",
      "\u001b[1;31mKeyboardInterrupt\u001b[0m                         Traceback (most recent call last)",
      "Cell \u001b[1;32mIn[99], line 8\u001b[0m\n\u001b[0;32m      1\u001b[0m model \u001b[38;5;241m=\u001b[39m Sequential([\n\u001b[0;32m      2\u001b[0m     Input(shape \u001b[38;5;241m=\u001b[39m (X_resampled_bin\u001b[38;5;241m.\u001b[39mshape[\u001b[38;5;241m1\u001b[39m], )),\n\u001b[0;32m      3\u001b[0m     Dense(\u001b[38;5;241m128\u001b[39m, activation \u001b[38;5;241m=\u001b[39m \u001b[38;5;124m\"\u001b[39m\u001b[38;5;124mrelu\u001b[39m\u001b[38;5;124m\"\u001b[39m),\n\u001b[0;32m      4\u001b[0m     Dense(\u001b[38;5;241m64\u001b[39m, activation \u001b[38;5;241m=\u001b[39m \u001b[38;5;124m\"\u001b[39m\u001b[38;5;124mrelu\u001b[39m\u001b[38;5;124m\"\u001b[39m),\n\u001b[0;32m      5\u001b[0m     Dense(\u001b[38;5;241m1\u001b[39m, activation \u001b[38;5;241m=\u001b[39m \u001b[38;5;124m\"\u001b[39m\u001b[38;5;124msigmoid\u001b[39m\u001b[38;5;124m\"\u001b[39m),\n\u001b[0;32m      6\u001b[0m ])\n\u001b[0;32m      7\u001b[0m model\u001b[38;5;241m.\u001b[39mcompile(loss \u001b[38;5;241m=\u001b[39m \u001b[38;5;124m\"\u001b[39m\u001b[38;5;124mbinary_crossentropy\u001b[39m\u001b[38;5;124m\"\u001b[39m, optimizer \u001b[38;5;241m=\u001b[39m \u001b[38;5;124m\"\u001b[39m\u001b[38;5;124madam\u001b[39m\u001b[38;5;124m\"\u001b[39m, metrics \u001b[38;5;241m=\u001b[39m [\u001b[38;5;124m\"\u001b[39m\u001b[38;5;124maccuracy\u001b[39m\u001b[38;5;124m\"\u001b[39m])\n\u001b[1;32m----> 8\u001b[0m \u001b[43mmodel\u001b[49m\u001b[38;5;241;43m.\u001b[39;49m\u001b[43mfit\u001b[49m\u001b[43m(\u001b[49m\u001b[43mX_resampled_bin\u001b[49m\u001b[43m,\u001b[49m\u001b[43m \u001b[49m\u001b[43my_resampled_bin\u001b[49m\u001b[43m,\u001b[49m\u001b[43m \u001b[49m\u001b[43mepochs\u001b[49m\u001b[43m \u001b[49m\u001b[38;5;241;43m=\u001b[39;49m\u001b[43m \u001b[49m\u001b[38;5;241;43m100\u001b[39;49m\u001b[43m,\u001b[49m\u001b[43m \u001b[49m\u001b[43mbatch_size\u001b[49m\u001b[43m \u001b[49m\u001b[38;5;241;43m=\u001b[39;49m\u001b[43m \u001b[49m\u001b[38;5;241;43m16\u001b[39;49m\u001b[43m)\u001b[49m\n",
      "File \u001b[1;32mg:\\Nitin-Programming-Btech\\ML\\nitin\\Lib\\site-packages\\keras\\src\\utils\\traceback_utils.py:117\u001b[0m, in \u001b[0;36mfilter_traceback.<locals>.error_handler\u001b[1;34m(*args, **kwargs)\u001b[0m\n\u001b[0;32m    115\u001b[0m filtered_tb \u001b[38;5;241m=\u001b[39m \u001b[38;5;28;01mNone\u001b[39;00m\n\u001b[0;32m    116\u001b[0m \u001b[38;5;28;01mtry\u001b[39;00m:\n\u001b[1;32m--> 117\u001b[0m     \u001b[38;5;28;01mreturn\u001b[39;00m \u001b[43mfn\u001b[49m\u001b[43m(\u001b[49m\u001b[38;5;241;43m*\u001b[39;49m\u001b[43margs\u001b[49m\u001b[43m,\u001b[49m\u001b[43m \u001b[49m\u001b[38;5;241;43m*\u001b[39;49m\u001b[38;5;241;43m*\u001b[39;49m\u001b[43mkwargs\u001b[49m\u001b[43m)\u001b[49m\n\u001b[0;32m    118\u001b[0m \u001b[38;5;28;01mexcept\u001b[39;00m \u001b[38;5;167;01mException\u001b[39;00m \u001b[38;5;28;01mas\u001b[39;00m e:\n\u001b[0;32m    119\u001b[0m     filtered_tb \u001b[38;5;241m=\u001b[39m _process_traceback_frames(e\u001b[38;5;241m.\u001b[39m__traceback__)\n",
      "File \u001b[1;32mg:\\Nitin-Programming-Btech\\ML\\nitin\\Lib\\site-packages\\keras\\src\\backend\\tensorflow\\trainer.py:320\u001b[0m, in \u001b[0;36mTensorFlowTrainer.fit\u001b[1;34m(self, x, y, batch_size, epochs, verbose, callbacks, validation_split, validation_data, shuffle, class_weight, sample_weight, initial_epoch, steps_per_epoch, validation_steps, validation_batch_size, validation_freq)\u001b[0m\n\u001b[0;32m    318\u001b[0m \u001b[38;5;28;01mfor\u001b[39;00m step, iterator \u001b[38;5;129;01min\u001b[39;00m epoch_iterator\u001b[38;5;241m.\u001b[39menumerate_epoch():\n\u001b[0;32m    319\u001b[0m     callbacks\u001b[38;5;241m.\u001b[39mon_train_batch_begin(step)\n\u001b[1;32m--> 320\u001b[0m     logs \u001b[38;5;241m=\u001b[39m \u001b[38;5;28;43mself\u001b[39;49m\u001b[38;5;241;43m.\u001b[39;49m\u001b[43mtrain_function\u001b[49m\u001b[43m(\u001b[49m\u001b[43miterator\u001b[49m\u001b[43m)\u001b[49m\n\u001b[0;32m    321\u001b[0m     callbacks\u001b[38;5;241m.\u001b[39mon_train_batch_end(step, logs)\n\u001b[0;32m    322\u001b[0m     \u001b[38;5;28;01mif\u001b[39;00m \u001b[38;5;28mself\u001b[39m\u001b[38;5;241m.\u001b[39mstop_training:\n",
      "File \u001b[1;32mg:\\Nitin-Programming-Btech\\ML\\nitin\\Lib\\site-packages\\tensorflow\\python\\util\\traceback_utils.py:150\u001b[0m, in \u001b[0;36mfilter_traceback.<locals>.error_handler\u001b[1;34m(*args, **kwargs)\u001b[0m\n\u001b[0;32m    148\u001b[0m filtered_tb \u001b[38;5;241m=\u001b[39m \u001b[38;5;28;01mNone\u001b[39;00m\n\u001b[0;32m    149\u001b[0m \u001b[38;5;28;01mtry\u001b[39;00m:\n\u001b[1;32m--> 150\u001b[0m   \u001b[38;5;28;01mreturn\u001b[39;00m \u001b[43mfn\u001b[49m\u001b[43m(\u001b[49m\u001b[38;5;241;43m*\u001b[39;49m\u001b[43margs\u001b[49m\u001b[43m,\u001b[49m\u001b[43m \u001b[49m\u001b[38;5;241;43m*\u001b[39;49m\u001b[38;5;241;43m*\u001b[39;49m\u001b[43mkwargs\u001b[49m\u001b[43m)\u001b[49m\n\u001b[0;32m    151\u001b[0m \u001b[38;5;28;01mexcept\u001b[39;00m \u001b[38;5;167;01mException\u001b[39;00m \u001b[38;5;28;01mas\u001b[39;00m e:\n\u001b[0;32m    152\u001b[0m   filtered_tb \u001b[38;5;241m=\u001b[39m _process_traceback_frames(e\u001b[38;5;241m.\u001b[39m__traceback__)\n",
      "File \u001b[1;32mg:\\Nitin-Programming-Btech\\ML\\nitin\\Lib\\site-packages\\tensorflow\\python\\eager\\polymorphic_function\\polymorphic_function.py:833\u001b[0m, in \u001b[0;36mFunction.__call__\u001b[1;34m(self, *args, **kwds)\u001b[0m\n\u001b[0;32m    830\u001b[0m compiler \u001b[38;5;241m=\u001b[39m \u001b[38;5;124m\"\u001b[39m\u001b[38;5;124mxla\u001b[39m\u001b[38;5;124m\"\u001b[39m \u001b[38;5;28;01mif\u001b[39;00m \u001b[38;5;28mself\u001b[39m\u001b[38;5;241m.\u001b[39m_jit_compile \u001b[38;5;28;01melse\u001b[39;00m \u001b[38;5;124m\"\u001b[39m\u001b[38;5;124mnonXla\u001b[39m\u001b[38;5;124m\"\u001b[39m\n\u001b[0;32m    832\u001b[0m \u001b[38;5;28;01mwith\u001b[39;00m OptionalXlaContext(\u001b[38;5;28mself\u001b[39m\u001b[38;5;241m.\u001b[39m_jit_compile):\n\u001b[1;32m--> 833\u001b[0m   result \u001b[38;5;241m=\u001b[39m \u001b[38;5;28;43mself\u001b[39;49m\u001b[38;5;241;43m.\u001b[39;49m\u001b[43m_call\u001b[49m\u001b[43m(\u001b[49m\u001b[38;5;241;43m*\u001b[39;49m\u001b[43margs\u001b[49m\u001b[43m,\u001b[49m\u001b[43m \u001b[49m\u001b[38;5;241;43m*\u001b[39;49m\u001b[38;5;241;43m*\u001b[39;49m\u001b[43mkwds\u001b[49m\u001b[43m)\u001b[49m\n\u001b[0;32m    835\u001b[0m new_tracing_count \u001b[38;5;241m=\u001b[39m \u001b[38;5;28mself\u001b[39m\u001b[38;5;241m.\u001b[39mexperimental_get_tracing_count()\n\u001b[0;32m    836\u001b[0m without_tracing \u001b[38;5;241m=\u001b[39m (tracing_count \u001b[38;5;241m==\u001b[39m new_tracing_count)\n",
      "File \u001b[1;32mg:\\Nitin-Programming-Btech\\ML\\nitin\\Lib\\site-packages\\tensorflow\\python\\eager\\polymorphic_function\\polymorphic_function.py:878\u001b[0m, in \u001b[0;36mFunction._call\u001b[1;34m(self, *args, **kwds)\u001b[0m\n\u001b[0;32m    875\u001b[0m \u001b[38;5;28mself\u001b[39m\u001b[38;5;241m.\u001b[39m_lock\u001b[38;5;241m.\u001b[39mrelease()\n\u001b[0;32m    876\u001b[0m \u001b[38;5;66;03m# In this case we have not created variables on the first call. So we can\u001b[39;00m\n\u001b[0;32m    877\u001b[0m \u001b[38;5;66;03m# run the first trace but we should fail if variables are created.\u001b[39;00m\n\u001b[1;32m--> 878\u001b[0m results \u001b[38;5;241m=\u001b[39m \u001b[43mtracing_compilation\u001b[49m\u001b[38;5;241;43m.\u001b[39;49m\u001b[43mcall_function\u001b[49m\u001b[43m(\u001b[49m\n\u001b[0;32m    879\u001b[0m \u001b[43m    \u001b[49m\u001b[43margs\u001b[49m\u001b[43m,\u001b[49m\u001b[43m \u001b[49m\u001b[43mkwds\u001b[49m\u001b[43m,\u001b[49m\u001b[43m \u001b[49m\u001b[38;5;28;43mself\u001b[39;49m\u001b[38;5;241;43m.\u001b[39;49m\u001b[43m_variable_creation_config\u001b[49m\n\u001b[0;32m    880\u001b[0m \u001b[43m\u001b[49m\u001b[43m)\u001b[49m\n\u001b[0;32m    881\u001b[0m \u001b[38;5;28;01mif\u001b[39;00m \u001b[38;5;28mself\u001b[39m\u001b[38;5;241m.\u001b[39m_created_variables:\n\u001b[0;32m    882\u001b[0m   \u001b[38;5;28;01mraise\u001b[39;00m \u001b[38;5;167;01mValueError\u001b[39;00m(\u001b[38;5;124m\"\u001b[39m\u001b[38;5;124mCreating variables on a non-first call to a function\u001b[39m\u001b[38;5;124m\"\u001b[39m\n\u001b[0;32m    883\u001b[0m                    \u001b[38;5;124m\"\u001b[39m\u001b[38;5;124m decorated with tf.function.\u001b[39m\u001b[38;5;124m\"\u001b[39m)\n",
      "File \u001b[1;32mg:\\Nitin-Programming-Btech\\ML\\nitin\\Lib\\site-packages\\tensorflow\\python\\eager\\polymorphic_function\\tracing_compilation.py:139\u001b[0m, in \u001b[0;36mcall_function\u001b[1;34m(args, kwargs, tracing_options)\u001b[0m\n\u001b[0;32m    137\u001b[0m bound_args \u001b[38;5;241m=\u001b[39m function\u001b[38;5;241m.\u001b[39mfunction_type\u001b[38;5;241m.\u001b[39mbind(\u001b[38;5;241m*\u001b[39margs, \u001b[38;5;241m*\u001b[39m\u001b[38;5;241m*\u001b[39mkwargs)\n\u001b[0;32m    138\u001b[0m flat_inputs \u001b[38;5;241m=\u001b[39m function\u001b[38;5;241m.\u001b[39mfunction_type\u001b[38;5;241m.\u001b[39munpack_inputs(bound_args)\n\u001b[1;32m--> 139\u001b[0m \u001b[38;5;28;01mreturn\u001b[39;00m \u001b[43mfunction\u001b[49m\u001b[38;5;241;43m.\u001b[39;49m\u001b[43m_call_flat\u001b[49m\u001b[43m(\u001b[49m\u001b[43m  \u001b[49m\u001b[38;5;66;43;03m# pylint: disable=protected-access\u001b[39;49;00m\n\u001b[0;32m    140\u001b[0m \u001b[43m    \u001b[49m\u001b[43mflat_inputs\u001b[49m\u001b[43m,\u001b[49m\u001b[43m \u001b[49m\u001b[43mcaptured_inputs\u001b[49m\u001b[38;5;241;43m=\u001b[39;49m\u001b[43mfunction\u001b[49m\u001b[38;5;241;43m.\u001b[39;49m\u001b[43mcaptured_inputs\u001b[49m\n\u001b[0;32m    141\u001b[0m \u001b[43m\u001b[49m\u001b[43m)\u001b[49m\n",
      "File \u001b[1;32mg:\\Nitin-Programming-Btech\\ML\\nitin\\Lib\\site-packages\\tensorflow\\python\\eager\\polymorphic_function\\concrete_function.py:1322\u001b[0m, in \u001b[0;36mConcreteFunction._call_flat\u001b[1;34m(self, tensor_inputs, captured_inputs)\u001b[0m\n\u001b[0;32m   1318\u001b[0m possible_gradient_type \u001b[38;5;241m=\u001b[39m gradients_util\u001b[38;5;241m.\u001b[39mPossibleTapeGradientTypes(args)\n\u001b[0;32m   1319\u001b[0m \u001b[38;5;28;01mif\u001b[39;00m (possible_gradient_type \u001b[38;5;241m==\u001b[39m gradients_util\u001b[38;5;241m.\u001b[39mPOSSIBLE_GRADIENT_TYPES_NONE\n\u001b[0;32m   1320\u001b[0m     \u001b[38;5;129;01mand\u001b[39;00m executing_eagerly):\n\u001b[0;32m   1321\u001b[0m   \u001b[38;5;66;03m# No tape is watching; skip to running the function.\u001b[39;00m\n\u001b[1;32m-> 1322\u001b[0m   \u001b[38;5;28;01mreturn\u001b[39;00m \u001b[38;5;28;43mself\u001b[39;49m\u001b[38;5;241;43m.\u001b[39;49m\u001b[43m_inference_function\u001b[49m\u001b[38;5;241;43m.\u001b[39;49m\u001b[43mcall_preflattened\u001b[49m\u001b[43m(\u001b[49m\u001b[43margs\u001b[49m\u001b[43m)\u001b[49m\n\u001b[0;32m   1323\u001b[0m forward_backward \u001b[38;5;241m=\u001b[39m \u001b[38;5;28mself\u001b[39m\u001b[38;5;241m.\u001b[39m_select_forward_and_backward_functions(\n\u001b[0;32m   1324\u001b[0m     args,\n\u001b[0;32m   1325\u001b[0m     possible_gradient_type,\n\u001b[0;32m   1326\u001b[0m     executing_eagerly)\n\u001b[0;32m   1327\u001b[0m forward_function, args_with_tangents \u001b[38;5;241m=\u001b[39m forward_backward\u001b[38;5;241m.\u001b[39mforward()\n",
      "File \u001b[1;32mg:\\Nitin-Programming-Btech\\ML\\nitin\\Lib\\site-packages\\tensorflow\\python\\eager\\polymorphic_function\\atomic_function.py:216\u001b[0m, in \u001b[0;36mAtomicFunction.call_preflattened\u001b[1;34m(self, args)\u001b[0m\n\u001b[0;32m    214\u001b[0m \u001b[38;5;28;01mdef\u001b[39;00m \u001b[38;5;21mcall_preflattened\u001b[39m(\u001b[38;5;28mself\u001b[39m, args: Sequence[core\u001b[38;5;241m.\u001b[39mTensor]) \u001b[38;5;241m-\u001b[39m\u001b[38;5;241m>\u001b[39m Any:\n\u001b[0;32m    215\u001b[0m \u001b[38;5;250m  \u001b[39m\u001b[38;5;124;03m\"\"\"Calls with flattened tensor inputs and returns the structured output.\"\"\"\u001b[39;00m\n\u001b[1;32m--> 216\u001b[0m   flat_outputs \u001b[38;5;241m=\u001b[39m \u001b[38;5;28;43mself\u001b[39;49m\u001b[38;5;241;43m.\u001b[39;49m\u001b[43mcall_flat\u001b[49m\u001b[43m(\u001b[49m\u001b[38;5;241;43m*\u001b[39;49m\u001b[43margs\u001b[49m\u001b[43m)\u001b[49m\n\u001b[0;32m    217\u001b[0m   \u001b[38;5;28;01mreturn\u001b[39;00m \u001b[38;5;28mself\u001b[39m\u001b[38;5;241m.\u001b[39mfunction_type\u001b[38;5;241m.\u001b[39mpack_output(flat_outputs)\n",
      "File \u001b[1;32mg:\\Nitin-Programming-Btech\\ML\\nitin\\Lib\\site-packages\\tensorflow\\python\\eager\\polymorphic_function\\atomic_function.py:251\u001b[0m, in \u001b[0;36mAtomicFunction.call_flat\u001b[1;34m(self, *args)\u001b[0m\n\u001b[0;32m    249\u001b[0m \u001b[38;5;28;01mwith\u001b[39;00m record\u001b[38;5;241m.\u001b[39mstop_recording():\n\u001b[0;32m    250\u001b[0m   \u001b[38;5;28;01mif\u001b[39;00m \u001b[38;5;28mself\u001b[39m\u001b[38;5;241m.\u001b[39m_bound_context\u001b[38;5;241m.\u001b[39mexecuting_eagerly():\n\u001b[1;32m--> 251\u001b[0m     outputs \u001b[38;5;241m=\u001b[39m \u001b[38;5;28;43mself\u001b[39;49m\u001b[38;5;241;43m.\u001b[39;49m\u001b[43m_bound_context\u001b[49m\u001b[38;5;241;43m.\u001b[39;49m\u001b[43mcall_function\u001b[49m\u001b[43m(\u001b[49m\n\u001b[0;32m    252\u001b[0m \u001b[43m        \u001b[49m\u001b[38;5;28;43mself\u001b[39;49m\u001b[38;5;241;43m.\u001b[39;49m\u001b[43mname\u001b[49m\u001b[43m,\u001b[49m\n\u001b[0;32m    253\u001b[0m \u001b[43m        \u001b[49m\u001b[38;5;28;43mlist\u001b[39;49m\u001b[43m(\u001b[49m\u001b[43margs\u001b[49m\u001b[43m)\u001b[49m\u001b[43m,\u001b[49m\n\u001b[0;32m    254\u001b[0m \u001b[43m        \u001b[49m\u001b[38;5;28;43mlen\u001b[39;49m\u001b[43m(\u001b[49m\u001b[38;5;28;43mself\u001b[39;49m\u001b[38;5;241;43m.\u001b[39;49m\u001b[43mfunction_type\u001b[49m\u001b[38;5;241;43m.\u001b[39;49m\u001b[43mflat_outputs\u001b[49m\u001b[43m)\u001b[49m\u001b[43m,\u001b[49m\n\u001b[0;32m    255\u001b[0m \u001b[43m    \u001b[49m\u001b[43m)\u001b[49m\n\u001b[0;32m    256\u001b[0m   \u001b[38;5;28;01melse\u001b[39;00m:\n\u001b[0;32m    257\u001b[0m     outputs \u001b[38;5;241m=\u001b[39m make_call_op_in_graph(\n\u001b[0;32m    258\u001b[0m         \u001b[38;5;28mself\u001b[39m,\n\u001b[0;32m    259\u001b[0m         \u001b[38;5;28mlist\u001b[39m(args),\n\u001b[0;32m    260\u001b[0m         \u001b[38;5;28mself\u001b[39m\u001b[38;5;241m.\u001b[39m_bound_context\u001b[38;5;241m.\u001b[39mfunction_call_options\u001b[38;5;241m.\u001b[39mas_attrs(),\n\u001b[0;32m    261\u001b[0m     )\n",
      "File \u001b[1;32mg:\\Nitin-Programming-Btech\\ML\\nitin\\Lib\\site-packages\\tensorflow\\python\\eager\\context.py:1552\u001b[0m, in \u001b[0;36mContext.call_function\u001b[1;34m(self, name, tensor_inputs, num_outputs)\u001b[0m\n\u001b[0;32m   1550\u001b[0m cancellation_context \u001b[38;5;241m=\u001b[39m cancellation\u001b[38;5;241m.\u001b[39mcontext()\n\u001b[0;32m   1551\u001b[0m \u001b[38;5;28;01mif\u001b[39;00m cancellation_context \u001b[38;5;129;01mis\u001b[39;00m \u001b[38;5;28;01mNone\u001b[39;00m:\n\u001b[1;32m-> 1552\u001b[0m   outputs \u001b[38;5;241m=\u001b[39m \u001b[43mexecute\u001b[49m\u001b[38;5;241;43m.\u001b[39;49m\u001b[43mexecute\u001b[49m\u001b[43m(\u001b[49m\n\u001b[0;32m   1553\u001b[0m \u001b[43m      \u001b[49m\u001b[43mname\u001b[49m\u001b[38;5;241;43m.\u001b[39;49m\u001b[43mdecode\u001b[49m\u001b[43m(\u001b[49m\u001b[38;5;124;43m\"\u001b[39;49m\u001b[38;5;124;43mutf-8\u001b[39;49m\u001b[38;5;124;43m\"\u001b[39;49m\u001b[43m)\u001b[49m\u001b[43m,\u001b[49m\n\u001b[0;32m   1554\u001b[0m \u001b[43m      \u001b[49m\u001b[43mnum_outputs\u001b[49m\u001b[38;5;241;43m=\u001b[39;49m\u001b[43mnum_outputs\u001b[49m\u001b[43m,\u001b[49m\n\u001b[0;32m   1555\u001b[0m \u001b[43m      \u001b[49m\u001b[43minputs\u001b[49m\u001b[38;5;241;43m=\u001b[39;49m\u001b[43mtensor_inputs\u001b[49m\u001b[43m,\u001b[49m\n\u001b[0;32m   1556\u001b[0m \u001b[43m      \u001b[49m\u001b[43mattrs\u001b[49m\u001b[38;5;241;43m=\u001b[39;49m\u001b[43mattrs\u001b[49m\u001b[43m,\u001b[49m\n\u001b[0;32m   1557\u001b[0m \u001b[43m      \u001b[49m\u001b[43mctx\u001b[49m\u001b[38;5;241;43m=\u001b[39;49m\u001b[38;5;28;43mself\u001b[39;49m\u001b[43m,\u001b[49m\n\u001b[0;32m   1558\u001b[0m \u001b[43m  \u001b[49m\u001b[43m)\u001b[49m\n\u001b[0;32m   1559\u001b[0m \u001b[38;5;28;01melse\u001b[39;00m:\n\u001b[0;32m   1560\u001b[0m   outputs \u001b[38;5;241m=\u001b[39m execute\u001b[38;5;241m.\u001b[39mexecute_with_cancellation(\n\u001b[0;32m   1561\u001b[0m       name\u001b[38;5;241m.\u001b[39mdecode(\u001b[38;5;124m\"\u001b[39m\u001b[38;5;124mutf-8\u001b[39m\u001b[38;5;124m\"\u001b[39m),\n\u001b[0;32m   1562\u001b[0m       num_outputs\u001b[38;5;241m=\u001b[39mnum_outputs,\n\u001b[1;32m   (...)\u001b[0m\n\u001b[0;32m   1566\u001b[0m       cancellation_manager\u001b[38;5;241m=\u001b[39mcancellation_context,\n\u001b[0;32m   1567\u001b[0m   )\n",
      "File \u001b[1;32mg:\\Nitin-Programming-Btech\\ML\\nitin\\Lib\\site-packages\\tensorflow\\python\\eager\\execute.py:53\u001b[0m, in \u001b[0;36mquick_execute\u001b[1;34m(op_name, num_outputs, inputs, attrs, ctx, name)\u001b[0m\n\u001b[0;32m     51\u001b[0m \u001b[38;5;28;01mtry\u001b[39;00m:\n\u001b[0;32m     52\u001b[0m   ctx\u001b[38;5;241m.\u001b[39mensure_initialized()\n\u001b[1;32m---> 53\u001b[0m   tensors \u001b[38;5;241m=\u001b[39m \u001b[43mpywrap_tfe\u001b[49m\u001b[38;5;241;43m.\u001b[39;49m\u001b[43mTFE_Py_Execute\u001b[49m\u001b[43m(\u001b[49m\u001b[43mctx\u001b[49m\u001b[38;5;241;43m.\u001b[39;49m\u001b[43m_handle\u001b[49m\u001b[43m,\u001b[49m\u001b[43m \u001b[49m\u001b[43mdevice_name\u001b[49m\u001b[43m,\u001b[49m\u001b[43m \u001b[49m\u001b[43mop_name\u001b[49m\u001b[43m,\u001b[49m\n\u001b[0;32m     54\u001b[0m \u001b[43m                                      \u001b[49m\u001b[43minputs\u001b[49m\u001b[43m,\u001b[49m\u001b[43m \u001b[49m\u001b[43mattrs\u001b[49m\u001b[43m,\u001b[49m\u001b[43m \u001b[49m\u001b[43mnum_outputs\u001b[49m\u001b[43m)\u001b[49m\n\u001b[0;32m     55\u001b[0m \u001b[38;5;28;01mexcept\u001b[39;00m core\u001b[38;5;241m.\u001b[39m_NotOkStatusException \u001b[38;5;28;01mas\u001b[39;00m e:\n\u001b[0;32m     56\u001b[0m   \u001b[38;5;28;01mif\u001b[39;00m name \u001b[38;5;129;01mis\u001b[39;00m \u001b[38;5;129;01mnot\u001b[39;00m \u001b[38;5;28;01mNone\u001b[39;00m:\n",
      "\u001b[1;31mKeyboardInterrupt\u001b[0m: "
     ]
    }
   ],
   "source": [
    "model = Sequential([\n",
    "    Input(shape = (X_resampled_bin.shape[1], )),\n",
    "    Dense(128, activation = \"relu\"),\n",
    "    Dense(64, activation = \"relu\"),\n",
    "    Dense(1, activation = \"sigmoid\"),\n",
    "])\n",
    "model.compile(loss = \"binary_crossentropy\", optimizer = \"adam\", metrics = [\"accuracy\"])\n",
    "model.fit(X_resampled_bin, y_resampled_bin, epochs = 100, batch_size = 16)"
   ]
  },
  {
   "cell_type": "markdown",
   "metadata": {
    "id": "sR6WAkNsX3bQ"
   },
   "source": [
    "* Multiclass modelling"
   ]
  },
  {
   "cell_type": "code",
   "execution_count": null,
   "metadata": {},
   "outputs": [],
   "source": [
    "X_resampled_type = scaler.fit_transform(X_resampled_type)"
   ]
  },
  {
   "cell_type": "code",
   "execution_count": 72,
   "metadata": {},
   "outputs": [
    {
     "name": "stdout",
     "output_type": "stream",
     "text": [
      "Backdoor -> 0\n",
      "DDoS_HTTP -> 1\n",
      "DDoS_ICMP -> 2\n",
      "DDoS_TCP -> 3\n",
      "DDoS_UDP -> 4\n",
      "Fingerprinting -> 5\n",
      "MITM -> 6\n",
      "Normal -> 7\n",
      "Password -> 8\n",
      "Port_Scanning -> 9\n",
      "Ransomware -> 10\n",
      "SQL_injection -> 11\n",
      "Uploading -> 12\n",
      "Vulnerability_scanner -> 13\n",
      "XSS -> 14\n"
     ]
    }
   ],
   "source": [
    "classes = []\n",
    "label_encoder = LabelEncoder()\n",
    "for x in y_resampled_type.unique():\n",
    "  classes.append(x)\n",
    "label_encoder.fit(classes)\n",
    "y_resampled_type = label_encoder.transform(y_resampled_type)\n",
    "class_mapping = dict(zip(label_encoder.classes_, range(len(label_encoder.classes_))))\n",
    "for key, value in class_mapping.items():\n",
    "  print(key, \"->\", value)"
   ]
  },
  {
   "cell_type": "code",
   "execution_count": null,
   "metadata": {
    "colab": {
     "base_uri": "https://localhost:8080/"
    },
    "execution": {
     "iopub.execute_input": "2024-12-07T10:12:34.286428Z",
     "iopub.status.busy": "2024-12-07T10:12:34.286428Z",
     "iopub.status.idle": "2024-12-07T10:12:34.319691Z",
     "shell.execute_reply": "2024-12-07T10:12:34.319691Z",
     "shell.execute_reply.started": "2024-12-07T10:12:34.286428Z"
    },
    "id": "b9CSrTrRdBL3",
    "outputId": "036556c9-0562-4b46-81ac-231dd63b0056"
   },
   "outputs": [],
   "source": [
    "one_hot_encoded_y_type = to_categorical(y_resampled_type, num_classes = 15)"
   ]
  },
  {
   "cell_type": "code",
   "execution_count": 86,
   "metadata": {},
   "outputs": [
    {
     "data": {
      "text/plain": [
       "15"
      ]
     },
     "execution_count": 86,
     "metadata": {},
     "output_type": "execute_result"
    }
   ],
   "source": [
    "len(np.unique(y_resampled_type))"
   ]
  },
  {
   "cell_type": "code",
   "execution_count": 95,
   "metadata": {
    "colab": {
     "base_uri": "https://localhost:8080/",
     "height": 537
    },
    "execution": {
     "iopub.execute_input": "2024-12-07T10:11:29.846007Z",
     "iopub.status.busy": "2024-12-07T10:11:29.845024Z",
     "iopub.status.idle": "2024-12-07T10:11:34.305536Z",
     "shell.execute_reply": "2024-12-07T10:11:34.305536Z",
     "shell.execute_reply.started": "2024-12-07T10:11:29.846007Z"
    },
    "id": "aakGzSF1X3Qd",
    "outputId": "2fe4c26b-9d63-4c4c-d6f3-8420321dd8f1"
   },
   "outputs": [
    {
     "name": "stdout",
     "output_type": "stream",
     "text": [
      "Epoch 1/100\n",
      "\u001b[1m490/490\u001b[0m \u001b[32m━━━━━━━━━━━━━━━━━━━━\u001b[0m\u001b[37m\u001b[0m \u001b[1m2s\u001b[0m 2ms/step - accuracy: 0.3295 - loss: 1.9920\n",
      "Epoch 2/100\n",
      "\u001b[1m490/490\u001b[0m \u001b[32m━━━━━━━━━━━━━━━━━━━━\u001b[0m\u001b[37m\u001b[0m \u001b[1m1s\u001b[0m 2ms/step - accuracy: 0.4271 - loss: 1.6177\n",
      "Epoch 3/100\n",
      "\u001b[1m490/490\u001b[0m \u001b[32m━━━━━━━━━━━━━━━━━━━━\u001b[0m\u001b[37m\u001b[0m \u001b[1m2s\u001b[0m 3ms/step - accuracy: 0.4413 - loss: 1.5557\n",
      "Epoch 4/100\n",
      "\u001b[1m490/490\u001b[0m \u001b[32m━━━━━━━━━━━━━━━━━━━━\u001b[0m\u001b[37m\u001b[0m \u001b[1m1s\u001b[0m 2ms/step - accuracy: 0.4440 - loss: 1.5285\n",
      "Epoch 5/100\n",
      "\u001b[1m490/490\u001b[0m \u001b[32m━━━━━━━━━━━━━━━━━━━━\u001b[0m\u001b[37m\u001b[0m \u001b[1m1s\u001b[0m 2ms/step - accuracy: 0.4554 - loss: 1.5081\n",
      "Epoch 6/100\n",
      "\u001b[1m490/490\u001b[0m \u001b[32m━━━━━━━━━━━━━━━━━━━━\u001b[0m\u001b[37m\u001b[0m \u001b[1m1s\u001b[0m 2ms/step - accuracy: 0.4525 - loss: 1.5095\n",
      "Epoch 7/100\n",
      "\u001b[1m490/490\u001b[0m \u001b[32m━━━━━━━━━━━━━━━━━━━━\u001b[0m\u001b[37m\u001b[0m \u001b[1m1s\u001b[0m 2ms/step - accuracy: 0.4610 - loss: 1.4794\n",
      "Epoch 8/100\n",
      "\u001b[1m490/490\u001b[0m \u001b[32m━━━━━━━━━━━━━━━━━━━━\u001b[0m\u001b[37m\u001b[0m \u001b[1m1s\u001b[0m 2ms/step - accuracy: 0.4578 - loss: 1.4841\n",
      "Epoch 9/100\n",
      "\u001b[1m490/490\u001b[0m \u001b[32m━━━━━━━━━━━━━━━━━━━━\u001b[0m\u001b[37m\u001b[0m \u001b[1m1s\u001b[0m 3ms/step - accuracy: 0.4656 - loss: 1.4684\n",
      "Epoch 10/100\n",
      "\u001b[1m490/490\u001b[0m \u001b[32m━━━━━━━━━━━━━━━━━━━━\u001b[0m\u001b[37m\u001b[0m \u001b[1m1s\u001b[0m 2ms/step - accuracy: 0.4614 - loss: 1.4661\n",
      "Epoch 11/100\n",
      "\u001b[1m490/490\u001b[0m \u001b[32m━━━━━━━━━━━━━━━━━━━━\u001b[0m\u001b[37m\u001b[0m \u001b[1m1s\u001b[0m 2ms/step - accuracy: 0.4594 - loss: 1.4685\n",
      "Epoch 12/100\n",
      "\u001b[1m490/490\u001b[0m \u001b[32m━━━━━━━━━━━━━━━━━━━━\u001b[0m\u001b[37m\u001b[0m \u001b[1m1s\u001b[0m 2ms/step - accuracy: 0.4673 - loss: 1.4540\n",
      "Epoch 13/100\n",
      "\u001b[1m490/490\u001b[0m \u001b[32m━━━━━━━━━━━━━━━━━━━━\u001b[0m\u001b[37m\u001b[0m \u001b[1m2s\u001b[0m 4ms/step - accuracy: 0.4717 - loss: 1.4485\n",
      "Epoch 14/100\n",
      "\u001b[1m490/490\u001b[0m \u001b[32m━━━━━━━━━━━━━━━━━━━━\u001b[0m\u001b[37m\u001b[0m \u001b[1m1s\u001b[0m 2ms/step - accuracy: 0.4645 - loss: 1.4581\n",
      "Epoch 15/100\n",
      "\u001b[1m490/490\u001b[0m \u001b[32m━━━━━━━━━━━━━━━━━━━━\u001b[0m\u001b[37m\u001b[0m \u001b[1m1s\u001b[0m 2ms/step - accuracy: 0.4733 - loss: 1.4397\n",
      "Epoch 16/100\n",
      "\u001b[1m490/490\u001b[0m \u001b[32m━━━━━━━━━━━━━━━━━━━━\u001b[0m\u001b[37m\u001b[0m \u001b[1m1s\u001b[0m 2ms/step - accuracy: 0.4827 - loss: 1.4230\n",
      "Epoch 17/100\n",
      "\u001b[1m490/490\u001b[0m \u001b[32m━━━━━━━━━━━━━━━━━━━━\u001b[0m\u001b[37m\u001b[0m \u001b[1m1s\u001b[0m 2ms/step - accuracy: 0.4750 - loss: 1.4386\n",
      "Epoch 18/100\n",
      "\u001b[1m490/490\u001b[0m \u001b[32m━━━━━━━━━━━━━━━━━━━━\u001b[0m\u001b[37m\u001b[0m \u001b[1m1s\u001b[0m 3ms/step - accuracy: 0.4742 - loss: 1.4438\n",
      "Epoch 19/100\n",
      "\u001b[1m490/490\u001b[0m \u001b[32m━━━━━━━━━━━━━━━━━━━━\u001b[0m\u001b[37m\u001b[0m \u001b[1m1s\u001b[0m 2ms/step - accuracy: 0.4755 - loss: 1.4465\n",
      "Epoch 20/100\n",
      "\u001b[1m490/490\u001b[0m \u001b[32m━━━━━━━━━━━━━━━━━━━━\u001b[0m\u001b[37m\u001b[0m \u001b[1m1s\u001b[0m 3ms/step - accuracy: 0.4835 - loss: 1.4260\n",
      "Epoch 21/100\n",
      "\u001b[1m490/490\u001b[0m \u001b[32m━━━━━━━━━━━━━━━━━━━━\u001b[0m\u001b[37m\u001b[0m \u001b[1m1s\u001b[0m 2ms/step - accuracy: 0.4782 - loss: 1.4320\n",
      "Epoch 22/100\n",
      "\u001b[1m490/490\u001b[0m \u001b[32m━━━━━━━━━━━━━━━━━━━━\u001b[0m\u001b[37m\u001b[0m \u001b[1m1s\u001b[0m 2ms/step - accuracy: 0.4897 - loss: 1.4209\n",
      "Epoch 23/100\n",
      "\u001b[1m490/490\u001b[0m \u001b[32m━━━━━━━━━━━━━━━━━━━━\u001b[0m\u001b[37m\u001b[0m \u001b[1m1s\u001b[0m 2ms/step - accuracy: 0.4862 - loss: 1.4202\n",
      "Epoch 24/100\n",
      "\u001b[1m490/490\u001b[0m \u001b[32m━━━━━━━━━━━━━━━━━━━━\u001b[0m\u001b[37m\u001b[0m \u001b[1m1s\u001b[0m 2ms/step - accuracy: 0.4939 - loss: 1.4079\n",
      "Epoch 25/100\n",
      "\u001b[1m490/490\u001b[0m \u001b[32m━━━━━━━━━━━━━━━━━━━━\u001b[0m\u001b[37m\u001b[0m \u001b[1m1s\u001b[0m 3ms/step - accuracy: 0.4895 - loss: 1.4239\n",
      "Epoch 26/100\n",
      "\u001b[1m490/490\u001b[0m \u001b[32m━━━━━━━━━━━━━━━━━━━━\u001b[0m\u001b[37m\u001b[0m \u001b[1m1s\u001b[0m 3ms/step - accuracy: 0.4933 - loss: 1.4142\n",
      "Epoch 27/100\n",
      "\u001b[1m490/490\u001b[0m \u001b[32m━━━━━━━━━━━━━━━━━━━━\u001b[0m\u001b[37m\u001b[0m \u001b[1m1s\u001b[0m 3ms/step - accuracy: 0.4933 - loss: 1.4159\n",
      "Epoch 28/100\n",
      "\u001b[1m490/490\u001b[0m \u001b[32m━━━━━━━━━━━━━━━━━━━━\u001b[0m\u001b[37m\u001b[0m \u001b[1m1s\u001b[0m 3ms/step - accuracy: 0.4947 - loss: 1.4119\n",
      "Epoch 29/100\n",
      "\u001b[1m490/490\u001b[0m \u001b[32m━━━━━━━━━━━━━━━━━━━━\u001b[0m\u001b[37m\u001b[0m \u001b[1m1s\u001b[0m 3ms/step - accuracy: 0.4963 - loss: 1.4072\n",
      "Epoch 30/100\n",
      "\u001b[1m490/490\u001b[0m \u001b[32m━━━━━━━━━━━━━━━━━━━━\u001b[0m\u001b[37m\u001b[0m \u001b[1m2s\u001b[0m 3ms/step - accuracy: 0.4975 - loss: 1.4077\n",
      "Epoch 31/100\n",
      "\u001b[1m490/490\u001b[0m \u001b[32m━━━━━━━━━━━━━━━━━━━━\u001b[0m\u001b[37m\u001b[0m \u001b[1m1s\u001b[0m 3ms/step - accuracy: 0.4998 - loss: 1.3966\n",
      "Epoch 32/100\n",
      "\u001b[1m490/490\u001b[0m \u001b[32m━━━━━━━━━━━━━━━━━━━━\u001b[0m\u001b[37m\u001b[0m \u001b[1m1s\u001b[0m 2ms/step - accuracy: 0.4937 - loss: 1.4065\n",
      "Epoch 33/100\n",
      "\u001b[1m490/490\u001b[0m \u001b[32m━━━━━━━━━━━━━━━━━━━━\u001b[0m\u001b[37m\u001b[0m \u001b[1m1s\u001b[0m 2ms/step - accuracy: 0.5056 - loss: 1.3774\n",
      "Epoch 34/100\n",
      "\u001b[1m490/490\u001b[0m \u001b[32m━━━━━━━━━━━━━━━━━━━━\u001b[0m\u001b[37m\u001b[0m \u001b[1m1s\u001b[0m 2ms/step - accuracy: 0.5032 - loss: 1.3887\n",
      "Epoch 35/100\n",
      "\u001b[1m490/490\u001b[0m \u001b[32m━━━━━━━━━━━━━━━━━━━━\u001b[0m\u001b[37m\u001b[0m \u001b[1m1s\u001b[0m 2ms/step - accuracy: 0.5010 - loss: 1.3889\n",
      "Epoch 36/100\n",
      "\u001b[1m490/490\u001b[0m \u001b[32m━━━━━━━━━━━━━━━━━━━━\u001b[0m\u001b[37m\u001b[0m \u001b[1m1s\u001b[0m 2ms/step - accuracy: 0.5002 - loss: 1.4073\n",
      "Epoch 37/100\n",
      "\u001b[1m490/490\u001b[0m \u001b[32m━━━━━━━━━━━━━━━━━━━━\u001b[0m\u001b[37m\u001b[0m \u001b[1m1s\u001b[0m 2ms/step - accuracy: 0.4932 - loss: 1.4061\n",
      "Epoch 38/100\n",
      "\u001b[1m490/490\u001b[0m \u001b[32m━━━━━━━━━━━━━━━━━━━━\u001b[0m\u001b[37m\u001b[0m \u001b[1m1s\u001b[0m 3ms/step - accuracy: 0.5029 - loss: 1.3741\n",
      "Epoch 39/100\n",
      "\u001b[1m490/490\u001b[0m \u001b[32m━━━━━━━━━━━━━━━━━━━━\u001b[0m\u001b[37m\u001b[0m \u001b[1m1s\u001b[0m 2ms/step - accuracy: 0.5037 - loss: 1.3946\n",
      "Epoch 40/100\n",
      "\u001b[1m490/490\u001b[0m \u001b[32m━━━━━━━━━━━━━━━━━━━━\u001b[0m\u001b[37m\u001b[0m \u001b[1m1s\u001b[0m 3ms/step - accuracy: 0.5031 - loss: 1.3817\n",
      "Epoch 41/100\n",
      "\u001b[1m490/490\u001b[0m \u001b[32m━━━━━━━━━━━━━━━━━━━━\u001b[0m\u001b[37m\u001b[0m \u001b[1m2s\u001b[0m 3ms/step - accuracy: 0.5070 - loss: 1.3717\n",
      "Epoch 42/100\n",
      "\u001b[1m490/490\u001b[0m \u001b[32m━━━━━━━━━━━━━━━━━━━━\u001b[0m\u001b[37m\u001b[0m \u001b[1m2s\u001b[0m 3ms/step - accuracy: 0.5086 - loss: 1.3662\n",
      "Epoch 43/100\n",
      "\u001b[1m490/490\u001b[0m \u001b[32m━━━━━━━━━━━━━━━━━━━━\u001b[0m\u001b[37m\u001b[0m \u001b[1m2s\u001b[0m 3ms/step - accuracy: 0.5047 - loss: 1.3754\n",
      "Epoch 44/100\n",
      "\u001b[1m490/490\u001b[0m \u001b[32m━━━━━━━━━━━━━━━━━━━━\u001b[0m\u001b[37m\u001b[0m \u001b[1m2s\u001b[0m 3ms/step - accuracy: 0.5051 - loss: 1.3741\n",
      "Epoch 45/100\n",
      "\u001b[1m490/490\u001b[0m \u001b[32m━━━━━━━━━━━━━━━━━━━━\u001b[0m\u001b[37m\u001b[0m \u001b[1m2s\u001b[0m 3ms/step - accuracy: 0.5070 - loss: 1.3702\n",
      "Epoch 46/100\n",
      "\u001b[1m490/490\u001b[0m \u001b[32m━━━━━━━━━━━━━━━━━━━━\u001b[0m\u001b[37m\u001b[0m \u001b[1m1s\u001b[0m 3ms/step - accuracy: 0.5131 - loss: 1.3662\n",
      "Epoch 47/100\n",
      "\u001b[1m490/490\u001b[0m \u001b[32m━━━━━━━━━━━━━━━━━━━━\u001b[0m\u001b[37m\u001b[0m \u001b[1m1s\u001b[0m 3ms/step - accuracy: 0.5137 - loss: 1.3633\n",
      "Epoch 48/100\n",
      "\u001b[1m490/490\u001b[0m \u001b[32m━━━━━━━━━━━━━━━━━━━━\u001b[0m\u001b[37m\u001b[0m \u001b[1m1s\u001b[0m 3ms/step - accuracy: 0.5033 - loss: 1.3865\n",
      "Epoch 49/100\n",
      "\u001b[1m490/490\u001b[0m \u001b[32m━━━━━━━━━━━━━━━━━━━━\u001b[0m\u001b[37m\u001b[0m \u001b[1m1s\u001b[0m 3ms/step - accuracy: 0.5083 - loss: 1.3700\n",
      "Epoch 50/100\n",
      "\u001b[1m490/490\u001b[0m \u001b[32m━━━━━━━━━━━━━━━━━━━━\u001b[0m\u001b[37m\u001b[0m \u001b[1m1s\u001b[0m 3ms/step - accuracy: 0.5027 - loss: 1.3822\n",
      "Epoch 51/100\n",
      "\u001b[1m490/490\u001b[0m \u001b[32m━━━━━━━━━━━━━━━━━━━━\u001b[0m\u001b[37m\u001b[0m \u001b[1m1s\u001b[0m 3ms/step - accuracy: 0.5067 - loss: 1.3712\n",
      "Epoch 52/100\n",
      "\u001b[1m490/490\u001b[0m \u001b[32m━━━━━━━━━━━━━━━━━━━━\u001b[0m\u001b[37m\u001b[0m \u001b[1m1s\u001b[0m 3ms/step - accuracy: 0.5027 - loss: 1.3852\n",
      "Epoch 53/100\n",
      "\u001b[1m490/490\u001b[0m \u001b[32m━━━━━━━━━━━━━━━━━━━━\u001b[0m\u001b[37m\u001b[0m \u001b[1m1s\u001b[0m 3ms/step - accuracy: 0.5111 - loss: 1.3710\n",
      "Epoch 54/100\n",
      "\u001b[1m490/490\u001b[0m \u001b[32m━━━━━━━━━━━━━━━━━━━━\u001b[0m\u001b[37m\u001b[0m \u001b[1m1s\u001b[0m 3ms/step - accuracy: 0.5028 - loss: 1.3663\n",
      "Epoch 55/100\n",
      "\u001b[1m490/490\u001b[0m \u001b[32m━━━━━━━━━━━━━━━━━━━━\u001b[0m\u001b[37m\u001b[0m \u001b[1m1s\u001b[0m 3ms/step - accuracy: 0.5148 - loss: 1.3546\n",
      "Epoch 56/100\n",
      "\u001b[1m490/490\u001b[0m \u001b[32m━━━━━━━━━━━━━━━━━━━━\u001b[0m\u001b[37m\u001b[0m \u001b[1m1s\u001b[0m 3ms/step - accuracy: 0.5188 - loss: 1.3492\n",
      "Epoch 57/100\n",
      "\u001b[1m490/490\u001b[0m \u001b[32m━━━━━━━━━━━━━━━━━━━━\u001b[0m\u001b[37m\u001b[0m \u001b[1m2s\u001b[0m 3ms/step - accuracy: 0.5171 - loss: 1.3373\n",
      "Epoch 58/100\n",
      "\u001b[1m490/490\u001b[0m \u001b[32m━━━━━━━━━━━━━━━━━━━━\u001b[0m\u001b[37m\u001b[0m \u001b[1m1s\u001b[0m 3ms/step - accuracy: 0.5182 - loss: 1.3503\n",
      "Epoch 59/100\n",
      "\u001b[1m490/490\u001b[0m \u001b[32m━━━━━━━━━━━━━━━━━━━━\u001b[0m\u001b[37m\u001b[0m \u001b[1m1s\u001b[0m 3ms/step - accuracy: 0.5189 - loss: 1.3430\n",
      "Epoch 60/100\n",
      "\u001b[1m490/490\u001b[0m \u001b[32m━━━━━━━━━━━━━━━━━━━━\u001b[0m\u001b[37m\u001b[0m \u001b[1m1s\u001b[0m 2ms/step - accuracy: 0.5205 - loss: 1.3554\n",
      "Epoch 61/100\n",
      "\u001b[1m490/490\u001b[0m \u001b[32m━━━━━━━━━━━━━━━━━━━━\u001b[0m\u001b[37m\u001b[0m \u001b[1m1s\u001b[0m 2ms/step - accuracy: 0.5253 - loss: 1.3510\n",
      "Epoch 62/100\n",
      "\u001b[1m490/490\u001b[0m \u001b[32m━━━━━━━━━━━━━━━━━━━━\u001b[0m\u001b[37m\u001b[0m \u001b[1m1s\u001b[0m 2ms/step - accuracy: 0.5221 - loss: 1.3509\n",
      "Epoch 63/100\n",
      "\u001b[1m490/490\u001b[0m \u001b[32m━━━━━━━━━━━━━━━━━━━━\u001b[0m\u001b[37m\u001b[0m \u001b[1m1s\u001b[0m 2ms/step - accuracy: 0.5282 - loss: 1.3282\n",
      "Epoch 64/100\n",
      "\u001b[1m490/490\u001b[0m \u001b[32m━━━━━━━━━━━━━━━━━━━━\u001b[0m\u001b[37m\u001b[0m \u001b[1m1s\u001b[0m 2ms/step - accuracy: 0.5256 - loss: 1.3340\n",
      "Epoch 65/100\n",
      "\u001b[1m490/490\u001b[0m \u001b[32m━━━━━━━━━━━━━━━━━━━━\u001b[0m\u001b[37m\u001b[0m \u001b[1m1s\u001b[0m 2ms/step - accuracy: 0.5439 - loss: 1.3057\n",
      "Epoch 66/100\n",
      "\u001b[1m490/490\u001b[0m \u001b[32m━━━━━━━━━━━━━━━━━━━━\u001b[0m\u001b[37m\u001b[0m \u001b[1m1s\u001b[0m 2ms/step - accuracy: 0.5324 - loss: 1.3142\n",
      "Epoch 67/100\n",
      "\u001b[1m490/490\u001b[0m \u001b[32m━━━━━━━━━━━━━━━━━━━━\u001b[0m\u001b[37m\u001b[0m \u001b[1m1s\u001b[0m 2ms/step - accuracy: 0.5383 - loss: 1.3128\n",
      "Epoch 68/100\n",
      "\u001b[1m490/490\u001b[0m \u001b[32m━━━━━━━━━━━━━━━━━━━━\u001b[0m\u001b[37m\u001b[0m \u001b[1m1s\u001b[0m 2ms/step - accuracy: 0.5279 - loss: 1.3259\n",
      "Epoch 69/100\n",
      "\u001b[1m490/490\u001b[0m \u001b[32m━━━━━━━━━━━━━━━━━━━━\u001b[0m\u001b[37m\u001b[0m \u001b[1m1s\u001b[0m 2ms/step - accuracy: 0.5375 - loss: 1.2996\n",
      "Epoch 70/100\n",
      "\u001b[1m490/490\u001b[0m \u001b[32m━━━━━━━━━━━━━━━━━━━━\u001b[0m\u001b[37m\u001b[0m \u001b[1m1s\u001b[0m 2ms/step - accuracy: 0.5405 - loss: 1.2966\n",
      "Epoch 71/100\n",
      "\u001b[1m490/490\u001b[0m \u001b[32m━━━━━━━━━━━━━━━━━━━━\u001b[0m\u001b[37m\u001b[0m \u001b[1m1s\u001b[0m 2ms/step - accuracy: 0.5367 - loss: 1.3036\n",
      "Epoch 72/100\n",
      "\u001b[1m490/490\u001b[0m \u001b[32m━━━━━━━━━━━━━━━━━━━━\u001b[0m\u001b[37m\u001b[0m \u001b[1m1s\u001b[0m 2ms/step - accuracy: 0.5372 - loss: 1.3043\n",
      "Epoch 73/100\n",
      "\u001b[1m490/490\u001b[0m \u001b[32m━━━━━━━━━━━━━━━━━━━━\u001b[0m\u001b[37m\u001b[0m \u001b[1m1s\u001b[0m 2ms/step - accuracy: 0.5418 - loss: 1.2948\n",
      "Epoch 74/100\n",
      "\u001b[1m490/490\u001b[0m \u001b[32m━━━━━━━━━━━━━━━━━━━━\u001b[0m\u001b[37m\u001b[0m \u001b[1m1s\u001b[0m 2ms/step - accuracy: 0.5317 - loss: 1.3101\n",
      "Epoch 75/100\n",
      "\u001b[1m490/490\u001b[0m \u001b[32m━━━━━━━━━━━━━━━━━━━━\u001b[0m\u001b[37m\u001b[0m \u001b[1m1s\u001b[0m 2ms/step - accuracy: 0.5342 - loss: 1.3063\n",
      "Epoch 76/100\n",
      "\u001b[1m490/490\u001b[0m \u001b[32m━━━━━━━━━━━━━━━━━━━━\u001b[0m\u001b[37m\u001b[0m \u001b[1m1s\u001b[0m 2ms/step - accuracy: 0.5369 - loss: 1.2963\n",
      "Epoch 77/100\n",
      "\u001b[1m490/490\u001b[0m \u001b[32m━━━━━━━━━━━━━━━━━━━━\u001b[0m\u001b[37m\u001b[0m \u001b[1m1s\u001b[0m 2ms/step - accuracy: 0.5347 - loss: 1.3009\n",
      "Epoch 78/100\n",
      "\u001b[1m490/490\u001b[0m \u001b[32m━━━━━━━━━━━━━━━━━━━━\u001b[0m\u001b[37m\u001b[0m \u001b[1m1s\u001b[0m 2ms/step - accuracy: 0.5465 - loss: 1.2801\n",
      "Epoch 79/100\n",
      "\u001b[1m490/490\u001b[0m \u001b[32m━━━━━━━━━━━━━━━━━━━━\u001b[0m\u001b[37m\u001b[0m \u001b[1m1s\u001b[0m 2ms/step - accuracy: 0.5471 - loss: 1.2733\n",
      "Epoch 80/100\n",
      "\u001b[1m490/490\u001b[0m \u001b[32m━━━━━━━━━━━━━━━━━━━━\u001b[0m\u001b[37m\u001b[0m \u001b[1m1s\u001b[0m 2ms/step - accuracy: 0.5457 - loss: 1.2744\n",
      "Epoch 81/100\n",
      "\u001b[1m490/490\u001b[0m \u001b[32m━━━━━━━━━━━━━━━━━━━━\u001b[0m\u001b[37m\u001b[0m \u001b[1m1s\u001b[0m 2ms/step - accuracy: 0.5415 - loss: 1.2819\n",
      "Epoch 82/100\n",
      "\u001b[1m490/490\u001b[0m \u001b[32m━━━━━━━━━━━━━━━━━━━━\u001b[0m\u001b[37m\u001b[0m \u001b[1m1s\u001b[0m 2ms/step - accuracy: 0.5332 - loss: 1.3124\n",
      "Epoch 83/100\n",
      "\u001b[1m490/490\u001b[0m \u001b[32m━━━━━━━━━━━━━━━━━━━━\u001b[0m\u001b[37m\u001b[0m \u001b[1m1s\u001b[0m 2ms/step - accuracy: 0.5462 - loss: 1.2787\n",
      "Epoch 84/100\n",
      "\u001b[1m490/490\u001b[0m \u001b[32m━━━━━━━━━━━━━━━━━━━━\u001b[0m\u001b[37m\u001b[0m \u001b[1m1s\u001b[0m 2ms/step - accuracy: 0.5322 - loss: 1.3047\n",
      "Epoch 85/100\n",
      "\u001b[1m490/490\u001b[0m \u001b[32m━━━━━━━━━━━━━━━━━━━━\u001b[0m\u001b[37m\u001b[0m \u001b[1m1s\u001b[0m 2ms/step - accuracy: 0.5506 - loss: 1.2667\n",
      "Epoch 86/100\n",
      "\u001b[1m490/490\u001b[0m \u001b[32m━━━━━━━━━━━━━━━━━━━━\u001b[0m\u001b[37m\u001b[0m \u001b[1m1s\u001b[0m 2ms/step - accuracy: 0.5342 - loss: 1.2949\n",
      "Epoch 87/100\n",
      "\u001b[1m490/490\u001b[0m \u001b[32m━━━━━━━━━━━━━━━━━━━━\u001b[0m\u001b[37m\u001b[0m \u001b[1m1s\u001b[0m 2ms/step - accuracy: 0.5392 - loss: 1.2865\n",
      "Epoch 88/100\n",
      "\u001b[1m490/490\u001b[0m \u001b[32m━━━━━━━━━━━━━━━━━━━━\u001b[0m\u001b[37m\u001b[0m \u001b[1m1s\u001b[0m 2ms/step - accuracy: 0.5488 - loss: 1.2755\n",
      "Epoch 89/100\n",
      "\u001b[1m490/490\u001b[0m \u001b[32m━━━━━━━━━━━━━━━━━━━━\u001b[0m\u001b[37m\u001b[0m \u001b[1m1s\u001b[0m 2ms/step - accuracy: 0.5447 - loss: 1.2805\n",
      "Epoch 90/100\n",
      "\u001b[1m490/490\u001b[0m \u001b[32m━━━━━━━━━━━━━━━━━━━━\u001b[0m\u001b[37m\u001b[0m \u001b[1m1s\u001b[0m 2ms/step - accuracy: 0.5401 - loss: 1.2848\n",
      "Epoch 91/100\n",
      "\u001b[1m490/490\u001b[0m \u001b[32m━━━━━━━━━━━━━━━━━━━━\u001b[0m\u001b[37m\u001b[0m \u001b[1m1s\u001b[0m 2ms/step - accuracy: 0.5380 - loss: 1.2770\n",
      "Epoch 92/100\n",
      "\u001b[1m490/490\u001b[0m \u001b[32m━━━━━━━━━━━━━━━━━━━━\u001b[0m\u001b[37m\u001b[0m \u001b[1m1s\u001b[0m 2ms/step - accuracy: 0.5466 - loss: 1.2658\n",
      "Epoch 93/100\n",
      "\u001b[1m490/490\u001b[0m \u001b[32m━━━━━━━━━━━━━━━━━━━━\u001b[0m\u001b[37m\u001b[0m \u001b[1m1s\u001b[0m 2ms/step - accuracy: 0.5558 - loss: 1.2562\n",
      "Epoch 94/100\n",
      "\u001b[1m490/490\u001b[0m \u001b[32m━━━━━━━━━━━━━━━━━━━━\u001b[0m\u001b[37m\u001b[0m \u001b[1m1s\u001b[0m 2ms/step - accuracy: 0.5479 - loss: 1.2595\n",
      "Epoch 95/100\n",
      "\u001b[1m490/490\u001b[0m \u001b[32m━━━━━━━━━━━━━━━━━━━━\u001b[0m\u001b[37m\u001b[0m \u001b[1m1s\u001b[0m 2ms/step - accuracy: 0.5414 - loss: 1.2693\n",
      "Epoch 96/100\n",
      "\u001b[1m490/490\u001b[0m \u001b[32m━━━━━━━━━━━━━━━━━━━━\u001b[0m\u001b[37m\u001b[0m \u001b[1m1s\u001b[0m 2ms/step - accuracy: 0.5495 - loss: 1.2595\n",
      "Epoch 97/100\n",
      "\u001b[1m490/490\u001b[0m \u001b[32m━━━━━━━━━━━━━━━━━━━━\u001b[0m\u001b[37m\u001b[0m \u001b[1m1s\u001b[0m 2ms/step - accuracy: 0.5454 - loss: 1.2744\n",
      "Epoch 98/100\n",
      "\u001b[1m490/490\u001b[0m \u001b[32m━━━━━━━━━━━━━━━━━━━━\u001b[0m\u001b[37m\u001b[0m \u001b[1m1s\u001b[0m 2ms/step - accuracy: 0.5513 - loss: 1.2529\n",
      "Epoch 99/100\n",
      "\u001b[1m490/490\u001b[0m \u001b[32m━━━━━━━━━━━━━━━━━━━━\u001b[0m\u001b[37m\u001b[0m \u001b[1m1s\u001b[0m 2ms/step - accuracy: 0.5411 - loss: 1.2684\n",
      "Epoch 100/100\n",
      "\u001b[1m490/490\u001b[0m \u001b[32m━━━━━━━━━━━━━━━━━━━━\u001b[0m\u001b[37m\u001b[0m \u001b[1m1s\u001b[0m 2ms/step - accuracy: 0.5484 - loss: 1.2615\n"
     ]
    },
    {
     "data": {
      "text/plain": [
       "<keras.src.callbacks.history.History at 0x2b2ca10b2c0>"
      ]
     },
     "execution_count": 95,
     "metadata": {},
     "output_type": "execute_result"
    }
   ],
   "source": [
    "model = Sequential([\n",
    "    Input(shape = (X_resampled_type.shape[1], )),\n",
    "    Dense(128, activation = \"relu\"),\n",
    "    Dense(64, activation = \"relu\"),\n",
    "    Dense(15, activation = \"softmax\"),\n",
    "])\n",
    "model.compile(loss = \"categorical_crossentropy\", optimizer = \"adam\", metrics = [\"accuracy\"])\n",
    "model.fit(X_resampled_type, one_hot_encoded_y_type , epochs = 100, batch_size = 32)"
   ]
  }
 ],
 "metadata": {
  "colab": {
   "provenance": []
  },
  "kernelspec": {
   "display_name": "nitin",
   "language": "python",
   "name": "python3"
  },
  "language_info": {
   "codemirror_mode": {
    "name": "ipython",
    "version": 3
   },
   "file_extension": ".py",
   "mimetype": "text/x-python",
   "name": "python",
   "nbconvert_exporter": "python",
   "pygments_lexer": "ipython3",
   "version": "3.12.7"
  }
 },
 "nbformat": 4,
 "nbformat_minor": 4
}
