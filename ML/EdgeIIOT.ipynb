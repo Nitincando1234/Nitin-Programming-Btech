{
 "cells": [
  {
   "cell_type": "code",
   "execution_count": 1,
   "metadata": {
    "colab": {
     "base_uri": "https://localhost:8080/"
    },
    "id": "gwDCyQkN8C8I",
    "outputId": "4bef35a7-db4e-402b-e484-19280b99994f"
   },
   "outputs": [
    {
     "name": "stdout",
     "output_type": "stream",
     "text": [
      "selected dataset: ML-EdgeIIoT-dataset.csv\n"
     ]
    }
   ],
   "source": [
    "print(\"selected dataset: ML-EdgeIIoT-dataset.csv\")\n",
    "import pandas as pd\n",
    "import numpy as np\n",
    "import matplotlib.pyplot as plt\n",
    "import seaborn as sns"
   ]
  },
  {
   "cell_type": "code",
   "execution_count": 2,
   "metadata": {
    "colab": {
     "base_uri": "https://localhost:8080/"
    },
    "id": "NCjRk2Shlprf",
    "outputId": "d9c69d6e-7f3e-4f4e-b2a2-e819e224c6d2"
   },
   "outputs": [
    {
     "ename": "ModuleNotFoundError",
     "evalue": "No module named 'google.colab'",
     "output_type": "error",
     "traceback": [
      "\u001b[1;31m---------------------------------------------------------------------------\u001b[0m",
      "\u001b[1;31mModuleNotFoundError\u001b[0m                       Traceback (most recent call last)",
      "Cell \u001b[1;32mIn[2], line 1\u001b[0m\n\u001b[1;32m----> 1\u001b[0m \u001b[38;5;28;01mfrom\u001b[39;00m \u001b[38;5;21;01mgoogle\u001b[39;00m\u001b[38;5;21;01m.\u001b[39;00m\u001b[38;5;21;01mcolab\u001b[39;00m \u001b[38;5;28;01mimport\u001b[39;00m drive\n\u001b[0;32m      2\u001b[0m drive\u001b[38;5;241m.\u001b[39mmount(\u001b[38;5;124m'\u001b[39m\u001b[38;5;124m/content/drive\u001b[39m\u001b[38;5;124m'\u001b[39m)\n",
      "\u001b[1;31mModuleNotFoundError\u001b[0m: No module named 'google.colab'"
     ]
    }
   ],
   "source": [
    "from google.colab import drive\n",
    "drive.mount('/content/drive')"
   ]
  },
  {
   "cell_type": "code",
   "execution_count": null,
   "metadata": {
    "colab": {
     "base_uri": "https://localhost:8080/",
     "height": 255
    },
    "id": "YIOloZFF8M8w",
    "outputId": "18228048-c5cf-405c-ccdd-e382ee0a3f0f"
   },
   "outputs": [],
   "source": [
    "df = pd.read_csv(\"/content/drive/MyDrive/ML-EdgeIIoT-dataset (1).csv\", low_memory = False)\n",
    "df.head()"
   ]
  },
  {
   "cell_type": "code",
   "execution_count": null,
   "metadata": {
    "colab": {
     "base_uri": "https://localhost:8080/"
    },
    "id": "vPE1Z80HoPUV",
    "outputId": "56e555b1-fff8-44b7-e938-e79d13f6846f"
   },
   "outputs": [],
   "source": [
    "print(df[\"ip.src_host\"])"
   ]
  },
  {
   "cell_type": "code",
   "execution_count": null,
   "metadata": {
    "colab": {
     "base_uri": "https://localhost:8080/",
     "height": 458
    },
    "id": "wuDus1OeorJG",
    "outputId": "53b16bfd-7085-42a6-b760-e4062eddc378"
   },
   "outputs": [],
   "source": [
    "# Checking the invalid ipaddresses\n",
    "import ipaddress\n",
    "def inval_ip(ip_address):\n",
    "  # if ip_address == \"0.0\": ip_address = \"0.0.0.0\"\n",
    "  try :\n",
    "    if int(ipaddress.IPv4Address(ip_address)):\n",
    "      return True\n",
    "    return False\n",
    "  except:\n",
    "    return False\n",
    "df[\"ip.src_check\"] = df[\"ip.src_host\"]\n",
    "df[\"ip.src_check\"].apply(inval_ip)"
   ]
  },
  {
   "cell_type": "code",
   "execution_count": null,
   "metadata": {
    "colab": {
     "base_uri": "https://localhost:8080/",
     "height": 458
    },
    "id": "vuueAR83lOGQ",
    "outputId": "27066503-5479-4a5a-c335-86b946e00cb2"
   },
   "outputs": [],
   "source": [
    "# Converting the ip.src_host to int\n",
    "\n",
    "def ip_to_int(ip_address):\n",
    "  # if ip_address == \"0.0\": ip_address = \"0.0.0.0\"\n",
    "  try:\n",
    "    return int(ipaddress.IPv4Address(ip_address))\n",
    "  except:\n",
    "    return 0\n",
    "\n",
    "df[\"ip.src_host\"] = df[\"ip.src_host\"].apply(ip_to_int)\n",
    "df[\"ip.src_host\"]"
   ]
  },
  {
   "cell_type": "code",
   "execution_count": null,
   "metadata": {
    "id": "0FALW6-7lPo8"
   },
   "outputs": [],
   "source": [
    "df[\"ip.dst_host\"] = df[\"ip.dst_host\"].apply(ip_to_int)\n",
    "df[\"ip.dst_host\"]"
   ]
  },
  {
   "cell_type": "code",
   "execution_count": null,
   "metadata": {
    "id": "HmYdO2cZlPo8"
   },
   "outputs": [],
   "source": [
    "zeros = 0\n",
    "for row in df[\"ip.dst_host\"]:\n",
    "    if row == 0: zeros += 1\n",
    "print(zeros)"
   ]
  },
  {
   "cell_type": "code",
   "execution_count": null,
   "metadata": {
    "id": "QK0cEwxRjKDe"
   },
   "outputs": [],
   "source": [
    "df[\"ip.src_host\"].nunique()"
   ]
  },
  {
   "cell_type": "code",
   "execution_count": null,
   "metadata": {
    "id": "cwaljO9Eh-8u"
   },
   "outputs": [],
   "source": [
    "df_labels_based = df.drop(\"Attack_label\", axis = 1)\n",
    "df_type_based = df.drop(\"Attack_type\", axis = 1)"
   ]
  },
  {
   "cell_type": "code",
   "execution_count": null,
   "metadata": {
    "id": "SxzvAccQiWQ6"
   },
   "outputs": [],
   "source": [
    "print(df_labels_based)\n",
    "print(df_type_based)"
   ]
  },
  {
   "cell_type": "code",
   "execution_count": null,
   "metadata": {
    "id": "gwh0Y771ikHv"
   },
   "outputs": [],
   "source": [
    "df.isnull().sum()"
   ]
  },
  {
   "cell_type": "code",
   "execution_count": null,
   "metadata": {
    "id": "Sif-RdOVheKe"
   },
   "outputs": [],
   "source": [
    "# Counting the unique values for each columns\n",
    "for col in df.columns:\n",
    "  df[col].nunique\n",
    "  print(col, df[col].nunique())"
   ]
  },
  {
   "cell_type": "code",
   "execution_count": null,
   "metadata": {
    "id": "3OvGWyuODtKm"
   },
   "outputs": [],
   "source": [
    "df"
   ]
  },
  {
   "cell_type": "code",
   "execution_count": null,
   "metadata": {
    "id": "GkwecgWllPpB"
   },
   "outputs": [],
   "source": [
    "# handling frame.time\n",
    "# df[\"frame.time\"] = pd.to_datetime(df[\"frame.time\"])\n",
    "print(df[\"frame.time\"].unique())"
   ]
  },
  {
   "cell_type": "markdown",
   "metadata": {
    "id": "7aYMSXw-0Wm6"
   },
   "source": [
    "Handling the frame.time"
   ]
  },
  {
   "cell_type": "code",
   "execution_count": 3,
   "metadata": {
    "id": "BOIpFG7D2t0D"
   },
   "outputs": [
    {
     "name": "stdout",
     "output_type": "stream",
     "text": [
      "Collecting dask[dataframe]\n",
      "  Downloading dask-2024.9.1-py3-none-any.whl.metadata (3.7 kB)\n",
      "Collecting click>=8.1 (from dask[dataframe])\n",
      "  Using cached click-8.1.7-py3-none-any.whl.metadata (3.0 kB)\n",
      "Collecting cloudpickle>=3.0.0 (from dask[dataframe])\n",
      "  Downloading cloudpickle-3.0.0-py3-none-any.whl.metadata (7.0 kB)\n",
      "Collecting fsspec>=2021.09.0 (from dask[dataframe])\n",
      "  Downloading fsspec-2024.9.0-py3-none-any.whl.metadata (11 kB)\n",
      "Requirement already satisfied: packaging>=20.0 in g:\\nitin-programming-btech\\ml\\nitin\\lib\\site-packages (from dask[dataframe]) (24.1)\n",
      "Collecting partd>=1.4.0 (from dask[dataframe])\n",
      "  Downloading partd-1.4.2-py3-none-any.whl.metadata (4.6 kB)\n",
      "Requirement already satisfied: pyyaml>=5.3.1 in g:\\nitin-programming-btech\\ml\\nitin\\lib\\site-packages (from dask[dataframe]) (6.0.2)\n",
      "Collecting toolz>=0.10.0 (from dask[dataframe])\n",
      "  Downloading toolz-1.0.0-py3-none-any.whl.metadata (5.1 kB)\n",
      "Requirement already satisfied: pandas>=2.0 in g:\\nitin-programming-btech\\ml\\nitin\\lib\\site-packages (from dask[dataframe]) (2.2.3)\n",
      "Collecting dask-expr<1.2,>=1.1 (from dask[dataframe])\n",
      "  Downloading dask_expr-1.1.15-py3-none-any.whl.metadata (2.5 kB)\n",
      "Requirement already satisfied: colorama in g:\\nitin-programming-btech\\ml\\nitin\\lib\\site-packages (from click>=8.1->dask[dataframe]) (0.4.6)\n",
      "Collecting pyarrow>=14.0.1 (from dask-expr<1.2,>=1.1->dask[dataframe])\n",
      "  Downloading pyarrow-17.0.0-cp312-cp312-win_amd64.whl.metadata (3.4 kB)\n",
      "Requirement already satisfied: numpy>=1.26.0 in g:\\nitin-programming-btech\\ml\\nitin\\lib\\site-packages (from pandas>=2.0->dask[dataframe]) (1.26.4)\n",
      "Requirement already satisfied: python-dateutil>=2.8.2 in g:\\nitin-programming-btech\\ml\\nitin\\lib\\site-packages (from pandas>=2.0->dask[dataframe]) (2.9.0.post0)\n",
      "Requirement already satisfied: pytz>=2020.1 in g:\\nitin-programming-btech\\ml\\nitin\\lib\\site-packages (from pandas>=2.0->dask[dataframe]) (2024.2)\n",
      "Requirement already satisfied: tzdata>=2022.7 in g:\\nitin-programming-btech\\ml\\nitin\\lib\\site-packages (from pandas>=2.0->dask[dataframe]) (2024.2)\n",
      "Collecting locket (from partd>=1.4.0->dask[dataframe])\n",
      "  Downloading locket-1.0.0-py2.py3-none-any.whl.metadata (2.8 kB)\n",
      "Requirement already satisfied: six>=1.5 in g:\\nitin-programming-btech\\ml\\nitin\\lib\\site-packages (from python-dateutil>=2.8.2->pandas>=2.0->dask[dataframe]) (1.16.0)\n",
      "Using cached click-8.1.7-py3-none-any.whl (97 kB)\n",
      "Downloading cloudpickle-3.0.0-py3-none-any.whl (20 kB)\n",
      "Downloading dask_expr-1.1.15-py3-none-any.whl (242 kB)\n",
      "Downloading dask-2024.9.1-py3-none-any.whl (1.3 MB)\n",
      "   ---------------------------------------- 0.0/1.3 MB ? eta -:--:--\n",
      "   ---------------------------------------- 1.3/1.3 MB 6.4 MB/s eta 0:00:00\n",
      "Downloading fsspec-2024.9.0-py3-none-any.whl (179 kB)\n",
      "Downloading partd-1.4.2-py3-none-any.whl (18 kB)\n",
      "Downloading toolz-1.0.0-py3-none-any.whl (56 kB)\n",
      "Downloading pyarrow-17.0.0-cp312-cp312-win_amd64.whl (25.1 MB)\n",
      "   ---------------------------------------- 0.0/25.1 MB ? eta -:--:--\n",
      "   -- ------------------------------------- 1.8/25.1 MB 9.1 MB/s eta 0:00:03\n",
      "   ----- ---------------------------------- 3.4/25.1 MB 8.8 MB/s eta 0:00:03\n",
      "   -------- ------------------------------- 5.2/25.1 MB 8.4 MB/s eta 0:00:03\n",
      "   ----------- ---------------------------- 7.1/25.1 MB 8.6 MB/s eta 0:00:03\n",
      "   -------------- ------------------------- 8.9/25.1 MB 8.4 MB/s eta 0:00:02\n",
      "   ----------------- ---------------------- 10.7/25.1 MB 8.5 MB/s eta 0:00:02\n",
      "   -------------------- ------------------- 12.6/25.1 MB 8.4 MB/s eta 0:00:02\n",
      "   ---------------------- ----------------- 14.2/25.1 MB 8.4 MB/s eta 0:00:02\n",
      "   ------------------------- -------------- 16.0/25.1 MB 8.5 MB/s eta 0:00:02\n",
      "   ---------------------------- ----------- 17.8/25.1 MB 8.4 MB/s eta 0:00:01\n",
      "   ------------------------------ --------- 19.4/25.1 MB 8.4 MB/s eta 0:00:01\n",
      "   --------------------------------- ------ 21.2/25.1 MB 8.4 MB/s eta 0:00:01\n",
      "   ------------------------------------ --- 23.1/25.1 MB 8.4 MB/s eta 0:00:01\n",
      "   ---------------------------------------  24.9/25.1 MB 8.4 MB/s eta 0:00:01\n",
      "   ---------------------------------------- 25.1/25.1 MB 8.0 MB/s eta 0:00:00\n",
      "Downloading locket-1.0.0-py2.py3-none-any.whl (4.4 kB)\n",
      "Installing collected packages: toolz, pyarrow, locket, fsspec, cloudpickle, click, partd, dask, dask-expr\n",
      "Successfully installed click-8.1.7 cloudpickle-3.0.0 dask-2024.9.1 dask-expr-1.1.15 fsspec-2024.9.0 locket-1.0.0 partd-1.4.2 pyarrow-17.0.0 toolz-1.0.0\n"
     ]
    }
   ],
   "source": [
    "# parallel execution using dask\n",
    "! pip install dask[dataframe]\n",
    "import dask.dataframe as dd"
   ]
  },
  {
   "cell_type": "code",
   "execution_count": 4,
   "metadata": {
    "id": "Dda5oXI92tfq"
   },
   "outputs": [
    {
     "ename": "NameError",
     "evalue": "name 'df' is not defined",
     "output_type": "error",
     "traceback": [
      "\u001b[1;31m---------------------------------------------------------------------------\u001b[0m",
      "\u001b[1;31mNameError\u001b[0m                                 Traceback (most recent call last)",
      "Cell \u001b[1;32mIn[4], line 1\u001b[0m\n\u001b[1;32m----> 1\u001b[0m ddf \u001b[38;5;241m=\u001b[39m dd\u001b[38;5;241m.\u001b[39mfrom_pandas(\u001b[43mdf\u001b[49m, npartitions \u001b[38;5;241m=\u001b[39m \u001b[38;5;241m4\u001b[39m)\n\u001b[0;32m      2\u001b[0m ddf\u001b[38;5;241m.\u001b[39mhead()\n",
      "\u001b[1;31mNameError\u001b[0m: name 'df' is not defined"
     ]
    }
   ],
   "source": [
    "ddf = dd.from_pandas(df, npartitions = 4)\n",
    "ddf.head()"
   ]
  },
  {
   "cell_type": "code",
   "execution_count": null,
   "metadata": {
    "id": "Bn-EUOBXlPpC"
   },
   "outputs": [],
   "source": [
    "def handle_frame(row):\n",
    "  try:\n",
    "    row = pd.to_datetime(row, format = \"%Y %H:%M:%S.%f\")\n",
    "    return row\n",
    "  except ValueError:\n",
    "    try:\n",
    "      return pd.to_datetime(row)\n",
    "    except:\n",
    "      return pd.NaT\n",
    "meta = pd.Series(pd.to_datetime([]), name = \"frame.time\")\n",
    "ddf[\"frame.time\"] = ddf[\"frame.time\"].apply(handle_frame, meta = meta).compute()"
   ]
  },
  {
   "cell_type": "code",
   "execution_count": null,
   "metadata": {
    "id": "oaYzOT9T6gLQ"
   },
   "outputs": [],
   "source": [
    "# convert dask dataframe to pandas dataframe\n",
    "df = ddf.compute()\n",
    "df[\"frame.time\"]"
   ]
  },
  {
   "cell_type": "code",
   "execution_count": 43,
   "metadata": {
    "colab": {
     "base_uri": "https://localhost:8080/",
     "height": 458
    },
    "id": "Yqd1rnnt2Kyt",
    "outputId": "ce013aba-8212-42b2-9d91-90e4dd4ede76"
   },
   "outputs": [
    {
     "data": {
      "text/html": [
       "<div>\n",
       "<style scoped>\n",
       "    .dataframe tbody tr th:only-of-type {\n",
       "        vertical-align: middle;\n",
       "    }\n",
       "\n",
       "    .dataframe tbody tr th {\n",
       "        vertical-align: top;\n",
       "    }\n",
       "\n",
       "    .dataframe thead th {\n",
       "        text-align: right;\n",
       "    }\n",
       "</style>\n",
       "<table border=\"1\" class=\"dataframe\">\n",
       "  <thead>\n",
       "    <tr style=\"text-align: right;\">\n",
       "      <th></th>\n",
       "      <th>frame.time</th>\n",
       "    </tr>\n",
       "  </thead>\n",
       "  <tbody>\n",
       "    <tr>\n",
       "      <th>0</th>\n",
       "      <td>NaN</td>\n",
       "    </tr>\n",
       "    <tr>\n",
       "      <th>1</th>\n",
       "      <td>NaN</td>\n",
       "    </tr>\n",
       "    <tr>\n",
       "      <th>2</th>\n",
       "      <td>NaN</td>\n",
       "    </tr>\n",
       "    <tr>\n",
       "      <th>3</th>\n",
       "      <td>NaN</td>\n",
       "    </tr>\n",
       "    <tr>\n",
       "      <th>4</th>\n",
       "      <td>NaN</td>\n",
       "    </tr>\n",
       "    <tr>\n",
       "      <th>...</th>\n",
       "      <td>...</td>\n",
       "    </tr>\n",
       "    <tr>\n",
       "      <th>157795</th>\n",
       "      <td>NaN</td>\n",
       "    </tr>\n",
       "    <tr>\n",
       "      <th>157796</th>\n",
       "      <td>NaN</td>\n",
       "    </tr>\n",
       "    <tr>\n",
       "      <th>157797</th>\n",
       "      <td>NaN</td>\n",
       "    </tr>\n",
       "    <tr>\n",
       "      <th>157798</th>\n",
       "      <td>NaN</td>\n",
       "    </tr>\n",
       "    <tr>\n",
       "      <th>157799</th>\n",
       "      <td>NaN</td>\n",
       "    </tr>\n",
       "  </tbody>\n",
       "</table>\n",
       "<p>157800 rows × 1 columns</p>\n",
       "</div><br><label><b>dtype:</b> object</label>"
      ],
      "text/plain": [
       "0         NaN\n",
       "1         NaN\n",
       "2         NaN\n",
       "3         NaN\n",
       "4         NaN\n",
       "         ... \n",
       "157795    NaN\n",
       "157796    NaN\n",
       "157797    NaN\n",
       "157798    NaN\n",
       "157799    NaN\n",
       "Name: frame.time, Length: 157800, dtype: object"
      ]
     },
     "execution_count": 43,
     "metadata": {},
     "output_type": "execute_result"
    }
   ],
   "source": [
    "df[\"frame.time\"].dropna(inplace = True)\n",
    "df[\"frame.time\"]"
   ]
  },
  {
   "cell_type": "code",
   "execution_count": null,
   "metadata": {
    "colab": {
     "base_uri": "https://localhost:8080/"
    },
    "id": "ClZteW-m8qQy",
    "outputId": "d5d3f9a5-e367-4120-f19e-c921636f6163"
   },
   "outputs": [
    {
     "data": {
      "text/plain": [
       "64"
      ]
     },
     "execution_count": 14,
     "metadata": {},
     "output_type": "execute_result"
    }
   ],
   "source": [
    "df.columns.nunique()"
   ]
  },
  {
   "cell_type": "code",
   "execution_count": null,
   "metadata": {
    "colab": {
     "base_uri": "https://localhost:8080/",
     "height": 458
    },
    "id": "jyeoO5gG8vVa",
    "outputId": "b999df54-841f-4cb7-8e5e-2b3abe143f82"
   },
   "outputs": [
    {
     "data": {
      "text/plain": [
       "frame.time            0\n",
       "ip.src_host           0\n",
       "ip.dst_host           0\n",
       "arp.dst.proto_ipv4    0\n",
       "arp.opcode            0\n",
       "                     ..\n",
       "mbtcp.trans_id        0\n",
       "mbtcp.unit_id         0\n",
       "Attack_label          0\n",
       "Attack_type           0\n",
       "ip.src_check          0\n",
       "Length: 64, dtype: int64"
      ]
     },
     "execution_count": 15,
     "metadata": {},
     "output_type": "execute_result"
    }
   ],
   "source": [
    "df.isna().sum()"
   ]
  },
  {
   "cell_type": "code",
   "execution_count": null,
   "metadata": {
    "colab": {
     "base_uri": "https://localhost:8080/"
    },
    "id": "Wjt0q5ku80-a",
    "outputId": "7032e1fa-4db3-4b57-abc6-6517a82fd0fd"
   },
   "outputs": [
    {
     "name": "stdout",
     "output_type": "stream",
     "text": [
      "Attack_label\n",
      "1    133499\n",
      "0     24301\n",
      "Name: count, dtype: int64\n",
      "Attack_type\n",
      "Normal                   24301\n",
      "DDoS_UDP                 14498\n",
      "DDoS_ICMP                14090\n",
      "Ransomware               10925\n",
      "DDoS_HTTP                10561\n",
      "SQL_injection            10311\n",
      "Uploading                10269\n",
      "DDoS_TCP                 10247\n",
      "Backdoor                 10195\n",
      "Vulnerability_scanner    10076\n",
      "Port_Scanning            10071\n",
      "XSS                      10052\n",
      "Password                  9989\n",
      "MITM                      1214\n",
      "Fingerprinting            1001\n",
      "Name: count, dtype: int64\n",
      "15\n"
     ]
    }
   ],
   "source": [
    "print(df[\"Attack_label\"].value_counts())\n",
    "print(df[\"Attack_type\"].value_counts())\n",
    "print(df[\"Attack_type\"].nunique())"
   ]
  },
  {
   "cell_type": "code",
   "execution_count": null,
   "metadata": {
    "colab": {
     "base_uri": "https://localhost:8080/"
    },
    "id": "zFuFrYoc_ahq",
    "outputId": "6b01e8eb-ddf3-45f7-caa8-d1b127fa1ce7"
   },
   "outputs": [
    {
     "name": "stdout",
     "output_type": "stream",
     "text": [
      "icmp.unused\n",
      "http.tls_port\n",
      "dns.qry.type\n",
      "dns.retransmit_request_in\n",
      "mqtt.msg_decoded_as\n",
      "mbtcp.len\n",
      "mbtcp.trans_id\n",
      "mbtcp.unit_id\n"
     ]
    }
   ],
   "source": [
    "# checking columns with the 0.0 value in each row\n",
    "def zero_col(df):\n",
    "  for col in df.columns:\n",
    "    if (df[col] == 0.0).all():\n",
    "      print(col)\n",
    "zero_col(df)"
   ]
  },
  {
   "cell_type": "code",
   "execution_count": null,
   "metadata": {
    "colab": {
     "base_uri": "https://localhost:8080/"
    },
    "id": "LVBAQIhsBbDG",
    "outputId": "bb8cc919-1bdf-44fb-bb60-6bc826d2c46a"
   },
   "outputs": [
    {
     "name": "stdout",
     "output_type": "stream",
     "text": [
      "56\n"
     ]
    }
   ],
   "source": [
    "# droping the columns containing only 0.0 in each rows\n",
    "list = [\"icmp.unused\",\n",
    "        \"http.tls_port\",\n",
    "        \"dns.qry.type\",\n",
    "        \"dns.retransmit_request_in\",\n",
    "        \"mqtt.msg_decoded_as\",\n",
    "        \"mbtcp.len\",\n",
    "        \"mbtcp.trans_id\",\n",
    "        \"mbtcp.unit_id\"]\n",
    "df.drop(list, axis = 1, inplace = True)\n",
    "print(df.columns.nunique())"
   ]
  },
  {
   "cell_type": "code",
   "execution_count": null,
   "metadata": {
    "colab": {
     "base_uri": "https://localhost:8080/",
     "height": 1000
    },
    "id": "O0bTVXvn-C54",
    "outputId": "dadc2ef8-3155-4880-cef0-0e38826ec0fd",
    "scrolled": true
   },
   "outputs": [
    {
     "data": {
      "text/plain": [
       "frame.time                  object\n",
       "ip.src_host                  int64\n",
       "ip.dst_host                  int64\n",
       "arp.dst.proto_ipv4          object\n",
       "arp.opcode                 float64\n",
       "arp.hw.size                float64\n",
       "arp.src.proto_ipv4          object\n",
       "icmp.checksum              float64\n",
       "icmp.seq_le                float64\n",
       "icmp.transmit_timestamp    float64\n",
       "http.file_data              object\n",
       "http.content_length        float64\n",
       "http.request.uri.query      object\n",
       "http.request.method         object\n",
       "http.referer                object\n",
       "http.request.full_uri       object\n",
       "http.request.version        object\n",
       "http.response              float64\n",
       "tcp.ack                    float64\n",
       "tcp.ack_raw                float64\n",
       "tcp.checksum               float64\n",
       "tcp.connection.fin         float64\n",
       "tcp.connection.rst         float64\n",
       "tcp.connection.syn         float64\n",
       "tcp.connection.synack      float64\n",
       "tcp.dstport                float64\n",
       "tcp.flags                  float64\n",
       "tcp.flags.ack              float64\n",
       "tcp.len                    float64\n",
       "tcp.options                 object\n",
       "tcp.payload                 object\n",
       "tcp.seq                    float64\n",
       "tcp.srcport                 object\n",
       "udp.port                   float64\n",
       "udp.stream                 float64\n",
       "udp.time_delta             float64\n",
       "dns.qry.name               float64\n",
       "dns.qry.name.len            object\n",
       "dns.qry.qu                 float64\n",
       "dns.retransmission         float64\n",
       "dns.retransmit_request     float64\n",
       "mqtt.conack.flags           object\n",
       "mqtt.conflag.cleansess     float64\n",
       "mqtt.conflags              float64\n",
       "mqtt.hdrflags              float64\n",
       "mqtt.len                   float64\n",
       "mqtt.msg                    object\n",
       "mqtt.msgtype               float64\n",
       "mqtt.proto_len             float64\n",
       "mqtt.protoname              object\n",
       "mqtt.topic                  object\n",
       "mqtt.topic_len             float64\n",
       "mqtt.ver                   float64\n",
       "Attack_label                 int64\n",
       "Attack_type                 object\n",
       "ip.src_check                object\n",
       "dtype: object"
      ]
     },
     "execution_count": 19,
     "metadata": {},
     "output_type": "execute_result"
    }
   ],
   "source": [
    "df.dtypes"
   ]
  },
  {
   "cell_type": "code",
   "execution_count": null,
   "metadata": {
    "colab": {
     "base_uri": "https://localhost:8080/"
    },
    "id": "aVsmwHWg9UKc",
    "outputId": "406de559-0f7c-4cc0-b9f7-8965ac57464b"
   },
   "outputs": [
    {
     "name": "stdout",
     "output_type": "stream",
     "text": [
      "<class 'pandas.core.frame.DataFrame'>\n",
      "RangeIndex: 157800 entries, 0 to 157799\n",
      "Data columns (total 56 columns):\n",
      " #   Column                   Non-Null Count   Dtype  \n",
      "---  ------                   --------------   -----  \n",
      " 0   frame.time               157800 non-null  object \n",
      " 1   ip.src_host              157800 non-null  int64  \n",
      " 2   ip.dst_host              157800 non-null  int64  \n",
      " 3   arp.dst.proto_ipv4       157800 non-null  object \n",
      " 4   arp.opcode               157800 non-null  float64\n",
      " 5   arp.hw.size              157800 non-null  float64\n",
      " 6   arp.src.proto_ipv4       157800 non-null  object \n",
      " 7   icmp.checksum            157800 non-null  float64\n",
      " 8   icmp.seq_le              157800 non-null  float64\n",
      " 9   icmp.transmit_timestamp  157800 non-null  float64\n",
      " 10  http.file_data           157800 non-null  object \n",
      " 11  http.content_length      157800 non-null  float64\n",
      " 12  http.request.uri.query   157800 non-null  object \n",
      " 13  http.request.method      157800 non-null  object \n",
      " 14  http.referer             157800 non-null  object \n",
      " 15  http.request.full_uri    157800 non-null  object \n",
      " 16  http.request.version     157800 non-null  object \n",
      " 17  http.response            157800 non-null  float64\n",
      " 18  tcp.ack                  157800 non-null  float64\n",
      " 19  tcp.ack_raw              157800 non-null  float64\n",
      " 20  tcp.checksum             157800 non-null  float64\n",
      " 21  tcp.connection.fin       157800 non-null  float64\n",
      " 22  tcp.connection.rst       157800 non-null  float64\n",
      " 23  tcp.connection.syn       157800 non-null  float64\n",
      " 24  tcp.connection.synack    157800 non-null  float64\n",
      " 25  tcp.dstport              157800 non-null  float64\n",
      " 26  tcp.flags                157800 non-null  float64\n",
      " 27  tcp.flags.ack            157800 non-null  float64\n",
      " 28  tcp.len                  157800 non-null  float64\n",
      " 29  tcp.options              157800 non-null  object \n",
      " 30  tcp.payload              157800 non-null  object \n",
      " 31  tcp.seq                  157800 non-null  float64\n",
      " 32  tcp.srcport              157800 non-null  object \n",
      " 33  udp.port                 157800 non-null  float64\n",
      " 34  udp.stream               157800 non-null  float64\n",
      " 35  udp.time_delta           157800 non-null  float64\n",
      " 36  dns.qry.name             157800 non-null  float64\n",
      " 37  dns.qry.name.len         157800 non-null  object \n",
      " 38  dns.qry.qu               157800 non-null  float64\n",
      " 39  dns.retransmission       157800 non-null  float64\n",
      " 40  dns.retransmit_request   157800 non-null  float64\n",
      " 41  mqtt.conack.flags        157800 non-null  object \n",
      " 42  mqtt.conflag.cleansess   157800 non-null  float64\n",
      " 43  mqtt.conflags            157800 non-null  float64\n",
      " 44  mqtt.hdrflags            157800 non-null  float64\n",
      " 45  mqtt.len                 157800 non-null  float64\n",
      " 46  mqtt.msg                 157800 non-null  object \n",
      " 47  mqtt.msgtype             157800 non-null  float64\n",
      " 48  mqtt.proto_len           157800 non-null  float64\n",
      " 49  mqtt.protoname           157800 non-null  object \n",
      " 50  mqtt.topic               157800 non-null  object \n",
      " 51  mqtt.topic_len           157800 non-null  float64\n",
      " 52  mqtt.ver                 157800 non-null  float64\n",
      " 53  Attack_label             157800 non-null  int64  \n",
      " 54  Attack_type              157800 non-null  object \n",
      " 55  ip.src_check             157800 non-null  object \n",
      "dtypes: float64(34), int64(3), object(19)\n",
      "memory usage: 67.4+ MB\n"
     ]
    }
   ],
   "source": [
    "df.info()"
   ]
  },
  {
   "cell_type": "code",
   "execution_count": null,
   "metadata": {
    "colab": {
     "base_uri": "https://localhost:8080/"
    },
    "id": "pPAl3i70COYr",
    "outputId": "10ef3648-af76-4794-bde0-6aa4efb346c3"
   },
   "outputs": [
    {
     "data": {
      "text/plain": [
       "Index(['frame.time', 'ip.src_host', 'ip.dst_host', 'arp.dst.proto_ipv4',\n",
       "       'arp.opcode', 'arp.hw.size', 'arp.src.proto_ipv4', 'icmp.checksum',\n",
       "       'icmp.seq_le', 'icmp.transmit_timestamp', 'http.file_data',\n",
       "       'http.content_length', 'http.request.uri.query', 'http.request.method',\n",
       "       'http.referer', 'http.request.full_uri', 'http.request.version',\n",
       "       'http.response', 'tcp.ack', 'tcp.ack_raw', 'tcp.checksum',\n",
       "       'tcp.connection.fin', 'tcp.connection.rst', 'tcp.connection.syn',\n",
       "       'tcp.connection.synack', 'tcp.dstport', 'tcp.flags', 'tcp.flags.ack',\n",
       "       'tcp.len', 'tcp.options', 'tcp.payload', 'tcp.seq', 'tcp.srcport',\n",
       "       'udp.port', 'udp.stream', 'udp.time_delta', 'dns.qry.name',\n",
       "       'dns.qry.name.len', 'dns.qry.qu', 'dns.retransmission',\n",
       "       'dns.retransmit_request', 'mqtt.conack.flags', 'mqtt.conflag.cleansess',\n",
       "       'mqtt.conflags', 'mqtt.hdrflags', 'mqtt.len', 'mqtt.msg',\n",
       "       'mqtt.msgtype', 'mqtt.proto_len', 'mqtt.protoname', 'mqtt.topic',\n",
       "       'mqtt.topic_len', 'mqtt.ver', 'Attack_label', 'Attack_type',\n",
       "       'ip.src_check'],\n",
       "      dtype='object')"
      ]
     },
     "execution_count": 21,
     "metadata": {},
     "output_type": "execute_result"
    }
   ],
   "source": [
    "df[df.duplicated()].columns"
   ]
  },
  {
   "cell_type": "code",
   "execution_count": null,
   "metadata": {
    "id": "yiZ725IdDvzc"
   },
   "outputs": [],
   "source": [
    "df.drop_duplicates(inplace = True)\n"
   ]
  },
  {
   "cell_type": "code",
   "execution_count": null,
   "metadata": {
    "colab": {
     "base_uri": "https://localhost:8080/"
    },
    "id": "lhIKnpFSEA3e",
    "outputId": "fd1a59f0-0324-4790-b99c-9b3bc9c38d76"
   },
   "outputs": [
    {
     "data": {
      "text/plain": [
       "(156986, 56)"
      ]
     },
     "execution_count": 23,
     "metadata": {},
     "output_type": "execute_result"
    }
   ],
   "source": [
    "df.shape"
   ]
  },
  {
   "cell_type": "code",
   "execution_count": null,
   "metadata": {
    "colab": {
     "base_uri": "https://localhost:8080/"
    },
    "id": "o1kPvMBqEChB",
    "outputId": "6e067b0c-9ad1-4c2d-ff26-8043f4bcf971"
   },
   "outputs": [
    {
     "name": "stdout",
     "output_type": "stream",
     "text": [
      "Index(['frame.time', 'arp.dst.proto_ipv4', 'arp.src.proto_ipv4',\n",
      "       'http.file_data', 'http.request.uri.query', 'http.request.method',\n",
      "       'http.referer', 'http.request.full_uri', 'http.request.version',\n",
      "       'tcp.options', 'tcp.payload', 'tcp.srcport', 'dns.qry.name.len',\n",
      "       'mqtt.conack.flags', 'mqtt.msg', 'mqtt.protoname', 'mqtt.topic',\n",
      "       'Attack_type', 'ip.src_check'],\n",
      "      dtype='object')\n"
     ]
    }
   ],
   "source": [
    "print(df.select_dtypes(include = \"object\").columns)"
   ]
  },
  {
   "cell_type": "code",
   "execution_count": null,
   "metadata": {
    "colab": {
     "base_uri": "https://localhost:8080/"
    },
    "id": "NXS_Od4cFkAA",
    "outputId": "b4d5053a-39af-4c7d-ae15-d126733cc590"
   },
   "outputs": [
    {
     "name": "stdout",
     "output_type": "stream",
     "text": [
      "Index(['ip.src_host', 'ip.dst_host', 'arp.opcode', 'arp.hw.size',\n",
      "       'icmp.checksum', 'icmp.seq_le', 'icmp.transmit_timestamp',\n",
      "       'http.content_length', 'http.response', 'tcp.ack', 'tcp.ack_raw',\n",
      "       'tcp.checksum', 'tcp.connection.fin', 'tcp.connection.rst',\n",
      "       'tcp.connection.syn', 'tcp.connection.synack', 'tcp.dstport',\n",
      "       'tcp.flags', 'tcp.flags.ack', 'tcp.len', 'tcp.seq', 'udp.port',\n",
      "       'udp.stream', 'udp.time_delta', 'dns.qry.name', 'dns.qry.qu',\n",
      "       'dns.retransmission', 'dns.retransmit_request',\n",
      "       'mqtt.conflag.cleansess', 'mqtt.conflags', 'mqtt.hdrflags', 'mqtt.len',\n",
      "       'mqtt.msgtype', 'mqtt.proto_len', 'mqtt.topic_len', 'mqtt.ver',\n",
      "       'Attack_label'],\n",
      "      dtype='object')\n"
     ]
    }
   ],
   "source": [
    "print(df.select_dtypes(include = [\"float64\", \"int64\"]).columns)"
   ]
  },
  {
   "cell_type": "code",
   "execution_count": null,
   "metadata": {
    "id": "1K8zUvkWEee9"
   },
   "outputs": [],
   "source": [
    "cat_cols = ['http.request.method', 'http.referer', 'http.request.version',\n",
    "       'dns.qry.name.len', 'mqtt.conack.flags', 'mqtt.protoname', 'mqtt.topic',\n",
    "       'Attack_type']"
   ]
  },
  {
   "cell_type": "code",
   "execution_count": null,
   "metadata": {
    "colab": {
     "base_uri": "https://localhost:8080/"
    },
    "id": "WEWEojD-EeTs",
    "outputId": "ae144331-1ecc-4ab6-f51f-c2064376ffd3"
   },
   "outputs": [
    {
     "name": "stdout",
     "output_type": "stream",
     "text": [
      "frame.time                   object\n",
      "ip.src_host                   int64\n",
      "ip.dst_host                   int64\n",
      "arp.dst.proto_ipv4           object\n",
      "arp.opcode                  float64\n",
      "arp.hw.size                 float64\n",
      "arp.src.proto_ipv4           object\n",
      "icmp.checksum               float64\n",
      "icmp.seq_le                 float64\n",
      "icmp.transmit_timestamp     float64\n",
      "http.file_data               object\n",
      "http.content_length         float64\n",
      "http.request.uri.query       object\n",
      "http.request.method        category\n",
      "http.referer               category\n",
      "http.request.full_uri        object\n",
      "http.request.version       category\n",
      "http.response               float64\n",
      "tcp.ack                     float64\n",
      "tcp.ack_raw                 float64\n",
      "tcp.checksum                float64\n",
      "tcp.connection.fin          float64\n",
      "tcp.connection.rst          float64\n",
      "tcp.connection.syn          float64\n",
      "tcp.connection.synack       float64\n",
      "tcp.dstport                 float64\n",
      "tcp.flags                   float64\n",
      "tcp.flags.ack               float64\n",
      "tcp.len                     float64\n",
      "tcp.options                  object\n",
      "tcp.payload                  object\n",
      "tcp.seq                     float64\n",
      "tcp.srcport                  object\n",
      "udp.port                    float64\n",
      "udp.stream                  float64\n",
      "udp.time_delta              float64\n",
      "dns.qry.name                float64\n",
      "dns.qry.name.len           category\n",
      "dns.qry.qu                  float64\n",
      "dns.retransmission          float64\n",
      "dns.retransmit_request      float64\n",
      "mqtt.conack.flags          category\n",
      "mqtt.conflag.cleansess      float64\n",
      "mqtt.conflags               float64\n",
      "mqtt.hdrflags               float64\n",
      "mqtt.len                    float64\n",
      "mqtt.msg                     object\n",
      "mqtt.msgtype                float64\n",
      "mqtt.proto_len              float64\n",
      "mqtt.protoname             category\n",
      "mqtt.topic                 category\n",
      "mqtt.topic_len              float64\n",
      "mqtt.ver                    float64\n",
      "Attack_label                  int64\n",
      "Attack_type                category\n",
      "ip.src_check                 object\n",
      "dtype: object\n"
     ]
    }
   ],
   "source": [
    "for col in cat_cols:\n",
    "  df[col] = df[col].astype(\"category\")\n",
    "print(df.dtypes)"
   ]
  },
  {
   "cell_type": "code",
   "execution_count": null,
   "metadata": {
    "colab": {
     "base_uri": "https://localhost:8080/"
    },
    "id": "kOVAhbXqfBI-",
    "outputId": "25ede193-a452-4e84-8567-e1d13028d2c7"
   },
   "outputs": [
    {
     "name": "stdout",
     "output_type": "stream",
     "text": [
      "0         0.0\n",
      "1         0.0\n",
      "8         0.0\n",
      "29        0.0\n",
      "30        0.0\n",
      "         ... \n",
      "157795    0.0\n",
      "157796    0.0\n",
      "157797    0.0\n",
      "157798    0.0\n",
      "157799    0.0\n",
      "Name: http.request.method, Length: 156986, dtype: category\n",
      "Categories (6, object): ['0', '0.0', 'GET', 'OPTIONS', 'POST', 'TRACE']\n",
      "http.request.method\n",
      "0.0        95728\n",
      "0          54062\n",
      "GET         6676\n",
      "POST         267\n",
      "TRACE        252\n",
      "OPTIONS        1\n",
      "Name: count, dtype: int64\n",
      "0         0.0\n",
      "1         0.0\n",
      "8         0.0\n",
      "29        0.0\n",
      "30        0.0\n",
      "         ... \n",
      "157795    0.0\n",
      "157796    0.0\n",
      "157797    0.0\n",
      "157798    0.0\n",
      "157799    0.0\n",
      "Name: http.referer, Length: 156986, dtype: category\n",
      "Categories (4, object): ['() { _; } >_[$($())] { echo 93e4r0-CVE-2014-6..., '0', '0.0', '127.0.0.1']\n",
      "http.referer\n",
      "0.0                                                                     126297\n",
      "0                                                                        30399\n",
      "127.0.0.1                                                                  252\n",
      "() { _; } >_[$($())] { echo 93e4r0-CVE-2014-6278: true; echo;echo; }        38\n",
      "Name: count, dtype: int64\n",
      "0           0\n",
      "1           0\n",
      "8           0\n",
      "29          0\n",
      "30          0\n",
      "         ... \n",
      "157795    0.0\n",
      "157796    0.0\n",
      "157797    0.0\n",
      "157798    0.0\n",
      "157799    0.0\n",
      "Name: http.request.version, Length: 156986, dtype: category\n",
      "Categories (8, object): ['-a HTTP/1.1', '/etc/passwd|?data=Download HTTP/1.1', '0', '0.0', 'By Dr HTTP/1.1', 'HTTP/1.0', 'HTTP/1.1', 'Src=javascript:alert('Vulnerable')><Img Src=\\...]\n",
      "http.request.version\n",
      "0.0                                                        95328\n",
      "0                                                          54462\n",
      "HTTP/1.1                                                    6493\n",
      "HTTP/1.0                                                     698\n",
      "Src=javascript:alert('Vulnerable')><Img Src=\\\" HTTP/1.1        2\n",
      "-a HTTP/1.1                                                    1\n",
      "/etc/passwd|?data=Download HTTP/1.1                            1\n",
      "By Dr HTTP/1.1                                                 1\n",
      "Name: count, dtype: int64\n",
      "0         0.0\n",
      "1         0.0\n",
      "8         0.0\n",
      "29        0.0\n",
      "30        0.0\n",
      "         ... \n",
      "157795    0.0\n",
      "157796    0.0\n",
      "157797    0.0\n",
      "157798    0.0\n",
      "157799    0.0\n",
      "Name: dns.qry.name.len, Length: 156986, dtype: category\n",
      "Categories (8, object): ['0', '0.0', '0.debian.pool.ntp.org', '1.0', '1.debian.pool.ntp.org', '2.debian.pool.ntp.org', '3.debian.pool.ntp.org', '_googlecast._tcp.local']\n",
      "dns.qry.name.len\n",
      "0.0                       132458\n",
      "0                          24272\n",
      "1.0                          227\n",
      "1.debian.pool.ntp.org         10\n",
      "0.debian.pool.ntp.org          8\n",
      "3.debian.pool.ntp.org          7\n",
      "2.debian.pool.ntp.org          3\n",
      "_googlecast._tcp.local         1\n",
      "Name: count, dtype: int64\n",
      "0         0.0\n",
      "1         0.0\n",
      "8         0.0\n",
      "29        0.0\n",
      "30        0.0\n",
      "         ... \n",
      "157795    0.0\n",
      "157796    0.0\n",
      "157797    0.0\n",
      "157798    0.0\n",
      "157799    0.0\n",
      "Name: mqtt.conack.flags, Length: 156986, dtype: category\n",
      "Categories (3, object): ['0', '0.0', '0x00000000']\n",
      "mqtt.conack.flags\n",
      "0.0           132685\n",
      "0              23012\n",
      "0x00000000      1289\n",
      "Name: count, dtype: int64\n",
      "0         0.0\n",
      "1         0.0\n",
      "8         0.0\n",
      "29        0.0\n",
      "30        0.0\n",
      "         ... \n",
      "157795    0.0\n",
      "157796    0.0\n",
      "157797    0.0\n",
      "157798    0.0\n",
      "157799    0.0\n",
      "Name: mqtt.protoname, Length: 156986, dtype: category\n",
      "Categories (3, object): ['0', '0.0', 'MQTT']\n",
      "mqtt.protoname\n",
      "0.0     132685\n",
      "0        23051\n",
      "MQTT      1250\n",
      "Name: count, dtype: int64\n",
      "0         0.0\n",
      "1         0.0\n",
      "8         0.0\n",
      "29        0.0\n",
      "30        0.0\n",
      "         ... \n",
      "157795    0.0\n",
      "157796    0.0\n",
      "157797    0.0\n",
      "157798    0.0\n",
      "157799    0.0\n",
      "Name: mqtt.topic, Length: 156986, dtype: category\n",
      "Categories (3, object): ['0', '0.0', 'Temperature_and_Humidity']\n",
      "mqtt.topic\n",
      "0.0                         132685\n",
      "0                            23055\n",
      "Temperature_and_Humidity      1246\n",
      "Name: count, dtype: int64\n",
      "0              MITM\n",
      "1              MITM\n",
      "8              MITM\n",
      "29             MITM\n",
      "30             MITM\n",
      "            ...    \n",
      "157795    DDoS_ICMP\n",
      "157796    DDoS_ICMP\n",
      "157797    DDoS_ICMP\n",
      "157798    DDoS_ICMP\n",
      "157799    DDoS_ICMP\n",
      "Name: Attack_type, Length: 156986, dtype: category\n",
      "Categories (15, object): ['Backdoor', 'DDoS_HTTP', 'DDoS_ICMP', 'DDoS_TCP', ..., 'SQL_injection', 'Uploading', 'Vulnerability_scanner', 'XSS']\n",
      "Attack_type\n",
      "Normal                   24301\n",
      "DDoS_UDP                 14498\n",
      "DDoS_ICMP                14090\n",
      "Ransomware               10925\n",
      "DDoS_HTTP                10561\n",
      "SQL_injection            10311\n",
      "Uploading                10269\n",
      "DDoS_TCP                 10247\n",
      "Backdoor                 10195\n",
      "Vulnerability_scanner    10076\n",
      "Port_Scanning            10071\n",
      "XSS                      10052\n",
      "Password                  9989\n",
      "Fingerprinting            1001\n",
      "MITM                       400\n",
      "Name: count, dtype: int64\n"
     ]
    }
   ],
   "source": [
    "# working one the categorical columns\n",
    "for col in cat_cols:\n",
    "  print(df[col])\n",
    "  print(df[col].value_counts())"
   ]
  },
  {
   "cell_type": "code",
   "execution_count": null,
   "metadata": {
    "colab": {
     "base_uri": "https://localhost:8080/"
    },
    "id": "-m5VXFDtfbea",
    "outputId": "7fb1d287-08b9-473b-aacb-94880a7ebb13"
   },
   "outputs": [
    {
     "name": "stdout",
     "output_type": "stream",
     "text": [
      "frame.time                  object\n",
      "ip.src_host                  int64\n",
      "ip.dst_host                  int64\n",
      "arp.dst.proto_ipv4          object\n",
      "arp.opcode                 float64\n",
      "arp.hw.size                float64\n",
      "arp.src.proto_ipv4          object\n",
      "icmp.checksum              float64\n",
      "icmp.seq_le                float64\n",
      "icmp.transmit_timestamp    float64\n",
      "http.file_data              object\n",
      "http.content_length        float64\n",
      "http.request.uri.query      object\n",
      "http.request.method           int8\n",
      "http.referer                  int8\n",
      "http.request.full_uri       object\n",
      "http.request.version          int8\n",
      "http.response              float64\n",
      "tcp.ack                    float64\n",
      "tcp.ack_raw                float64\n",
      "tcp.checksum               float64\n",
      "tcp.connection.fin         float64\n",
      "tcp.connection.rst         float64\n",
      "tcp.connection.syn         float64\n",
      "tcp.connection.synack      float64\n",
      "tcp.dstport                float64\n",
      "tcp.flags                  float64\n",
      "tcp.flags.ack              float64\n",
      "tcp.len                    float64\n",
      "tcp.options                 object\n",
      "tcp.payload                 object\n",
      "tcp.seq                    float64\n",
      "tcp.srcport                 object\n",
      "udp.port                   float64\n",
      "udp.stream                 float64\n",
      "udp.time_delta             float64\n",
      "dns.qry.name               float64\n",
      "dns.qry.name.len              int8\n",
      "dns.qry.qu                 float64\n",
      "dns.retransmission         float64\n",
      "dns.retransmit_request     float64\n",
      "mqtt.conack.flags             int8\n",
      "mqtt.conflag.cleansess     float64\n",
      "mqtt.conflags              float64\n",
      "mqtt.hdrflags              float64\n",
      "mqtt.len                   float64\n",
      "mqtt.msg                    object\n",
      "mqtt.msgtype               float64\n",
      "mqtt.proto_len             float64\n",
      "mqtt.protoname                int8\n",
      "mqtt.topic                    int8\n",
      "mqtt.topic_len             float64\n",
      "mqtt.ver                   float64\n",
      "Attack_label                 int64\n",
      "Attack_type                   int8\n",
      "ip.src_check                object\n",
      "dtype: object\n"
     ]
    }
   ],
   "source": [
    "# Encoding the categorical columns\n",
    "for col in cat_cols:\n",
    "  df[col] = df[col].cat.codes\n",
    "print(df.dtypes)\n"
   ]
  },
  {
   "cell_type": "markdown",
   "metadata": {
    "id": "_dbYi5krFYjD"
   },
   "source": [
    "# Visualization"
   ]
  },
  {
   "cell_type": "code",
   "execution_count": null,
   "metadata": {
    "colab": {
     "base_uri": "https://localhost:8080/",
     "height": 519
    },
    "id": "8FzB55EZEpr7",
    "outputId": "9b62d199-a456-4af3-e6f5-0d9edb1085e6"
   },
   "outputs": [
    {
     "name": "stderr",
     "output_type": "stream",
     "text": [
      "C:\\Users\\nitin\\AppData\\Local\\Temp\\ipykernel_2256\\7317570.py:5: UserWarning: set_ticklabels() should only be used with a fixed number of ticks, i.e. after set_ticks() or using a FixedLocator.\n",
      "  axes[0].set_xticklabels(top_srcs.index, rotation = 90)\n",
      "C:\\Users\\nitin\\AppData\\Local\\Temp\\ipykernel_2256\\7317570.py:13: UserWarning: set_ticklabels() should only be used with a fixed number of ticks, i.e. after set_ticks() or using a FixedLocator.\n",
      "  axes[1].set_xticklabels(top_dsts.index, rotation = 90)\n"
     ]
    },
    {
     "data": {
      "image/png": "[encoded data removed]",
      "text/plain": [
       "<Figure size 1500x500 with 2 Axes>"
      ]
     },
     "metadata": {},
     "output_type": "display_data"
    }
   ],
   "source": [
    "# top sources\n",
    "fig, axes = plt.subplots(1, 2, figsize = (15, 5))\n",
    "top_srcs = df[\"ip.src_host\"].value_counts().head(10)\n",
    "sns.barplot(x = top_srcs.index, y = top_srcs, ax = axes[0])\n",
    "axes[0].set_xticklabels(top_srcs.index, rotation = 90)\n",
    "axes[0].set_xlabel(\"Source IP\")\n",
    "axes[0].set_ylabel(\"Count\")\n",
    "axes[0].set_title(\"Top 10 Source IP\")\n",
    "\n",
    "# top destinations\n",
    "top_dsts = df[\"ip.dst_host\"].value_counts().head(10)\n",
    "sns.barplot(x = top_dsts.index, y = top_srcs, ax = axes[1])\n",
    "axes[1].set_xticklabels(top_dsts.index, rotation = 90)\n",
    "axes[1].set_xlabel(\"Destination IP\")\n",
    "axes[1].set_ylabel(\"Count\")\n",
    "axes[1].set_title(\"Top 10 Destination IP\")\n",
    "plt.tight_layout()\n",
    "plt.show()"
   ]
  },
  {
   "cell_type": "code",
   "execution_count": null,
   "metadata": {
    "colab": {
     "base_uri": "https://localhost:8080/",
     "height": 241
    },
    "id": "SvWkHvw5Fbr7",
    "outputId": "849bf08d-b464-48d5-ad85-becff98d52ee"
   },
   "outputs": [
    {
     "data": {
      "text/plain": [
       "Attack_label     1.000000\n",
       "ip.src_host      0.134241\n",
       "icmp.seq_le      0.121905\n",
       "icmp.checksum    0.117346\n",
       "udp.stream       0.110884\n",
       "Name: Attack_label, dtype: float64"
      ]
     },
     "execution_count": 31,
     "metadata": {},
     "output_type": "execute_result"
    }
   ],
   "source": [
    "numerical_df = df.select_dtypes(include = [\"float64\", \"int64\"])\n",
    "numerical_df.corr()[\"Attack_label\"].sort_values(ascending = False).head()"
   ]
  },
  {
   "cell_type": "code",
   "execution_count": null,
   "metadata": {
    "colab": {
     "base_uri": "https://localhost:8080/",
     "height": 617
    },
    "id": "FJd80PQlJg2E",
    "outputId": "54be9947-d47a-4fb8-8bbf-01f7bc4395e8"
   },
   "outputs": [
    {
     "data": {
      "text/plain": [
       "<Axes: >"
      ]
     },
     "execution_count": 32,
     "metadata": {},
     "output_type": "execute_result"
    },
    {
     "data": {
      "image/png": "[encoded data removed]",
      "text/plain": [
       "<Figure size 640x480 with 2 Axes>"
      ]
     },
     "metadata": {},
     "output_type": "display_data"
    }
   ],
   "source": [
    "sns.heatmap(numerical_df.corr())"
   ]
  },
  {
   "cell_type": "markdown",
   "metadata": {
    "id": "ktG9QCsdJ1FH"
   },
   "source": [
    "# Machine Learning Algo application"
   ]
  },
  {
   "cell_type": "code",
   "execution_count": null,
   "metadata": {
    "id": "iJqg0ZViJ6pY"
   },
   "outputs": [],
   "source": [
    "from sklearn.linear_model import LogisticRegression\n",
    "from sklearn.discriminant_analysis import LinearDiscriminantAnalysis\n",
    "from sklearn.neighbors import KNeighborsClassifier\n",
    "from sklearn.tree import DecisionTreeClassifier\n",
    "from sklearn.naive_bayes import GaussianNB\n",
    "from sklearn.svm import SVC\n",
    "from sklearn.model_selection import KFold\n",
    "from sklearn.model_selection import cross_val_score\n",
    "from sklearn.ensemble import RandomForestClassifier"
   ]
  },
  {
   "cell_type": "code",
   "execution_count": null,
   "metadata": {
    "id": "5jSW9hs5lPpQ"
   },
   "outputs": [],
   "source": [
    "# Evaluation metrics\n",
    "from sklearn.metrics import accuracy_score, precision_score, recall_score, f1_score, roc_auc_score, confusion_matrix, classification_report"
   ]
  },
  {
   "cell_type": "code",
   "execution_count": null,
   "metadata": {
    "id": "RtrC1AuvlPpR",
    "outputId": "a1e35672-cbf3-42dc-d684-62bc81efefc2"
   },
   "outputs": [
    {
     "data": {
      "text/html": [
       "<div>\n",
       "<style scoped>\n",
       "    .dataframe tbody tr th:only-of-type {\n",
       "        vertical-align: middle;\n",
       "    }\n",
       "\n",
       "    .dataframe tbody tr th {\n",
       "        vertical-align: top;\n",
       "    }\n",
       "\n",
       "    .dataframe thead th {\n",
       "        text-align: right;\n",
       "    }\n",
       "</style>\n",
       "<table border=\"1\" class=\"dataframe\">\n",
       "  <thead>\n",
       "    <tr style=\"text-align: right;\">\n",
       "      <th></th>\n",
       "      <th>ip.src_host</th>\n",
       "      <th>ip.dst_host</th>\n",
       "      <th>arp.opcode</th>\n",
       "      <th>arp.hw.size</th>\n",
       "      <th>icmp.checksum</th>\n",
       "      <th>icmp.seq_le</th>\n",
       "      <th>icmp.transmit_timestamp</th>\n",
       "      <th>http.content_length</th>\n",
       "      <th>http.response</th>\n",
       "      <th>tcp.ack</th>\n",
       "      <th>...</th>\n",
       "      <th>dns.retransmit_request</th>\n",
       "      <th>mqtt.conflag.cleansess</th>\n",
       "      <th>mqtt.conflags</th>\n",
       "      <th>mqtt.hdrflags</th>\n",
       "      <th>mqtt.len</th>\n",
       "      <th>mqtt.msgtype</th>\n",
       "      <th>mqtt.proto_len</th>\n",
       "      <th>mqtt.topic_len</th>\n",
       "      <th>mqtt.ver</th>\n",
       "      <th>Attack_label</th>\n",
       "    </tr>\n",
       "  </thead>\n",
       "  <tbody>\n",
       "    <tr>\n",
       "      <th>0</th>\n",
       "      <td>3232235672</td>\n",
       "      <td>0</td>\n",
       "      <td>0.0</td>\n",
       "      <td>0.0</td>\n",
       "      <td>0.0</td>\n",
       "      <td>0.0</td>\n",
       "      <td>0.0</td>\n",
       "      <td>0.0</td>\n",
       "      <td>0.0</td>\n",
       "      <td>0.0</td>\n",
       "      <td>...</td>\n",
       "      <td>0.0</td>\n",
       "      <td>0.0</td>\n",
       "      <td>0.0</td>\n",
       "      <td>0.0</td>\n",
       "      <td>0.0</td>\n",
       "      <td>0.0</td>\n",
       "      <td>0.0</td>\n",
       "      <td>0.0</td>\n",
       "      <td>0.0</td>\n",
       "      <td>1</td>\n",
       "    </tr>\n",
       "    <tr>\n",
       "      <th>1</th>\n",
       "      <td>3232235621</td>\n",
       "      <td>0</td>\n",
       "      <td>0.0</td>\n",
       "      <td>0.0</td>\n",
       "      <td>0.0</td>\n",
       "      <td>0.0</td>\n",
       "      <td>0.0</td>\n",
       "      <td>0.0</td>\n",
       "      <td>0.0</td>\n",
       "      <td>0.0</td>\n",
       "      <td>...</td>\n",
       "      <td>0.0</td>\n",
       "      <td>0.0</td>\n",
       "      <td>0.0</td>\n",
       "      <td>0.0</td>\n",
       "      <td>0.0</td>\n",
       "      <td>0.0</td>\n",
       "      <td>0.0</td>\n",
       "      <td>0.0</td>\n",
       "      <td>0.0</td>\n",
       "      <td>1</td>\n",
       "    </tr>\n",
       "    <tr>\n",
       "      <th>8</th>\n",
       "      <td>0</td>\n",
       "      <td>0</td>\n",
       "      <td>0.0</td>\n",
       "      <td>0.0</td>\n",
       "      <td>0.0</td>\n",
       "      <td>0.0</td>\n",
       "      <td>0.0</td>\n",
       "      <td>0.0</td>\n",
       "      <td>0.0</td>\n",
       "      <td>0.0</td>\n",
       "      <td>...</td>\n",
       "      <td>0.0</td>\n",
       "      <td>0.0</td>\n",
       "      <td>0.0</td>\n",
       "      <td>0.0</td>\n",
       "      <td>0.0</td>\n",
       "      <td>0.0</td>\n",
       "      <td>0.0</td>\n",
       "      <td>0.0</td>\n",
       "      <td>0.0</td>\n",
       "      <td>1</td>\n",
       "    </tr>\n",
       "    <tr>\n",
       "      <th>29</th>\n",
       "      <td>0</td>\n",
       "      <td>0</td>\n",
       "      <td>0.0</td>\n",
       "      <td>0.0</td>\n",
       "      <td>0.0</td>\n",
       "      <td>0.0</td>\n",
       "      <td>0.0</td>\n",
       "      <td>0.0</td>\n",
       "      <td>0.0</td>\n",
       "      <td>0.0</td>\n",
       "      <td>...</td>\n",
       "      <td>0.0</td>\n",
       "      <td>0.0</td>\n",
       "      <td>0.0</td>\n",
       "      <td>0.0</td>\n",
       "      <td>0.0</td>\n",
       "      <td>0.0</td>\n",
       "      <td>0.0</td>\n",
       "      <td>0.0</td>\n",
       "      <td>0.0</td>\n",
       "      <td>1</td>\n",
       "    </tr>\n",
       "    <tr>\n",
       "      <th>30</th>\n",
       "      <td>0</td>\n",
       "      <td>0</td>\n",
       "      <td>0.0</td>\n",
       "      <td>0.0</td>\n",
       "      <td>0.0</td>\n",
       "      <td>0.0</td>\n",
       "      <td>0.0</td>\n",
       "      <td>0.0</td>\n",
       "      <td>0.0</td>\n",
       "      <td>0.0</td>\n",
       "      <td>...</td>\n",
       "      <td>0.0</td>\n",
       "      <td>0.0</td>\n",
       "      <td>0.0</td>\n",
       "      <td>0.0</td>\n",
       "      <td>0.0</td>\n",
       "      <td>0.0</td>\n",
       "      <td>0.0</td>\n",
       "      <td>0.0</td>\n",
       "      <td>0.0</td>\n",
       "      <td>1</td>\n",
       "    </tr>\n",
       "    <tr>\n",
       "      <th>...</th>\n",
       "      <td>...</td>\n",
       "      <td>...</td>\n",
       "      <td>...</td>\n",
       "      <td>...</td>\n",
       "      <td>...</td>\n",
       "      <td>...</td>\n",
       "      <td>...</td>\n",
       "      <td>...</td>\n",
       "      <td>...</td>\n",
       "      <td>...</td>\n",
       "      <td>...</td>\n",
       "      <td>...</td>\n",
       "      <td>...</td>\n",
       "      <td>...</td>\n",
       "      <td>...</td>\n",
       "      <td>...</td>\n",
       "      <td>...</td>\n",
       "      <td>...</td>\n",
       "      <td>...</td>\n",
       "      <td>...</td>\n",
       "      <td>...</td>\n",
       "    </tr>\n",
       "    <tr>\n",
       "      <th>157795</th>\n",
       "      <td>3247985195</td>\n",
       "      <td>3232235648</td>\n",
       "      <td>0.0</td>\n",
       "      <td>0.0</td>\n",
       "      <td>48729.0</td>\n",
       "      <td>40690.0</td>\n",
       "      <td>0.0</td>\n",
       "      <td>0.0</td>\n",
       "      <td>0.0</td>\n",
       "      <td>0.0</td>\n",
       "      <td>...</td>\n",
       "      <td>0.0</td>\n",
       "      <td>0.0</td>\n",
       "      <td>0.0</td>\n",
       "      <td>0.0</td>\n",
       "      <td>0.0</td>\n",
       "      <td>0.0</td>\n",
       "      <td>0.0</td>\n",
       "      <td>0.0</td>\n",
       "      <td>0.0</td>\n",
       "      <td>1</td>\n",
       "    </tr>\n",
       "    <tr>\n",
       "      <th>157796</th>\n",
       "      <td>4248043989</td>\n",
       "      <td>3232235648</td>\n",
       "      <td>0.0</td>\n",
       "      <td>0.0</td>\n",
       "      <td>45657.0</td>\n",
       "      <td>40702.0</td>\n",
       "      <td>0.0</td>\n",
       "      <td>0.0</td>\n",
       "      <td>0.0</td>\n",
       "      <td>0.0</td>\n",
       "      <td>...</td>\n",
       "      <td>0.0</td>\n",
       "      <td>0.0</td>\n",
       "      <td>0.0</td>\n",
       "      <td>0.0</td>\n",
       "      <td>0.0</td>\n",
       "      <td>0.0</td>\n",
       "      <td>0.0</td>\n",
       "      <td>0.0</td>\n",
       "      <td>0.0</td>\n",
       "      <td>1</td>\n",
       "    </tr>\n",
       "    <tr>\n",
       "      <th>157797</th>\n",
       "      <td>1805376817</td>\n",
       "      <td>3232235648</td>\n",
       "      <td>0.0</td>\n",
       "      <td>0.0</td>\n",
       "      <td>57686.0</td>\n",
       "      <td>41423.0</td>\n",
       "      <td>0.0</td>\n",
       "      <td>0.0</td>\n",
       "      <td>0.0</td>\n",
       "      <td>0.0</td>\n",
       "      <td>...</td>\n",
       "      <td>0.0</td>\n",
       "      <td>0.0</td>\n",
       "      <td>0.0</td>\n",
       "      <td>0.0</td>\n",
       "      <td>0.0</td>\n",
       "      <td>0.0</td>\n",
       "      <td>0.0</td>\n",
       "      <td>0.0</td>\n",
       "      <td>0.0</td>\n",
       "      <td>1</td>\n",
       "    </tr>\n",
       "    <tr>\n",
       "      <th>157798</th>\n",
       "      <td>1307720420</td>\n",
       "      <td>3232235648</td>\n",
       "      <td>0.0</td>\n",
       "      <td>0.0</td>\n",
       "      <td>9555.0</td>\n",
       "      <td>42379.0</td>\n",
       "      <td>0.0</td>\n",
       "      <td>0.0</td>\n",
       "      <td>0.0</td>\n",
       "      <td>0.0</td>\n",
       "      <td>...</td>\n",
       "      <td>0.0</td>\n",
       "      <td>0.0</td>\n",
       "      <td>0.0</td>\n",
       "      <td>0.0</td>\n",
       "      <td>0.0</td>\n",
       "      <td>0.0</td>\n",
       "      <td>0.0</td>\n",
       "      <td>0.0</td>\n",
       "      <td>0.0</td>\n",
       "      <td>1</td>\n",
       "    </tr>\n",
       "    <tr>\n",
       "      <th>157799</th>\n",
       "      <td>2502449815</td>\n",
       "      <td>3232235648</td>\n",
       "      <td>0.0</td>\n",
       "      <td>0.0</td>\n",
       "      <td>35144.0</td>\n",
       "      <td>45095.0</td>\n",
       "      <td>0.0</td>\n",
       "      <td>0.0</td>\n",
       "      <td>0.0</td>\n",
       "      <td>0.0</td>\n",
       "      <td>...</td>\n",
       "      <td>0.0</td>\n",
       "      <td>0.0</td>\n",
       "      <td>0.0</td>\n",
       "      <td>0.0</td>\n",
       "      <td>0.0</td>\n",
       "      <td>0.0</td>\n",
       "      <td>0.0</td>\n",
       "      <td>0.0</td>\n",
       "      <td>0.0</td>\n",
       "      <td>1</td>\n",
       "    </tr>\n",
       "  </tbody>\n",
       "</table>\n",
       "<p>156986 rows × 37 columns</p>\n",
       "</div>"
      ],
      "text/plain": [
       "        ip.src_host  ip.dst_host  arp.opcode  arp.hw.size  icmp.checksum  \\\n",
       "0        3232235672            0         0.0          0.0            0.0   \n",
       "1        3232235621            0         0.0          0.0            0.0   \n",
       "8                 0            0         0.0          0.0            0.0   \n",
       "29                0            0         0.0          0.0            0.0   \n",
       "30                0            0         0.0          0.0            0.0   \n",
       "...             ...          ...         ...          ...            ...   \n",
       "157795   3247985195   3232235648         0.0          0.0        48729.0   \n",
       "157796   4248043989   3232235648         0.0          0.0        45657.0   \n",
       "157797   1805376817   3232235648         0.0          0.0        57686.0   \n",
       "157798   1307720420   3232235648         0.0          0.0         9555.0   \n",
       "157799   2502449815   3232235648         0.0          0.0        35144.0   \n",
       "\n",
       "        icmp.seq_le  icmp.transmit_timestamp  http.content_length  \\\n",
       "0               0.0                      0.0                  0.0   \n",
       "1               0.0                      0.0                  0.0   \n",
       "8               0.0                      0.0                  0.0   \n",
       "29              0.0                      0.0                  0.0   \n",
       "30              0.0                      0.0                  0.0   \n",
       "...             ...                      ...                  ...   \n",
       "157795      40690.0                      0.0                  0.0   \n",
       "157796      40702.0                      0.0                  0.0   \n",
       "157797      41423.0                      0.0                  0.0   \n",
       "157798      42379.0                      0.0                  0.0   \n",
       "157799      45095.0                      0.0                  0.0   \n",
       "\n",
       "        http.response  tcp.ack  ...  dns.retransmit_request  \\\n",
       "0                 0.0      0.0  ...                     0.0   \n",
       "1                 0.0      0.0  ...                     0.0   \n",
       "8                 0.0      0.0  ...                     0.0   \n",
       "29                0.0      0.0  ...                     0.0   \n",
       "30                0.0      0.0  ...                     0.0   \n",
       "...               ...      ...  ...                     ...   \n",
       "157795            0.0      0.0  ...                     0.0   \n",
       "157796            0.0      0.0  ...                     0.0   \n",
       "157797            0.0      0.0  ...                     0.0   \n",
       "157798            0.0      0.0  ...                     0.0   \n",
       "157799            0.0      0.0  ...                     0.0   \n",
       "\n",
       "        mqtt.conflag.cleansess  mqtt.conflags  mqtt.hdrflags  mqtt.len  \\\n",
       "0                          0.0            0.0            0.0       0.0   \n",
       "1                          0.0            0.0            0.0       0.0   \n",
       "8                          0.0            0.0            0.0       0.0   \n",
       "29                         0.0            0.0            0.0       0.0   \n",
       "30                         0.0            0.0            0.0       0.0   \n",
       "...                        ...            ...            ...       ...   \n",
       "157795                     0.0            0.0            0.0       0.0   \n",
       "157796                     0.0            0.0            0.0       0.0   \n",
       "157797                     0.0            0.0            0.0       0.0   \n",
       "157798                     0.0            0.0            0.0       0.0   \n",
       "157799                     0.0            0.0            0.0       0.0   \n",
       "\n",
       "        mqtt.msgtype  mqtt.proto_len  mqtt.topic_len  mqtt.ver  Attack_label  \n",
       "0                0.0             0.0             0.0       0.0             1  \n",
       "1                0.0             0.0             0.0       0.0             1  \n",
       "8                0.0             0.0             0.0       0.0             1  \n",
       "29               0.0             0.0             0.0       0.0             1  \n",
       "30               0.0             0.0             0.0       0.0             1  \n",
       "...              ...             ...             ...       ...           ...  \n",
       "157795           0.0             0.0             0.0       0.0             1  \n",
       "157796           0.0             0.0             0.0       0.0             1  \n",
       "157797           0.0             0.0             0.0       0.0             1  \n",
       "157798           0.0             0.0             0.0       0.0             1  \n",
       "157799           0.0             0.0             0.0       0.0             1  \n",
       "\n",
       "[156986 rows x 37 columns]"
      ]
     },
     "execution_count": 35,
     "metadata": {},
     "output_type": "execute_result"
    }
   ],
   "source": [
    "numerical_df"
   ]
  },
  {
   "cell_type": "code",
   "execution_count": null,
   "metadata": {
    "id": "zeYDBPGEKFmF"
   },
   "outputs": [],
   "source": [
    "from sklearn.model_selection import train_test_split\n",
    "X = numerical_df.drop([\"Attack_label\"], axis = 1).sample(10000)\n",
    "y = numerical_df[\"Attack_label\"].sample(10000)\n",
    "X_train, X_test, y_train, y_test = train_test_split(X, y, train_size = 0.8)"
   ]
  },
  {
   "cell_type": "code",
   "execution_count": null,
   "metadata": {
    "id": "tRIgDAsClPpg",
    "outputId": "80925a4b-9303-4991-c0dc-bb60c550b382"
   },
   "outputs": [
    {
     "name": "stdout",
     "output_type": "stream",
     "text": [
      "Models are: \n",
      "LR\n",
      "LDA\n",
      "KNN\n",
      "CART\n",
      "NB\n",
      "[('LR', LogisticRegression(solver='liblinear')), ('LDA', LinearDiscriminantAnalysis()), ('KNN', KNeighborsClassifier()), ('CART', DecisionTreeClassifier()), ('NB', GaussianNB())]\n",
      "LR\n",
      "LDA\n",
      "KNN\n",
      "CART\n",
      "NB\n",
      "[{'Model Name': 'LR', 'accuracy_score': 0.836, 'recall': 0.9976119402985074, 'f1_score': 0.9106267029972752, 'roc_auc_score': 0.5065625717566016, 'confusion_metrix': array([[   1,  324],\n",
      "       [   4, 1671]], dtype=int64), 'cross_val_score': 0.8388}, {'Model Name': 'LDA', 'accuracy_score': 0.8375, 'recall': 1.0, 'f1_score': 0.9115646258503401, 'roc_auc_score': 0.4944587830080367, 'confusion_metrix': array([[   0,  325],\n",
      "       [   0, 1675]], dtype=int64), 'cross_val_score': 0.8406}, {'Model Name': 'KNN', 'accuracy_score': 0.8215, 'recall': 0.9749253731343284, 'f1_score': 0.9014628760695557, 'roc_auc_score': 0.48088358208955223, 'confusion_metrix': array([[  10,  315],\n",
      "       [  42, 1633]], dtype=int64), 'cross_val_score': 0.8170999999999999}, {'Model Name': 'CART', 'accuracy_score': 0.729, 'recall': 0.8370149253731344, 'f1_score': 0.8380155409444112, 'roc_auc_score': 0.5011453501722158, 'confusion_metrix': array([[  56,  269],\n",
      "       [ 273, 1402]], dtype=int64), 'cross_val_score': 0.7234}, {'Model Name': 'NB', 'accuracy_score': 0.832, 'recall': 0.9922388059701492, 'f1_score': 0.9081967213114754, 'roc_auc_score': 0.5117621125143513, 'confusion_metrix': array([[   2,  323],\n",
      "       [  13, 1662]], dtype=int64), 'cross_val_score': 0.7705}]\n"
     ]
    }
   ],
   "source": [
    "models = []\n",
    "models.append((\"LR\", LogisticRegression(solver = \"liblinear\")))\n",
    "models.append((\"LDA\", LinearDiscriminantAnalysis()))\n",
    "models.append((\"KNN\", KNeighborsClassifier()))\n",
    "models.append((\"CART\", DecisionTreeClassifier()))\n",
    "models.append((\"NB\", GaussianNB()))\n",
    "# models.append((\"SVC\", SVC(gamma = \"auto\")))\n",
    "print(\"Models are: \")\n",
    "for name, model in models:\n",
    "  print( name)\n",
    "print(models)\n",
    "names = []\n",
    "results = {}\n",
    "eval_scores = []\n",
    "for name, model in models:\n",
    "  print(name)\n",
    "  model.fit(X_train, y_train)\n",
    "  y_pred = model.predict(X_test)\n",
    "  y_proba = model.predict_proba(X_test)[:, 1] # probabilities of all positive 1-labeled columns\n",
    "  kfold_ = KFold(n_splits = 10, random_state = 10, shuffle = True)\n",
    "  names.append(name)\n",
    "  results = {\n",
    "      \"Model Name\": name,\n",
    "      \"accuracy_score\": accuracy_score(y_test, y_pred),\n",
    "      \"recall\": recall_score(y_test, y_pred),\n",
    "      \"f1_score\": f1_score(y_test, y_pred),\n",
    "      \"roc_auc_score\": roc_auc_score(y_test, y_proba),\n",
    "      \"confusion_metrix\": confusion_matrix(y_test, y_pred),\n",
    "      \"cross_val_score\": cross_val_score(model, X, y, scoring = \"accuracy\", cv = kfold_).mean()\n",
    "  }\n",
    "  eval_scores.append(results)\n",
    "  # results_mean.append(cv_results.mean())\n",
    "  # msg = \"%s: %f (%f)\" % (model, cv_results.mean(), cv_results.std())\n",
    "  # print(msg)\n",
    "print(eval_scores)"
   ]
  },
  {
   "cell_type": "code",
   "execution_count": null,
   "metadata": {
    "id": "tJ-Fuxgwe_BF",
    "outputId": "3be895bd-8e17-48fe-ee9b-eda6f0455ec5"
   },
   "outputs": [
    {
     "data": {
      "text/html": [
       "<div>\n",
       "<style scoped>\n",
       "    .dataframe tbody tr th:only-of-type {\n",
       "        vertical-align: middle;\n",
       "    }\n",
       "\n",
       "    .dataframe tbody tr th {\n",
       "        vertical-align: top;\n",
       "    }\n",
       "\n",
       "    .dataframe thead th {\n",
       "        text-align: right;\n",
       "    }\n",
       "</style>\n",
       "<table border=\"1\" class=\"dataframe\">\n",
       "  <thead>\n",
       "    <tr style=\"text-align: right;\">\n",
       "      <th></th>\n",
       "      <th>frame.time</th>\n",
       "      <th>ip.src_host</th>\n",
       "      <th>ip.dst_host</th>\n",
       "      <th>arp.dst.proto_ipv4</th>\n",
       "      <th>arp.opcode</th>\n",
       "      <th>arp.hw.size</th>\n",
       "      <th>arp.src.proto_ipv4</th>\n",
       "      <th>icmp.checksum</th>\n",
       "      <th>icmp.seq_le</th>\n",
       "      <th>icmp.transmit_timestamp</th>\n",
       "      <th>...</th>\n",
       "      <th>mqtt.conflags</th>\n",
       "      <th>mqtt.hdrflags</th>\n",
       "      <th>mqtt.len</th>\n",
       "      <th>mqtt.msg</th>\n",
       "      <th>mqtt.msgtype</th>\n",
       "      <th>mqtt.proto_len</th>\n",
       "      <th>mqtt.protoname</th>\n",
       "      <th>mqtt.topic</th>\n",
       "      <th>mqtt.topic_len</th>\n",
       "      <th>mqtt.ver</th>\n",
       "    </tr>\n",
       "  </thead>\n",
       "  <tbody>\n",
       "    <tr>\n",
       "      <th>0</th>\n",
       "      <td>6.0</td>\n",
       "      <td>3232235672</td>\n",
       "      <td>0</td>\n",
       "      <td>0.0</td>\n",
       "      <td>0.0</td>\n",
       "      <td>0.0</td>\n",
       "      <td>0.0</td>\n",
       "      <td>0.0</td>\n",
       "      <td>0.0</td>\n",
       "      <td>0.0</td>\n",
       "      <td>...</td>\n",
       "      <td>0.0</td>\n",
       "      <td>0.0</td>\n",
       "      <td>0.0</td>\n",
       "      <td>0.0</td>\n",
       "      <td>0.0</td>\n",
       "      <td>0.0</td>\n",
       "      <td>1</td>\n",
       "      <td>1</td>\n",
       "      <td>0.0</td>\n",
       "      <td>0.0</td>\n",
       "    </tr>\n",
       "    <tr>\n",
       "      <th>1</th>\n",
       "      <td>6.0</td>\n",
       "      <td>3232235621</td>\n",
       "      <td>0</td>\n",
       "      <td>0.0</td>\n",
       "      <td>0.0</td>\n",
       "      <td>0.0</td>\n",
       "      <td>0.0</td>\n",
       "      <td>0.0</td>\n",
       "      <td>0.0</td>\n",
       "      <td>0.0</td>\n",
       "      <td>...</td>\n",
       "      <td>0.0</td>\n",
       "      <td>0.0</td>\n",
       "      <td>0.0</td>\n",
       "      <td>0.0</td>\n",
       "      <td>0.0</td>\n",
       "      <td>0.0</td>\n",
       "      <td>1</td>\n",
       "      <td>1</td>\n",
       "      <td>0.0</td>\n",
       "      <td>0.0</td>\n",
       "    </tr>\n",
       "    <tr>\n",
       "      <th>8</th>\n",
       "      <td>0.0</td>\n",
       "      <td>0</td>\n",
       "      <td>0</td>\n",
       "      <td>0.0</td>\n",
       "      <td>0.0</td>\n",
       "      <td>0.0</td>\n",
       "      <td>0.0</td>\n",
       "      <td>0.0</td>\n",
       "      <td>0.0</td>\n",
       "      <td>0.0</td>\n",
       "      <td>...</td>\n",
       "      <td>0.0</td>\n",
       "      <td>0.0</td>\n",
       "      <td>0.0</td>\n",
       "      <td>0.0</td>\n",
       "      <td>0.0</td>\n",
       "      <td>0.0</td>\n",
       "      <td>1</td>\n",
       "      <td>1</td>\n",
       "      <td>0.0</td>\n",
       "      <td>0.0</td>\n",
       "    </tr>\n",
       "    <tr>\n",
       "      <th>29</th>\n",
       "      <td>0.0</td>\n",
       "      <td>0</td>\n",
       "      <td>0</td>\n",
       "      <td>0.0</td>\n",
       "      <td>0.0</td>\n",
       "      <td>0.0</td>\n",
       "      <td>0.0</td>\n",
       "      <td>0.0</td>\n",
       "      <td>0.0</td>\n",
       "      <td>0.0</td>\n",
       "      <td>...</td>\n",
       "      <td>0.0</td>\n",
       "      <td>0.0</td>\n",
       "      <td>0.0</td>\n",
       "      <td>0.0</td>\n",
       "      <td>0.0</td>\n",
       "      <td>0.0</td>\n",
       "      <td>1</td>\n",
       "      <td>1</td>\n",
       "      <td>0.0</td>\n",
       "      <td>0.0</td>\n",
       "    </tr>\n",
       "    <tr>\n",
       "      <th>30</th>\n",
       "      <td>0.0</td>\n",
       "      <td>0</td>\n",
       "      <td>0</td>\n",
       "      <td>0.0</td>\n",
       "      <td>0.0</td>\n",
       "      <td>0.0</td>\n",
       "      <td>0.0</td>\n",
       "      <td>0.0</td>\n",
       "      <td>0.0</td>\n",
       "      <td>0.0</td>\n",
       "      <td>...</td>\n",
       "      <td>0.0</td>\n",
       "      <td>0.0</td>\n",
       "      <td>0.0</td>\n",
       "      <td>0.0</td>\n",
       "      <td>0.0</td>\n",
       "      <td>0.0</td>\n",
       "      <td>1</td>\n",
       "      <td>1</td>\n",
       "      <td>0.0</td>\n",
       "      <td>0.0</td>\n",
       "    </tr>\n",
       "    <tr>\n",
       "      <th>...</th>\n",
       "      <td>...</td>\n",
       "      <td>...</td>\n",
       "      <td>...</td>\n",
       "      <td>...</td>\n",
       "      <td>...</td>\n",
       "      <td>...</td>\n",
       "      <td>...</td>\n",
       "      <td>...</td>\n",
       "      <td>...</td>\n",
       "      <td>...</td>\n",
       "      <td>...</td>\n",
       "      <td>...</td>\n",
       "      <td>...</td>\n",
       "      <td>...</td>\n",
       "      <td>...</td>\n",
       "      <td>...</td>\n",
       "      <td>...</td>\n",
       "      <td>...</td>\n",
       "      <td>...</td>\n",
       "      <td>...</td>\n",
       "      <td>...</td>\n",
       "    </tr>\n",
       "    <tr>\n",
       "      <th>157795</th>\n",
       "      <td>2021 23:24:32.698981000</td>\n",
       "      <td>3247985195</td>\n",
       "      <td>3232235648</td>\n",
       "      <td>0</td>\n",
       "      <td>0.0</td>\n",
       "      <td>0.0</td>\n",
       "      <td>0</td>\n",
       "      <td>48729.0</td>\n",
       "      <td>40690.0</td>\n",
       "      <td>0.0</td>\n",
       "      <td>...</td>\n",
       "      <td>0.0</td>\n",
       "      <td>0.0</td>\n",
       "      <td>0.0</td>\n",
       "      <td>0.0</td>\n",
       "      <td>0.0</td>\n",
       "      <td>0.0</td>\n",
       "      <td>1</td>\n",
       "      <td>1</td>\n",
       "      <td>0.0</td>\n",
       "      <td>0.0</td>\n",
       "    </tr>\n",
       "    <tr>\n",
       "      <th>157796</th>\n",
       "      <td>2021 23:24:32.699354000</td>\n",
       "      <td>4248043989</td>\n",
       "      <td>3232235648</td>\n",
       "      <td>0</td>\n",
       "      <td>0.0</td>\n",
       "      <td>0.0</td>\n",
       "      <td>0</td>\n",
       "      <td>45657.0</td>\n",
       "      <td>40702.0</td>\n",
       "      <td>0.0</td>\n",
       "      <td>...</td>\n",
       "      <td>0.0</td>\n",
       "      <td>0.0</td>\n",
       "      <td>0.0</td>\n",
       "      <td>0.0</td>\n",
       "      <td>0.0</td>\n",
       "      <td>0.0</td>\n",
       "      <td>1</td>\n",
       "      <td>1</td>\n",
       "      <td>0.0</td>\n",
       "      <td>0.0</td>\n",
       "    </tr>\n",
       "    <tr>\n",
       "      <th>157797</th>\n",
       "      <td>2021 23:24:32.719931000</td>\n",
       "      <td>1805376817</td>\n",
       "      <td>3232235648</td>\n",
       "      <td>0</td>\n",
       "      <td>0.0</td>\n",
       "      <td>0.0</td>\n",
       "      <td>0</td>\n",
       "      <td>57686.0</td>\n",
       "      <td>41423.0</td>\n",
       "      <td>0.0</td>\n",
       "      <td>...</td>\n",
       "      <td>0.0</td>\n",
       "      <td>0.0</td>\n",
       "      <td>0.0</td>\n",
       "      <td>0.0</td>\n",
       "      <td>0.0</td>\n",
       "      <td>0.0</td>\n",
       "      <td>1</td>\n",
       "      <td>1</td>\n",
       "      <td>0.0</td>\n",
       "      <td>0.0</td>\n",
       "    </tr>\n",
       "    <tr>\n",
       "      <th>157798</th>\n",
       "      <td>2021 23:24:32.752054000</td>\n",
       "      <td>1307720420</td>\n",
       "      <td>3232235648</td>\n",
       "      <td>0</td>\n",
       "      <td>0.0</td>\n",
       "      <td>0.0</td>\n",
       "      <td>0</td>\n",
       "      <td>9555.0</td>\n",
       "      <td>42379.0</td>\n",
       "      <td>0.0</td>\n",
       "      <td>...</td>\n",
       "      <td>0.0</td>\n",
       "      <td>0.0</td>\n",
       "      <td>0.0</td>\n",
       "      <td>0.0</td>\n",
       "      <td>0.0</td>\n",
       "      <td>0.0</td>\n",
       "      <td>1</td>\n",
       "      <td>1</td>\n",
       "      <td>0.0</td>\n",
       "      <td>0.0</td>\n",
       "    </tr>\n",
       "    <tr>\n",
       "      <th>157799</th>\n",
       "      <td>2021 23:24:32.780376000</td>\n",
       "      <td>2502449815</td>\n",
       "      <td>3232235648</td>\n",
       "      <td>0</td>\n",
       "      <td>0.0</td>\n",
       "      <td>0.0</td>\n",
       "      <td>0</td>\n",
       "      <td>35144.0</td>\n",
       "      <td>45095.0</td>\n",
       "      <td>0.0</td>\n",
       "      <td>...</td>\n",
       "      <td>0.0</td>\n",
       "      <td>0.0</td>\n",
       "      <td>0.0</td>\n",
       "      <td>0.0</td>\n",
       "      <td>0.0</td>\n",
       "      <td>0.0</td>\n",
       "      <td>1</td>\n",
       "      <td>1</td>\n",
       "      <td>0.0</td>\n",
       "      <td>0.0</td>\n",
       "    </tr>\n",
       "  </tbody>\n",
       "</table>\n",
       "<p>156986 rows × 53 columns</p>\n",
       "</div>"
      ],
      "text/plain": [
       "                       frame.time  ip.src_host  ip.dst_host  \\\n",
       "0                             6.0   3232235672            0   \n",
       "1                             6.0   3232235621            0   \n",
       "8                             0.0            0            0   \n",
       "29                            0.0            0            0   \n",
       "30                            0.0            0            0   \n",
       "...                           ...          ...          ...   \n",
       "157795   2021 23:24:32.698981000    3247985195   3232235648   \n",
       "157796   2021 23:24:32.699354000    4248043989   3232235648   \n",
       "157797   2021 23:24:32.719931000    1805376817   3232235648   \n",
       "157798   2021 23:24:32.752054000    1307720420   3232235648   \n",
       "157799   2021 23:24:32.780376000    2502449815   3232235648   \n",
       "\n",
       "       arp.dst.proto_ipv4  arp.opcode  arp.hw.size arp.src.proto_ipv4  \\\n",
       "0                     0.0         0.0          0.0                0.0   \n",
       "1                     0.0         0.0          0.0                0.0   \n",
       "8                     0.0         0.0          0.0                0.0   \n",
       "29                    0.0         0.0          0.0                0.0   \n",
       "30                    0.0         0.0          0.0                0.0   \n",
       "...                   ...         ...          ...                ...   \n",
       "157795                  0         0.0          0.0                  0   \n",
       "157796                  0         0.0          0.0                  0   \n",
       "157797                  0         0.0          0.0                  0   \n",
       "157798                  0         0.0          0.0                  0   \n",
       "157799                  0         0.0          0.0                  0   \n",
       "\n",
       "        icmp.checksum  icmp.seq_le  icmp.transmit_timestamp  ...  \\\n",
       "0                 0.0          0.0                      0.0  ...   \n",
       "1                 0.0          0.0                      0.0  ...   \n",
       "8                 0.0          0.0                      0.0  ...   \n",
       "29                0.0          0.0                      0.0  ...   \n",
       "30                0.0          0.0                      0.0  ...   \n",
       "...               ...          ...                      ...  ...   \n",
       "157795        48729.0      40690.0                      0.0  ...   \n",
       "157796        45657.0      40702.0                      0.0  ...   \n",
       "157797        57686.0      41423.0                      0.0  ...   \n",
       "157798         9555.0      42379.0                      0.0  ...   \n",
       "157799        35144.0      45095.0                      0.0  ...   \n",
       "\n",
       "       mqtt.conflags  mqtt.hdrflags mqtt.len  mqtt.msg  mqtt.msgtype  \\\n",
       "0                0.0            0.0      0.0       0.0           0.0   \n",
       "1                0.0            0.0      0.0       0.0           0.0   \n",
       "8                0.0            0.0      0.0       0.0           0.0   \n",
       "29               0.0            0.0      0.0       0.0           0.0   \n",
       "30               0.0            0.0      0.0       0.0           0.0   \n",
       "...              ...            ...      ...       ...           ...   \n",
       "157795           0.0            0.0      0.0       0.0           0.0   \n",
       "157796           0.0            0.0      0.0       0.0           0.0   \n",
       "157797           0.0            0.0      0.0       0.0           0.0   \n",
       "157798           0.0            0.0      0.0       0.0           0.0   \n",
       "157799           0.0            0.0      0.0       0.0           0.0   \n",
       "\n",
       "       mqtt.proto_len  mqtt.protoname  mqtt.topic  mqtt.topic_len  mqtt.ver  \n",
       "0                 0.0               1           1             0.0       0.0  \n",
       "1                 0.0               1           1             0.0       0.0  \n",
       "8                 0.0               1           1             0.0       0.0  \n",
       "29                0.0               1           1             0.0       0.0  \n",
       "30                0.0               1           1             0.0       0.0  \n",
       "...               ...             ...         ...             ...       ...  \n",
       "157795            0.0               1           1             0.0       0.0  \n",
       "157796            0.0               1           1             0.0       0.0  \n",
       "157797            0.0               1           1             0.0       0.0  \n",
       "157798            0.0               1           1             0.0       0.0  \n",
       "157799            0.0               1           1             0.0       0.0  \n",
       "\n",
       "[156986 rows x 53 columns]"
      ]
     },
     "execution_count": 47,
     "metadata": {},
     "output_type": "execute_result"
    }
   ],
   "source": [
    "# Prediction for the multiclass columns df\n",
    "X = df.drop([\"Attack_type\", \"Attack_label\", \"ip.src_check\"], axis = 1)\n",
    "y = df[\"Attack_type\"]\n",
    "X_train, X_test, y_train, y_test = train_test_split(X, y, train_size = 0.8)\n",
    "X"
   ]
  },
  {
   "cell_type": "code",
   "execution_count": null,
   "metadata": {
    "colab": {
     "base_uri": "https://localhost:8080/",
     "height": 280
    },
    "id": "CzqaUlAksiDq",
    "outputId": "c84d7486-409e-4d93-fa44-65d7662cb63b"
   },
   "outputs": [
    {
     "name": "stdout",
     "output_type": "stream",
     "text": [
      "Models are: \n",
      "LR\n",
      "LDA\n",
      "KNN\n",
      "CART\n",
      "NB\n",
      "[('LR', LogisticRegression(solver='liblinear')), ('LDA', LinearDiscriminantAnalysis()), ('KNN', KNeighborsClassifier()), ('CART', DecisionTreeClassifier()), ('NB', GaussianNB())]\n",
      "LR\n"
     ]
    },
    {
     "ename": "ValueError",
     "evalue": "could not convert string to float: ' 2021 23:37:25.247814000 '",
     "output_type": "error",
     "traceback": [
      "\u001b[1;31m---------------------------------------------------------------------------\u001b[0m",
      "\u001b[1;31mValueError\u001b[0m                                Traceback (most recent call last)",
      "\u001b[1;32m~\\AppData\\Local\\Temp\\ipykernel_2256\\2032677683.py\u001b[0m in \u001b[0;36m?\u001b[1;34m()\u001b[0m\n\u001b[0;32m     13\u001b[0m \u001b[0mresults\u001b[0m \u001b[1;33m=\u001b[0m \u001b[1;33m{\u001b[0m\u001b[1;33m}\u001b[0m\u001b[1;33m\u001b[0m\u001b[1;33m\u001b[0m\u001b[0m\n\u001b[0;32m     14\u001b[0m \u001b[0meval_scores\u001b[0m \u001b[1;33m=\u001b[0m \u001b[1;33m[\u001b[0m\u001b[1;33m]\u001b[0m\u001b[1;33m\u001b[0m\u001b[1;33m\u001b[0m\u001b[0m\n\u001b[0;32m     15\u001b[0m \u001b[1;32mfor\u001b[0m \u001b[0mname\u001b[0m\u001b[1;33m,\u001b[0m \u001b[0mmodel\u001b[0m \u001b[1;32min\u001b[0m \u001b[0mmodels\u001b[0m\u001b[1;33m:\u001b[0m\u001b[1;33m\u001b[0m\u001b[1;33m\u001b[0m\u001b[0m\n\u001b[0;32m     16\u001b[0m   \u001b[0mprint\u001b[0m\u001b[1;33m(\u001b[0m\u001b[0mname\u001b[0m\u001b[1;33m)\u001b[0m\u001b[1;33m\u001b[0m\u001b[1;33m\u001b[0m\u001b[0m\n\u001b[1;32m---> 17\u001b[1;33m   \u001b[0mmodel\u001b[0m\u001b[1;33m.\u001b[0m\u001b[0mfit\u001b[0m\u001b[1;33m(\u001b[0m\u001b[0mX_train\u001b[0m\u001b[1;33m,\u001b[0m \u001b[0my_train\u001b[0m\u001b[1;33m)\u001b[0m\u001b[1;33m\u001b[0m\u001b[1;33m\u001b[0m\u001b[0m\n\u001b[0m\u001b[0;32m     18\u001b[0m   \u001b[0my_pred\u001b[0m \u001b[1;33m=\u001b[0m \u001b[0mmodel\u001b[0m\u001b[1;33m.\u001b[0m\u001b[0mpredict\u001b[0m\u001b[1;33m(\u001b[0m\u001b[0mX_test\u001b[0m\u001b[1;33m)\u001b[0m\u001b[1;33m\u001b[0m\u001b[1;33m\u001b[0m\u001b[0m\n\u001b[0;32m     19\u001b[0m   \u001b[0my_proba\u001b[0m \u001b[1;33m=\u001b[0m \u001b[0mmodel\u001b[0m\u001b[1;33m.\u001b[0m\u001b[0mpredict_proba\u001b[0m\u001b[1;33m(\u001b[0m\u001b[0mX_test\u001b[0m\u001b[1;33m)\u001b[0m\u001b[1;33m[\u001b[0m\u001b[1;33m:\u001b[0m\u001b[1;33m,\u001b[0m \u001b[1;36m1\u001b[0m\u001b[1;33m]\u001b[0m \u001b[1;31m# probabilities of all positive 1-labeled columns\u001b[0m\u001b[1;33m\u001b[0m\u001b[1;33m\u001b[0m\u001b[0m\n\u001b[0;32m     20\u001b[0m   \u001b[0mkfold_\u001b[0m \u001b[1;33m=\u001b[0m \u001b[0mKFold\u001b[0m\u001b[1;33m(\u001b[0m\u001b[0mn_splits\u001b[0m \u001b[1;33m=\u001b[0m \u001b[1;36m10\u001b[0m\u001b[1;33m,\u001b[0m \u001b[0mrandom_state\u001b[0m \u001b[1;33m=\u001b[0m \u001b[1;36m10\u001b[0m\u001b[1;33m,\u001b[0m \u001b[0mshuffle\u001b[0m \u001b[1;33m=\u001b[0m \u001b[1;32mTrue\u001b[0m\u001b[1;33m)\u001b[0m\u001b[1;33m\u001b[0m\u001b[1;33m\u001b[0m\u001b[0m\n",
      "\u001b[1;32mG:\\Nitin-Programming-Btech\\ML\\nitin\\Lib\\site-packages\\sklearn\\base.py\u001b[0m in \u001b[0;36m?\u001b[1;34m(estimator, *args, **kwargs)\u001b[0m\n\u001b[0;32m   1469\u001b[0m                 skip_parameter_validation=(\n\u001b[0;32m   1470\u001b[0m                     \u001b[0mprefer_skip_nested_validation\u001b[0m \u001b[1;32mor\u001b[0m \u001b[0mglobal_skip_validation\u001b[0m\u001b[1;33m\u001b[0m\u001b[1;33m\u001b[0m\u001b[0m\n\u001b[0;32m   1471\u001b[0m                 \u001b[1;33m)\u001b[0m\u001b[1;33m\u001b[0m\u001b[1;33m\u001b[0m\u001b[0m\n\u001b[0;32m   1472\u001b[0m             \u001b[1;33m)\u001b[0m\u001b[1;33m:\u001b[0m\u001b[1;33m\u001b[0m\u001b[1;33m\u001b[0m\u001b[0m\n\u001b[1;32m-> 1473\u001b[1;33m                 \u001b[1;32mreturn\u001b[0m \u001b[0mfit_method\u001b[0m\u001b[1;33m(\u001b[0m\u001b[0mestimator\u001b[0m\u001b[1;33m,\u001b[0m \u001b[1;33m*\u001b[0m\u001b[0margs\u001b[0m\u001b[1;33m,\u001b[0m \u001b[1;33m**\u001b[0m\u001b[0mkwargs\u001b[0m\u001b[1;33m)\u001b[0m\u001b[1;33m\u001b[0m\u001b[1;33m\u001b[0m\u001b[0m\n\u001b[0m",
      "\u001b[1;32mG:\\Nitin-Programming-Btech\\ML\\nitin\\Lib\\site-packages\\sklearn\\linear_model\\_logistic.py\u001b[0m in \u001b[0;36m?\u001b[1;34m(self, X, y, sample_weight)\u001b[0m\n\u001b[0;32m   1219\u001b[0m             \u001b[0m_dtype\u001b[0m \u001b[1;33m=\u001b[0m \u001b[0mnp\u001b[0m\u001b[1;33m.\u001b[0m\u001b[0mfloat64\u001b[0m\u001b[1;33m\u001b[0m\u001b[1;33m\u001b[0m\u001b[0m\n\u001b[0;32m   1220\u001b[0m         \u001b[1;32melse\u001b[0m\u001b[1;33m:\u001b[0m\u001b[1;33m\u001b[0m\u001b[1;33m\u001b[0m\u001b[0m\n\u001b[0;32m   1221\u001b[0m             \u001b[0m_dtype\u001b[0m \u001b[1;33m=\u001b[0m \u001b[1;33m[\u001b[0m\u001b[0mnp\u001b[0m\u001b[1;33m.\u001b[0m\u001b[0mfloat64\u001b[0m\u001b[1;33m,\u001b[0m \u001b[0mnp\u001b[0m\u001b[1;33m.\u001b[0m\u001b[0mfloat32\u001b[0m\u001b[1;33m]\u001b[0m\u001b[1;33m\u001b[0m\u001b[1;33m\u001b[0m\u001b[0m\n\u001b[0;32m   1222\u001b[0m \u001b[1;33m\u001b[0m\u001b[0m\n\u001b[1;32m-> 1223\u001b[1;33m         X, y = self._validate_data(\n\u001b[0m\u001b[0;32m   1224\u001b[0m             \u001b[0mX\u001b[0m\u001b[1;33m,\u001b[0m\u001b[1;33m\u001b[0m\u001b[1;33m\u001b[0m\u001b[0m\n\u001b[0;32m   1225\u001b[0m             \u001b[0my\u001b[0m\u001b[1;33m,\u001b[0m\u001b[1;33m\u001b[0m\u001b[1;33m\u001b[0m\u001b[0m\n\u001b[0;32m   1226\u001b[0m             \u001b[0maccept_sparse\u001b[0m\u001b[1;33m=\u001b[0m\u001b[1;34m\"csr\"\u001b[0m\u001b[1;33m,\u001b[0m\u001b[1;33m\u001b[0m\u001b[1;33m\u001b[0m\u001b[0m\n",
      "\u001b[1;32mG:\\Nitin-Programming-Btech\\ML\\nitin\\Lib\\site-packages\\sklearn\\base.py\u001b[0m in \u001b[0;36m?\u001b[1;34m(self, X, y, reset, validate_separately, cast_to_ndarray, **check_params)\u001b[0m\n\u001b[0;32m    646\u001b[0m                 \u001b[1;32mif\u001b[0m \u001b[1;34m\"estimator\"\u001b[0m \u001b[1;32mnot\u001b[0m \u001b[1;32min\u001b[0m \u001b[0mcheck_y_params\u001b[0m\u001b[1;33m:\u001b[0m\u001b[1;33m\u001b[0m\u001b[1;33m\u001b[0m\u001b[0m\n\u001b[0;32m    647\u001b[0m                     \u001b[0mcheck_y_params\u001b[0m \u001b[1;33m=\u001b[0m \u001b[1;33m{\u001b[0m\u001b[1;33m**\u001b[0m\u001b[0mdefault_check_params\u001b[0m\u001b[1;33m,\u001b[0m \u001b[1;33m**\u001b[0m\u001b[0mcheck_y_params\u001b[0m\u001b[1;33m}\u001b[0m\u001b[1;33m\u001b[0m\u001b[1;33m\u001b[0m\u001b[0m\n\u001b[0;32m    648\u001b[0m                 \u001b[0my\u001b[0m \u001b[1;33m=\u001b[0m \u001b[0mcheck_array\u001b[0m\u001b[1;33m(\u001b[0m\u001b[0my\u001b[0m\u001b[1;33m,\u001b[0m \u001b[0minput_name\u001b[0m\u001b[1;33m=\u001b[0m\u001b[1;34m\"y\"\u001b[0m\u001b[1;33m,\u001b[0m \u001b[1;33m**\u001b[0m\u001b[0mcheck_y_params\u001b[0m\u001b[1;33m)\u001b[0m\u001b[1;33m\u001b[0m\u001b[1;33m\u001b[0m\u001b[0m\n\u001b[0;32m    649\u001b[0m             \u001b[1;32melse\u001b[0m\u001b[1;33m:\u001b[0m\u001b[1;33m\u001b[0m\u001b[1;33m\u001b[0m\u001b[0m\n\u001b[1;32m--> 650\u001b[1;33m                 \u001b[0mX\u001b[0m\u001b[1;33m,\u001b[0m \u001b[0my\u001b[0m \u001b[1;33m=\u001b[0m \u001b[0mcheck_X_y\u001b[0m\u001b[1;33m(\u001b[0m\u001b[0mX\u001b[0m\u001b[1;33m,\u001b[0m \u001b[0my\u001b[0m\u001b[1;33m,\u001b[0m \u001b[1;33m**\u001b[0m\u001b[0mcheck_params\u001b[0m\u001b[1;33m)\u001b[0m\u001b[1;33m\u001b[0m\u001b[1;33m\u001b[0m\u001b[0m\n\u001b[0m\u001b[0;32m    651\u001b[0m             \u001b[0mout\u001b[0m \u001b[1;33m=\u001b[0m \u001b[0mX\u001b[0m\u001b[1;33m,\u001b[0m \u001b[0my\u001b[0m\u001b[1;33m\u001b[0m\u001b[1;33m\u001b[0m\u001b[0m\n\u001b[0;32m    652\u001b[0m \u001b[1;33m\u001b[0m\u001b[0m\n\u001b[0;32m    653\u001b[0m         \u001b[1;32mif\u001b[0m \u001b[1;32mnot\u001b[0m \u001b[0mno_val_X\u001b[0m \u001b[1;32mand\u001b[0m \u001b[0mcheck_params\u001b[0m\u001b[1;33m.\u001b[0m\u001b[0mget\u001b[0m\u001b[1;33m(\u001b[0m\u001b[1;34m\"ensure_2d\"\u001b[0m\u001b[1;33m,\u001b[0m \u001b[1;32mTrue\u001b[0m\u001b[1;33m)\u001b[0m\u001b[1;33m:\u001b[0m\u001b[1;33m\u001b[0m\u001b[1;33m\u001b[0m\u001b[0m\n",
      "\u001b[1;32mG:\\Nitin-Programming-Btech\\ML\\nitin\\Lib\\site-packages\\sklearn\\utils\\validation.py\u001b[0m in \u001b[0;36m?\u001b[1;34m(X, y, accept_sparse, accept_large_sparse, dtype, order, copy, force_writeable, force_all_finite, ensure_2d, allow_nd, multi_output, ensure_min_samples, ensure_min_features, y_numeric, estimator)\u001b[0m\n\u001b[0;32m   1297\u001b[0m         raise ValueError(\n\u001b[0;32m   1298\u001b[0m             \u001b[1;33mf\"\u001b[0m\u001b[1;33m{\u001b[0m\u001b[0mestimator_name\u001b[0m\u001b[1;33m}\u001b[0m\u001b[1;33m requires y to be passed, but the target y is None\u001b[0m\u001b[1;33m\"\u001b[0m\u001b[1;33m\u001b[0m\u001b[1;33m\u001b[0m\u001b[0m\n\u001b[0;32m   1299\u001b[0m         \u001b[1;33m)\u001b[0m\u001b[1;33m\u001b[0m\u001b[1;33m\u001b[0m\u001b[0m\n\u001b[0;32m   1300\u001b[0m \u001b[1;33m\u001b[0m\u001b[0m\n\u001b[1;32m-> 1301\u001b[1;33m     X = check_array(\n\u001b[0m\u001b[0;32m   1302\u001b[0m         \u001b[0mX\u001b[0m\u001b[1;33m,\u001b[0m\u001b[1;33m\u001b[0m\u001b[1;33m\u001b[0m\u001b[0m\n\u001b[0;32m   1303\u001b[0m         \u001b[0maccept_sparse\u001b[0m\u001b[1;33m=\u001b[0m\u001b[0maccept_sparse\u001b[0m\u001b[1;33m,\u001b[0m\u001b[1;33m\u001b[0m\u001b[1;33m\u001b[0m\u001b[0m\n\u001b[0;32m   1304\u001b[0m         \u001b[0maccept_large_sparse\u001b[0m\u001b[1;33m=\u001b[0m\u001b[0maccept_large_sparse\u001b[0m\u001b[1;33m,\u001b[0m\u001b[1;33m\u001b[0m\u001b[1;33m\u001b[0m\u001b[0m\n",
      "\u001b[1;32mG:\\Nitin-Programming-Btech\\ML\\nitin\\Lib\\site-packages\\sklearn\\utils\\validation.py\u001b[0m in \u001b[0;36m?\u001b[1;34m(array, accept_sparse, accept_large_sparse, dtype, order, copy, force_writeable, force_all_finite, ensure_2d, allow_nd, ensure_min_samples, ensure_min_features, estimator, input_name)\u001b[0m\n\u001b[0;32m   1009\u001b[0m                         \u001b[1;33m)\u001b[0m\u001b[1;33m\u001b[0m\u001b[1;33m\u001b[0m\u001b[0m\n\u001b[0;32m   1010\u001b[0m                     \u001b[0marray\u001b[0m \u001b[1;33m=\u001b[0m \u001b[0mxp\u001b[0m\u001b[1;33m.\u001b[0m\u001b[0mastype\u001b[0m\u001b[1;33m(\u001b[0m\u001b[0marray\u001b[0m\u001b[1;33m,\u001b[0m \u001b[0mdtype\u001b[0m\u001b[1;33m,\u001b[0m \u001b[0mcopy\u001b[0m\u001b[1;33m=\u001b[0m\u001b[1;32mFalse\u001b[0m\u001b[1;33m)\u001b[0m\u001b[1;33m\u001b[0m\u001b[1;33m\u001b[0m\u001b[0m\n\u001b[0;32m   1011\u001b[0m                 \u001b[1;32melse\u001b[0m\u001b[1;33m:\u001b[0m\u001b[1;33m\u001b[0m\u001b[1;33m\u001b[0m\u001b[0m\n\u001b[0;32m   1012\u001b[0m                     \u001b[0marray\u001b[0m \u001b[1;33m=\u001b[0m \u001b[0m_asarray_with_order\u001b[0m\u001b[1;33m(\u001b[0m\u001b[0marray\u001b[0m\u001b[1;33m,\u001b[0m \u001b[0morder\u001b[0m\u001b[1;33m=\u001b[0m\u001b[0morder\u001b[0m\u001b[1;33m,\u001b[0m \u001b[0mdtype\u001b[0m\u001b[1;33m=\u001b[0m\u001b[0mdtype\u001b[0m\u001b[1;33m,\u001b[0m \u001b[0mxp\u001b[0m\u001b[1;33m=\u001b[0m\u001b[0mxp\u001b[0m\u001b[1;33m)\u001b[0m\u001b[1;33m\u001b[0m\u001b[1;33m\u001b[0m\u001b[0m\n\u001b[1;32m-> 1013\u001b[1;33m             \u001b[1;32mexcept\u001b[0m \u001b[0mComplexWarning\u001b[0m \u001b[1;32mas\u001b[0m \u001b[0mcomplex_warning\u001b[0m\u001b[1;33m:\u001b[0m\u001b[1;33m\u001b[0m\u001b[1;33m\u001b[0m\u001b[0m\n\u001b[0m\u001b[0;32m   1014\u001b[0m                 raise ValueError(\n\u001b[0;32m   1015\u001b[0m                     \u001b[1;34m\"Complex data not supported\\n{}\\n\"\u001b[0m\u001b[1;33m.\u001b[0m\u001b[0mformat\u001b[0m\u001b[1;33m(\u001b[0m\u001b[0marray\u001b[0m\u001b[1;33m)\u001b[0m\u001b[1;33m\u001b[0m\u001b[1;33m\u001b[0m\u001b[0m\n\u001b[0;32m   1016\u001b[0m                 \u001b[1;33m)\u001b[0m \u001b[1;32mfrom\u001b[0m \u001b[0mcomplex_warning\u001b[0m\u001b[1;33m\u001b[0m\u001b[1;33m\u001b[0m\u001b[0m\n",
      "\u001b[1;32mG:\\Nitin-Programming-Btech\\ML\\nitin\\Lib\\site-packages\\sklearn\\utils\\_array_api.py\u001b[0m in \u001b[0;36m?\u001b[1;34m(array, dtype, order, copy, xp, device)\u001b[0m\n\u001b[0;32m    741\u001b[0m         \u001b[1;31m# Use NumPy API to support order\u001b[0m\u001b[1;33m\u001b[0m\u001b[1;33m\u001b[0m\u001b[0m\n\u001b[0;32m    742\u001b[0m         \u001b[1;32mif\u001b[0m \u001b[0mcopy\u001b[0m \u001b[1;32mis\u001b[0m \u001b[1;32mTrue\u001b[0m\u001b[1;33m:\u001b[0m\u001b[1;33m\u001b[0m\u001b[1;33m\u001b[0m\u001b[0m\n\u001b[0;32m    743\u001b[0m             \u001b[0marray\u001b[0m \u001b[1;33m=\u001b[0m \u001b[0mnumpy\u001b[0m\u001b[1;33m.\u001b[0m\u001b[0marray\u001b[0m\u001b[1;33m(\u001b[0m\u001b[0marray\u001b[0m\u001b[1;33m,\u001b[0m \u001b[0morder\u001b[0m\u001b[1;33m=\u001b[0m\u001b[0morder\u001b[0m\u001b[1;33m,\u001b[0m \u001b[0mdtype\u001b[0m\u001b[1;33m=\u001b[0m\u001b[0mdtype\u001b[0m\u001b[1;33m)\u001b[0m\u001b[1;33m\u001b[0m\u001b[1;33m\u001b[0m\u001b[0m\n\u001b[0;32m    744\u001b[0m         \u001b[1;32melse\u001b[0m\u001b[1;33m:\u001b[0m\u001b[1;33m\u001b[0m\u001b[1;33m\u001b[0m\u001b[0m\n\u001b[1;32m--> 745\u001b[1;33m             \u001b[0marray\u001b[0m \u001b[1;33m=\u001b[0m \u001b[0mnumpy\u001b[0m\u001b[1;33m.\u001b[0m\u001b[0masarray\u001b[0m\u001b[1;33m(\u001b[0m\u001b[0marray\u001b[0m\u001b[1;33m,\u001b[0m \u001b[0morder\u001b[0m\u001b[1;33m=\u001b[0m\u001b[0morder\u001b[0m\u001b[1;33m,\u001b[0m \u001b[0mdtype\u001b[0m\u001b[1;33m=\u001b[0m\u001b[0mdtype\u001b[0m\u001b[1;33m)\u001b[0m\u001b[1;33m\u001b[0m\u001b[1;33m\u001b[0m\u001b[0m\n\u001b[0m\u001b[0;32m    746\u001b[0m \u001b[1;33m\u001b[0m\u001b[0m\n\u001b[0;32m    747\u001b[0m         \u001b[1;31m# At this point array is a NumPy ndarray. We convert it to an array\u001b[0m\u001b[1;33m\u001b[0m\u001b[1;33m\u001b[0m\u001b[0m\n\u001b[0;32m    748\u001b[0m         \u001b[1;31m# container that is consistent with the input's namespace.\u001b[0m\u001b[1;33m\u001b[0m\u001b[1;33m\u001b[0m\u001b[0m\n",
      "\u001b[1;32mG:\\Nitin-Programming-Btech\\ML\\nitin\\Lib\\site-packages\\pandas\\core\\generic.py\u001b[0m in \u001b[0;36m?\u001b[1;34m(self, dtype, copy)\u001b[0m\n\u001b[0;32m   2149\u001b[0m     def __array__(\n\u001b[0;32m   2150\u001b[0m         \u001b[0mself\u001b[0m\u001b[1;33m,\u001b[0m \u001b[0mdtype\u001b[0m\u001b[1;33m:\u001b[0m \u001b[0mnpt\u001b[0m\u001b[1;33m.\u001b[0m\u001b[0mDTypeLike\u001b[0m \u001b[1;33m|\u001b[0m \u001b[1;32mNone\u001b[0m \u001b[1;33m=\u001b[0m \u001b[1;32mNone\u001b[0m\u001b[1;33m,\u001b[0m \u001b[0mcopy\u001b[0m\u001b[1;33m:\u001b[0m \u001b[0mbool_t\u001b[0m \u001b[1;33m|\u001b[0m \u001b[1;32mNone\u001b[0m \u001b[1;33m=\u001b[0m \u001b[1;32mNone\u001b[0m\u001b[1;33m\u001b[0m\u001b[1;33m\u001b[0m\u001b[0m\n\u001b[0;32m   2151\u001b[0m     \u001b[1;33m)\u001b[0m \u001b[1;33m->\u001b[0m \u001b[0mnp\u001b[0m\u001b[1;33m.\u001b[0m\u001b[0mndarray\u001b[0m\u001b[1;33m:\u001b[0m\u001b[1;33m\u001b[0m\u001b[1;33m\u001b[0m\u001b[0m\n\u001b[0;32m   2152\u001b[0m         \u001b[0mvalues\u001b[0m \u001b[1;33m=\u001b[0m \u001b[0mself\u001b[0m\u001b[1;33m.\u001b[0m\u001b[0m_values\u001b[0m\u001b[1;33m\u001b[0m\u001b[1;33m\u001b[0m\u001b[0m\n\u001b[1;32m-> 2153\u001b[1;33m         \u001b[0marr\u001b[0m \u001b[1;33m=\u001b[0m \u001b[0mnp\u001b[0m\u001b[1;33m.\u001b[0m\u001b[0masarray\u001b[0m\u001b[1;33m(\u001b[0m\u001b[0mvalues\u001b[0m\u001b[1;33m,\u001b[0m \u001b[0mdtype\u001b[0m\u001b[1;33m=\u001b[0m\u001b[0mdtype\u001b[0m\u001b[1;33m)\u001b[0m\u001b[1;33m\u001b[0m\u001b[1;33m\u001b[0m\u001b[0m\n\u001b[0m\u001b[0;32m   2154\u001b[0m         if (\n\u001b[0;32m   2155\u001b[0m             \u001b[0mastype_is_view\u001b[0m\u001b[1;33m(\u001b[0m\u001b[0mvalues\u001b[0m\u001b[1;33m.\u001b[0m\u001b[0mdtype\u001b[0m\u001b[1;33m,\u001b[0m \u001b[0marr\u001b[0m\u001b[1;33m.\u001b[0m\u001b[0mdtype\u001b[0m\u001b[1;33m)\u001b[0m\u001b[1;33m\u001b[0m\u001b[1;33m\u001b[0m\u001b[0m\n\u001b[0;32m   2156\u001b[0m             \u001b[1;32mand\u001b[0m \u001b[0musing_copy_on_write\u001b[0m\u001b[1;33m(\u001b[0m\u001b[1;33m)\u001b[0m\u001b[1;33m\u001b[0m\u001b[1;33m\u001b[0m\u001b[0m\n",
      "\u001b[1;31mValueError\u001b[0m: could not convert string to float: ' 2021 23:37:25.247814000 '"
     ]
    }
   ],
   "source": [
    "models = []\n",
    "models.append((\"LR\", LogisticRegression(solver = \"liblinear\")))\n",
    "models.append((\"LDA\", LinearDiscriminantAnalysis()))\n",
    "models.append((\"KNN\", KNeighborsClassifier()))\n",
    "models.append((\"CART\", DecisionTreeClassifier()))\n",
    "models.append((\"NB\", GaussianNB()))\n",
    "# models.append((\"SVC\", SVC(gamma = \"auto\")))\n",
    "print(\"Models are: \")\n",
    "for name, model in models:\n",
    "  print( name)\n",
    "print(models)\n",
    "names = []\n",
    "results = {}\n",
    "eval_scores = []\n",
    "for name, model in models:\n",
    "  print(name)\n",
    "  model.fit(X_train, y_train)\n",
    "  y_pred = model.predict(X_test)\n",
    "  y_proba = model.predict_proba(X_test)[:, 1] # probabilities of all positive 1-labeled columns\n",
    "  kfold_ = KFold(n_splits = 10, random_state = 10, shuffle = True)\n",
    "  names.append(name)\n",
    "  results = {\n",
    "      \"Model Name\": name,\n",
    "      \"accuracy_score\": accuracy_score(y_test, y_pred),\n",
    "      \"recall\": recall_score(y_test, y_pred),\n",
    "      \"f1_score\": f1_score(y_test, y_pred),\n",
    "      \"roc_auc_score\": roc_auc_score(y_test, y_proba),\n",
    "      \"confusion_metrix\": confusion_matrix(y_test, y_pred),\n",
    "      \"cross_val_score\": cross_val_score(model, X, y, scoring = \"accuracy\", cv = kfold_).mean()\n",
    "  }\n",
    "  eval_scores.append(results)\n",
    "  # results_mean.append(cv_results.mean())\n",
    "  # msg = \"%s: %f (%f)\" % (model, cv_results.mean(), cv_results.std())\n",
    "  # print(msg)\n",
    "print(eval_scores)"
   ]
  },
  {
   "cell_type": "code",
   "execution_count": null,
   "metadata": {
    "id": "AJ0Tdn7pvfWz"
   },
   "outputs": [],
   "source": []
  }
 ],
 "metadata": {
  "colab": {
   "provenance": []
  },
  "kernelspec": {
   "display_name": "Python 3 (ipykernel)",
   "language": "python",
   "name": "python3"
  },
  "language_info": {
   "codemirror_mode": {
    "name": "ipython",
    "version": 3
   },
   "file_extension": ".py",
   "mimetype": "text/x-python",
   "name": "python",
   "nbconvert_exporter": "python",
   "pygments_lexer": "ipython3",
   "version": "3.12.7"
  }
 },
 "nbformat": 4,
 "nbformat_minor": 4
}
